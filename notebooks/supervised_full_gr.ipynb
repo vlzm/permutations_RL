{
 "cells": [
  {
   "cell_type": "code",
   "execution_count": 1,
   "metadata": {},
   "outputs": [],
   "source": [
    "import os\n",
    "import sys\n",
    "import torch\n",
    "import numpy as np\n",
    "import pandas as pd\n",
    "import matplotlib.pyplot as plt\n",
    "from tqdm import tqdm\n",
    "\n",
    "# Get the absolute path of the notebook's directory\n",
    "notebook_dir = os.path.abspath(os.path.join(os.getcwd(), '..'))\n",
    "sys.path.append(notebook_dir)\n",
    "\n",
    "from src.app import PermutationSolver"
   ]
  },
  {
   "cell_type": "code",
   "execution_count": 8,
   "metadata": {},
   "outputs": [],
   "source": [
    "n = 10\n",
    "config = {\n",
    "            'n_permutations_length': n,\n",
    "            \n",
    "            # Random walks params\n",
    "            'random_walks_type': 'non-backtracking-beam',\n",
    "            'n_random_walk_length': int(n * (n-1) / 2),\n",
    "            'n_random_walks_to_generate': 1000,\n",
    "            'n_random_walks_steps_back_to_ban': 8,\n",
    "            \n",
    "            # Neural Net params\n",
    "            'model_type': 'MLP',\n",
    "            'list_layers_sizes': [256, 256, 256],\n",
    "            'n_epochs': 1000,\n",
    "            'batch_size': 2**10,\n",
    "            'lr_supervised': 1e-3,\n",
    "            \n",
    "            # DQN training\n",
    "            'n_epochs_dqn': 5000,\n",
    "            'flag_dqn_round': False,\n",
    "            'n_random_walks_to_generate_dqn': 10000,\n",
    "            'verbose_loc': 50,\n",
    "            'lr_rl': 1e-3,\n",
    "            \n",
    "            # Beam search\n",
    "            'beam_search_torch': True,\n",
    "            'beam_search_Fironov': False,\n",
    "            'beam_width': 1,\n",
    "            'n_steps_limit': 4 * n**2,\n",
    "            'alpha_previous_cost_accumulation': 0,\n",
    "            'beam_search_models_or_heuristics': 'model_torch',\n",
    "            'ban_p0_p1_transposition_if_p0_lt_p1_ie_already_sorted': False,\n",
    "            'n_beam_search_steps_back_to_ban': 32,\n",
    "            \n",
    "            # What to solve\n",
    "            'solve_random_or_longest_state': 'solve_LRX_longest',\n",
    "            'verbose': 100\n",
    "        }\n"
   ]
  },
  {
   "cell_type": "code",
   "execution_count": 9,
   "metadata": {},
   "outputs": [],
   "source": [
    "solver = PermutationSolver(config)"
   ]
  },
  {
   "cell_type": "code",
   "execution_count": null,
   "metadata": {},
   "outputs": [
    {
     "name": "stdout",
     "output_type": "stream",
     "text": [
      "3628800\n",
      "X.shape: torch.Size([3628800, 10])\n",
      "y.shape: torch.Size([3628800])\n",
      "Training MLP with anchor\n"
     ]
    },
    {
     "name": "stderr",
     "output_type": "stream",
     "text": [
      "Training MLP with anchor:  48%|████▊     | 481/1000 [17:50<20:21,  2.35s/it, loss=0.0057]"
     ]
    }
   ],
   "source": [
    "mlp_losses = solver.train_mlp(mode = 'anchor')"
   ]
  },
  {
   "cell_type": "code",
   "execution_count": null,
   "metadata": {},
   "outputs": [],
   "source": []
  },
  {
   "cell_type": "code",
   "execution_count": null,
   "metadata": {},
   "outputs": [],
   "source": []
  },
  {
   "cell_type": "code",
   "execution_count": null,
   "metadata": {},
   "outputs": [],
   "source": []
  },
  {
   "cell_type": "code",
   "execution_count": null,
   "metadata": {},
   "outputs": [],
   "source": []
  },
  {
   "cell_type": "code",
   "execution_count": null,
   "metadata": {},
   "outputs": [],
   "source": []
  },
  {
   "cell_type": "code",
   "execution_count": 5,
   "metadata": {},
   "outputs": [
    {
     "name": "stdout",
     "output_type": "stream",
     "text": [
      "Number of trainable parameters in solver.mlp_model: 536065\n"
     ]
    }
   ],
   "source": [
    "num_params = sum(p.numel() for p in solver.mlp_model.parameters() if p.requires_grad)\n",
    "print(f\"Number of trainable parameters in solver.mlp_model: {num_params}\")"
   ]
  },
  {
   "cell_type": "code",
   "execution_count": 5,
   "metadata": {},
   "outputs": [
    {
     "name": "stdout",
     "output_type": "stream",
     "text": [
      "Number of trainable parameters in solver.mlp_model: 2203649\n"
     ]
    }
   ],
   "source": [
    "num_params = sum(p.numel() for p in solver.mlp_model.parameters() if p.requires_grad)\n",
    "print(f\"Number of trainable parameters in solver.mlp_model: {num_params}\")"
   ]
  },
  {
   "cell_type": "code",
   "execution_count": 5,
   "metadata": {},
   "outputs": [
    {
     "name": "stdout",
     "output_type": "stream",
     "text": [
      "Number of trainable parameters in solver.mlp_model: 2120705\n"
     ]
    }
   ],
   "source": [
    "num_params = sum(p.numel() for p in solver.mlp_model.parameters() if p.requires_grad)\n",
    "print(f\"Number of trainable parameters in solver.mlp_model: {num_params}\")"
   ]
  },
  {
   "cell_type": "code",
   "execution_count": 5,
   "metadata": {},
   "outputs": [
    {
     "name": "stdout",
     "output_type": "stream",
     "text": [
      "Number of trainable parameters in solver.mlp_model: 2120705\n"
     ]
    }
   ],
   "source": [
    "num_params = sum(p.numel() for p in solver.mlp_model.parameters() if p.requires_grad)\n",
    "print(f\"Number of trainable parameters in solver.mlp_model: {num_params}\")"
   ]
  },
  {
   "cell_type": "code",
   "execution_count": 28,
   "metadata": {},
   "outputs": [
    {
     "name": "stdout",
     "output_type": "stream",
     "text": [
      "Number of trainable parameters in solver.mlp_model: 1071105\n"
     ]
    }
   ],
   "source": [
    "num_params = sum(p.numel() for p in solver.mlp_model.parameters() if p.requires_grad)\n",
    "print(f\"Number of trainable parameters in solver.mlp_model: {num_params}\")"
   ]
  },
  {
   "cell_type": "code",
   "execution_count": 24,
   "metadata": {},
   "outputs": [
    {
     "name": "stdout",
     "output_type": "stream",
     "text": [
      "Number of trainable parameters in solver.mlp_model: 273409\n"
     ]
    }
   ],
   "source": [
    "num_params = sum(p.numel() for p in solver.mlp_model.parameters() if p.requires_grad)\n",
    "print(f\"Number of trainable parameters in solver.mlp_model: {num_params}\")"
   ]
  },
  {
   "cell_type": "code",
   "execution_count": 5,
   "metadata": {},
   "outputs": [
    {
     "name": "stdout",
     "output_type": "stream",
     "text": [
      "Number of trainable parameters in solver.mlp_model: 70401\n"
     ]
    }
   ],
   "source": [
    "num_params = sum(p.numel() for p in solver.mlp_model.parameters() if p.requires_grad)\n",
    "print(f\"Number of trainable parameters in solver.mlp_model: {num_params}\")"
   ]
  },
  {
   "cell_type": "code",
   "execution_count": 18,
   "metadata": {},
   "outputs": [
    {
     "name": "stdout",
     "output_type": "stream",
     "text": [
      "Number of trainable parameters in solver.mlp_model: 628737\n"
     ]
    }
   ],
   "source": [
    "num_params = sum(p.numel() for p in solver.mlp_model.parameters() if p.requires_grad)\n",
    "print(f\"Number of trainable parameters in solver.mlp_model: {num_params}\")"
   ]
  },
  {
   "cell_type": "code",
   "execution_count": 9,
   "metadata": {},
   "outputs": [
    {
     "name": "stdout",
     "output_type": "stream",
     "text": [
      "Number of trainable parameters in solver.mlp_model: 33793\n"
     ]
    }
   ],
   "source": [
    "num_params = sum(p.numel() for p in solver.mlp_model.parameters() if p.requires_grad)\n",
    "print(f\"Number of trainable parameters in solver.mlp_model: {num_params}\")"
   ]
  },
  {
   "cell_type": "code",
   "execution_count": 5,
   "metadata": {},
   "outputs": [
    {
     "name": "stdout",
     "output_type": "stream",
     "text": [
      "Number of trainable parameters in solver.mlp_model: 33153\n"
     ]
    }
   ],
   "source": [
    "num_params = sum(p.numel() for p in solver.mlp_model.parameters() if p.requires_grad)\n",
    "print(f\"Number of trainable parameters in solver.mlp_model: {num_params}\")\n"
   ]
  },
  {
   "cell_type": "code",
   "execution_count": 5,
   "metadata": {},
   "outputs": [
    {
     "data": {
      "text/plain": [
       "torch.Size([40320, 4, 8])"
      ]
     },
     "execution_count": 5,
     "metadata": {},
     "output_type": "execute_result"
    }
   ],
   "source": [
    "solver.X_anchor.shape"
   ]
  },
  {
   "cell_type": "code",
   "execution_count": 7,
   "metadata": {},
   "outputs": [
    {
     "data": {
      "text/plain": [
       "torch.Size([1000001, 4])"
      ]
     },
     "execution_count": 7,
     "metadata": {},
     "output_type": "execute_result"
    }
   ],
   "source": [
    "solver.y_anchor.shape"
   ]
  },
  {
   "cell_type": "code",
   "execution_count": null,
   "metadata": {},
   "outputs": [],
   "source": []
  },
  {
   "cell_type": "code",
   "execution_count": 12,
   "metadata": {},
   "outputs": [],
   "source": [
    "X=solver.X_anchor\n",
    "y=solver.y_anchor\n",
    "y_train = y.float()\n",
    "indices = torch.randperm(X.shape[0], dtype=torch.int64, device='cpu')  # Generate indices on CPU\n",
    "X_train = X[indices]\n",
    "y_train = y_train[indices]\n",
    "X_train = X\n",
    "\n",
    "B, four, state_size = X_train.shape\n",
    "batch_x = X_train.reshape(B * four, state_size)\n",
    "batch_y = y_train.reshape(B * four)"
   ]
  },
  {
   "cell_type": "code",
   "execution_count": 13,
   "metadata": {},
   "outputs": [
    {
     "data": {
      "text/plain": [
       "tensor([[0, 1, 2,  ..., 7, 8, 9],\n",
       "        [1, 2, 3,  ..., 8, 9, 0],\n",
       "        [9, 0, 1,  ..., 6, 7, 8],\n",
       "        ...,\n",
       "        [2, 6, 0,  ..., 1, 7, 8],\n",
       "        [7, 8, 2,  ..., 3, 5, 1],\n",
       "        [2, 8, 6,  ..., 5, 1, 7]], device='cuda:0')"
      ]
     },
     "execution_count": 13,
     "metadata": {},
     "output_type": "execute_result"
    }
   ],
   "source": [
    "batch_x"
   ]
  },
  {
   "cell_type": "code",
   "execution_count": 15,
   "metadata": {},
   "outputs": [
    {
     "data": {
      "text/plain": [
       "tensor([21., 20., 20.,  ..., 23., 21., 21.], device='cuda:0')"
      ]
     },
     "execution_count": 15,
     "metadata": {},
     "output_type": "execute_result"
    }
   ],
   "source": [
    "batch_y"
   ]
  },
  {
   "cell_type": "code",
   "execution_count": 8,
   "metadata": {},
   "outputs": [
    {
     "data": {
      "text/plain": [
       "39916800"
      ]
     },
     "execution_count": 8,
     "metadata": {},
     "output_type": "execute_result"
    }
   ],
   "source": [
    "factorial_11 = 1\n",
    "for i in range(1, 12):\n",
    "    factorial_11 *= i\n",
    "factorial_11\n"
   ]
  },
  {
   "cell_type": "code",
   "execution_count": 6,
   "metadata": {},
   "outputs": [
    {
     "data": {
      "text/html": [
       "<div>\n",
       "<style scoped>\n",
       "    .dataframe tbody tr th:only-of-type {\n",
       "        vertical-align: middle;\n",
       "    }\n",
       "\n",
       "    .dataframe tbody tr th {\n",
       "        vertical-align: top;\n",
       "    }\n",
       "\n",
       "    .dataframe thead th {\n",
       "        text-align: right;\n",
       "    }\n",
       "</style>\n",
       "<table border=\"1\" class=\"dataframe\">\n",
       "  <thead>\n",
       "    <tr style=\"text-align: right;\">\n",
       "      <th></th>\n",
       "      <th>min_diff</th>\n",
       "      <th>max_diff</th>\n",
       "      <th>mean_diff</th>\n",
       "      <th>std_diff</th>\n",
       "      <th>num_elements_less_than_minus_05</th>\n",
       "      <th>num_elements_larger_than_05</th>\n",
       "      <th>percentage_wrong_predictions</th>\n",
       "    </tr>\n",
       "  </thead>\n",
       "  <tbody>\n",
       "    <tr>\n",
       "      <th>0</th>\n",
       "      <td>-0.841547</td>\n",
       "      <td>0.87196</td>\n",
       "      <td>-0.029881</td>\n",
       "      <td>0.035947</td>\n",
       "      <td>7</td>\n",
       "      <td>13</td>\n",
       "      <td>0.000018</td>\n",
       "    </tr>\n",
       "  </tbody>\n",
       "</table>\n",
       "</div>"
      ],
      "text/plain": [
       "   min_diff  max_diff  mean_diff  std_diff  num_elements_less_than_minus_05  \\\n",
       "0 -0.841547   0.87196  -0.029881  0.035947                                7   \n",
       "\n",
       "   num_elements_larger_than_05  percentage_wrong_predictions  \n",
       "0                           13                      0.000018  "
      ]
     },
     "execution_count": 6,
     "metadata": {},
     "output_type": "execute_result"
    }
   ],
   "source": [
    "device = torch.device(\"cuda\" if torch.cuda.is_available() else \"cpu\")\n",
    "solver.mlp_trainer.model.eval()               # set to eval mode\n",
    "y_parts = []\n",
    "n_samples = len(solver.X_anchor)\n",
    "\n",
    "with torch.no_grad():                 # <— no grad tracking\n",
    "    for start in range(0, n_samples, 1024):\n",
    "        end = start + 1024\n",
    "        X_batch = solver.X_anchor[start:end].to(device)\n",
    "        y_batch = solver.mlp_trainer.model(X_batch)\n",
    "        y_parts.append(y_batch.cpu()) # move back to CPU\n",
    "        # explicitly free GPU memory\n",
    "        del X_batch, y_batch\n",
    "        torch.cuda.empty_cache()\n",
    "\n",
    "y_valid = torch.cat(y_parts, dim=0)\n",
    "\n",
    "y_anchor = solver.y_anchor\n",
    "\n",
    "diff = y_anchor.cpu().detach().numpy() - y_valid.cpu().detach().numpy().reshape(1, -1)[0]\n",
    "min_diff = diff.min()\n",
    "max_diff = diff.max()\n",
    "std_diff = diff.std()\n",
    "mean_diff = diff.mean()\n",
    "num_elements_less_than_minus_05 = (diff < -0.5).sum()\n",
    "num_elements_larger_than_05 = (diff > 0.5).sum()\n",
    "wrong_predictions = num_elements_less_than_minus_05 + num_elements_larger_than_05\n",
    "percentage_wrong_predictions = wrong_predictions / len(diff)\n",
    "\n",
    "# save summary_df\n",
    "summary_df_cur = pd.DataFrame({\n",
    "                                'min_diff': [min_diff],\n",
    "                                'max_diff': [max_diff],\n",
    "                                'mean_diff': [mean_diff],\n",
    "                                'std_diff': [std_diff],\n",
    "                                'num_elements_less_than_minus_05': [num_elements_less_than_minus_05],\n",
    "                                'num_elements_larger_than_05': [num_elements_larger_than_05],\n",
    "                                'percentage_wrong_predictions': [percentage_wrong_predictions]\n",
    "                                })\n",
    "summary_df_cur"
   ]
  },
  {
   "cell_type": "code",
   "execution_count": 7,
   "metadata": {},
   "outputs": [
    {
     "data": {
      "text/html": [
       "<div>\n",
       "<style scoped>\n",
       "    .dataframe tbody tr th:only-of-type {\n",
       "        vertical-align: middle;\n",
       "    }\n",
       "\n",
       "    .dataframe tbody tr th {\n",
       "        vertical-align: top;\n",
       "    }\n",
       "\n",
       "    .dataframe thead th {\n",
       "        text-align: right;\n",
       "    }\n",
       "</style>\n",
       "<table border=\"1\" class=\"dataframe\">\n",
       "  <thead>\n",
       "    <tr style=\"text-align: right;\">\n",
       "      <th></th>\n",
       "      <th>min_diff</th>\n",
       "      <th>max_diff</th>\n",
       "      <th>mean_diff</th>\n",
       "      <th>std_diff</th>\n",
       "      <th>num_elements_less_than_minus_05</th>\n",
       "      <th>num_elements_larger_than_05</th>\n",
       "      <th>percentage_wrong_predictions</th>\n",
       "    </tr>\n",
       "  </thead>\n",
       "  <tbody>\n",
       "    <tr>\n",
       "      <th>0</th>\n",
       "      <td>-4.649337</td>\n",
       "      <td>2.794109</td>\n",
       "      <td>-0.029911</td>\n",
       "      <td>0.054246</td>\n",
       "      <td>1563</td>\n",
       "      <td>1407</td>\n",
       "      <td>0.001169</td>\n",
       "    </tr>\n",
       "  </tbody>\n",
       "</table>\n",
       "</div>"
      ],
      "text/plain": [
       "   min_diff  max_diff  mean_diff  std_diff  num_elements_less_than_minus_05  \\\n",
       "0 -4.649337  2.794109  -0.029911  0.054246                             1563   \n",
       "\n",
       "   num_elements_larger_than_05  percentage_wrong_predictions  \n",
       "0                         1407                      0.001169  "
      ]
     },
     "execution_count": 7,
     "metadata": {},
     "output_type": "execute_result"
    }
   ],
   "source": [
    "device = torch.device(\"cuda\" if torch.cuda.is_available() else \"cpu\")\n",
    "solver.mlp_trainer.model.eval()               # set to eval mode\n",
    "y_parts = []\n",
    "n_samples = len(solver.X_test)\n",
    "\n",
    "with torch.no_grad():                 # <— no grad tracking\n",
    "    for start in range(0, n_samples, 1024):\n",
    "        end = start + 1024\n",
    "        X_batch = solver.X_test[start:end].to(device)\n",
    "        y_batch = solver.mlp_trainer.model(X_batch)\n",
    "        y_parts.append(y_batch.cpu()) # move back to CPU\n",
    "        # explicitly free GPU memory\n",
    "        del X_batch, y_batch\n",
    "        torch.cuda.empty_cache()\n",
    "\n",
    "y_valid = torch.cat(y_parts, dim=0)\n",
    "\n",
    "diff = solver.y_test.cpu().detach().numpy() - y_valid.cpu().detach().numpy().reshape(1, -1)[0]\n",
    "min_diff = diff.min()\n",
    "max_diff = diff.max()\n",
    "std_diff = diff.std()\n",
    "mean_diff = diff.mean()\n",
    "num_elements_less_than_minus_05 = (diff < -0.5).sum()\n",
    "num_elements_larger_than_05 = (diff > 0.5).sum()\n",
    "wrong_predictions = num_elements_less_than_minus_05 + num_elements_larger_than_05\n",
    "percentage_wrong_predictions = wrong_predictions / len(diff)\n",
    "\n",
    "# save summary_df\n",
    "summary_df_cur = pd.DataFrame({\n",
    "                                'min_diff': [min_diff],\n",
    "                                'max_diff': [max_diff],\n",
    "                                'mean_diff': [mean_diff],\n",
    "                                'std_diff': [std_diff],\n",
    "                                'num_elements_less_than_minus_05': [num_elements_less_than_minus_05],\n",
    "                                'num_elements_larger_than_05': [num_elements_larger_than_05],\n",
    "                                'percentage_wrong_predictions': [percentage_wrong_predictions]\n",
    "                                })\n",
    "summary_df_cur"
   ]
  },
  {
   "cell_type": "code",
   "execution_count": null,
   "metadata": {},
   "outputs": [],
   "source": []
  },
  {
   "cell_type": "code",
   "execution_count": null,
   "metadata": {},
   "outputs": [],
   "source": []
  },
  {
   "cell_type": "code",
   "execution_count": null,
   "metadata": {},
   "outputs": [],
   "source": []
  },
  {
   "cell_type": "code",
   "execution_count": null,
   "metadata": {},
   "outputs": [],
   "source": []
  },
  {
   "cell_type": "code",
   "execution_count": null,
   "metadata": {},
   "outputs": [],
   "source": []
  },
  {
   "cell_type": "code",
   "execution_count": null,
   "metadata": {},
   "outputs": [],
   "source": []
  },
  {
   "cell_type": "code",
   "execution_count": null,
   "metadata": {},
   "outputs": [],
   "source": []
  },
  {
   "cell_type": "code",
   "execution_count": null,
   "metadata": {},
   "outputs": [],
   "source": []
  },
  {
   "cell_type": "code",
   "execution_count": null,
   "metadata": {},
   "outputs": [],
   "source": []
  },
  {
   "cell_type": "code",
   "execution_count": null,
   "metadata": {},
   "outputs": [],
   "source": []
  },
  {
   "cell_type": "code",
   "execution_count": 5,
   "metadata": {},
   "outputs": [
    {
     "data": {
      "text/html": [
       "<div>\n",
       "<style scoped>\n",
       "    .dataframe tbody tr th:only-of-type {\n",
       "        vertical-align: middle;\n",
       "    }\n",
       "\n",
       "    .dataframe tbody tr th {\n",
       "        vertical-align: top;\n",
       "    }\n",
       "\n",
       "    .dataframe thead th {\n",
       "        text-align: right;\n",
       "    }\n",
       "</style>\n",
       "<table border=\"1\" class=\"dataframe\">\n",
       "  <thead>\n",
       "    <tr style=\"text-align: right;\">\n",
       "      <th></th>\n",
       "      <th>min_diff</th>\n",
       "      <th>max_diff</th>\n",
       "      <th>mean_diff</th>\n",
       "      <th>std_diff</th>\n",
       "      <th>num_elements_less_than_minus_05</th>\n",
       "      <th>num_elements_larger_than_05</th>\n",
       "      <th>percentage_wrong_predictions</th>\n",
       "    </tr>\n",
       "  </thead>\n",
       "  <tbody>\n",
       "    <tr>\n",
       "      <th>0</th>\n",
       "      <td>-2.043777</td>\n",
       "      <td>2.004091</td>\n",
       "      <td>-0.023025</td>\n",
       "      <td>0.041103</td>\n",
       "      <td>434</td>\n",
       "      <td>138</td>\n",
       "      <td>0.000525</td>\n",
       "    </tr>\n",
       "  </tbody>\n",
       "</table>\n",
       "</div>"
      ],
      "text/plain": [
       "   min_diff  max_diff  mean_diff  std_diff  num_elements_less_than_minus_05  \\\n",
       "0 -2.043777  2.004091  -0.023025  0.041103                              434   \n",
       "\n",
       "   num_elements_larger_than_05  percentage_wrong_predictions  \n",
       "0                          138                      0.000525  "
      ]
     },
     "execution_count": 5,
     "metadata": {},
     "output_type": "execute_result"
    }
   ],
   "source": [
    "device = torch.device(\"cuda\" if torch.cuda.is_available() else \"cpu\")\n",
    "solver.mlp_trainer.model.eval()               # set to eval mode\n",
    "y_parts = []\n",
    "n_samples = len(solver.X_anchor)\n",
    "\n",
    "with torch.no_grad():                 # <— no grad tracking\n",
    "    for start in range(0, n_samples, 1024):\n",
    "        end = start + 1024\n",
    "        X_batch = solver.X_anchor[start:end].to(device)\n",
    "        y_batch = solver.mlp_trainer.model(X_batch)\n",
    "        y_parts.append(y_batch.cpu()) # move back to CPU\n",
    "        # explicitly free GPU memory\n",
    "        del X_batch, y_batch\n",
    "        torch.cuda.empty_cache()\n",
    "\n",
    "y_valid = torch.cat(y_parts, dim=0)\n",
    "\n",
    "y_anchor = solver.y_anchor\n",
    "\n",
    "diff = y_anchor.cpu().detach().numpy() - y_valid.cpu().detach().numpy().reshape(1, -1)[0]\n",
    "min_diff = diff.min()\n",
    "max_diff = diff.max()\n",
    "std_diff = diff.std()\n",
    "mean_diff = diff.mean()\n",
    "num_elements_less_than_minus_05 = (diff < -0.5).sum()\n",
    "num_elements_larger_than_05 = (diff > 0.5).sum()\n",
    "wrong_predictions = num_elements_less_than_minus_05 + num_elements_larger_than_05\n",
    "percentage_wrong_predictions = wrong_predictions / len(diff)\n",
    "\n",
    "# save summary_df\n",
    "summary_df_cur = pd.DataFrame({\n",
    "                                'min_diff': [min_diff],\n",
    "                                'max_diff': [max_diff],\n",
    "                                'mean_diff': [mean_diff],\n",
    "                                'std_diff': [std_diff],\n",
    "                                'num_elements_less_than_minus_05': [num_elements_less_than_minus_05],\n",
    "                                'num_elements_larger_than_05': [num_elements_larger_than_05],\n",
    "                                'percentage_wrong_predictions': [percentage_wrong_predictions]\n",
    "                                })\n",
    "summary_df_cur"
   ]
  },
  {
   "cell_type": "code",
   "execution_count": 6,
   "metadata": {},
   "outputs": [
    {
     "data": {
      "text/html": [
       "<div>\n",
       "<style scoped>\n",
       "    .dataframe tbody tr th:only-of-type {\n",
       "        vertical-align: middle;\n",
       "    }\n",
       "\n",
       "    .dataframe tbody tr th {\n",
       "        vertical-align: top;\n",
       "    }\n",
       "\n",
       "    .dataframe thead th {\n",
       "        text-align: right;\n",
       "    }\n",
       "</style>\n",
       "<table border=\"1\" class=\"dataframe\">\n",
       "  <thead>\n",
       "    <tr style=\"text-align: right;\">\n",
       "      <th></th>\n",
       "      <th>min_diff</th>\n",
       "      <th>max_diff</th>\n",
       "      <th>mean_diff</th>\n",
       "      <th>std_diff</th>\n",
       "      <th>num_elements_less_than_minus_05</th>\n",
       "      <th>num_elements_larger_than_05</th>\n",
       "      <th>percentage_wrong_predictions</th>\n",
       "    </tr>\n",
       "  </thead>\n",
       "  <tbody>\n",
       "    <tr>\n",
       "      <th>0</th>\n",
       "      <td>-4.9679</td>\n",
       "      <td>3.330042</td>\n",
       "      <td>-0.023106</td>\n",
       "      <td>0.080786</td>\n",
       "      <td>3903</td>\n",
       "      <td>2519</td>\n",
       "      <td>0.002528</td>\n",
       "    </tr>\n",
       "  </tbody>\n",
       "</table>\n",
       "</div>"
      ],
      "text/plain": [
       "   min_diff  max_diff  mean_diff  std_diff  num_elements_less_than_minus_05  \\\n",
       "0   -4.9679  3.330042  -0.023106  0.080786                             3903   \n",
       "\n",
       "   num_elements_larger_than_05  percentage_wrong_predictions  \n",
       "0                         2519                      0.002528  "
      ]
     },
     "execution_count": 6,
     "metadata": {},
     "output_type": "execute_result"
    }
   ],
   "source": [
    "device = torch.device(\"cuda\" if torch.cuda.is_available() else \"cpu\")\n",
    "solver.mlp_trainer.model.eval()               # set to eval mode\n",
    "y_parts = []\n",
    "n_samples = len(solver.X_test)\n",
    "\n",
    "with torch.no_grad():                 # <— no grad tracking\n",
    "    for start in range(0, n_samples, 1024):\n",
    "        end = start + 1024\n",
    "        X_batch = solver.X_test[start:end].to(device)\n",
    "        y_batch = solver.mlp_trainer.model(X_batch)\n",
    "        y_parts.append(y_batch.cpu()) # move back to CPU\n",
    "        # explicitly free GPU memory\n",
    "        del X_batch, y_batch\n",
    "        torch.cuda.empty_cache()\n",
    "\n",
    "y_valid = torch.cat(y_parts, dim=0)\n",
    "\n",
    "diff = solver.y_test.cpu().detach().numpy() - y_valid.cpu().detach().numpy().reshape(1, -1)[0]\n",
    "min_diff = diff.min()\n",
    "max_diff = diff.max()\n",
    "std_diff = diff.std()\n",
    "mean_diff = diff.mean()\n",
    "num_elements_less_than_minus_05 = (diff < -0.5).sum()\n",
    "num_elements_larger_than_05 = (diff > 0.5).sum()\n",
    "wrong_predictions = num_elements_less_than_minus_05 + num_elements_larger_than_05\n",
    "percentage_wrong_predictions = wrong_predictions / len(diff)\n",
    "\n",
    "# save summary_df\n",
    "summary_df_cur = pd.DataFrame({\n",
    "                                'min_diff': [min_diff],\n",
    "                                'max_diff': [max_diff],\n",
    "                                'mean_diff': [mean_diff],\n",
    "                                'std_diff': [std_diff],\n",
    "                                'num_elements_less_than_minus_05': [num_elements_less_than_minus_05],\n",
    "                                'num_elements_larger_than_05': [num_elements_larger_than_05],\n",
    "                                'percentage_wrong_predictions': [percentage_wrong_predictions]\n",
    "                                })\n",
    "summary_df_cur"
   ]
  },
  {
   "cell_type": "code",
   "execution_count": null,
   "metadata": {},
   "outputs": [],
   "source": []
  },
  {
   "cell_type": "code",
   "execution_count": null,
   "metadata": {},
   "outputs": [],
   "source": [
    "0.000007\n",
    "0.000943\n",
    "\n",
    "0.000525\n",
    "0.002528"
   ]
  },
  {
   "cell_type": "code",
   "execution_count": null,
   "metadata": {},
   "outputs": [],
   "source": []
  },
  {
   "cell_type": "code",
   "execution_count": null,
   "metadata": {},
   "outputs": [],
   "source": []
  },
  {
   "cell_type": "code",
   "execution_count": null,
   "metadata": {},
   "outputs": [],
   "source": []
  },
  {
   "cell_type": "code",
   "execution_count": 7,
   "metadata": {},
   "outputs": [
    {
     "data": {
      "text/html": [
       "<div>\n",
       "<style scoped>\n",
       "    .dataframe tbody tr th:only-of-type {\n",
       "        vertical-align: middle;\n",
       "    }\n",
       "\n",
       "    .dataframe tbody tr th {\n",
       "        vertical-align: top;\n",
       "    }\n",
       "\n",
       "    .dataframe thead th {\n",
       "        text-align: right;\n",
       "    }\n",
       "</style>\n",
       "<table border=\"1\" class=\"dataframe\">\n",
       "  <thead>\n",
       "    <tr style=\"text-align: right;\">\n",
       "      <th></th>\n",
       "      <th>min_diff</th>\n",
       "      <th>max_diff</th>\n",
       "      <th>mean_diff</th>\n",
       "      <th>std_diff</th>\n",
       "      <th>num_elements_less_than_minus_05</th>\n",
       "      <th>num_elements_larger_than_05</th>\n",
       "      <th>percentage_wrong_predictions</th>\n",
       "    </tr>\n",
       "  </thead>\n",
       "  <tbody>\n",
       "    <tr>\n",
       "      <th>0</th>\n",
       "      <td>-0.789593</td>\n",
       "      <td>0.632099</td>\n",
       "      <td>-0.024288</td>\n",
       "      <td>0.035715</td>\n",
       "      <td>4</td>\n",
       "      <td>4</td>\n",
       "      <td>0.000007</td>\n",
       "    </tr>\n",
       "  </tbody>\n",
       "</table>\n",
       "</div>"
      ],
      "text/plain": [
       "   min_diff  max_diff  mean_diff  std_diff  num_elements_less_than_minus_05  \\\n",
       "0 -0.789593  0.632099  -0.024288  0.035715                                4   \n",
       "\n",
       "   num_elements_larger_than_05  percentage_wrong_predictions  \n",
       "0                            4                      0.000007  "
      ]
     },
     "execution_count": 7,
     "metadata": {},
     "output_type": "execute_result"
    }
   ],
   "source": [
    "device = torch.device(\"cuda\" if torch.cuda.is_available() else \"cpu\")\n",
    "solver.mlp_trainer.model.eval()               # set to eval mode\n",
    "y_parts = []\n",
    "n_samples = len(solver.X_anchor)\n",
    "\n",
    "with torch.no_grad():                 # <— no grad tracking\n",
    "    for start in range(0, n_samples, 1024):\n",
    "        end = start + 1024\n",
    "        X_batch = solver.X_anchor[start:end].to(device)\n",
    "        y_batch = solver.mlp_trainer.model(X_batch)\n",
    "        y_parts.append(y_batch.cpu()) # move back to CPU\n",
    "        # explicitly free GPU memory\n",
    "        del X_batch, y_batch\n",
    "        torch.cuda.empty_cache()\n",
    "\n",
    "y_valid = torch.cat(y_parts, dim=0)\n",
    "\n",
    "y_anchor = solver.y_anchor\n",
    "\n",
    "diff = y_anchor.cpu().detach().numpy() - y_valid.cpu().detach().numpy().reshape(1, -1)[0]\n",
    "min_diff = diff.min()\n",
    "max_diff = diff.max()\n",
    "std_diff = diff.std()\n",
    "mean_diff = diff.mean()\n",
    "num_elements_less_than_minus_05 = (diff < -0.5).sum()\n",
    "num_elements_larger_than_05 = (diff > 0.5).sum()\n",
    "wrong_predictions = num_elements_less_than_minus_05 + num_elements_larger_than_05\n",
    "percentage_wrong_predictions = wrong_predictions / len(diff)\n",
    "\n",
    "# save summary_df\n",
    "summary_df_cur = pd.DataFrame({\n",
    "                                'min_diff': [min_diff],\n",
    "                                'max_diff': [max_diff],\n",
    "                                'mean_diff': [mean_diff],\n",
    "                                'std_diff': [std_diff],\n",
    "                                'num_elements_less_than_minus_05': [num_elements_less_than_minus_05],\n",
    "                                'num_elements_larger_than_05': [num_elements_larger_than_05],\n",
    "                                'percentage_wrong_predictions': [percentage_wrong_predictions]\n",
    "                                })\n",
    "summary_df_cur"
   ]
  },
  {
   "cell_type": "code",
   "execution_count": null,
   "metadata": {},
   "outputs": [],
   "source": [
    "0.000007\n",
    "0.000943\n"
   ]
  },
  {
   "cell_type": "code",
   "execution_count": 8,
   "metadata": {},
   "outputs": [
    {
     "data": {
      "text/html": [
       "<div>\n",
       "<style scoped>\n",
       "    .dataframe tbody tr th:only-of-type {\n",
       "        vertical-align: middle;\n",
       "    }\n",
       "\n",
       "    .dataframe tbody tr th {\n",
       "        vertical-align: top;\n",
       "    }\n",
       "\n",
       "    .dataframe thead th {\n",
       "        text-align: right;\n",
       "    }\n",
       "</style>\n",
       "<table border=\"1\" class=\"dataframe\">\n",
       "  <thead>\n",
       "    <tr style=\"text-align: right;\">\n",
       "      <th></th>\n",
       "      <th>min_diff</th>\n",
       "      <th>max_diff</th>\n",
       "      <th>mean_diff</th>\n",
       "      <th>std_diff</th>\n",
       "      <th>num_elements_less_than_minus_05</th>\n",
       "      <th>num_elements_larger_than_05</th>\n",
       "      <th>percentage_wrong_predictions</th>\n",
       "    </tr>\n",
       "  </thead>\n",
       "  <tbody>\n",
       "    <tr>\n",
       "      <th>0</th>\n",
       "      <td>-3.598852</td>\n",
       "      <td>2.873283</td>\n",
       "      <td>-0.024371</td>\n",
       "      <td>0.051507</td>\n",
       "      <td>1348</td>\n",
       "      <td>1047</td>\n",
       "      <td>0.000943</td>\n",
       "    </tr>\n",
       "  </tbody>\n",
       "</table>\n",
       "</div>"
      ],
      "text/plain": [
       "   min_diff  max_diff  mean_diff  std_diff  num_elements_less_than_minus_05  \\\n",
       "0 -3.598852  2.873283  -0.024371  0.051507                             1348   \n",
       "\n",
       "   num_elements_larger_than_05  percentage_wrong_predictions  \n",
       "0                         1047                      0.000943  "
      ]
     },
     "execution_count": 8,
     "metadata": {},
     "output_type": "execute_result"
    }
   ],
   "source": [
    "device = torch.device(\"cuda\" if torch.cuda.is_available() else \"cpu\")\n",
    "solver.mlp_trainer.model.eval()               # set to eval mode\n",
    "y_parts = []\n",
    "n_samples = len(solver.X_test)\n",
    "\n",
    "with torch.no_grad():                 # <— no grad tracking\n",
    "    for start in range(0, n_samples, 1024):\n",
    "        end = start + 1024\n",
    "        X_batch = solver.X_test[start:end].to(device)\n",
    "        y_batch = solver.mlp_trainer.model(X_batch)\n",
    "        y_parts.append(y_batch.cpu()) # move back to CPU\n",
    "        # explicitly free GPU memory\n",
    "        del X_batch, y_batch\n",
    "        torch.cuda.empty_cache()\n",
    "\n",
    "y_valid = torch.cat(y_parts, dim=0)\n",
    "\n",
    "diff = solver.y_test.cpu().detach().numpy() - y_valid.cpu().detach().numpy().reshape(1, -1)[0]\n",
    "min_diff = diff.min()\n",
    "max_diff = diff.max()\n",
    "std_diff = diff.std()\n",
    "mean_diff = diff.mean()\n",
    "num_elements_less_than_minus_05 = (diff < -0.5).sum()\n",
    "num_elements_larger_than_05 = (diff > 0.5).sum()\n",
    "wrong_predictions = num_elements_less_than_minus_05 + num_elements_larger_than_05\n",
    "percentage_wrong_predictions = wrong_predictions / len(diff)\n",
    "\n",
    "# save summary_df\n",
    "summary_df_cur = pd.DataFrame({\n",
    "                                'min_diff': [min_diff],\n",
    "                                'max_diff': [max_diff],\n",
    "                                'mean_diff': [mean_diff],\n",
    "                                'std_diff': [std_diff],\n",
    "                                'num_elements_less_than_minus_05': [num_elements_less_than_minus_05],\n",
    "                                'num_elements_larger_than_05': [num_elements_larger_than_05],\n",
    "                                'percentage_wrong_predictions': [percentage_wrong_predictions]\n",
    "                                })\n",
    "summary_df_cur"
   ]
  },
  {
   "cell_type": "code",
   "execution_count": null,
   "metadata": {},
   "outputs": [],
   "source": []
  },
  {
   "cell_type": "code",
   "execution_count": null,
   "metadata": {},
   "outputs": [],
   "source": []
  },
  {
   "cell_type": "code",
   "execution_count": null,
   "metadata": {},
   "outputs": [],
   "source": []
  },
  {
   "cell_type": "code",
   "execution_count": null,
   "metadata": {},
   "outputs": [],
   "source": []
  },
  {
   "cell_type": "code",
   "execution_count": null,
   "metadata": {},
   "outputs": [],
   "source": []
  },
  {
   "cell_type": "code",
   "execution_count": null,
   "metadata": {},
   "outputs": [],
   "source": []
  },
  {
   "cell_type": "code",
   "execution_count": null,
   "metadata": {},
   "outputs": [],
   "source": []
  },
  {
   "cell_type": "code",
   "execution_count": 6,
   "metadata": {},
   "outputs": [
    {
     "data": {
      "text/html": [
       "<div>\n",
       "<style scoped>\n",
       "    .dataframe tbody tr th:only-of-type {\n",
       "        vertical-align: middle;\n",
       "    }\n",
       "\n",
       "    .dataframe tbody tr th {\n",
       "        vertical-align: top;\n",
       "    }\n",
       "\n",
       "    .dataframe thead th {\n",
       "        text-align: right;\n",
       "    }\n",
       "</style>\n",
       "<table border=\"1\" class=\"dataframe\">\n",
       "  <thead>\n",
       "    <tr style=\"text-align: right;\">\n",
       "      <th></th>\n",
       "      <th>min_diff</th>\n",
       "      <th>max_diff</th>\n",
       "      <th>mean_diff</th>\n",
       "      <th>std_diff</th>\n",
       "      <th>num_elements_less_than_minus_05</th>\n",
       "      <th>num_elements_larger_than_05</th>\n",
       "      <th>percentage_wrong_predictions</th>\n",
       "    </tr>\n",
       "  </thead>\n",
       "  <tbody>\n",
       "    <tr>\n",
       "      <th>0</th>\n",
       "      <td>-0.819647</td>\n",
       "      <td>0.645447</td>\n",
       "      <td>0.009132</td>\n",
       "      <td>0.029704</td>\n",
       "      <td>4</td>\n",
       "      <td>3</td>\n",
       "      <td>0.000007</td>\n",
       "    </tr>\n",
       "  </tbody>\n",
       "</table>\n",
       "</div>"
      ],
      "text/plain": [
       "   min_diff  max_diff  mean_diff  std_diff  num_elements_less_than_minus_05  \\\n",
       "0 -0.819647  0.645447   0.009132  0.029704                                4   \n",
       "\n",
       "   num_elements_larger_than_05  percentage_wrong_predictions  \n",
       "0                            3                      0.000007  "
      ]
     },
     "execution_count": 6,
     "metadata": {},
     "output_type": "execute_result"
    }
   ],
   "source": [
    "# calculate min and max of difference between solver.y_anchor and y_valid\n",
    "# y_valid = solver.dqn_model(solver.X_anchor)\n",
    "device = torch.device(\"cuda\" if torch.cuda.is_available() else \"cpu\")\n",
    "solver.mlp_trainer.model.eval()               # set to eval mode\n",
    "y_parts = []\n",
    "n_samples = len(solver.X_anchor)\n",
    "with torch.no_grad():                 # <— no grad tracking\n",
    "    for start in range(0, n_samples, 1024):\n",
    "        end = start + 1024\n",
    "        X_batch = solver.X_anchor[start:end].to(device)\n",
    "        y_batch = solver.mlp_trainer.model(X_batch)\n",
    "        y_parts.append(y_batch.cpu()) # move back to CPU\n",
    "        # explicitly free GPU memory\n",
    "        del X_batch, y_batch\n",
    "        torch.cuda.empty_cache()\n",
    "\n",
    "y_valid = torch.cat(y_parts, dim=0)\n",
    "\n",
    "y_anchor = solver.y_anchor\n",
    "\n",
    "diff = y_anchor.cpu().detach().numpy() - y_valid.cpu().detach().numpy().reshape(1, -1)[0]\n",
    "min_diff = diff.min()\n",
    "max_diff = diff.max()\n",
    "std_diff = diff.std()\n",
    "mean_diff = diff.mean()\n",
    "num_elements_less_than_minus_05 = (diff < -0.5).sum()\n",
    "num_elements_larger_than_05 = (diff > 0.5).sum()\n",
    "wrong_predictions = num_elements_less_than_minus_05 + num_elements_larger_than_05\n",
    "percentage_wrong_predictions = wrong_predictions / len(diff)\n",
    "\n",
    "# save summary_df\n",
    "summary_df_cur = pd.DataFrame({\n",
    "                                'min_diff': [min_diff],\n",
    "                                'max_diff': [max_diff],\n",
    "                                'mean_diff': [mean_diff],\n",
    "                                'std_diff': [std_diff],\n",
    "                                'num_elements_less_than_minus_05': [num_elements_less_than_minus_05],\n",
    "                                'num_elements_larger_than_05': [num_elements_larger_than_05],\n",
    "                                'percentage_wrong_predictions': [percentage_wrong_predictions]\n",
    "                                })\n",
    "\n",
    "summary_df_cur"
   ]
  },
  {
   "cell_type": "code",
   "execution_count": 7,
   "metadata": {},
   "outputs": [
    {
     "name": "stdout",
     "output_type": "stream",
     "text": [
      "3628800\n",
      "X.shape: torch.Size([3628800, 10])\n",
      "y.shape: torch.Size([3628800])\n"
     ]
    },
    {
     "data": {
      "text/html": [
       "<div>\n",
       "<style scoped>\n",
       "    .dataframe tbody tr th:only-of-type {\n",
       "        vertical-align: middle;\n",
       "    }\n",
       "\n",
       "    .dataframe tbody tr th {\n",
       "        vertical-align: top;\n",
       "    }\n",
       "\n",
       "    .dataframe thead th {\n",
       "        text-align: right;\n",
       "    }\n",
       "</style>\n",
       "<table border=\"1\" class=\"dataframe\">\n",
       "  <thead>\n",
       "    <tr style=\"text-align: right;\">\n",
       "      <th></th>\n",
       "      <th>min_diff</th>\n",
       "      <th>max_diff</th>\n",
       "      <th>mean_diff</th>\n",
       "      <th>std_diff</th>\n",
       "      <th>num_elements_less_than_minus_05</th>\n",
       "      <th>num_elements_larger_than_05</th>\n",
       "      <th>percentage_wrong_predictions</th>\n",
       "    </tr>\n",
       "  </thead>\n",
       "  <tbody>\n",
       "    <tr>\n",
       "      <th>0</th>\n",
       "      <td>-2.118607</td>\n",
       "      <td>8.181068</td>\n",
       "      <td>0.971502</td>\n",
       "      <td>1.335526</td>\n",
       "      <td>3769</td>\n",
       "      <td>1575251</td>\n",
       "      <td>0.435136</td>\n",
       "    </tr>\n",
       "  </tbody>\n",
       "</table>\n",
       "</div>"
      ],
      "text/plain": [
       "   min_diff  max_diff  mean_diff  std_diff  num_elements_less_than_minus_05  \\\n",
       "0 -2.118607  8.181068   0.971502  1.335526                             3769   \n",
       "\n",
       "   num_elements_larger_than_05  percentage_wrong_predictions  \n",
       "0                      1575251                      0.435136  "
      ]
     },
     "execution_count": 7,
     "metadata": {},
     "output_type": "execute_result"
    }
   ],
   "source": [
    "device = torch.device(\"cuda\" if torch.cuda.is_available() else \"cpu\")\n",
    "solver.mlp_trainer.model.eval()               # set to eval mode\n",
    "y_parts = []\n",
    "solver.X_anchor, solver.y_anchor = solver.generate_training_data_anchor(num_of_samples=5_000_000, mode='single')\n",
    "n_samples = len(solver.X_anchor)\n",
    "\n",
    "with torch.no_grad():                 # <— no grad tracking\n",
    "    for start in range(0, n_samples, 1024):\n",
    "        end = start + 1024\n",
    "        X_batch = solver.X_anchor[start:end].to(device)\n",
    "        y_batch = solver.mlp_trainer.model(X_batch)\n",
    "        y_parts.append(y_batch.cpu()) # move back to CPU\n",
    "        # explicitly free GPU memory\n",
    "        del X_batch, y_batch\n",
    "        torch.cuda.empty_cache()\n",
    "\n",
    "y_valid = torch.cat(y_parts, dim=0)\n",
    "\n",
    "y_anchor = solver.y_anchor\n",
    "\n",
    "diff = y_anchor.cpu().detach().numpy() - y_valid.cpu().detach().numpy().reshape(1, -1)[0]\n",
    "min_diff = diff.min()\n",
    "max_diff = diff.max()\n",
    "std_diff = diff.std()\n",
    "mean_diff = diff.mean()\n",
    "num_elements_less_than_minus_05 = (diff < -0.5).sum()\n",
    "num_elements_larger_than_05 = (diff > 0.5).sum()\n",
    "wrong_predictions = num_elements_less_than_minus_05 + num_elements_larger_than_05\n",
    "percentage_wrong_predictions = wrong_predictions / len(diff)\n",
    "\n",
    "# save summary_df\n",
    "summary_df_cur = pd.DataFrame({\n",
    "                                'min_diff': [min_diff],\n",
    "                                'max_diff': [max_diff],\n",
    "                                'mean_diff': [mean_diff],\n",
    "                                'std_diff': [std_diff],\n",
    "                                'num_elements_less_than_minus_05': [num_elements_less_than_minus_05],\n",
    "                                'num_elements_larger_than_05': [num_elements_larger_than_05],\n",
    "                                'percentage_wrong_predictions': [percentage_wrong_predictions]\n",
    "                                })\n",
    "\n",
    "summary_df_cur"
   ]
  },
  {
   "cell_type": "code",
   "execution_count": null,
   "metadata": {},
   "outputs": [],
   "source": []
  },
  {
   "cell_type": "code",
   "execution_count": null,
   "metadata": {},
   "outputs": [],
   "source": []
  },
  {
   "cell_type": "code",
   "execution_count": null,
   "metadata": {},
   "outputs": [],
   "source": []
  },
  {
   "cell_type": "code",
   "execution_count": 29,
   "metadata": {},
   "outputs": [
    {
     "data": {
      "text/html": [
       "<div>\n",
       "<style scoped>\n",
       "    .dataframe tbody tr th:only-of-type {\n",
       "        vertical-align: middle;\n",
       "    }\n",
       "\n",
       "    .dataframe tbody tr th {\n",
       "        vertical-align: top;\n",
       "    }\n",
       "\n",
       "    .dataframe thead th {\n",
       "        text-align: right;\n",
       "    }\n",
       "</style>\n",
       "<table border=\"1\" class=\"dataframe\">\n",
       "  <thead>\n",
       "    <tr style=\"text-align: right;\">\n",
       "      <th></th>\n",
       "      <th>min_diff</th>\n",
       "      <th>max_diff</th>\n",
       "      <th>mean_diff</th>\n",
       "      <th>std_diff</th>\n",
       "      <th>num_elements_less_than_minus_05</th>\n",
       "      <th>num_elements_larger_than_05</th>\n",
       "      <th>percentage_wrong_predictions</th>\n",
       "    </tr>\n",
       "  </thead>\n",
       "  <tbody>\n",
       "    <tr>\n",
       "      <th>0</th>\n",
       "      <td>-2.092207</td>\n",
       "      <td>1.836468</td>\n",
       "      <td>0.066793</td>\n",
       "      <td>0.22419</td>\n",
       "      <td>8567</td>\n",
       "      <td>31616</td>\n",
       "      <td>0.040183</td>\n",
       "    </tr>\n",
       "  </tbody>\n",
       "</table>\n",
       "</div>"
      ],
      "text/plain": [
       "   min_diff  max_diff  mean_diff  std_diff  num_elements_less_than_minus_05  \\\n",
       "0 -2.092207  1.836468   0.066793   0.22419                             8567   \n",
       "\n",
       "   num_elements_larger_than_05  percentage_wrong_predictions  \n",
       "0                        31616                      0.040183  "
      ]
     },
     "execution_count": 29,
     "metadata": {},
     "output_type": "execute_result"
    }
   ],
   "source": [
    "# calculate min and max of difference between solver.y_anchor and y_valid\n",
    "# y_valid = solver.dqn_model(solver.X_anchor)\n",
    "device = torch.device(\"cuda\" if torch.cuda.is_available() else \"cpu\")\n",
    "solver.mlp_trainer.model.eval()               # set to eval mode\n",
    "y_parts = []\n",
    "n_samples = len(solver.X_anchor)\n",
    "with torch.no_grad():                 # <— no grad tracking\n",
    "    for start in range(0, n_samples, 1024):\n",
    "        end = start + 1024\n",
    "        X_batch = solver.X_anchor[start:end].to(device)\n",
    "        y_batch = solver.mlp_trainer.model(X_batch)\n",
    "        y_parts.append(y_batch.cpu()) # move back to CPU\n",
    "        # explicitly free GPU memory\n",
    "        del X_batch, y_batch\n",
    "        torch.cuda.empty_cache()\n",
    "\n",
    "y_valid = torch.cat(y_parts, dim=0)\n",
    "\n",
    "y_anchor = solver.y_anchor\n",
    "\n",
    "diff = y_anchor.cpu().detach().numpy() - y_valid.cpu().detach().numpy().reshape(1, -1)[0]\n",
    "min_diff = diff.min()\n",
    "max_diff = diff.max()\n",
    "std_diff = diff.std()\n",
    "mean_diff = diff.mean()\n",
    "num_elements_less_than_minus_05 = (diff < -0.5).sum()\n",
    "num_elements_larger_than_05 = (diff > 0.5).sum()\n",
    "wrong_predictions = num_elements_less_than_minus_05 + num_elements_larger_than_05\n",
    "percentage_wrong_predictions = wrong_predictions / len(diff)\n",
    "\n",
    "# save summary_df\n",
    "summary_df_cur = pd.DataFrame({\n",
    "                                'min_diff': [min_diff],\n",
    "                                'max_diff': [max_diff],\n",
    "                                'mean_diff': [mean_diff],\n",
    "                                'std_diff': [std_diff],\n",
    "                                'num_elements_less_than_minus_05': [num_elements_less_than_minus_05],\n",
    "                                'num_elements_larger_than_05': [num_elements_larger_than_05],\n",
    "                                'percentage_wrong_predictions': [percentage_wrong_predictions]\n",
    "                                })\n",
    "\n",
    "summary_df_cur"
   ]
  },
  {
   "cell_type": "code",
   "execution_count": null,
   "metadata": {},
   "outputs": [],
   "source": []
  },
  {
   "cell_type": "code",
   "execution_count": 31,
   "metadata": {},
   "outputs": [
    {
     "name": "stdout",
     "output_type": "stream",
     "text": [
      "3628800\n",
      "X.shape: torch.Size([3628800, 10])\n",
      "y.shape: torch.Size([3628800])\n"
     ]
    },
    {
     "data": {
      "text/html": [
       "<div>\n",
       "<style scoped>\n",
       "    .dataframe tbody tr th:only-of-type {\n",
       "        vertical-align: middle;\n",
       "    }\n",
       "\n",
       "    .dataframe tbody tr th {\n",
       "        vertical-align: top;\n",
       "    }\n",
       "\n",
       "    .dataframe thead th {\n",
       "        text-align: right;\n",
       "    }\n",
       "</style>\n",
       "<table border=\"1\" class=\"dataframe\">\n",
       "  <thead>\n",
       "    <tr style=\"text-align: right;\">\n",
       "      <th></th>\n",
       "      <th>min_diff</th>\n",
       "      <th>max_diff</th>\n",
       "      <th>mean_diff</th>\n",
       "      <th>std_diff</th>\n",
       "      <th>num_elements_less_than_minus_05</th>\n",
       "      <th>num_elements_larger_than_05</th>\n",
       "      <th>percentage_wrong_predictions</th>\n",
       "    </tr>\n",
       "  </thead>\n",
       "  <tbody>\n",
       "    <tr>\n",
       "      <th>0</th>\n",
       "      <td>-2.397642</td>\n",
       "      <td>5.544376</td>\n",
       "      <td>0.626675</td>\n",
       "      <td>0.758084</td>\n",
       "      <td>36367</td>\n",
       "      <td>1636018</td>\n",
       "      <td>0.460864</td>\n",
       "    </tr>\n",
       "  </tbody>\n",
       "</table>\n",
       "</div>"
      ],
      "text/plain": [
       "   min_diff  max_diff  mean_diff  std_diff  num_elements_less_than_minus_05  \\\n",
       "0 -2.397642  5.544376   0.626675  0.758084                            36367   \n",
       "\n",
       "   num_elements_larger_than_05  percentage_wrong_predictions  \n",
       "0                      1636018                      0.460864  "
      ]
     },
     "execution_count": 31,
     "metadata": {},
     "output_type": "execute_result"
    }
   ],
   "source": [
    "device = torch.device(\"cuda\" if torch.cuda.is_available() else \"cpu\")\n",
    "solver.mlp_trainer.model.eval()               # set to eval mode\n",
    "y_parts = []\n",
    "solver.X_anchor, solver.y_anchor = solver.generate_training_data_anchor(num_of_samples=5_000_000, mode='single')\n",
    "n_samples = len(solver.X_anchor)\n",
    "\n",
    "with torch.no_grad():                 # <— no grad tracking\n",
    "    for start in range(0, n_samples, 1024):\n",
    "        end = start + 1024\n",
    "        X_batch = solver.X_anchor[start:end].to(device)\n",
    "        y_batch = solver.mlp_trainer.model(X_batch)\n",
    "        y_parts.append(y_batch.cpu()) # move back to CPU\n",
    "        # explicitly free GPU memory\n",
    "        del X_batch, y_batch\n",
    "        torch.cuda.empty_cache()\n",
    "\n",
    "y_valid = torch.cat(y_parts, dim=0)\n",
    "\n",
    "y_anchor = solver.y_anchor\n",
    "\n",
    "diff = y_anchor.cpu().detach().numpy() - y_valid.cpu().detach().numpy().reshape(1, -1)[0]\n",
    "min_diff = diff.min()\n",
    "max_diff = diff.max()\n",
    "std_diff = diff.std()\n",
    "mean_diff = diff.mean()\n",
    "num_elements_less_than_minus_05 = (diff < -0.5).sum()\n",
    "num_elements_larger_than_05 = (diff > 0.5).sum()\n",
    "wrong_predictions = num_elements_less_than_minus_05 + num_elements_larger_than_05\n",
    "percentage_wrong_predictions = wrong_predictions / len(diff)\n",
    "\n",
    "# save summary_df\n",
    "summary_df_cur = pd.DataFrame({\n",
    "                                'min_diff': [min_diff],\n",
    "                                'max_diff': [max_diff],\n",
    "                                'mean_diff': [mean_diff],\n",
    "                                'std_diff': [std_diff],\n",
    "                                'num_elements_less_than_minus_05': [num_elements_less_than_minus_05],\n",
    "                                'num_elements_larger_than_05': [num_elements_larger_than_05],\n",
    "                                'percentage_wrong_predictions': [percentage_wrong_predictions]\n",
    "                                })\n",
    "\n",
    "summary_df_cur"
   ]
  },
  {
   "cell_type": "code",
   "execution_count": null,
   "metadata": {},
   "outputs": [],
   "source": []
  },
  {
   "cell_type": "code",
   "execution_count": null,
   "metadata": {},
   "outputs": [],
   "source": []
  },
  {
   "cell_type": "code",
   "execution_count": null,
   "metadata": {},
   "outputs": [],
   "source": []
  },
  {
   "cell_type": "code",
   "execution_count": null,
   "metadata": {},
   "outputs": [],
   "source": [
    "0.001488\n",
    "0.002455\n",
    "0.001265"
   ]
  },
  {
   "cell_type": "code",
   "execution_count": 20,
   "metadata": {},
   "outputs": [
    {
     "data": {
      "text/plain": [
       "torch.Size([4000004])"
      ]
     },
     "execution_count": 20,
     "metadata": {},
     "output_type": "execute_result"
    }
   ],
   "source": [
    "solver.y_anchor.reshape(B * four).shape"
   ]
  },
  {
   "cell_type": "code",
   "execution_count": 7,
   "metadata": {},
   "outputs": [
    {
     "name": "stdout",
     "output_type": "stream",
     "text": [
      "1000000\n",
      "X.shape: torch.Size([1000000, 12])\n",
      "y.shape: torch.Size([1000000])\n",
      "Starting DQN training for 5000 epochs...\n"
     ]
    },
    {
     "name": "stderr",
     "output_type": "stream",
     "text": [
      "Training MLP with random walks:   1%|          | 55/5000 [02:23<3:34:47,  2.61s/it, loss=0.0979, hinge: 0.0676, anchor: 0.0289]\n"
     ]
    },
    {
     "ename": "KeyboardInterrupt",
     "evalue": "",
     "output_type": "error",
     "traceback": [
      "\u001b[1;31m---------------------------------------------------------------------------\u001b[0m",
      "\u001b[1;31mKeyboardInterrupt\u001b[0m                         Traceback (most recent call last)",
      "Cell \u001b[1;32mIn[7], line 1\u001b[0m\n\u001b[1;32m----> 1\u001b[0m dqn_losses \u001b[38;5;241m=\u001b[39m \u001b[43msolver\u001b[49m\u001b[38;5;241;43m.\u001b[39;49m\u001b[43mtrain_dqn\u001b[49m\u001b[43m(\u001b[49m\u001b[43m)\u001b[49m\n",
      "File \u001b[1;32mc:\\Users\\zamko\\Documents\\permutations_RL\\src\\app.py:229\u001b[0m, in \u001b[0;36mPermutationSolver.train_dqn\u001b[1;34m(self)\u001b[0m\n\u001b[0;32m    227\u001b[0m     \u001b[38;5;28mself\u001b[39m\u001b[38;5;241m.\u001b[39msetup_dqn_model()\n\u001b[0;32m    228\u001b[0m \u001b[38;5;28;01mif\u001b[39;00m \u001b[38;5;28mself\u001b[39m\u001b[38;5;241m.\u001b[39mmode \u001b[38;5;241m==\u001b[39m \u001b[38;5;124m'\u001b[39m\u001b[38;5;124msingle_hard_hinge\u001b[39m\u001b[38;5;124m'\u001b[39m:\n\u001b[1;32m--> 229\u001b[0m     history \u001b[38;5;241m=\u001b[39m \u001b[38;5;28;43mself\u001b[39;49m\u001b[38;5;241;43m.\u001b[39;49m\u001b[43mdqn_trainer\u001b[49m\u001b[38;5;241;43m.\u001b[39;49m\u001b[43mtrain_single_hard_hinge\u001b[49m\u001b[43m(\u001b[49m\u001b[43m)\u001b[49m\n\u001b[0;32m    230\u001b[0m \u001b[38;5;28;01melif\u001b[39;00m \u001b[38;5;28mself\u001b[39m\u001b[38;5;241m.\u001b[39mmode \u001b[38;5;241m==\u001b[39m \u001b[38;5;124m'\u001b[39m\u001b[38;5;124mdouble_soft_hinge\u001b[39m\u001b[38;5;124m'\u001b[39m:\n\u001b[0;32m    231\u001b[0m     history \u001b[38;5;241m=\u001b[39m \u001b[38;5;28mself\u001b[39m\u001b[38;5;241m.\u001b[39mdqn_trainer\u001b[38;5;241m.\u001b[39mtrain_double_soft_hinge()\n",
      "File \u001b[1;32mc:\\Users\\zamko\\Documents\\permutations_RL\\src\\models\\dqn_trainer.py:283\u001b[0m, in \u001b[0;36mDQNTrainer.train_single_hard_hinge\u001b[1;34m(self)\u001b[0m\n\u001b[0;32m    280\u001b[0m x_anchor \u001b[38;5;241m=\u001b[39m \u001b[38;5;28mself\u001b[39m\u001b[38;5;241m.\u001b[39mX_anchor[idx]\u001b[38;5;241m.\u001b[39mto(\u001b[38;5;28mself\u001b[39m\u001b[38;5;241m.\u001b[39mdevice)\n\u001b[0;32m    281\u001b[0m \u001b[38;5;28;01mwith\u001b[39;00m torch\u001b[38;5;241m.\u001b[39mno_grad():\n\u001b[0;32m    282\u001b[0m     \u001b[38;5;66;03m# таргет можно держать без градиента\u001b[39;00m\n\u001b[1;32m--> 283\u001b[0m     target_anchor \u001b[38;5;241m=\u001b[39m \u001b[38;5;28;43mself\u001b[39;49m\u001b[38;5;241;43m.\u001b[39;49m\u001b[43my_anchor\u001b[49m\u001b[43m[\u001b[49m\u001b[43midx\u001b[49m\u001b[43m]\u001b[49m\u001b[38;5;241;43m.\u001b[39;49m\u001b[43mfloat\u001b[49m\u001b[43m(\u001b[49m\u001b[43m)\u001b[49m\u001b[38;5;241m.\u001b[39mto(\u001b[38;5;28mself\u001b[39m\u001b[38;5;241m.\u001b[39mdevice)\n\u001b[0;32m    285\u001b[0m h_anchor \u001b[38;5;241m=\u001b[39m \u001b[38;5;28mself\u001b[39m\u001b[38;5;241m.\u001b[39mmodel(x_anchor)\u001b[38;5;241m.\u001b[39msqueeze()       \u001b[38;5;66;03m# ← есть градиент\u001b[39;00m\n\u001b[0;32m    286\u001b[0m anchor \u001b[38;5;241m=\u001b[39m F\u001b[38;5;241m.\u001b[39mmse_loss(h_anchor, target_anchor, reduction\u001b[38;5;241m=\u001b[39m\u001b[38;5;124m'\u001b[39m\u001b[38;5;124mmean\u001b[39m\u001b[38;5;124m'\u001b[39m)\n",
      "\u001b[1;31mKeyboardInterrupt\u001b[0m: "
     ]
    }
   ],
   "source": [
    "dqn_losses = solver.train_dqn()"
   ]
  },
  {
   "cell_type": "code",
   "execution_count": 26,
   "metadata": {},
   "outputs": [
    {
     "data": {
      "text/html": [
       "<div>\n",
       "<style scoped>\n",
       "    .dataframe tbody tr th:only-of-type {\n",
       "        vertical-align: middle;\n",
       "    }\n",
       "\n",
       "    .dataframe tbody tr th {\n",
       "        vertical-align: top;\n",
       "    }\n",
       "\n",
       "    .dataframe thead th {\n",
       "        text-align: right;\n",
       "    }\n",
       "</style>\n",
       "<table border=\"1\" class=\"dataframe\">\n",
       "  <thead>\n",
       "    <tr style=\"text-align: right;\">\n",
       "      <th></th>\n",
       "      <th>min_diff</th>\n",
       "      <th>max_diff</th>\n",
       "      <th>mean_diff</th>\n",
       "      <th>std_diff</th>\n",
       "      <th>num_elements_less_than_minus_05</th>\n",
       "      <th>num_elements_larger_than_05</th>\n",
       "      <th>percentage_wrong_predictions</th>\n",
       "    </tr>\n",
       "  </thead>\n",
       "  <tbody>\n",
       "    <tr>\n",
       "      <th>0</th>\n",
       "      <td>-1.187559</td>\n",
       "      <td>1.147144</td>\n",
       "      <td>-0.033859</td>\n",
       "      <td>0.15859</td>\n",
       "      <td>3428</td>\n",
       "      <td>1409</td>\n",
       "      <td>0.004837</td>\n",
       "    </tr>\n",
       "  </tbody>\n",
       "</table>\n",
       "</div>"
      ],
      "text/plain": [
       "   min_diff  max_diff  mean_diff  std_diff  num_elements_less_than_minus_05  \\\n",
       "0 -1.187559  1.147144  -0.033859   0.15859                             3428   \n",
       "\n",
       "   num_elements_larger_than_05  percentage_wrong_predictions  \n",
       "0                         1409                      0.004837  "
      ]
     },
     "execution_count": 26,
     "metadata": {},
     "output_type": "execute_result"
    }
   ],
   "source": [
    "# calculate min and max of difference between solver.y_anchor and y_valid\n",
    "# y_valid = solver.dqn_model(solver.X_anchor)\n",
    "device = torch.device(\"cuda\" if torch.cuda.is_available() else \"cpu\")\n",
    "solver.mlp_trainer.model.eval()               # set to eval mode\n",
    "y_parts = []\n",
    "n_samples = len(solver.X_anchor)\n",
    "with torch.no_grad():                 # <— no grad tracking\n",
    "    for start in range(0, n_samples, 1024):\n",
    "        end = start + 1024\n",
    "        X_batch = solver.X_anchor[start:end].to(device)\n",
    "        y_batch = solver.mlp_trainer.model(X_batch)\n",
    "        y_parts.append(y_batch.cpu()) # move back to CPU\n",
    "        # explicitly free GPU memory\n",
    "        del X_batch, y_batch\n",
    "        torch.cuda.empty_cache()\n",
    "\n",
    "y_valid = torch.cat(y_parts, dim=0)\n",
    "\n",
    "diff = solver.y_anchor.cpu().detach().numpy() - y_valid.cpu().detach().numpy().reshape(1, -1)[0]\n",
    "min_diff = diff.min()\n",
    "max_diff = diff.max()\n",
    "std_diff = diff.std()\n",
    "mean_diff = diff.mean()\n",
    "num_elements_less_than_minus_05 = (diff < -0.5).sum()\n",
    "num_elements_larger_than_05 = (diff > 0.5).sum()\n",
    "wrong_predictions = num_elements_less_than_minus_05 + num_elements_larger_than_05\n",
    "percentage_wrong_predictions = wrong_predictions / len(diff)\n",
    "\n",
    "# save summary_df\n",
    "summary_df_cur = pd.DataFrame({\n",
    "                                'min_diff': [min_diff],\n",
    "                                'max_diff': [max_diff],\n",
    "                                'mean_diff': [mean_diff],\n",
    "                                'std_diff': [std_diff],\n",
    "                                'num_elements_less_than_minus_05': [num_elements_less_than_minus_05],\n",
    "                                'num_elements_larger_than_05': [num_elements_larger_than_05],\n",
    "                                'percentage_wrong_predictions': [percentage_wrong_predictions]\n",
    "                                })\n",
    "\n",
    "summary_df_cur"
   ]
  },
  {
   "cell_type": "code",
   "execution_count": null,
   "metadata": {},
   "outputs": [],
   "source": []
  },
  {
   "cell_type": "code",
   "execution_count": null,
   "metadata": {},
   "outputs": [
    {
     "data": {
      "image/png": "[encoded data removed]",
      "text/plain": [
       "<Figure size 1000x600 with 1 Axes>"
      ]
     },
     "metadata": {},
     "output_type": "display_data"
    }
   ],
   "source": [
    "import matplotlib.pyplot as plt\n",
    "\n",
    "# Plot distribution of the torch vector y_valid\n",
    "plt.figure(figsize=(10, 6))\n",
    "plt.hist(diff, bins=30, alpha=0.7, color='blue')\n",
    "plt.title('Distribution of y_valid')\n",
    "plt.xlabel('Value')\n",
    "plt.ylabel('Frequency')\n",
    "plt.grid(True)\n",
    "plt.show()"
   ]
  },
  {
   "cell_type": "code",
   "execution_count": null,
   "metadata": {},
   "outputs": [],
   "source": []
  }
 ],
 "metadata": {
  "kernelspec": {
   "display_name": ".venv",
   "language": "python",
   "name": "python3"
  },
  "language_info": {
   "codemirror_mode": {
    "name": "ipython",
    "version": 3
   },
   "file_extension": ".py",
   "mimetype": "text/x-python",
   "name": "python",
   "nbconvert_exporter": "python",
   "pygments_lexer": "ipython3",
   "version": "3.12.5"
  }
 },
 "nbformat": 4,
 "nbformat_minor": 2
}
