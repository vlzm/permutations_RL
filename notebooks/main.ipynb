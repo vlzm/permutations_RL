{
 "cells": [
  {
   "cell_type": "code",
   "execution_count": 1,
   "metadata": {},
   "outputs": [],
   "source": [
    "import os\n",
    "import sys\n",
    "\n",
    "# Get the absolute path of the notebook's directory\n",
    "notebook_dir = os.path.abspath(os.path.join(os.getcwd(), '..'))\n",
    "sys.path.append(notebook_dir)"
   ]
  },
  {
   "cell_type": "code",
   "execution_count": 2,
   "metadata": {},
   "outputs": [],
   "source": [
    "import torch\n",
    "import numpy as np\n",
    "import pandas as pd\n",
    "import matplotlib.pyplot as plt\n",
    "from tqdm import tqdm\n",
    "from src.app import PermutationSolver\n"
   ]
  },
  {
   "cell_type": "code",
   "execution_count": 3,
   "metadata": {},
   "outputs": [],
   "source": [
    "n = 12\n",
    "config = {\n",
    "            'n_permutations_length': n,\n",
    "            \n",
    "            # Random walks params\n",
    "            'random_walks_type': 'non-backtracking-beam',\n",
    "            'n_random_walk_length': int(n * (n-1) / 2),\n",
    "            'n_random_walks_to_generate': 10000,\n",
    "            'n_random_walks_steps_back_to_ban': 8,\n",
    "            \n",
    "            # Neural Net params\n",
    "            'model_type': 'MLP',\n",
    "            'list_layers_sizes': [2**9],\n",
    "            'n_epochs': 30,\n",
    "            'batch_size': 1024,\n",
    "            'lr': 0.001,\n",
    "            \n",
    "            # DQN training\n",
    "            'n_epochs_dqn': 300,\n",
    "            'flag_dqn_round': False,\n",
    "            'n_random_walks_to_generate_dqn': 1000,\n",
    "            'verbose_loc': 5,\n",
    "            'lr_dqn': 0.000001,\n",
    "            \n",
    "            # Beam search\n",
    "            'beam_search_torch': True,\n",
    "            'beam_search_Fironov': False,\n",
    "            'beam_width': 1,\n",
    "            'n_steps_limit': 4 * n**2,\n",
    "            'alpha_previous_cost_accumulation': 0,\n",
    "            'beam_search_models_or_heuristics': 'model_torch',\n",
    "            'ban_p0_p1_transposition_if_p0_lt_p1_ie_already_sorted': False,\n",
    "            'n_beam_search_steps_back_to_ban': 32,\n",
    "            \n",
    "            # What to solve\n",
    "            'solve_random_or_longest_state': 'solve_LRX_longest',\n",
    "            'verbose': 100\n",
    "        }"
   ]
  },
  {
   "cell_type": "code",
   "execution_count": 4,
   "metadata": {},
   "outputs": [],
   "source": [
    "n_perm_list = [48]\n",
    "n_epoch_list = [100]\n",
    "n_epoch_dqn_list = [300]\n",
    "batch_size_list = [2**10]\n",
    "lr_list = [0.000001]\n",
    "beam_width_list = [2**0]\n",
    "list_layers_sizes = [[2**13]]"
   ]
  },
  {
   "cell_type": "code",
   "execution_count": 5,
   "metadata": {},
   "outputs": [
    {
     "name": "stderr",
     "output_type": "stream",
     "text": [
      "Training MLP:  10%|█         | 10/100 [01:19<11:49,  7.89s/it]"
     ]
    },
    {
     "name": "stdout",
     "output_type": "stream",
     "text": [
      "Epoch 10, Loss: 47.2713\n"
     ]
    },
    {
     "name": "stderr",
     "output_type": "stream",
     "text": [
      "Training MLP:  20%|██        | 20/100 [02:37<10:30,  7.89s/it]"
     ]
    },
    {
     "name": "stdout",
     "output_type": "stream",
     "text": [
      "Epoch 20, Loss: 43.2165\n"
     ]
    },
    {
     "name": "stderr",
     "output_type": "stream",
     "text": [
      "Training MLP:  30%|███       | 30/100 [03:56<09:07,  7.81s/it]"
     ]
    },
    {
     "name": "stdout",
     "output_type": "stream",
     "text": [
      "Epoch 30, Loss: 41.6675\n"
     ]
    },
    {
     "name": "stderr",
     "output_type": "stream",
     "text": [
      "Training MLP:  40%|████      | 40/100 [05:12<07:37,  7.63s/it]"
     ]
    },
    {
     "name": "stdout",
     "output_type": "stream",
     "text": [
      "Epoch 40, Loss: 40.4901\n"
     ]
    },
    {
     "name": "stderr",
     "output_type": "stream",
     "text": [
      "Training MLP:  50%|█████     | 50/100 [06:30<06:34,  7.88s/it]"
     ]
    },
    {
     "name": "stdout",
     "output_type": "stream",
     "text": [
      "Epoch 50, Loss: 41.9083\n"
     ]
    },
    {
     "name": "stderr",
     "output_type": "stream",
     "text": [
      "Training MLP:  60%|██████    | 60/100 [07:48<05:13,  7.83s/it]"
     ]
    },
    {
     "name": "stdout",
     "output_type": "stream",
     "text": [
      "Epoch 60, Loss: 40.9582\n"
     ]
    },
    {
     "name": "stderr",
     "output_type": "stream",
     "text": [
      "Training MLP:  70%|███████   | 70/100 [09:07<03:55,  7.85s/it]"
     ]
    },
    {
     "name": "stdout",
     "output_type": "stream",
     "text": [
      "Epoch 70, Loss: 40.7895\n"
     ]
    },
    {
     "name": "stderr",
     "output_type": "stream",
     "text": [
      "Training MLP:  80%|████████  | 80/100 [10:26<02:38,  7.93s/it]"
     ]
    },
    {
     "name": "stdout",
     "output_type": "stream",
     "text": [
      "Epoch 80, Loss: 39.4219\n"
     ]
    },
    {
     "name": "stderr",
     "output_type": "stream",
     "text": [
      "Training MLP:  90%|█████████ | 90/100 [11:45<01:18,  7.88s/it]"
     ]
    },
    {
     "name": "stdout",
     "output_type": "stream",
     "text": [
      "Epoch 90, Loss: 42.6265\n"
     ]
    },
    {
     "name": "stderr",
     "output_type": "stream",
     "text": [
      "Training MLP: 100%|██████████| 100/100 [13:04<00:00,  7.84s/it]"
     ]
    },
    {
     "name": "stdout",
     "output_type": "stream",
     "text": [
      "Epoch 100, Loss: 41.3827\n"
     ]
    },
    {
     "name": "stderr",
     "output_type": "stream",
     "text": [
      "\n"
     ]
    },
    {
     "name": "stdout",
     "output_type": "stream",
     "text": [
      "Starting DQN training for 300 epochs...\n"
     ]
    },
    {
     "name": "stderr",
     "output_type": "stream",
     "text": [
      "Training DQN:   0%|          | 1/300 [00:04<23:19,  4.68s/it]"
     ]
    },
    {
     "name": "stdout",
     "output_type": "stream",
     "text": [
      "Epoch   0 | Loss: 0.9287 | Times - RW: 2.94s, Train: 1.74s | Buffer size: 66000\n"
     ]
    },
    {
     "name": "stderr",
     "output_type": "stream",
     "text": [
      "Training DQN:   2%|▏         | 6/300 [00:33<27:43,  5.66s/it]"
     ]
    },
    {
     "name": "stdout",
     "output_type": "stream",
     "text": [
      "Epoch   5 | Loss: 0.9224 | Times - RW: 3.44s, Train: 2.28s | Buffer size: 200000\n"
     ]
    },
    {
     "name": "stderr",
     "output_type": "stream",
     "text": [
      "Training DQN:   4%|▎         | 11/300 [01:01<27:04,  5.62s/it]"
     ]
    },
    {
     "name": "stdout",
     "output_type": "stream",
     "text": [
      "Epoch  10 | Loss: 0.9255 | Times - RW: 3.49s, Train: 2.08s | Buffer size: 200000\n"
     ]
    },
    {
     "name": "stderr",
     "output_type": "stream",
     "text": [
      "Training DQN:   5%|▌         | 16/300 [01:30<27:01,  5.71s/it]"
     ]
    },
    {
     "name": "stdout",
     "output_type": "stream",
     "text": [
      "Epoch  15 | Loss: 0.9251 | Times - RW: 3.44s, Train: 2.25s | Buffer size: 200000\n"
     ]
    },
    {
     "name": "stderr",
     "output_type": "stream",
     "text": [
      "Training DQN:   7%|▋         | 21/300 [01:58<25:55,  5.57s/it]"
     ]
    },
    {
     "name": "stdout",
     "output_type": "stream",
     "text": [
      "Epoch  20 | Loss: 0.9148 | Times - RW: 3.40s, Train: 2.05s | Buffer size: 200000\n"
     ]
    },
    {
     "name": "stderr",
     "output_type": "stream",
     "text": [
      "Training DQN:   9%|▊         | 26/300 [02:26<25:44,  5.64s/it]"
     ]
    },
    {
     "name": "stdout",
     "output_type": "stream",
     "text": [
      "Epoch  25 | Loss: 0.9153 | Times - RW: 3.46s, Train: 2.29s | Buffer size: 200000\n"
     ]
    },
    {
     "name": "stderr",
     "output_type": "stream",
     "text": [
      "Training DQN:  10%|█         | 31/300 [02:54<25:05,  5.60s/it]"
     ]
    },
    {
     "name": "stdout",
     "output_type": "stream",
     "text": [
      "Epoch  30 | Loss: 0.9029 | Times - RW: 3.45s, Train: 2.08s | Buffer size: 200000\n"
     ]
    },
    {
     "name": "stderr",
     "output_type": "stream",
     "text": [
      "Training DQN:  12%|█▏        | 36/300 [03:22<24:50,  5.64s/it]"
     ]
    },
    {
     "name": "stdout",
     "output_type": "stream",
     "text": [
      "Epoch  35 | Loss: 0.9200 | Times - RW: 3.44s, Train: 2.32s | Buffer size: 200000\n"
     ]
    },
    {
     "name": "stderr",
     "output_type": "stream",
     "text": [
      "Training DQN:  14%|█▎        | 41/300 [03:50<24:12,  5.61s/it]"
     ]
    },
    {
     "name": "stdout",
     "output_type": "stream",
     "text": [
      "Epoch  40 | Loss: 0.9050 | Times - RW: 3.43s, Train: 2.07s | Buffer size: 200000\n"
     ]
    },
    {
     "name": "stderr",
     "output_type": "stream",
     "text": [
      "Training DQN:  15%|█▌        | 46/300 [04:18<23:47,  5.62s/it]"
     ]
    },
    {
     "name": "stdout",
     "output_type": "stream",
     "text": [
      "Epoch  45 | Loss: 0.9160 | Times - RW: 3.39s, Train: 2.27s | Buffer size: 200000\n"
     ]
    },
    {
     "name": "stderr",
     "output_type": "stream",
     "text": [
      "Training DQN:  17%|█▋        | 51/300 [04:46<23:01,  5.55s/it]"
     ]
    },
    {
     "name": "stdout",
     "output_type": "stream",
     "text": [
      "Epoch  50 | Loss: 0.9025 | Times - RW: 3.42s, Train: 2.02s | Buffer size: 200000\n"
     ]
    },
    {
     "name": "stderr",
     "output_type": "stream",
     "text": [
      "Training DQN:  19%|█▊        | 56/300 [05:14<22:46,  5.60s/it]"
     ]
    },
    {
     "name": "stdout",
     "output_type": "stream",
     "text": [
      "Epoch  55 | Loss: 0.9006 | Times - RW: 3.40s, Train: 2.32s | Buffer size: 200000\n"
     ]
    },
    {
     "name": "stderr",
     "output_type": "stream",
     "text": [
      "Training DQN:  20%|██        | 61/300 [05:42<22:04,  5.54s/it]"
     ]
    },
    {
     "name": "stdout",
     "output_type": "stream",
     "text": [
      "Epoch  60 | Loss: 0.9182 | Times - RW: 3.37s, Train: 2.04s | Buffer size: 200000\n"
     ]
    },
    {
     "name": "stderr",
     "output_type": "stream",
     "text": [
      "Training DQN:  22%|██▏       | 66/300 [06:10<21:45,  5.58s/it]"
     ]
    },
    {
     "name": "stdout",
     "output_type": "stream",
     "text": [
      "Epoch  65 | Loss: 0.9141 | Times - RW: 3.40s, Train: 2.27s | Buffer size: 200000\n"
     ]
    },
    {
     "name": "stderr",
     "output_type": "stream",
     "text": [
      "Training DQN:  24%|██▎       | 71/300 [06:37<21:08,  5.54s/it]"
     ]
    },
    {
     "name": "stdout",
     "output_type": "stream",
     "text": [
      "Epoch  70 | Loss: 0.9000 | Times - RW: 3.40s, Train: 2.04s | Buffer size: 200000\n"
     ]
    },
    {
     "name": "stderr",
     "output_type": "stream",
     "text": [
      "Training DQN:  25%|██▌       | 76/300 [07:05<20:59,  5.62s/it]"
     ]
    },
    {
     "name": "stdout",
     "output_type": "stream",
     "text": [
      "Epoch  75 | Loss: 0.9113 | Times - RW: 3.43s, Train: 2.30s | Buffer size: 200000\n"
     ]
    },
    {
     "name": "stderr",
     "output_type": "stream",
     "text": [
      "Training DQN:  27%|██▋       | 81/300 [07:33<20:16,  5.56s/it]"
     ]
    },
    {
     "name": "stdout",
     "output_type": "stream",
     "text": [
      "Epoch  80 | Loss: 0.9190 | Times - RW: 3.37s, Train: 2.03s | Buffer size: 200000\n"
     ]
    },
    {
     "name": "stderr",
     "output_type": "stream",
     "text": [
      "Training DQN:  29%|██▊       | 86/300 [08:02<20:14,  5.67s/it]"
     ]
    },
    {
     "name": "stdout",
     "output_type": "stream",
     "text": [
      "Epoch  85 | Loss: 0.9087 | Times - RW: 3.46s, Train: 2.33s | Buffer size: 200000\n"
     ]
    },
    {
     "name": "stderr",
     "output_type": "stream",
     "text": [
      "Training DQN:  30%|███       | 91/300 [08:30<20:11,  5.80s/it]"
     ]
    },
    {
     "name": "stdout",
     "output_type": "stream",
     "text": [
      "Epoch  90 | Loss: 0.9085 | Times - RW: 3.66s, Train: 2.22s | Buffer size: 200000\n"
     ]
    },
    {
     "name": "stderr",
     "output_type": "stream",
     "text": [
      "Training DQN:  32%|███▏      | 96/300 [08:59<19:31,  5.74s/it]"
     ]
    },
    {
     "name": "stdout",
     "output_type": "stream",
     "text": [
      "Epoch  95 | Loss: 0.9172 | Times - RW: 3.47s, Train: 2.10s | Buffer size: 200000\n"
     ]
    },
    {
     "name": "stderr",
     "output_type": "stream",
     "text": [
      "Training DQN:  34%|███▎      | 101/300 [09:28<19:17,  5.82s/it]"
     ]
    },
    {
     "name": "stdout",
     "output_type": "stream",
     "text": [
      "Epoch 100 | Loss: 0.9231 | Times - RW: 3.61s, Train: 2.40s | Buffer size: 200000\n"
     ]
    },
    {
     "name": "stderr",
     "output_type": "stream",
     "text": [
      "Training DQN:  35%|███▌      | 106/300 [09:57<18:20,  5.67s/it]"
     ]
    },
    {
     "name": "stdout",
     "output_type": "stream",
     "text": [
      "Epoch 105 | Loss: 0.9211 | Times - RW: 3.40s, Train: 2.04s | Buffer size: 200000\n"
     ]
    },
    {
     "name": "stderr",
     "output_type": "stream",
     "text": [
      "Training DQN:  37%|███▋      | 111/300 [10:25<17:55,  5.69s/it]"
     ]
    },
    {
     "name": "stdout",
     "output_type": "stream",
     "text": [
      "Epoch 110 | Loss: 0.9210 | Times - RW: 3.44s, Train: 2.32s | Buffer size: 200000\n"
     ]
    },
    {
     "name": "stderr",
     "output_type": "stream",
     "text": [
      "Training DQN:  39%|███▊      | 116/300 [10:53<17:06,  5.58s/it]"
     ]
    },
    {
     "name": "stdout",
     "output_type": "stream",
     "text": [
      "Epoch 115 | Loss: 0.9353 | Times - RW: 3.37s, Train: 2.04s | Buffer size: 200000\n"
     ]
    },
    {
     "name": "stderr",
     "output_type": "stream",
     "text": [
      "Training DQN:  40%|████      | 121/300 [11:21<16:40,  5.59s/it]"
     ]
    },
    {
     "name": "stdout",
     "output_type": "stream",
     "text": [
      "Epoch 120 | Loss: 0.9191 | Times - RW: 3.37s, Train: 2.34s | Buffer size: 200000\n"
     ]
    },
    {
     "name": "stderr",
     "output_type": "stream",
     "text": [
      "Training DQN:  42%|████▏     | 126/300 [11:50<16:21,  5.64s/it]"
     ]
    },
    {
     "name": "stdout",
     "output_type": "stream",
     "text": [
      "Epoch 125 | Loss: 0.9552 | Times - RW: 3.42s, Train: 2.17s | Buffer size: 200000\n"
     ]
    },
    {
     "name": "stderr",
     "output_type": "stream",
     "text": [
      "Training DQN:  44%|████▎     | 131/300 [12:18<15:53,  5.64s/it]"
     ]
    },
    {
     "name": "stdout",
     "output_type": "stream",
     "text": [
      "Epoch 130 | Loss: 0.9523 | Times - RW: 3.46s, Train: 2.30s | Buffer size: 200000\n"
     ]
    },
    {
     "name": "stderr",
     "output_type": "stream",
     "text": [
      "Training DQN:  45%|████▌     | 136/300 [12:45<15:09,  5.55s/it]"
     ]
    },
    {
     "name": "stdout",
     "output_type": "stream",
     "text": [
      "Epoch 135 | Loss: 0.9462 | Times - RW: 3.44s, Train: 2.03s | Buffer size: 200000\n"
     ]
    },
    {
     "name": "stderr",
     "output_type": "stream",
     "text": [
      "Training DQN:  47%|████▋     | 141/300 [13:14<15:03,  5.68s/it]"
     ]
    },
    {
     "name": "stdout",
     "output_type": "stream",
     "text": [
      "Epoch 140 | Loss: 0.9674 | Times - RW: 3.46s, Train: 2.39s | Buffer size: 200000\n"
     ]
    },
    {
     "name": "stderr",
     "output_type": "stream",
     "text": [
      "Training DQN:  49%|████▊     | 146/300 [13:42<14:18,  5.58s/it]"
     ]
    },
    {
     "name": "stdout",
     "output_type": "stream",
     "text": [
      "Epoch 145 | Loss: 0.9600 | Times - RW: 3.37s, Train: 2.05s | Buffer size: 200000\n"
     ]
    },
    {
     "name": "stderr",
     "output_type": "stream",
     "text": [
      "Training DQN:  50%|█████     | 151/300 [14:10<13:48,  5.56s/it]"
     ]
    },
    {
     "name": "stdout",
     "output_type": "stream",
     "text": [
      "Epoch 150 | Loss: 0.9616 | Times - RW: 3.35s, Train: 2.30s | Buffer size: 200000\n"
     ]
    },
    {
     "name": "stderr",
     "output_type": "stream",
     "text": [
      "Training DQN:  52%|█████▏    | 156/300 [14:37<13:16,  5.53s/it]"
     ]
    },
    {
     "name": "stdout",
     "output_type": "stream",
     "text": [
      "Epoch 155 | Loss: 0.9581 | Times - RW: 3.35s, Train: 2.05s | Buffer size: 200000\n"
     ]
    },
    {
     "name": "stderr",
     "output_type": "stream",
     "text": [
      "Training DQN:  54%|█████▎    | 161/300 [15:05<12:49,  5.54s/it]"
     ]
    },
    {
     "name": "stdout",
     "output_type": "stream",
     "text": [
      "Epoch 160 | Loss: 0.9582 | Times - RW: 3.34s, Train: 2.29s | Buffer size: 200000\n"
     ]
    },
    {
     "name": "stderr",
     "output_type": "stream",
     "text": [
      "Training DQN:  55%|█████▌    | 166/300 [15:32<12:15,  5.49s/it]"
     ]
    },
    {
     "name": "stdout",
     "output_type": "stream",
     "text": [
      "Epoch 165 | Loss: 0.9711 | Times - RW: 3.36s, Train: 2.02s | Buffer size: 200000\n"
     ]
    },
    {
     "name": "stderr",
     "output_type": "stream",
     "text": [
      "Training DQN:  57%|█████▋    | 171/300 [16:00<11:55,  5.55s/it]"
     ]
    },
    {
     "name": "stdout",
     "output_type": "stream",
     "text": [
      "Epoch 170 | Loss: 0.9938 | Times - RW: 3.35s, Train: 2.32s | Buffer size: 200000\n"
     ]
    },
    {
     "name": "stderr",
     "output_type": "stream",
     "text": [
      "Training DQN:  59%|█████▊    | 176/300 [16:28<11:22,  5.50s/it]"
     ]
    },
    {
     "name": "stdout",
     "output_type": "stream",
     "text": [
      "Epoch 175 | Loss: 1.0149 | Times - RW: 3.34s, Train: 2.05s | Buffer size: 200000\n"
     ]
    },
    {
     "name": "stderr",
     "output_type": "stream",
     "text": [
      "Training DQN:  60%|██████    | 181/300 [16:56<11:09,  5.63s/it]"
     ]
    },
    {
     "name": "stdout",
     "output_type": "stream",
     "text": [
      "Epoch 180 | Loss: 1.0028 | Times - RW: 3.50s, Train: 2.32s | Buffer size: 200000\n"
     ]
    },
    {
     "name": "stderr",
     "output_type": "stream",
     "text": [
      "Training DQN:  62%|██████▏   | 186/300 [17:23<10:33,  5.56s/it]"
     ]
    },
    {
     "name": "stdout",
     "output_type": "stream",
     "text": [
      "Epoch 185 | Loss: 1.0089 | Times - RW: 3.39s, Train: 2.04s | Buffer size: 200000\n"
     ]
    },
    {
     "name": "stderr",
     "output_type": "stream",
     "text": [
      "Training DQN:  64%|██████▎   | 191/300 [17:51<10:11,  5.61s/it]"
     ]
    },
    {
     "name": "stdout",
     "output_type": "stream",
     "text": [
      "Epoch 190 | Loss: 1.0306 | Times - RW: 3.39s, Train: 2.33s | Buffer size: 200000\n"
     ]
    },
    {
     "name": "stderr",
     "output_type": "stream",
     "text": [
      "Training DQN:  65%|██████▌   | 196/300 [18:19<09:38,  5.56s/it]"
     ]
    },
    {
     "name": "stdout",
     "output_type": "stream",
     "text": [
      "Epoch 195 | Loss: 1.0282 | Times - RW: 3.40s, Train: 2.06s | Buffer size: 200000\n"
     ]
    },
    {
     "name": "stderr",
     "output_type": "stream",
     "text": [
      "Training DQN:  67%|██████▋   | 201/300 [18:47<09:15,  5.61s/it]"
     ]
    },
    {
     "name": "stdout",
     "output_type": "stream",
     "text": [
      "Epoch 200 | Loss: 1.0345 | Times - RW: 3.42s, Train: 2.35s | Buffer size: 200000\n"
     ]
    },
    {
     "name": "stderr",
     "output_type": "stream",
     "text": [
      "Training DQN:  69%|██████▊   | 206/300 [19:16<08:50,  5.64s/it]"
     ]
    },
    {
     "name": "stdout",
     "output_type": "stream",
     "text": [
      "Epoch 205 | Loss: 1.0273 | Times - RW: 3.44s, Train: 2.06s | Buffer size: 200000\n"
     ]
    },
    {
     "name": "stderr",
     "output_type": "stream",
     "text": [
      "Training DQN:  70%|███████   | 211/300 [19:44<08:21,  5.64s/it]"
     ]
    },
    {
     "name": "stdout",
     "output_type": "stream",
     "text": [
      "Epoch 210 | Loss: 1.0564 | Times - RW: 3.44s, Train: 2.35s | Buffer size: 200000\n"
     ]
    },
    {
     "name": "stderr",
     "output_type": "stream",
     "text": [
      "Training DQN:  72%|███████▏  | 216/300 [20:12<07:48,  5.58s/it]"
     ]
    },
    {
     "name": "stdout",
     "output_type": "stream",
     "text": [
      "Epoch 215 | Loss: 1.0765 | Times - RW: 3.39s, Train: 2.02s | Buffer size: 200000\n"
     ]
    },
    {
     "name": "stderr",
     "output_type": "stream",
     "text": [
      "Training DQN:  74%|███████▎  | 221/300 [20:39<07:19,  5.56s/it]"
     ]
    },
    {
     "name": "stdout",
     "output_type": "stream",
     "text": [
      "Epoch 220 | Loss: 1.0650 | Times - RW: 3.33s, Train: 2.26s | Buffer size: 200000\n"
     ]
    },
    {
     "name": "stderr",
     "output_type": "stream",
     "text": [
      "Training DQN:  75%|███████▌  | 226/300 [21:07<06:51,  5.56s/it]"
     ]
    },
    {
     "name": "stdout",
     "output_type": "stream",
     "text": [
      "Epoch 225 | Loss: 1.0609 | Times - RW: 3.41s, Train: 2.04s | Buffer size: 200000\n"
     ]
    },
    {
     "name": "stderr",
     "output_type": "stream",
     "text": [
      "Training DQN:  77%|███████▋  | 231/300 [21:35<06:18,  5.49s/it]"
     ]
    },
    {
     "name": "stdout",
     "output_type": "stream",
     "text": [
      "Epoch 230 | Loss: 1.0877 | Times - RW: 3.35s, Train: 2.07s | Buffer size: 200000\n"
     ]
    },
    {
     "name": "stderr",
     "output_type": "stream",
     "text": [
      "Training DQN:  79%|███████▊  | 236/300 [22:03<05:57,  5.59s/it]"
     ]
    },
    {
     "name": "stdout",
     "output_type": "stream",
     "text": [
      "Epoch 235 | Loss: 1.0970 | Times - RW: 3.40s, Train: 2.37s | Buffer size: 200000\n"
     ]
    },
    {
     "name": "stderr",
     "output_type": "stream",
     "text": [
      "Training DQN:  80%|████████  | 241/300 [22:30<05:28,  5.56s/it]"
     ]
    },
    {
     "name": "stdout",
     "output_type": "stream",
     "text": [
      "Epoch 240 | Loss: 1.1153 | Times - RW: 3.39s, Train: 2.02s | Buffer size: 200000\n"
     ]
    },
    {
     "name": "stderr",
     "output_type": "stream",
     "text": [
      "Training DQN:  82%|████████▏ | 246/300 [22:58<05:00,  5.56s/it]"
     ]
    },
    {
     "name": "stdout",
     "output_type": "stream",
     "text": [
      "Epoch 245 | Loss: 1.1046 | Times - RW: 3.31s, Train: 2.31s | Buffer size: 200000\n"
     ]
    },
    {
     "name": "stderr",
     "output_type": "stream",
     "text": [
      "Training DQN:  84%|████████▎ | 251/300 [23:26<04:30,  5.51s/it]"
     ]
    },
    {
     "name": "stdout",
     "output_type": "stream",
     "text": [
      "Epoch 250 | Loss: 1.1149 | Times - RW: 3.35s, Train: 2.08s | Buffer size: 200000\n"
     ]
    },
    {
     "name": "stderr",
     "output_type": "stream",
     "text": [
      "Training DQN:  85%|████████▌ | 256/300 [23:54<04:06,  5.60s/it]"
     ]
    },
    {
     "name": "stdout",
     "output_type": "stream",
     "text": [
      "Epoch 255 | Loss: 1.1433 | Times - RW: 3.39s, Train: 2.28s | Buffer size: 200000\n"
     ]
    },
    {
     "name": "stderr",
     "output_type": "stream",
     "text": [
      "Training DQN:  87%|████████▋ | 261/300 [24:22<03:36,  5.55s/it]"
     ]
    },
    {
     "name": "stdout",
     "output_type": "stream",
     "text": [
      "Epoch 260 | Loss: 1.1364 | Times - RW: 3.40s, Train: 2.09s | Buffer size: 200000\n"
     ]
    },
    {
     "name": "stderr",
     "output_type": "stream",
     "text": [
      "Training DQN:  89%|████████▊ | 266/300 [24:50<03:10,  5.61s/it]"
     ]
    },
    {
     "name": "stdout",
     "output_type": "stream",
     "text": [
      "Epoch 265 | Loss: 1.1549 | Times - RW: 3.39s, Train: 2.31s | Buffer size: 200000\n"
     ]
    },
    {
     "name": "stderr",
     "output_type": "stream",
     "text": [
      "Training DQN:  90%|█████████ | 271/300 [25:17<02:39,  5.52s/it]"
     ]
    },
    {
     "name": "stdout",
     "output_type": "stream",
     "text": [
      "Epoch 270 | Loss: 1.1722 | Times - RW: 3.31s, Train: 1.98s | Buffer size: 200000\n"
     ]
    },
    {
     "name": "stderr",
     "output_type": "stream",
     "text": [
      "Training DQN:  92%|█████████▏| 276/300 [25:45<02:14,  5.62s/it]"
     ]
    },
    {
     "name": "stdout",
     "output_type": "stream",
     "text": [
      "Epoch 275 | Loss: 1.1942 | Times - RW: 3.42s, Train: 2.37s | Buffer size: 200000\n"
     ]
    },
    {
     "name": "stderr",
     "output_type": "stream",
     "text": [
      "Training DQN:  94%|█████████▎| 281/300 [26:13<01:44,  5.48s/it]"
     ]
    },
    {
     "name": "stdout",
     "output_type": "stream",
     "text": [
      "Epoch 280 | Loss: 1.1820 | Times - RW: 3.32s, Train: 2.00s | Buffer size: 200000\n"
     ]
    },
    {
     "name": "stderr",
     "output_type": "stream",
     "text": [
      "Training DQN:  95%|█████████▌| 286/300 [26:40<01:17,  5.54s/it]"
     ]
    },
    {
     "name": "stdout",
     "output_type": "stream",
     "text": [
      "Epoch 285 | Loss: 1.2033 | Times - RW: 3.38s, Train: 2.38s | Buffer size: 200000\n"
     ]
    },
    {
     "name": "stderr",
     "output_type": "stream",
     "text": [
      "Training DQN:  97%|█████████▋| 291/300 [27:08<00:49,  5.48s/it]"
     ]
    },
    {
     "name": "stdout",
     "output_type": "stream",
     "text": [
      "Epoch 290 | Loss: 1.2052 | Times - RW: 3.31s, Train: 1.99s | Buffer size: 200000\n"
     ]
    },
    {
     "name": "stderr",
     "output_type": "stream",
     "text": [
      "Training DQN:  99%|█████████▊| 296/300 [27:36<00:22,  5.64s/it]"
     ]
    },
    {
     "name": "stdout",
     "output_type": "stream",
     "text": [
      "Epoch 295 | Loss: 1.2379 | Times - RW: 3.41s, Train: 2.39s | Buffer size: 200000\n"
     ]
    },
    {
     "name": "stderr",
     "output_type": "stream",
     "text": [
      "Training DQN: 100%|██████████| 300/300 [27:59<00:00,  5.60s/it]\n"
     ]
    },
    {
     "name": "stdout",
     "output_type": "stream",
     "text": [
      "Training finished in 1679.2s\n",
      "i_position_X_in_list_generators: 2\n",
      "Step: 1 Beam (not cumulative) min: 36.14 median: 36.56 max: 37.56\n",
      "Time: 0.0 t_moves  0.000, t_hash  0.000, t_isin 0.001, t_unique_els  0.002, t_full_step 0.010\n",
      "Step: 11 Beam (not cumulative) min: 35.14 median: 35.28 max: 35.42\n",
      "Time: 0.0 t_moves  0.001, t_hash  0.000, t_isin 0.001, t_unique_els  0.000, t_full_step 1747165147.164\n",
      "Step: 21 Beam (not cumulative) min: 34.15 median: 34.66 max: 35.17\n",
      "Step: 31 Beam (not cumulative) min: 35.05 median: 35.51 max: 35.97\n",
      "Time: 0.0 t_moves  0.000, t_hash  0.000, t_isin 0.000, t_unique_els  0.001, t_full_step 0.002\n",
      "Step: 41 Beam (not cumulative) min: 34.07 median: 34.52 max: 34.96\n",
      "Time: 0.0 t_moves  0.000, t_hash  0.001, t_isin 0.000, t_unique_els  0.000, t_full_step 1747165147.217\n",
      "Step: 51 Beam (not cumulative) min: 33.34 median: 33.77 max: 34.19\n",
      "Step: 61 Beam (not cumulative) min: 0.00 median: 0.00 max: 0.00\n",
      "Time: 0.0 t_moves  0.000, t_hash  0.000, t_isin 0.001, t_unique_els  0.000, t_full_step 0.001\n",
      "Step: 71 Beam (not cumulative) min: 33.73 median: 33.93 max: 34.12\n",
      "Time: 0.0 t_moves  0.000, t_hash  0.000, t_isin 0.001, t_unique_els  0.001, t_full_step 1747165147.282\n",
      "Step: 81 Beam (not cumulative) min: 33.55 median: 33.69 max: 33.83\n",
      "Step: 91 Beam (not cumulative) min: 32.98 median: 33.60 max: 34.22\n",
      "Time: 0.0 t_moves  0.000, t_hash  0.000, t_isin 0.001, t_unique_els  0.001, t_full_step 0.004\n",
      "Step: 101 Beam (not cumulative) min: 33.33 median: 34.26 max: 35.19\n",
      "Time: 0.0 t_moves  0.000, t_hash  0.000, t_isin 0.000, t_unique_els  0.001, t_full_step 1747165147.386\n",
      "Step: 111 Beam (not cumulative) min: 34.70 median: 34.76 max: 34.81\n",
      "Step: 121 Beam (not cumulative) min: 33.50 median: 33.98 max: 34.46\n",
      "Time: 0.0 t_moves  0.000, t_hash  0.000, t_isin 0.000, t_unique_els  0.001, t_full_step 0.002\n",
      "Step: 131 Beam (not cumulative) min: 33.75 median: 34.28 max: 34.81\n",
      "Time: 0.0 t_moves  0.000, t_hash  0.000, t_isin 0.000, t_unique_els  0.001, t_full_step 1747165147.440\n",
      "Step: 141 Beam (not cumulative) min: 33.90 median: 34.22 max: 34.55\n",
      "Step: 151 Beam (not cumulative) min: 33.80 median: 34.06 max: 34.33\n",
      "Time: 0.0 t_moves  0.000, t_hash  0.000, t_isin 0.001, t_unique_els  0.001, t_full_step 0.002\n",
      "Step: 161 Beam (not cumulative) min: 33.01 median: 33.76 max: 34.52\n",
      "Time: 0.0 t_moves  0.000, t_hash  0.000, t_isin 0.001, t_unique_els  0.000, t_full_step 1747165147.495\n",
      "Step: 171 Beam (not cumulative) min: 33.72 median: 34.55 max: 35.38\n",
      "Step: 181 Beam (not cumulative) min: 33.88 median: 34.61 max: 35.33\n",
      "Time: 0.0 t_moves  0.000, t_hash  0.000, t_isin 0.001, t_unique_els  0.001, t_full_step 0.002\n",
      "Step: 191 Beam (not cumulative) min: 33.17 median: 34.84 max: 36.50\n",
      "Time: 0.0 t_moves  0.000, t_hash  0.000, t_isin 0.000, t_unique_els  0.001, t_full_step 1747165147.547\n",
      "Step: 201 Beam (not cumulative) min: 36.31 median: 36.73 max: 37.15\n",
      "Step: 211 Beam (not cumulative) min: 32.68 median: 33.77 max: 34.87\n",
      "Time: 0.0 t_moves  0.000, t_hash  0.000, t_isin 0.000, t_unique_els  0.001, t_full_step 0.002\n",
      "Step: 221 Beam (not cumulative) min: 33.13 median: 34.88 max: 36.64\n",
      "Time: 0.0 t_moves  0.000, t_hash  0.000, t_isin 0.001, t_unique_els  0.001, t_full_step 1747165147.601\n",
      "Step: 231 Beam (not cumulative) min: 36.22 median: 36.53 max: 36.85\n",
      "Step: 241 Beam (not cumulative) min: 32.96 median: 34.70 max: 36.44\n",
      "Time: 0.0 t_moves  0.000, t_hash  0.000, t_isin 0.000, t_unique_els  0.001, t_full_step 0.002\n",
      "Step: 251 Beam (not cumulative) min: 33.17 median: 34.63 max: 36.10\n",
      "Time: 0.0 t_moves  0.000, t_hash  0.000, t_isin 0.000, t_unique_els  0.001, t_full_step 1747165147.662\n",
      "Step: 261 Beam (not cumulative) min: 33.03 median: 33.54 max: 34.04\n",
      "Step: 271 Beam (not cumulative) min: 33.77 median: 34.80 max: 35.83\n",
      "Time: 0.0 t_moves  0.000, t_hash  0.001, t_isin 0.000, t_unique_els  0.000, t_full_step 0.002\n",
      "Step: 281 Beam (not cumulative) min: 35.57 median: 35.76 max: 35.96\n",
      "Time: 0.0 t_moves  0.000, t_hash  0.000, t_isin 0.001, t_unique_els  0.000, t_full_step 1747165147.717\n",
      "Step: 291 Beam (not cumulative) min: 33.28 median: 34.61 max: 35.94\n",
      "Step: 301 Beam (not cumulative) min: 33.20 median: 34.71 max: 36.22\n",
      "Time: 0.0 t_moves  0.000, t_hash  0.000, t_isin 0.000, t_unique_els  0.000, t_full_step 0.002\n",
      "Step: 311 Beam (not cumulative) min: 32.68 median: 33.77 max: 34.87\n",
      "Time: 0.0 t_moves  0.000, t_hash  0.000, t_isin 0.000, t_unique_els  0.000, t_full_step 1747165147.771\n",
      "Step: 321 Beam (not cumulative) min: 33.13 median: 34.88 max: 36.64\n",
      "Step: 331 Beam (not cumulative) min: 36.22 median: 36.53 max: 36.85\n",
      "Time: 0.0 t_moves  0.000, t_hash  0.000, t_isin 0.001, t_unique_els  0.000, t_full_step 0.002\n",
      "Step: 341 Beam (not cumulative) min: 32.96 median: 34.70 max: 36.44\n",
      "Time: 0.0 t_moves  0.000, t_hash  0.000, t_isin 0.000, t_unique_els  0.001, t_full_step 1747165147.824\n",
      "Step: 351 Beam (not cumulative) min: 33.17 median: 34.63 max: 36.10\n",
      "Step: 361 Beam (not cumulative) min: 33.03 median: 33.54 max: 34.04\n",
      "Time: 0.0 t_moves  0.000, t_hash  0.000, t_isin 0.000, t_unique_els  0.001, t_full_step 0.002\n",
      "Step: 371 Beam (not cumulative) min: 33.77 median: 34.80 max: 35.83\n",
      "Time: 0.0 t_moves  0.000, t_hash  0.000, t_isin 0.000, t_unique_els  0.001, t_full_step 1747165147.879\n",
      "Step: 381 Beam (not cumulative) min: 35.57 median: 35.76 max: 35.96\n",
      "Step: 391 Beam (not cumulative) min: 33.28 median: 34.61 max: 35.94\n",
      "Time: 0.0 t_moves  0.000, t_hash  0.000, t_isin 0.000, t_unique_els  0.001, t_full_step 0.002\n",
      "Step: 401 Beam (not cumulative) min: 33.20 median: 34.71 max: 36.22\n",
      "Time: 0.0 t_moves  0.000, t_hash  0.000, t_isin 0.000, t_unique_els  0.001, t_full_step 1747165147.950\n",
      "Step: 411 Beam (not cumulative) min: 32.68 median: 33.77 max: 34.87\n",
      "Step: 421 Beam (not cumulative) min: 33.13 median: 34.88 max: 36.64\n",
      "Time: 0.0 t_moves  0.000, t_hash  0.000, t_isin 0.001, t_unique_els  0.000, t_full_step 0.002\n",
      "Step: 431 Beam (not cumulative) min: 36.22 median: 36.53 max: 36.85\n",
      "Time: 0.0 t_moves  0.000, t_hash  0.000, t_isin 0.001, t_unique_els  0.000, t_full_step 1747165148.006\n",
      "Step: 441 Beam (not cumulative) min: 32.96 median: 34.70 max: 36.44\n",
      "Step: 451 Beam (not cumulative) min: 33.17 median: 34.63 max: 36.10\n",
      "Time: 0.0 t_moves  0.000, t_hash  0.000, t_isin 0.000, t_unique_els  0.001, t_full_step 0.002\n",
      "Step: 461 Beam (not cumulative) min: 33.03 median: 33.54 max: 34.04\n",
      "Time: 0.0 t_moves  0.000, t_hash  0.000, t_isin 0.000, t_unique_els  0.001, t_full_step 1747165148.063\n",
      "Step: 471 Beam (not cumulative) min: 33.77 median: 34.80 max: 35.83\n",
      "Step: 481 Beam (not cumulative) min: 35.57 median: 35.76 max: 35.96\n",
      "Time: 0.0 t_moves  0.000, t_hash  0.000, t_isin 0.001, t_unique_els  0.001, t_full_step 0.003\n",
      "Step: 491 Beam (not cumulative) min: 33.28 median: 34.61 max: 35.94\n",
      "Time: 0.0 t_moves  0.000, t_hash  0.000, t_isin 0.001, t_unique_els  0.000, t_full_step 1747165148.120\n",
      "Step: 501 Beam (not cumulative) min: 33.20 median: 34.71 max: 36.22\n",
      "Step: 511 Beam (not cumulative) min: 32.68 median: 33.77 max: 34.87\n",
      "Time: 0.0 t_moves  0.000, t_hash  0.000, t_isin 0.001, t_unique_els  0.000, t_full_step 0.002\n",
      "Step: 521 Beam (not cumulative) min: 33.13 median: 34.88 max: 36.64\n",
      "Time: 0.0 t_moves  0.000, t_hash  0.000, t_isin 0.000, t_unique_els  0.001, t_full_step 1747165148.176\n",
      "Step: 531 Beam (not cumulative) min: 36.22 median: 36.53 max: 36.85\n",
      "Step: 541 Beam (not cumulative) min: 32.96 median: 34.70 max: 36.44\n",
      "Time: 0.0 t_moves  0.000, t_hash  0.000, t_isin 0.001, t_unique_els  0.000, t_full_step 0.002\n",
      "Step: 551 Beam (not cumulative) min: 33.17 median: 34.63 max: 36.10\n",
      "Time: 0.0 t_moves  0.000, t_hash  0.000, t_isin 0.000, t_unique_els  0.001, t_full_step 1747165148.231\n",
      "Step: 561 Beam (not cumulative) min: 33.03 median: 33.54 max: 34.04\n",
      "Step: 571 Beam (not cumulative) min: 33.77 median: 34.80 max: 35.83\n",
      "Time: 0.0 t_moves  0.000, t_hash  0.000, t_isin 0.001, t_unique_els  0.000, t_full_step 0.002\n",
      "\n",
      "{'n_permutations_length': 48, 'random_walks_type': 'non-backtracking-beam', 'n_random_walk_length': 66, 'n_random_walks_to_generate': 10000, 'n_random_walks_steps_back_to_ban': 8, 'model_type': 'MLP', 'list_layers_sizes': [8192], 'n_epochs': 100, 'batch_size': 1024, 'lr': 0.001, 'n_epochs_dqn': 300, 'flag_dqn_round': False, 'n_random_walks_to_generate_dqn': 1000, 'verbose_loc': 5, 'lr_dqn': 1e-06, 'beam_search_torch': True, 'beam_search_Fironov': False, 'beam_width': 1, 'n_steps_limit': 576, 'alpha_previous_cost_accumulation': 0, 'beam_search_models_or_heuristics': 'model_torch', 'ban_p0_p1_transposition_if_p0_lt_p1_ie_already_sorted': False, 'n_beam_search_steps_back_to_ban': 32, 'solve_random_or_longest_state': 'solve_LRX_longest', 'verbose': 100}\n",
      "\n",
      "beam_width: 1\n",
      "n= 48\n",
      "n(n-1)/2= 1128\n",
      "Found Path Length: 576 flag_found_destination: False\n"
     ]
    }
   ],
   "source": [
    "summary_df = pd.DataFrame()\n",
    "\n",
    "for n_permutations_length in n_perm_list:\n",
    "    solver = PermutationSolver(config)\n",
    "    solver.config['n_permutations_length'] = n_permutations_length\n",
    "    for list_layers_size in list_layers_sizes:\n",
    "        solver.config['list_layers_sizes'] = list_layers_size\n",
    "        for lr in lr_list:\n",
    "            solver.config['lr_dqn'] = lr\n",
    "            for batch_size in batch_size_list:\n",
    "                solver.config['batch_size'] = batch_size\n",
    "                for n_epoch in n_epoch_list:\n",
    "                    solver.config['n_epochs'] = n_epoch\n",
    "                    mlp_losses = solver.train_mlp()\n",
    "                    # save mlp_model\n",
    "                    torch.save(solver.mlp_model.state_dict(), f'models/mlp_model_{n_permutations_length}_{n_epoch}_{list_layers_sizes[0]}_{lr}_{batch_size}.pth')\n",
    "                    for n_epoch_dqn in n_epoch_dqn_list:\n",
    "                        solver.config['n_epochs_dqn'] = n_epoch_dqn\n",
    "                        dqn_losses = solver.train_dqn()\n",
    "                        # save dqn_model\n",
    "                        torch.save(solver.dqn_model.state_dict(), f'models/dqn_model_{n_permutations_length}_{n_epoch_dqn}_{list_layers_sizes[0]}_{lr}_{batch_size}.pth')\n",
    "                        for beam_width in beam_width_list:\n",
    "                            solver.config['beam_width'] = beam_width\n",
    "                            i_step, flag_found_destination = solver.test_beam_search()\n",
    "                            # save summary_df\n",
    "                            summary_df = pd.concat([summary_df, pd.DataFrame({'n_permutations_length': n_permutations_length, 'list_layers_sizes': list_layers_sizes, 'lr': lr, 'n_epoch': n_epoch, 'n_epoch_dqn': n_epoch_dqn, 'beam_width': beam_width, 'i_step': i_step, 'flag_found_destination': flag_found_destination, 'mlp_losses': mlp_losses[-1], 'dqn_losses': dqn_losses[-1]})])\n",
    "                            summary_df.to_csv('models/summary_df.csv', index=False)\n"
   ]
  },
  {
   "cell_type": "code",
   "execution_count": 6,
   "metadata": {},
   "outputs": [],
   "source": [
    "solver.config['n_steps_limit'] = 10000"
   ]
  },
  {
   "cell_type": "code",
   "execution_count": 7,
   "metadata": {},
   "outputs": [
    {
     "name": "stdout",
     "output_type": "stream",
     "text": [
      "i_position_X_in_list_generators: 2\n",
      "Step: 1 Beam (not cumulative) min: 0.00 median: 0.00 max: 0.00\n",
      "Time: 0.0 t_moves  0.000, t_hash  0.000, t_isin 0.003, t_unique_els  0.001, t_full_step 0.004\n",
      "Step: 11 Beam (not cumulative) min: 0.00 median: 0.00 max: 0.00\n",
      "Time: 0.0 t_moves  0.000, t_hash  0.000, t_isin 0.002, t_unique_els  0.058, t_full_step 1747165253.029\n",
      "Step: 21 Beam (not cumulative) min: 31.30 median: 34.37 max: 38.73\n",
      "Step: 31 Beam (not cumulative) min: 31.01 median: 33.58 max: 38.98\n",
      "Time: 0.1 t_moves  0.000, t_hash  0.000, t_isin 0.002, t_unique_els  0.054, t_full_step 0.114\n",
      "Step: 41 Beam (not cumulative) min: 30.41 median: 33.18 max: 40.02\n",
      "Time: 0.0 t_moves  0.000, t_hash  0.000, t_isin 0.001, t_unique_els  0.051, t_full_step 1747165254.859\n",
      "Step: 51 Beam (not cumulative) min: 30.30 median: 32.92 max: 38.29\n",
      "Step: 61 Beam (not cumulative) min: 30.19 median: 32.89 max: 38.69\n",
      "Time: 0.1 t_moves  0.000, t_hash  0.000, t_isin 0.002, t_unique_els  0.049, t_full_step 0.105\n",
      "Step: 71 Beam (not cumulative) min: 30.15 median: 32.92 max: 38.37\n",
      "Time: 0.1 t_moves  0.000, t_hash  0.000, t_isin 0.001, t_unique_els  0.050, t_full_step 1747165256.562\n",
      "Step: 81 Beam (not cumulative) min: 30.25 median: 32.81 max: 37.95\n",
      "Step: 91 Beam (not cumulative) min: 29.87 median: 32.83 max: 37.44\n",
      "Time: 0.1 t_moves  0.000, t_hash  0.000, t_isin 0.001, t_unique_els  0.051, t_full_step 0.107\n",
      "Step: 101 Beam (not cumulative) min: 30.24 median: 32.91 max: 37.89\n",
      "Time: 0.0 t_moves  0.000, t_hash  0.000, t_isin 0.002, t_unique_els  0.050, t_full_step 1747165258.282\n",
      "Step: 111 Beam (not cumulative) min: 30.08 median: 32.97 max: 38.96\n",
      "Step: 121 Beam (not cumulative) min: 30.07 median: 32.89 max: 39.60\n",
      "Time: 0.1 t_moves  0.000, t_hash  0.000, t_isin 0.002, t_unique_els  0.051, t_full_step 0.108\n",
      "Step: 131 Beam (not cumulative) min: 29.97 median: 32.76 max: 39.46\n",
      "Time: 0.0 t_moves  0.000, t_hash  0.001, t_isin 0.001, t_unique_els  0.051, t_full_step 1747165259.993\n",
      "Step: 141 Beam (not cumulative) min: 30.00 median: 32.71 max: 40.41\n",
      "Step: 151 Beam (not cumulative) min: 29.85 median: 32.74 max: 38.91\n",
      "Time: 0.1 t_moves  0.000, t_hash  0.000, t_isin 0.002, t_unique_els  0.051, t_full_step 0.109\n",
      "Step: 161 Beam (not cumulative) min: 30.01 median: 32.73 max: 38.53\n",
      "Time: 0.0 t_moves  0.000, t_hash  0.000, t_isin 0.001, t_unique_els  0.051, t_full_step 1747165261.733\n",
      "Step: 171 Beam (not cumulative) min: 30.01 median: 32.70 max: 37.29\n",
      "Step: 181 Beam (not cumulative) min: 30.14 median: 32.72 max: 37.88\n",
      "Time: 0.1 t_moves  0.000, t_hash  0.000, t_isin 0.002, t_unique_els  0.053, t_full_step 0.109\n",
      "Step: 191 Beam (not cumulative) min: 29.72 median: 32.69 max: 38.08\n",
      "Time: 0.0 t_moves  0.000, t_hash  0.000, t_isin 0.002, t_unique_els  0.050, t_full_step 1747165263.457\n",
      "Step: 201 Beam (not cumulative) min: 29.99 median: 32.71 max: 38.09\n",
      "Step: 211 Beam (not cumulative) min: 30.04 median: 32.70 max: 38.39\n",
      "Time: 0.1 t_moves  0.000, t_hash  0.000, t_isin 0.001, t_unique_els  0.051, t_full_step 0.107\n",
      "Step: 221 Beam (not cumulative) min: 29.97 median: 32.71 max: 39.37\n",
      "Time: 0.0 t_moves  0.000, t_hash  0.000, t_isin 0.001, t_unique_els  0.051, t_full_step 1747165265.165\n",
      "Step: 231 Beam (not cumulative) min: 29.89 median: 32.65 max: 38.55\n",
      "Step: 241 Beam (not cumulative) min: 29.92 median: 32.67 max: 38.78\n",
      "Time: 0.1 t_moves  0.000, t_hash  0.000, t_isin 0.001, t_unique_els  0.052, t_full_step 0.108\n",
      "Step: 251 Beam (not cumulative) min: 29.85 median: 32.72 max: 37.95\n",
      "Time: 0.0 t_moves  0.000, t_hash  0.000, t_isin 0.001, t_unique_els  0.052, t_full_step 1747165266.896\n",
      "Step: 261 Beam (not cumulative) min: 29.57 median: 32.79 max: 39.48\n",
      "Step: 271 Beam (not cumulative) min: 30.08 median: 32.72 max: 39.33\n",
      "Time: 0.1 t_moves  0.000, t_hash  0.000, t_isin 0.002, t_unique_els  0.051, t_full_step 0.108\n",
      "Step: 281 Beam (not cumulative) min: 30.11 median: 32.63 max: 39.42\n",
      "Time: 0.0 t_moves  0.000, t_hash  0.000, t_isin 0.002, t_unique_els  0.052, t_full_step 1747165268.640\n",
      "Step: 291 Beam (not cumulative) min: 30.04 median: 32.60 max: 38.52\n",
      "Step: 301 Beam (not cumulative) min: 29.82 median: 32.61 max: 38.68\n",
      "Time: 0.1 t_moves  0.000, t_hash  0.000, t_isin 0.001, t_unique_els  0.052, t_full_step 0.109\n",
      "Step: 311 Beam (not cumulative) min: 29.75 median: 32.71 max: 39.36\n",
      "Time: 0.0 t_moves  0.000, t_hash  0.000, t_isin 0.002, t_unique_els  0.052, t_full_step 1747165270.378\n",
      "Step: 321 Beam (not cumulative) min: 29.88 median: 32.76 max: 40.05\n",
      "Step: 331 Beam (not cumulative) min: 29.66 median: 32.66 max: 38.96\n",
      "Time: 0.1 t_moves  0.000, t_hash  0.001, t_isin 0.001, t_unique_els  0.051, t_full_step 0.110\n",
      "Step: 341 Beam (not cumulative) min: 30.02 median: 32.60 max: 38.71\n",
      "Time: 0.0 t_moves  0.000, t_hash  0.000, t_isin 0.001, t_unique_els  0.052, t_full_step 1747165272.127\n",
      "Step: 351 Beam (not cumulative) min: 30.10 median: 32.59 max: 38.11\n",
      "Step: 361 Beam (not cumulative) min: 29.93 median: 32.62 max: 38.54\n",
      "Time: 0.1 t_moves  0.000, t_hash  0.000, t_isin 0.002, t_unique_els  0.051, t_full_step 0.107\n",
      "Step: 371 Beam (not cumulative) min: 30.03 median: 32.71 max: 38.71\n",
      "Time: 0.0 t_moves  0.000, t_hash  0.000, t_isin 0.002, t_unique_els  0.051, t_full_step 1747165273.864\n",
      "Step: 381 Beam (not cumulative) min: 29.91 median: 32.68 max: 38.04\n",
      "Step: 391 Beam (not cumulative) min: 29.94 median: 32.63 max: 38.68\n",
      "Time: 0.1 t_moves  0.000, t_hash  0.000, t_isin 0.002, t_unique_els  0.052, t_full_step 0.110\n",
      "Step: 401 Beam (not cumulative) min: 30.00 median: 32.62 max: 39.67\n",
      "Time: 0.0 t_moves  0.000, t_hash  0.000, t_isin 0.002, t_unique_els  0.052, t_full_step 1747165275.619\n",
      "Step: 411 Beam (not cumulative) min: 29.88 median: 32.63 max: 40.05\n",
      "Step: 421 Beam (not cumulative) min: 29.57 median: 32.68 max: 39.67\n",
      "Time: 0.1 t_moves  0.000, t_hash  0.000, t_isin 0.001, t_unique_els  0.052, t_full_step 0.109\n",
      "Step: 431 Beam (not cumulative) min: 29.57 median: 32.74 max: 39.10\n",
      "Time: 0.0 t_moves  0.000, t_hash  0.000, t_isin 0.001, t_unique_els  0.052, t_full_step 1747165277.364\n",
      "Step: 441 Beam (not cumulative) min: 29.95 median: 32.69 max: 38.68\n",
      "Step: 451 Beam (not cumulative) min: 29.79 median: 32.63 max: 39.50\n",
      "Time: 0.1 t_moves  0.000, t_hash  0.000, t_isin 0.001, t_unique_els  0.053, t_full_step 0.111\n",
      "Step: 461 Beam (not cumulative) min: 29.87 median: 32.63 max: 40.41\n",
      "Time: 0.0 t_moves  0.000, t_hash  0.000, t_isin 0.001, t_unique_els  0.053, t_full_step 1747165279.137\n",
      "Step: 471 Beam (not cumulative) min: 30.05 median: 32.62 max: 38.75\n",
      "Step: 481 Beam (not cumulative) min: 30.01 median: 32.68 max: 38.18\n",
      "Time: 0.1 t_moves  0.000, t_hash  0.000, t_isin 0.001, t_unique_els  0.052, t_full_step 0.110\n",
      "Step: 491 Beam (not cumulative) min: 29.93 median: 32.71 max: 38.69\n",
      "Time: 0.0 t_moves  0.000, t_hash  0.000, t_isin 0.001, t_unique_els  0.053, t_full_step 1747165280.892\n",
      "Step: 501 Beam (not cumulative) min: 29.91 median: 32.65 max: 39.37\n",
      "Step: 511 Beam (not cumulative) min: 29.70 median: 32.63 max: 38.88\n",
      "Time: 0.1 t_moves  0.000, t_hash  0.000, t_isin 0.001, t_unique_els  0.053, t_full_step 0.111\n",
      "Step: 521 Beam (not cumulative) min: 29.80 median: 32.65 max: 39.37\n",
      "Time: 0.0 t_moves  0.000, t_hash  0.000, t_isin 0.001, t_unique_els  0.054, t_full_step 1747165282.669\n",
      "Step: 531 Beam (not cumulative) min: 29.55 median: 32.54 max: 40.67\n",
      "Step: 541 Beam (not cumulative) min: 28.49 median: 32.21 max: 37.14\n",
      "Time: 0.1 t_moves  0.000, t_hash  0.000, t_isin 0.002, t_unique_els  0.055, t_full_step 0.115\n",
      "Step: 551 Beam (not cumulative) min: 27.81 median: 31.73 max: 37.23\n",
      "Time: 0.0 t_moves  0.000, t_hash  0.000, t_isin 0.001, t_unique_els  0.056, t_full_step 1747165284.497\n",
      "Step: 561 Beam (not cumulative) min: 27.84 median: 31.47 max: 36.34\n",
      "Step: 571 Beam (not cumulative) min: 27.81 median: 31.34 max: 36.24\n",
      "Time: 0.1 t_moves  0.000, t_hash  0.000, t_isin 0.001, t_unique_els  0.054, t_full_step 0.113\n",
      "Step: 581 Beam (not cumulative) min: 28.16 median: 31.21 max: 35.80\n",
      "Time: 0.0 t_moves  0.000, t_hash  0.000, t_isin 0.002, t_unique_els  0.055, t_full_step 1747165286.322\n",
      "Step: 591 Beam (not cumulative) min: 27.40 median: 31.04 max: 35.43\n",
      "Step: 601 Beam (not cumulative) min: 27.59 median: 30.87 max: 36.73\n",
      "Time: 0.1 t_moves  0.000, t_hash  0.001, t_isin 0.001, t_unique_els  0.055, t_full_step 0.115\n",
      "Step: 611 Beam (not cumulative) min: 27.10 median: 30.71 max: 36.26\n",
      "Time: 0.0 t_moves  0.000, t_hash  0.000, t_isin 0.002, t_unique_els  0.055, t_full_step 1747165288.158\n",
      "Step: 621 Beam (not cumulative) min: 26.76 median: 30.62 max: 36.08\n",
      "Step: 631 Beam (not cumulative) min: 27.50 median: 30.55 max: 35.02\n",
      "Time: 0.1 t_moves  0.000, t_hash  0.000, t_isin 0.001, t_unique_els  0.055, t_full_step 0.116\n",
      "Step: 641 Beam (not cumulative) min: 26.85 median: 30.50 max: 35.33\n",
      "Time: 0.0 t_moves  0.000, t_hash  0.000, t_isin 0.002, t_unique_els  0.055, t_full_step 1747165289.998\n",
      "Step: 651 Beam (not cumulative) min: 26.88 median: 30.47 max: 36.11\n",
      "Step: 661 Beam (not cumulative) min: 27.20 median: 30.43 max: 35.08\n",
      "Time: 0.1 t_moves  0.001, t_hash  0.000, t_isin 0.001, t_unique_els  0.055, t_full_step 0.117\n",
      "Step: 671 Beam (not cumulative) min: 27.43 median: 30.39 max: 34.94\n",
      "Time: 0.0 t_moves  0.001, t_hash  0.001, t_isin 0.001, t_unique_els  0.054, t_full_step 1747165291.846\n",
      "Step: 681 Beam (not cumulative) min: 27.49 median: 30.36 max: 34.65\n",
      "Step: 691 Beam (not cumulative) min: 26.93 median: 30.32 max: 34.98\n",
      "Time: 0.1 t_moves  0.000, t_hash  0.000, t_isin 0.002, t_unique_els  0.055, t_full_step 0.117\n",
      "Step: 701 Beam (not cumulative) min: 26.91 median: 30.30 max: 35.92\n",
      "Time: 0.0 t_moves  0.000, t_hash  0.000, t_isin 0.002, t_unique_els  0.055, t_full_step 1747165293.695\n",
      "Step: 711 Beam (not cumulative) min: 27.01 median: 30.29 max: 35.76\n",
      "Step: 721 Beam (not cumulative) min: 27.27 median: 30.28 max: 35.59\n",
      "Time: 0.1 t_moves  0.000, t_hash  0.000, t_isin 0.001, t_unique_els  0.054, t_full_step 0.115\n",
      "Step: 731 Beam (not cumulative) min: 27.18 median: 30.25 max: 36.01\n",
      "Time: 0.0 t_moves  0.000, t_hash  0.000, t_isin 0.001, t_unique_els  0.056, t_full_step 1747165295.533\n",
      "Step: 741 Beam (not cumulative) min: 26.44 median: 30.20 max: 36.13\n",
      "Step: 751 Beam (not cumulative) min: 26.37 median: 30.20 max: 36.77\n",
      "Time: 0.1 t_moves  0.000, t_hash  0.000, t_isin 0.002, t_unique_els  0.053, t_full_step 0.113\n",
      "Step: 761 Beam (not cumulative) min: 26.63 median: 30.22 max: 36.51\n",
      "Time: 0.0 t_moves  0.000, t_hash  0.000, t_isin 0.002, t_unique_els  0.055, t_full_step 1747165297.356\n",
      "Step: 771 Beam (not cumulative) min: 26.62 median: 30.21 max: 36.23\n",
      "Step: 781 Beam (not cumulative) min: 26.67 median: 30.24 max: 36.09\n",
      "Time: 0.1 t_moves  0.000, t_hash  0.000, t_isin 0.002, t_unique_els  0.054, t_full_step 0.113\n",
      "Step: 791 Beam (not cumulative) min: 26.24 median: 30.23 max: 36.28\n",
      "Time: 0.0 t_moves  0.000, t_hash  0.000, t_isin 0.002, t_unique_els  0.054, t_full_step 1747165299.180\n",
      "Step: 801 Beam (not cumulative) min: 26.19 median: 30.20 max: 36.56\n",
      "Step: 811 Beam (not cumulative) min: 26.33 median: 30.17 max: 36.11\n",
      "Time: 0.1 t_moves  0.000, t_hash  0.001, t_isin 0.001, t_unique_els  0.054, t_full_step 0.115\n",
      "Step: 821 Beam (not cumulative) min: 26.12 median: 30.16 max: 35.73\n",
      "Time: 0.0 t_moves  0.000, t_hash  0.001, t_isin 0.001, t_unique_els  0.054, t_full_step 1747165301.005\n",
      "Step: 831 Beam (not cumulative) min: 26.35 median: 30.20 max: 35.76\n",
      "Step: 841 Beam (not cumulative) min: 26.44 median: 30.20 max: 35.61\n",
      "Time: 0.1 t_moves  0.000, t_hash  0.000, t_isin 0.002, t_unique_els  0.055, t_full_step 0.115\n",
      "Step: 851 Beam (not cumulative) min: 26.26 median: 30.21 max: 35.85\n",
      "Time: 0.0 t_moves  0.000, t_hash  0.000, t_isin 0.001, t_unique_els  0.054, t_full_step 1747165302.836\n",
      "Step: 861 Beam (not cumulative) min: 26.28 median: 30.16 max: 35.95\n",
      "Step: 871 Beam (not cumulative) min: 26.18 median: 30.16 max: 36.10\n",
      "Time: 0.1 t_moves  0.000, t_hash  0.000, t_isin 0.001, t_unique_els  0.053, t_full_step 0.112\n",
      "Step: 881 Beam (not cumulative) min: 26.82 median: 30.16 max: 35.72\n",
      "Time: 0.0 t_moves  0.000, t_hash  0.000, t_isin 0.001, t_unique_els  0.054, t_full_step 1747165304.650\n",
      "Step: 891 Beam (not cumulative) min: 26.60 median: 30.17 max: 36.70\n",
      "Step: 901 Beam (not cumulative) min: 26.73 median: 30.16 max: 36.40\n",
      "Time: 0.1 t_moves  0.000, t_hash  0.000, t_isin 0.002, t_unique_els  0.054, t_full_step 0.114\n",
      "Step: 911 Beam (not cumulative) min: 26.42 median: 30.20 max: 36.11\n",
      "Time: 0.0 t_moves  0.000, t_hash  0.000, t_isin 0.001, t_unique_els  0.055, t_full_step 1747165306.460\n",
      "Step: 921 Beam (not cumulative) min: 26.24 median: 30.19 max: 36.18\n",
      "Step: 931 Beam (not cumulative) min: 26.32 median: 30.15 max: 35.62\n",
      "Time: 0.1 t_moves  0.000, t_hash  0.001, t_isin 0.001, t_unique_els  0.054, t_full_step 0.114\n",
      "Step: 941 Beam (not cumulative) min: 26.73 median: 30.14 max: 37.15\n",
      "Time: 0.0 t_moves  0.000, t_hash  0.000, t_isin 0.002, t_unique_els  0.055, t_full_step 1747165308.280\n",
      "Step: 951 Beam (not cumulative) min: 26.49 median: 30.14 max: 35.72\n",
      "Step: 961 Beam (not cumulative) min: 26.47 median: 30.14 max: 36.70\n",
      "Time: 0.1 t_moves  0.000, t_hash  0.000, t_isin 0.002, t_unique_els  0.055, t_full_step 0.116\n",
      "Step: 971 Beam (not cumulative) min: 26.05 median: 30.17 max: 36.51\n",
      "Time: 0.0 t_moves  0.000, t_hash  0.000, t_isin 0.002, t_unique_els  0.054, t_full_step 1747165310.105\n",
      "Step: 981 Beam (not cumulative) min: 26.50 median: 30.18 max: 36.13\n",
      "Step: 991 Beam (not cumulative) min: 26.71 median: 30.18 max: 36.44\n",
      "Time: 0.1 t_moves  0.000, t_hash  0.000, t_isin 0.001, t_unique_els  0.054, t_full_step 0.113\n",
      "Step: 1001 Beam (not cumulative) min: 26.64 median: 30.15 max: 36.10\n",
      "Time: 0.0 t_moves  0.000, t_hash  0.000, t_isin 0.001, t_unique_els  0.055, t_full_step 1747165311.916\n",
      "Step: 1011 Beam (not cumulative) min: 26.05 median: 30.14 max: 36.34\n",
      "Step: 1021 Beam (not cumulative) min: 26.20 median: 30.13 max: 36.63\n",
      "Time: 0.1 t_moves  0.000, t_hash  0.000, t_isin 0.002, t_unique_els  0.054, t_full_step 0.114\n",
      "Step: 1031 Beam (not cumulative) min: 26.69 median: 30.14 max: 35.95\n",
      "Time: 0.0 t_moves  0.000, t_hash  0.000, t_isin 0.001, t_unique_els  0.054, t_full_step 1747165313.734\n",
      "Step: 1041 Beam (not cumulative) min: 26.78 median: 30.16 max: 36.02\n",
      "Step: 1051 Beam (not cumulative) min: 26.64 median: 30.14 max: 36.55\n",
      "Time: 0.1 t_moves  0.000, t_hash  0.000, t_isin 0.001, t_unique_els  0.054, t_full_step 0.113\n",
      "Step: 1061 Beam (not cumulative) min: 26.71 median: 30.14 max: 36.20\n",
      "Time: 0.0 t_moves  0.000, t_hash  0.000, t_isin 0.002, t_unique_els  0.054, t_full_step 1747165315.534\n",
      "Step: 1071 Beam (not cumulative) min: 26.82 median: 30.14 max: 36.29\n",
      "Step: 1081 Beam (not cumulative) min: 26.53 median: 30.15 max: 36.40\n",
      "Time: 0.1 t_moves  0.000, t_hash  0.000, t_isin 0.002, t_unique_els  0.055, t_full_step 0.115\n",
      "Step: 1091 Beam (not cumulative) min: 26.05 median: 30.12 max: 36.26\n",
      "Time: 0.0 t_moves  0.000, t_hash  0.000, t_isin 0.001, t_unique_els  0.055, t_full_step 1747165317.353\n",
      "Step: 1101 Beam (not cumulative) min: 26.55 median: 30.14 max: 35.94\n",
      "Step: 1111 Beam (not cumulative) min: 26.50 median: 30.15 max: 36.46\n",
      "Time: 0.1 t_moves  0.000, t_hash  0.000, t_isin 0.002, t_unique_els  0.053, t_full_step 0.112\n",
      "Step: 1121 Beam (not cumulative) min: 26.74 median: 30.18 max: 36.13\n",
      "Time: 0.0 t_moves  0.000, t_hash  0.000, t_isin 0.002, t_unique_els  0.055, t_full_step 1747165319.167\n",
      "Step: 1131 Beam (not cumulative) min: 26.05 median: 30.15 max: 35.79\n",
      "Step: 1141 Beam (not cumulative) min: 26.59 median: 30.12 max: 35.77\n",
      "Time: 0.1 t_moves  0.000, t_hash  0.000, t_isin 0.002, t_unique_els  0.054, t_full_step 0.115\n",
      "Step: 1151 Beam (not cumulative) min: 26.24 median: 30.12 max: 35.21\n",
      "Time: 0.0 t_moves  0.000, t_hash  0.000, t_isin 0.002, t_unique_els  0.054, t_full_step 1747165320.985\n",
      "Step: 1161 Beam (not cumulative) min: 26.21 median: 30.16 max: 36.34\n",
      "Step: 1171 Beam (not cumulative) min: 26.61 median: 30.15 max: 36.17\n",
      "Time: 0.1 t_moves  0.000, t_hash  0.000, t_isin 0.002, t_unique_els  0.054, t_full_step 0.114\n",
      "Step: 1181 Beam (not cumulative) min: 26.64 median: 30.14 max: 36.21\n",
      "Time: 0.0 t_moves  0.000, t_hash  0.000, t_isin 0.002, t_unique_els  0.054, t_full_step 1747165322.800\n",
      "Step: 1191 Beam (not cumulative) min: 26.45 median: 30.11 max: 36.70\n",
      "Step: 1201 Beam (not cumulative) min: 26.38 median: 30.12 max: 36.44\n",
      "Time: 0.1 t_moves  0.001, t_hash  0.000, t_isin 0.002, t_unique_els  0.054, t_full_step 0.115\n",
      "Step: 1211 Beam (not cumulative) min: 26.44 median: 30.15 max: 36.44\n",
      "Time: 0.0 t_moves  0.000, t_hash  0.000, t_isin 0.001, t_unique_els  0.054, t_full_step 1747165324.618\n",
      "Step: 1221 Beam (not cumulative) min: 26.26 median: 30.16 max: 36.08\n",
      "Step: 1231 Beam (not cumulative) min: 26.72 median: 30.11 max: 36.34\n",
      "Time: 0.1 t_moves  0.000, t_hash  0.000, t_isin 0.001, t_unique_els  0.054, t_full_step 0.113\n",
      "Step: 1241 Beam (not cumulative) min: 26.34 median: 30.14 max: 35.97\n",
      "Time: 0.0 t_moves  0.000, t_hash  0.001, t_isin 0.001, t_unique_els  0.054, t_full_step 1747165326.428\n",
      "Step: 1251 Beam (not cumulative) min: 26.30 median: 30.15 max: 35.94\n",
      "Step: 1261 Beam (not cumulative) min: 26.16 median: 30.11 max: 35.61\n",
      "Time: 0.1 t_moves  0.000, t_hash  0.000, t_isin 0.001, t_unique_els  0.054, t_full_step 0.113\n",
      "Step: 1271 Beam (not cumulative) min: 26.72 median: 30.12 max: 35.60\n",
      "Time: 0.0 t_moves  0.000, t_hash  0.000, t_isin 0.001, t_unique_els  0.054, t_full_step 1747165328.232\n",
      "Step: 1281 Beam (not cumulative) min: 26.69 median: 30.18 max: 36.28\n",
      "Step: 1291 Beam (not cumulative) min: 26.48 median: 30.18 max: 36.54\n",
      "Time: 0.1 t_moves  0.000, t_hash  0.000, t_isin 0.001, t_unique_els  0.054, t_full_step 0.115\n",
      "Step: 1301 Beam (not cumulative) min: 26.20 median: 30.11 max: 35.71\n",
      "Time: 0.0 t_moves  0.000, t_hash  0.000, t_isin 0.002, t_unique_els  0.053, t_full_step 1747165330.041\n",
      "Step: 1311 Beam (not cumulative) min: 26.71 median: 30.13 max: 36.67\n",
      "Step: 1321 Beam (not cumulative) min: 26.63 median: 30.13 max: 36.55\n",
      "Time: 0.1 t_moves  0.000, t_hash  0.000, t_isin 0.001, t_unique_els  0.054, t_full_step 0.113\n",
      "Step: 1331 Beam (not cumulative) min: 26.43 median: 30.14 max: 35.84\n",
      "Time: 0.0 t_moves  0.000, t_hash  0.000, t_isin 0.001, t_unique_els  0.054, t_full_step 1747165331.849\n",
      "Step: 1341 Beam (not cumulative) min: 26.20 median: 30.14 max: 36.10\n",
      "Step: 1351 Beam (not cumulative) min: 26.65 median: 30.17 max: 36.70\n",
      "Time: 0.1 t_moves  0.000, t_hash  0.000, t_isin 0.001, t_unique_els  0.054, t_full_step 0.113\n",
      "Step: 1361 Beam (not cumulative) min: 26.58 median: 30.13 max: 36.25\n",
      "Time: 0.0 t_moves  0.000, t_hash  0.000, t_isin 0.002, t_unique_els  0.055, t_full_step 1747165333.664\n",
      "Step: 1371 Beam (not cumulative) min: 26.48 median: 30.13 max: 35.35\n",
      "Step: 1381 Beam (not cumulative) min: 26.13 median: 30.15 max: 35.95\n",
      "Time: 0.1 t_moves  0.000, t_hash  0.000, t_isin 0.001, t_unique_els  0.054, t_full_step 0.114\n",
      "Step: 1391 Beam (not cumulative) min: 26.48 median: 30.14 max: 35.79\n",
      "Time: 0.0 t_moves  0.000, t_hash  0.000, t_isin 0.002, t_unique_els  0.054, t_full_step 1747165335.476\n",
      "Step: 1401 Beam (not cumulative) min: 26.68 median: 30.14 max: 36.55\n",
      "Step: 1411 Beam (not cumulative) min: 26.62 median: 30.10 max: 36.54\n",
      "Time: 0.1 t_moves  0.000, t_hash  0.000, t_isin 0.001, t_unique_els  0.054, t_full_step 0.113\n",
      "Step: 1421 Beam (not cumulative) min: 26.44 median: 30.16 max: 35.86\n",
      "Time: 0.0 t_moves  0.000, t_hash  0.000, t_isin 0.001, t_unique_els  0.054, t_full_step 1747165337.285\n",
      "Step: 1431 Beam (not cumulative) min: 26.26 median: 30.15 max: 36.11\n",
      "Step: 1441 Beam (not cumulative) min: 26.45 median: 30.13 max: 36.55\n",
      "Time: 0.1 t_moves  0.000, t_hash  0.000, t_isin 0.002, t_unique_els  0.054, t_full_step 0.114\n",
      "Step: 1451 Beam (not cumulative) min: 26.62 median: 30.11 max: 36.56\n",
      "Time: 0.0 t_moves  0.000, t_hash  0.000, t_isin 0.002, t_unique_els  0.054, t_full_step 1747165339.094\n",
      "Step: 1461 Beam (not cumulative) min: 26.44 median: 30.15 max: 35.79\n",
      "Step: 1471 Beam (not cumulative) min: 26.26 median: 30.13 max: 35.74\n",
      "Time: 0.1 t_moves  0.000, t_hash  0.000, t_isin 0.002, t_unique_els  0.054, t_full_step 0.114\n",
      "Step: 1481 Beam (not cumulative) min: 26.85 median: 30.13 max: 36.40\n",
      "Time: 0.0 t_moves  0.000, t_hash  0.000, t_isin 0.002, t_unique_els  0.054, t_full_step 1747165340.910\n",
      "Step: 1491 Beam (not cumulative) min: 26.63 median: 30.13 max: 36.17\n",
      "Step: 1501 Beam (not cumulative) min: 26.62 median: 30.12 max: 36.18\n",
      "Time: 0.1 t_moves  0.000, t_hash  0.000, t_isin 0.001, t_unique_els  0.054, t_full_step 0.113\n",
      "Step: 1511 Beam (not cumulative) min: 26.16 median: 30.13 max: 35.95\n",
      "Time: 0.0 t_moves  0.000, t_hash  0.001, t_isin 0.001, t_unique_els  0.053, t_full_step 1747165342.722\n",
      "Step: 1521 Beam (not cumulative) min: 26.64 median: 30.16 max: 35.81\n",
      "Step: 1531 Beam (not cumulative) min: 26.74 median: 30.14 max: 36.28\n",
      "Time: 0.1 t_moves  0.000, t_hash  0.000, t_isin 0.002, t_unique_els  0.053, t_full_step 0.113\n",
      "Step: 1541 Beam (not cumulative) min: 26.53 median: 30.13 max: 37.16\n",
      "Time: 0.0 t_moves  0.000, t_hash  0.000, t_isin 0.001, t_unique_els  0.054, t_full_step 1747165344.523\n",
      "Step: 1551 Beam (not cumulative) min: 26.44 median: 30.15 max: 35.72\n",
      "Step: 1561 Beam (not cumulative) min: 26.26 median: 30.12 max: 35.37\n",
      "Time: 0.1 t_moves  0.000, t_hash  0.000, t_isin 0.002, t_unique_els  0.054, t_full_step 0.113\n",
      "Step: 1571 Beam (not cumulative) min: 26.86 median: 30.14 max: 35.72\n",
      "Time: 0.0 t_moves  0.000, t_hash  0.000, t_isin 0.001, t_unique_els  0.054, t_full_step 1747165346.330\n",
      "Step: 1581 Beam (not cumulative) min: 26.71 median: 30.11 max: 36.17\n",
      "Step: 1591 Beam (not cumulative) min: 26.24 median: 30.13 max: 36.07\n",
      "Time: 0.1 t_moves  0.000, t_hash  0.000, t_isin 0.001, t_unique_els  0.053, t_full_step 0.113\n",
      "Step: 1601 Beam (not cumulative) min: 26.21 median: 30.13 max: 35.94\n",
      "Time: 0.0 t_moves  0.000, t_hash  0.000, t_isin 0.002, t_unique_els  0.050, t_full_step 1747165348.151\n",
      "Step: 1611 Beam (not cumulative) min: 26.73 median: 30.15 max: 35.74\n",
      "Step: 1621 Beam (not cumulative) min: 26.30 median: 30.12 max: 35.80\n",
      "Time: 0.1 t_moves  0.000, t_hash  0.000, t_isin 0.001, t_unique_els  0.054, t_full_step 0.116\n",
      "Step: 1631 Beam (not cumulative) min: 26.53 median: 30.13 max: 35.48\n",
      "Time: 0.0 t_moves  0.000, t_hash  0.000, t_isin 0.001, t_unique_els  0.055, t_full_step 1747165349.962\n",
      "Step: 1641 Beam (not cumulative) min: 26.05 median: 30.14 max: 35.95\n",
      "Step: 1651 Beam (not cumulative) min: 26.55 median: 30.14 max: 36.21\n",
      "Time: 0.1 t_moves  0.000, t_hash  0.000, t_isin 0.002, t_unique_els  0.053, t_full_step 0.113\n",
      "Step: 1661 Beam (not cumulative) min: 26.68 median: 30.14 max: 35.77\n",
      "Time: 0.0 t_moves  0.000, t_hash  0.000, t_isin 0.001, t_unique_els  0.054, t_full_step 1747165351.772\n",
      "Step: 1671 Beam (not cumulative) min: 26.49 median: 30.10 max: 36.55\n",
      "Step: 1681 Beam (not cumulative) min: 26.24 median: 30.16 max: 35.40\n",
      "Time: 0.1 t_moves  0.000, t_hash  0.000, t_isin 0.001, t_unique_els  0.054, t_full_step 0.113\n",
      "Step: 1691 Beam (not cumulative) min: 26.05 median: 30.14 max: 35.51\n",
      "Time: 0.0 t_moves  0.000, t_hash  0.000, t_isin 0.002, t_unique_els  0.054, t_full_step 1747165353.578\n",
      "Step: 1701 Beam (not cumulative) min: 26.42 median: 30.16 max: 36.44\n",
      "Step: 1711 Beam (not cumulative) min: 26.30 median: 30.10 max: 36.01\n",
      "Time: 0.1 t_moves  0.000, t_hash  0.000, t_isin 0.002, t_unique_els  0.054, t_full_step 0.113\n",
      "Step: 1721 Beam (not cumulative) min: 26.48 median: 30.12 max: 35.46\n",
      "Time: 0.0 t_moves  0.000, t_hash  0.000, t_isin 0.001, t_unique_els  0.053, t_full_step 1747165355.380\n",
      "Step: 1731 Beam (not cumulative) min: 26.38 median: 30.15 max: 36.11\n",
      "Step: 1741 Beam (not cumulative) min: 26.26 median: 30.10 max: 35.50\n",
      "Time: 0.1 t_moves  0.000, t_hash  0.000, t_isin 0.002, t_unique_els  0.054, t_full_step 0.114\n",
      "Step: 1751 Beam (not cumulative) min: 26.42 median: 30.11 max: 36.56\n",
      "Time: 0.0 t_moves  0.000, t_hash  0.000, t_isin 0.001, t_unique_els  0.054, t_full_step 1747165357.191\n",
      "Step: 1761 Beam (not cumulative) min: 26.47 median: 30.09 max: 35.61\n",
      "Step: 1771 Beam (not cumulative) min: 26.53 median: 30.15 max: 36.47\n",
      "Time: 0.1 t_moves  0.000, t_hash  0.000, t_isin 0.001, t_unique_els  0.054, t_full_step 0.113\n",
      "Step: 1781 Beam (not cumulative) min: 26.65 median: 30.13 max: 35.79\n",
      "Time: 0.0 t_moves  0.000, t_hash  0.000, t_isin 0.002, t_unique_els  0.055, t_full_step 1747165358.999\n",
      "Step: 1791 Beam (not cumulative) min: 26.65 median: 30.12 max: 36.20\n",
      "Step: 1801 Beam (not cumulative) min: 26.61 median: 30.11 max: 36.56\n",
      "Time: 0.1 t_moves  0.000, t_hash  0.000, t_isin 0.002, t_unique_els  0.054, t_full_step 0.114\n",
      "Step: 1811 Beam (not cumulative) min: 26.51 median: 30.12 max: 35.99\n",
      "Time: 0.0 t_moves  0.000, t_hash  0.000, t_isin 0.002, t_unique_els  0.054, t_full_step 1747165360.809\n",
      "Step: 1821 Beam (not cumulative) min: 26.34 median: 30.14 max: 36.21\n",
      "Step: 1831 Beam (not cumulative) min: 26.43 median: 30.16 max: 35.71\n",
      "Time: 0.1 t_moves  0.000, t_hash  0.000, t_isin 0.001, t_unique_els  0.053, t_full_step 0.114\n",
      "Step: 1841 Beam (not cumulative) min: 26.16 median: 30.10 max: 36.34\n",
      "Time: 0.0 t_moves  0.000, t_hash  0.000, t_isin 0.002, t_unique_els  0.057, t_full_step 1747165362.622\n",
      "Step: 1851 Beam (not cumulative) min: 26.24 median: 30.13 max: 36.04\n",
      "Step: 1861 Beam (not cumulative) min: 26.21 median: 30.15 max: 35.84\n",
      "Time: 0.1 t_moves  0.000, t_hash  0.000, t_isin 0.001, t_unique_els  0.054, t_full_step 0.113\n",
      "Step: 1871 Beam (not cumulative) min: 26.44 median: 30.15 max: 36.51\n",
      "Time: 0.0 t_moves  0.001, t_hash  0.000, t_isin 0.001, t_unique_els  0.054, t_full_step 1747165364.432\n",
      "Step: 1881 Beam (not cumulative) min: 26.26 median: 30.11 max: 35.77\n",
      "Step: 1891 Beam (not cumulative) min: 26.68 median: 30.08 max: 36.55\n",
      "Time: 0.1 t_moves  0.000, t_hash  0.000, t_isin 0.001, t_unique_els  0.054, t_full_step 0.112\n",
      "Step: 1901 Beam (not cumulative) min: 26.38 median: 30.12 max: 36.56\n",
      "Time: 0.0 t_moves  0.000, t_hash  0.000, t_isin 0.001, t_unique_els  0.054, t_full_step 1747165366.229\n",
      "Step: 1911 Beam (not cumulative) min: 26.66 median: 30.15 max: 35.84\n",
      "Step: 1921 Beam (not cumulative) min: 26.64 median: 30.16 max: 35.43\n",
      "Time: 0.1 t_moves  0.000, t_hash  0.000, t_isin 0.001, t_unique_els  0.055, t_full_step 0.114\n",
      "Step: 1931 Beam (not cumulative) min: 26.42 median: 30.11 max: 36.55\n",
      "Time: 0.0 t_moves  0.000, t_hash  0.000, t_isin 0.002, t_unique_els  0.054, t_full_step 1747165368.040\n",
      "Step: 1941 Beam (not cumulative) min: 26.56 median: 30.09 max: 35.73\n",
      "Step: 1951 Beam (not cumulative) min: 26.05 median: 30.10 max: 35.69\n",
      "Time: 0.1 t_moves  0.000, t_hash  0.000, t_isin 0.002, t_unique_els  0.054, t_full_step 0.113\n",
      "Step: 1961 Beam (not cumulative) min: 26.35 median: 30.18 max: 36.26\n",
      "Time: 0.0 t_moves  0.000, t_hash  0.000, t_isin 0.001, t_unique_els  0.053, t_full_step 1747165369.843\n",
      "Step: 1971 Beam (not cumulative) min: 26.60 median: 30.17 max: 37.15\n",
      "Step: 1981 Beam (not cumulative) min: 26.52 median: 30.08 max: 36.34\n",
      "Time: 0.1 t_moves  0.000, t_hash  0.000, t_isin 0.002, t_unique_els  0.054, t_full_step 0.114\n",
      "Step: 1991 Beam (not cumulative) min: 26.88 median: 30.10 max: 35.80\n",
      "Time: 0.0 t_moves  0.000, t_hash  0.000, t_isin 0.001, t_unique_els  0.054, t_full_step 1747165371.658\n",
      "Step: 2001 Beam (not cumulative) min: 26.65 median: 30.13 max: 35.51\n",
      "Step: 2011 Beam (not cumulative) min: 26.13 median: 30.13 max: 37.15\n",
      "Time: 0.1 t_moves  0.000, t_hash  0.000, t_isin 0.001, t_unique_els  0.053, t_full_step 0.116\n",
      "Step: 2021 Beam (not cumulative) min: 26.48 median: 30.13 max: 35.91\n",
      "Time: 0.0 t_moves  0.000, t_hash  0.000, t_isin 0.001, t_unique_els  0.053, t_full_step 1747165373.458\n",
      "Step: 2031 Beam (not cumulative) min: 26.64 median: 30.12 max: 36.19\n",
      "Step: 2041 Beam (not cumulative) min: 26.74 median: 30.16 max: 36.34\n",
      "Time: 0.1 t_moves  0.000, t_hash  0.000, t_isin 0.001, t_unique_els  0.054, t_full_step 0.113\n",
      "Step: 2051 Beam (not cumulative) min: 26.13 median: 30.16 max: 35.60\n",
      "Time: 0.0 t_moves  0.001, t_hash  0.000, t_isin 0.001, t_unique_els  0.055, t_full_step 1747165375.270\n",
      "Step: 2061 Beam (not cumulative) min: 26.24 median: 30.11 max: 35.79\n",
      "Step: 2071 Beam (not cumulative) min: 26.19 median: 30.08 max: 37.49\n",
      "Time: 0.1 t_moves  0.000, t_hash  0.000, t_isin 0.001, t_unique_els  0.053, t_full_step 0.113\n",
      "Step: 2081 Beam (not cumulative) min: 26.65 median: 30.11 max: 35.64\n",
      "Time: 0.0 t_moves  0.000, t_hash  0.000, t_isin 0.002, t_unique_els  0.053, t_full_step 1747165377.074\n",
      "Step: 2091 Beam (not cumulative) min: 26.35 median: 30.17 max: 36.28\n",
      "Step: 2101 Beam (not cumulative) min: 26.45 median: 30.12 max: 35.74\n",
      "Time: 0.1 t_moves  0.000, t_hash  0.000, t_isin 0.001, t_unique_els  0.054, t_full_step 0.114\n",
      "Step: 2111 Beam (not cumulative) min: 26.50 median: 30.11 max: 36.34\n",
      "Time: 0.0 t_moves  0.000, t_hash  0.000, t_isin 0.001, t_unique_els  0.054, t_full_step 1747165378.889\n",
      "Step: 2121 Beam (not cumulative) min: 26.35 median: 30.11 max: 35.32\n",
      "Step: 2131 Beam (not cumulative) min: 26.44 median: 30.15 max: 36.51\n",
      "Time: 0.1 t_moves  0.000, t_hash  0.000, t_isin 0.001, t_unique_els  0.054, t_full_step 0.114\n",
      "Step: 2141 Beam (not cumulative) min: 26.48 median: 30.13 max: 35.95\n",
      "Time: 0.0 t_moves  0.000, t_hash  0.000, t_isin 0.001, t_unique_els  0.055, t_full_step 1747165380.706\n",
      "Step: 2151 Beam (not cumulative) min: 26.53 median: 30.09 max: 36.20\n",
      "Step: 2161 Beam (not cumulative) min: 26.05 median: 30.13 max: 35.91\n",
      "Time: 0.1 t_moves  0.000, t_hash  0.000, t_isin 0.001, t_unique_els  0.054, t_full_step 0.113\n",
      "Step: 2171 Beam (not cumulative) min: 26.35 median: 30.15 max: 35.74\n",
      "Time: 0.0 t_moves  0.000, t_hash  0.000, t_isin 0.001, t_unique_els  0.054, t_full_step 1747165382.517\n",
      "Step: 2181 Beam (not cumulative) min: 26.56 median: 30.15 max: 35.95\n",
      "Step: 2191 Beam (not cumulative) min: 26.49 median: 30.08 max: 36.08\n",
      "Time: 0.1 t_moves  0.000, t_hash  0.000, t_isin 0.002, t_unique_els  0.054, t_full_step 0.113\n",
      "Step: 2201 Beam (not cumulative) min: 26.56 median: 30.08 max: 37.15\n",
      "Time: 0.0 t_moves  0.000, t_hash  0.000, t_isin 0.002, t_unique_els  0.053, t_full_step 1747165384.325\n",
      "Step: 2211 Beam (not cumulative) min: 26.05 median: 30.15 max: 35.52\n",
      "Step: 2221 Beam (not cumulative) min: 26.68 median: 30.15 max: 36.19\n",
      "Time: 0.1 t_moves  0.000, t_hash  0.000, t_isin 0.002, t_unique_els  0.054, t_full_step 0.113\n",
      "Step: 2231 Beam (not cumulative) min: 26.55 median: 30.13 max: 35.56\n",
      "Time: 0.0 t_moves  0.000, t_hash  0.001, t_isin 0.001, t_unique_els  0.053, t_full_step 1747165386.127\n",
      "Step: 2241 Beam (not cumulative) min: 26.30 median: 30.13 max: 37.03\n",
      "Step: 2251 Beam (not cumulative) min: 26.81 median: 30.14 max: 35.49\n",
      "Time: 0.1 t_moves  0.000, t_hash  0.001, t_isin 0.002, t_unique_els  0.054, t_full_step 0.114\n",
      "Step: 2261 Beam (not cumulative) min: 26.38 median: 30.14 max: 35.85\n",
      "Time: 0.0 t_moves  0.000, t_hash  0.000, t_isin 0.001, t_unique_els  0.054, t_full_step 1747165387.939\n",
      "Step: 2271 Beam (not cumulative) min: 26.74 median: 30.10 max: 36.44\n",
      "Step: 2281 Beam (not cumulative) min: 26.47 median: 30.09 max: 35.74\n",
      "Time: 0.1 t_moves  0.000, t_hash  0.000, t_isin 0.002, t_unique_els  0.054, t_full_step 0.113\n",
      "Step: 2291 Beam (not cumulative) min: 26.65 median: 30.12 max: 37.03\n",
      "Time: 0.0 t_moves  0.000, t_hash  0.000, t_isin 0.001, t_unique_els  0.053, t_full_step 1747165389.744\n",
      "Step: 2301 Beam (not cumulative) min: 26.42 median: 30.13 max: 36.19\n",
      "Step: 2311 Beam (not cumulative) min: 26.58 median: 30.14 max: 36.63\n",
      "Time: 0.1 t_moves  0.000, t_hash  0.000, t_isin 0.001, t_unique_els  0.055, t_full_step 0.114\n",
      "Step: 2321 Beam (not cumulative) min: 26.53 median: 30.08 max: 36.44\n",
      "Time: 0.0 t_moves  0.000, t_hash  0.000, t_isin 0.001, t_unique_els  0.053, t_full_step 1747165391.555\n",
      "Step: 2331 Beam (not cumulative) min: 26.34 median: 30.10 max: 35.52\n",
      "Step: 2341 Beam (not cumulative) min: 26.40 median: 30.15 max: 37.03\n",
      "Time: 0.1 t_moves  0.000, t_hash  0.000, t_isin 0.001, t_unique_els  0.053, t_full_step 0.112\n",
      "Step: 2351 Beam (not cumulative) min: 26.16 median: 30.15 max: 36.56\n",
      "Time: 0.0 t_moves  0.000, t_hash  0.000, t_isin 0.002, t_unique_els  0.054, t_full_step 1747165393.355\n",
      "Step: 2361 Beam (not cumulative) min: 26.69 median: 30.12 max: 35.85\n",
      "Step: 2371 Beam (not cumulative) min: 26.62 median: 30.09 max: 36.44\n",
      "Time: 0.1 t_moves  0.001, t_hash  0.000, t_isin 0.001, t_unique_els  0.053, t_full_step 0.113\n",
      "Step: 2381 Beam (not cumulative) min: 26.63 median: 30.11 max: 36.44\n",
      "Time: 0.0 t_moves  0.000, t_hash  0.000, t_isin 0.002, t_unique_els  0.053, t_full_step 1747165395.160\n",
      "Step: 2391 Beam (not cumulative) min: 26.70 median: 30.15 max: 37.03\n",
      "Step: 2401 Beam (not cumulative) min: 26.13 median: 30.15 max: 36.56\n",
      "Time: 0.1 t_moves  0.000, t_hash  0.000, t_isin 0.002, t_unique_els  0.054, t_full_step 0.114\n",
      "Step: 2411 Beam (not cumulative) min: 26.48 median: 30.09 max: 36.34\n",
      "Time: 0.0 t_moves  0.000, t_hash  0.000, t_isin 0.001, t_unique_els  0.054, t_full_step 1747165396.966\n",
      "Step: 2421 Beam (not cumulative) min: 26.66 median: 30.13 max: 36.08\n",
      "Step: 2431 Beam (not cumulative) min: 26.62 median: 30.13 max: 36.34\n",
      "Time: 0.1 t_moves  0.000, t_hash  0.000, t_isin 0.001, t_unique_els  0.054, t_full_step 0.113\n",
      "Step: 2441 Beam (not cumulative) min: 26.35 median: 30.12 max: 36.20\n",
      "Time: 0.0 t_moves  0.000, t_hash  0.000, t_isin 0.001, t_unique_els  0.054, t_full_step 1747165398.770\n",
      "Step: 2451 Beam (not cumulative) min: 26.58 median: 30.13 max: 36.46\n",
      "Step: 2461 Beam (not cumulative) min: 26.62 median: 30.11 max: 35.40\n",
      "Time: 0.1 t_moves  0.000, t_hash  0.000, t_isin 0.002, t_unique_els  0.064, t_full_step 0.123\n",
      "Step: 2471 Beam (not cumulative) min: 26.62 median: 30.11 max: 35.63\n",
      "Time: 0.0 t_moves  0.000, t_hash  0.000, t_isin 0.001, t_unique_els  0.056, t_full_step 1747165400.586\n",
      "Step: 2481 Beam (not cumulative) min: 26.44 median: 30.12 max: 36.56\n",
      "Step: 2491 Beam (not cumulative) min: 26.37 median: 30.10 max: 35.41\n",
      "Time: 0.1 t_moves  0.000, t_hash  0.000, t_isin 0.001, t_unique_els  0.053, t_full_step 0.112\n",
      "Step: 2501 Beam (not cumulative) min: 26.61 median: 30.16 max: 35.61\n",
      "Time: 0.0 t_moves  0.000, t_hash  0.000, t_isin 0.002, t_unique_els  0.054, t_full_step 1747165402.383\n",
      "Step: 2511 Beam (not cumulative) min: 26.85 median: 30.12 max: 36.08\n",
      "Step: 2521 Beam (not cumulative) min: 26.50 median: 30.14 max: 36.54\n",
      "Time: 0.1 t_moves  0.000, t_hash  0.000, t_isin 0.002, t_unique_els  0.053, t_full_step 0.113\n",
      "Step: 2531 Beam (not cumulative) min: 26.76 median: 30.12 max: 35.84\n",
      "Time: 0.0 t_moves  0.000, t_hash  0.000, t_isin 0.002, t_unique_els  0.055, t_full_step 1747165404.189\n",
      "Step: 2541 Beam (not cumulative) min: 26.64 median: 30.09 max: 36.44\n",
      "Step: 2551 Beam (not cumulative) min: 26.64 median: 30.13 max: 37.15\n",
      "Time: 0.1 t_moves  0.000, t_hash  0.000, t_isin 0.002, t_unique_els  0.053, t_full_step 0.112\n",
      "Step: 2561 Beam (not cumulative) min: 26.74 median: 30.10 max: 35.50\n",
      "Time: 0.0 t_moves  0.000, t_hash  0.000, t_isin 0.001, t_unique_els  0.054, t_full_step 1747165405.987\n",
      "Step: 2571 Beam (not cumulative) min: 26.35 median: 30.12 max: 36.03\n",
      "Step: 2581 Beam (not cumulative) min: 26.26 median: 30.14 max: 36.51\n",
      "Time: 0.1 t_moves  0.000, t_hash  0.000, t_isin 0.001, t_unique_els  0.054, t_full_step 0.114\n",
      "Step: 2591 Beam (not cumulative) min: 26.62 median: 30.14 max: 35.64\n",
      "Time: 0.0 t_moves  0.000, t_hash  0.000, t_isin 0.002, t_unique_els  0.054, t_full_step 1747165407.797\n",
      "Step: 2601 Beam (not cumulative) min: 26.68 median: 30.08 max: 36.10\n",
      "Step: 2611 Beam (not cumulative) min: 26.58 median: 30.12 max: 36.54\n",
      "Time: 0.1 t_moves  0.000, t_hash  0.000, t_isin 0.002, t_unique_els  0.053, t_full_step 0.111\n",
      "Step: 2621 Beam (not cumulative) min: 26.35 median: 30.15 max: 36.34\n",
      "Time: 0.0 t_moves  0.000, t_hash  0.000, t_isin 0.002, t_unique_els  0.054, t_full_step 1747165409.602\n",
      "Step: 2631 Beam (not cumulative) min: 26.49 median: 30.16 max: 36.44\n",
      "Step: 2641 Beam (not cumulative) min: 26.81 median: 30.10 max: 35.20\n",
      "Time: 0.1 t_moves  0.000, t_hash  0.000, t_isin 0.001, t_unique_els  0.054, t_full_step 0.114\n",
      "Step: 2651 Beam (not cumulative) min: 26.58 median: 30.12 max: 35.67\n",
      "Time: 0.0 t_moves  0.000, t_hash  0.000, t_isin 0.001, t_unique_els  0.054, t_full_step 1747165411.410\n",
      "Step: 2661 Beam (not cumulative) min: 26.81 median: 30.10 max: 37.03\n",
      "Step: 2671 Beam (not cumulative) min: 26.93 median: 30.14 max: 36.47\n",
      "Time: 0.1 t_moves  0.000, t_hash  0.000, t_isin 0.001, t_unique_els  0.053, t_full_step 0.112\n",
      "Step: 2681 Beam (not cumulative) min: 26.77 median: 30.16 max: 36.28\n",
      "Time: 0.0 t_moves  0.000, t_hash  0.000, t_isin 0.001, t_unique_els  0.054, t_full_step 1747165413.209\n",
      "Step: 2691 Beam (not cumulative) min: 26.88 median: 30.12 max: 36.55\n",
      "Step: 2701 Beam (not cumulative) min: 26.68 median: 30.10 max: 36.18\n",
      "Time: 0.1 t_moves  0.000, t_hash  0.000, t_isin 0.002, t_unique_els  0.054, t_full_step 0.113\n",
      "Step: 2711 Beam (not cumulative) min: 26.20 median: 30.13 max: 37.15\n",
      "Time: 0.0 t_moves  0.000, t_hash  0.000, t_isin 0.001, t_unique_els  0.054, t_full_step 1747165415.016\n",
      "Step: 2721 Beam (not cumulative) min: 26.13 median: 30.15 max: 36.67\n",
      "Step: 2731 Beam (not cumulative) min: 26.30 median: 30.14 max: 36.44\n",
      "Time: 0.1 t_moves  0.000, t_hash  0.000, t_isin 0.001, t_unique_els  0.054, t_full_step 0.114\n",
      "Step: 2741 Beam (not cumulative) min: 26.72 median: 30.09 max: 36.08\n",
      "Time: 0.0 t_moves  0.000, t_hash  0.000, t_isin 0.002, t_unique_els  0.054, t_full_step 1747165416.833\n",
      "Step: 2751 Beam (not cumulative) min: 26.84 median: 30.11 max: 36.20\n",
      "Step: 2761 Beam (not cumulative) min: 26.20 median: 30.14 max: 36.56\n",
      "Time: 0.1 t_moves  0.000, t_hash  0.000, t_isin 0.001, t_unique_els  0.055, t_full_step 0.114\n",
      "Step: 2771 Beam (not cumulative) min: 26.12 median: 30.15 max: 36.34\n",
      "Time: 0.0 t_moves  0.000, t_hash  0.000, t_isin 0.001, t_unique_els  0.054, t_full_step 1747165418.647\n",
      "Step: 2781 Beam (not cumulative) min: 26.24 median: 30.13 max: 35.94\n",
      "Step: 2791 Beam (not cumulative) min: 26.19 median: 30.07 max: 36.17\n",
      "Time: 0.1 t_moves  0.000, t_hash  0.000, t_isin 0.001, t_unique_els  0.054, t_full_step 0.114\n",
      "Step: 2801 Beam (not cumulative) min: 26.74 median: 30.11 max: 36.55\n",
      "Time: 0.0 t_moves  0.000, t_hash  0.000, t_isin 0.002, t_unique_els  0.053, t_full_step 1747165420.464\n",
      "Step: 2811 Beam (not cumulative) min: 26.50 median: 30.13 max: 36.54\n",
      "Step: 2821 Beam (not cumulative) min: 26.50 median: 30.15 max: 36.34\n",
      "Time: 0.1 t_moves  0.000, t_hash  0.000, t_isin 0.001, t_unique_els  0.055, t_full_step 0.115\n",
      "Step: 2831 Beam (not cumulative) min: 26.62 median: 30.13 max: 35.86\n",
      "Time: 0.0 t_moves  0.000, t_hash  0.000, t_isin 0.001, t_unique_els  0.055, t_full_step 1747165422.271\n",
      "Step: 2841 Beam (not cumulative) min: 26.53 median: 30.10 max: 36.55\n",
      "Step: 2851 Beam (not cumulative) min: 26.05 median: 30.13 max: 36.26\n",
      "Time: 0.1 t_moves  0.000, t_hash  0.000, t_isin 0.001, t_unique_els  0.053, t_full_step 0.111\n",
      "Step: 2861 Beam (not cumulative) min: 26.55 median: 30.12 max: 36.54\n",
      "Time: 0.0 t_moves  0.000, t_hash  0.000, t_isin 0.001, t_unique_els  0.054, t_full_step 1747165424.069\n",
      "Step: 2871 Beam (not cumulative) min: 26.65 median: 30.17 max: 36.34\n",
      "Step: 2881 Beam (not cumulative) min: 26.49 median: 30.12 max: 36.28\n",
      "Time: 0.1 t_moves  0.000, t_hash  0.000, t_isin 0.001, t_unique_els  0.055, t_full_step 0.114\n",
      "Step: 2891 Beam (not cumulative) min: 26.56 median: 30.09 max: 36.55\n",
      "Time: 0.0 t_moves  0.000, t_hash  0.000, t_isin 0.002, t_unique_els  0.054, t_full_step 1747165425.880\n",
      "Step: 2901 Beam (not cumulative) min: 26.05 median: 30.09 max: 36.51\n",
      "Step: 2911 Beam (not cumulative) min: 26.50 median: 30.16 max: 36.40\n",
      "Time: 0.1 t_moves  0.000, t_hash  0.000, t_isin 0.001, t_unique_els  0.053, t_full_step 0.112\n",
      "Step: 2921 Beam (not cumulative) min: 26.64 median: 30.20 max: 36.10\n",
      "Time: 0.0 t_moves  0.001, t_hash  0.000, t_isin 0.001, t_unique_els  0.054, t_full_step 1747165427.677\n",
      "Step: 2931 Beam (not cumulative) min: 26.24 median: 30.15 max: 35.74\n",
      "Step: 2941 Beam (not cumulative) min: 26.19 median: 30.10 max: 36.44\n",
      "Time: 0.1 t_moves  0.000, t_hash  0.001, t_isin 0.001, t_unique_els  0.054, t_full_step 0.114\n",
      "Step: 2951 Beam (not cumulative) min: 26.74 median: 30.08 max: 36.51\n",
      "Time: 0.0 t_moves  0.000, t_hash  0.000, t_isin 0.002, t_unique_els  0.054, t_full_step 1747165429.492\n",
      "Step: 2961 Beam (not cumulative) min: 26.50 median: 30.13 max: 36.40\n",
      "Step: 2971 Beam (not cumulative) min: 26.13 median: 30.19 max: 36.11\n",
      "Time: 0.1 t_moves  0.000, t_hash  0.000, t_isin 0.002, t_unique_els  0.054, t_full_step 0.114\n",
      "Step: 2981 Beam (not cumulative) min: 26.48 median: 30.15 max: 37.15\n",
      "Time: 0.0 t_moves  0.000, t_hash  0.000, t_isin 0.001, t_unique_els  0.055, t_full_step 1747165431.298\n",
      "Step: 2991 Beam (not cumulative) min: 26.24 median: 30.11 max: 36.18\n",
      "Step: 3001 Beam (not cumulative) min: 26.21 median: 30.09 max: 36.70\n",
      "Time: 0.1 t_moves  0.000, t_hash  0.000, t_isin 0.001, t_unique_els  0.054, t_full_step 0.114\n",
      "Step: 3011 Beam (not cumulative) min: 26.50 median: 30.15 max: 36.20\n",
      "Time: 0.0 t_moves  0.000, t_hash  0.000, t_isin 0.002, t_unique_els  0.054, t_full_step 1747165433.114\n",
      "Step: 3021 Beam (not cumulative) min: 26.30 median: 30.17 max: 36.11\n",
      "Step: 3031 Beam (not cumulative) min: 26.38 median: 30.16 max: 36.47\n",
      "Time: 0.1 t_moves  0.000, t_hash  0.000, t_isin 0.002, t_unique_els  0.054, t_full_step 0.113\n",
      "Step: 3041 Beam (not cumulative) min: 26.48 median: 30.11 max: 36.44\n",
      "Time: 0.0 t_moves  0.000, t_hash  0.000, t_isin 0.002, t_unique_els  0.054, t_full_step 1747165434.933\n",
      "Step: 3051 Beam (not cumulative) min: 26.67 median: 30.09 max: 37.03\n",
      "Step: 3061 Beam (not cumulative) min: 26.65 median: 30.13 max: 36.08\n",
      "Time: 0.1 t_moves  0.000, t_hash  0.000, t_isin 0.002, t_unique_els  0.054, t_full_step 0.113\n",
      "Step: 3071 Beam (not cumulative) min: 26.81 median: 30.15 max: 35.64\n",
      "Time: 0.0 t_moves  0.000, t_hash  0.000, t_isin 0.001, t_unique_els  0.053, t_full_step 1747165436.745\n",
      "Step: 3081 Beam (not cumulative) min: 26.53 median: 30.13 max: 35.76\n",
      "Step: 3091 Beam (not cumulative) min: 26.51 median: 30.11 max: 36.01\n",
      "Time: 0.1 t_moves  0.000, t_hash  0.000, t_isin 0.002, t_unique_els  0.053, t_full_step 0.113\n",
      "Step: 3101 Beam (not cumulative) min: 26.53 median: 30.09 max: 37.49\n",
      "Time: 0.0 t_moves  0.000, t_hash  0.000, t_isin 0.001, t_unique_els  0.054, t_full_step 1747165438.555\n",
      "Step: 3111 Beam (not cumulative) min: 26.05 median: 30.10 max: 35.60\n",
      "Step: 3121 Beam (not cumulative) min: 26.35 median: 30.18 max: 36.47\n",
      "Time: 0.1 t_moves  0.000, t_hash  0.000, t_isin 0.002, t_unique_els  0.054, t_full_step 0.114\n",
      "Step: 3131 Beam (not cumulative) min: 26.62 median: 30.12 max: 35.56\n",
      "Time: 0.0 t_moves  0.000, t_hash  0.000, t_isin 0.001, t_unique_els  0.055, t_full_step 1747165440.365\n",
      "Step: 3141 Beam (not cumulative) min: 26.69 median: 30.10 max: 36.01\n",
      "Step: 3151 Beam (not cumulative) min: 26.56 median: 30.11 max: 37.03\n",
      "Time: 0.1 t_moves  0.000, t_hash  0.000, t_isin 0.002, t_unique_els  0.053, t_full_step 0.112\n",
      "Step: 3161 Beam (not cumulative) min: 26.05 median: 30.12 max: 37.49\n",
      "Time: 0.0 t_moves  0.000, t_hash  0.000, t_isin 0.001, t_unique_els  0.054, t_full_step 1747165442.157\n",
      "Step: 3171 Beam (not cumulative) min: 26.33 median: 30.12 max: 36.43\n",
      "Step: 3181 Beam (not cumulative) min: 26.50 median: 30.15 max: 35.85\n",
      "Time: 0.1 t_moves  0.000, t_hash  0.000, t_isin 0.001, t_unique_els  0.053, t_full_step 0.113\n",
      "Step: 3191 Beam (not cumulative) min: 26.49 median: 30.11 max: 36.44\n",
      "Time: 0.0 t_moves  0.000, t_hash  0.000, t_isin 0.001, t_unique_els  0.055, t_full_step 1747165443.959\n",
      "Step: 3201 Beam (not cumulative) min: 26.53 median: 30.11 max: 37.03\n",
      "Step: 3211 Beam (not cumulative) min: 26.20 median: 30.09 max: 35.49\n",
      "Time: 0.1 t_moves  0.000, t_hash  0.000, t_isin 0.001, t_unique_els  0.053, t_full_step 0.113\n",
      "Step: 3221 Beam (not cumulative) min: 26.12 median: 30.13 max: 36.34\n",
      "Time: 0.0 t_moves  0.000, t_hash  0.000, t_isin 0.001, t_unique_els  0.054, t_full_step 1747165445.767\n",
      "Step: 3231 Beam (not cumulative) min: 26.35 median: 30.16 max: 35.97\n",
      "Step: 3241 Beam (not cumulative) min: 26.68 median: 30.13 max: 35.94\n",
      "Time: 0.1 t_moves  0.000, t_hash  0.000, t_isin 0.001, t_unique_els  0.054, t_full_step 0.113\n",
      "Step: 3251 Beam (not cumulative) min: 26.34 median: 30.16 max: 36.56\n",
      "Time: 0.0 t_moves  0.000, t_hash  0.000, t_isin 0.001, t_unique_els  0.059, t_full_step 1747165447.583\n",
      "Step: 3261 Beam (not cumulative) min: 26.60 median: 30.11 max: 36.40\n",
      "Step: 3271 Beam (not cumulative) min: 26.16 median: 30.13 max: 35.93\n",
      "Time: 0.1 t_moves  0.000, t_hash  0.000, t_isin 0.001, t_unique_els  0.054, t_full_step 0.113\n",
      "Step: 3281 Beam (not cumulative) min: 26.13 median: 30.11 max: 35.53\n",
      "Time: 0.0 t_moves  0.000, t_hash  0.000, t_isin 0.001, t_unique_els  0.055, t_full_step 1747165449.400\n",
      "Step: 3291 Beam (not cumulative) min: 26.48 median: 30.10 max: 36.44\n",
      "Step: 3301 Beam (not cumulative) min: 26.42 median: 30.16 max: 37.03\n",
      "Time: 0.1 t_moves  0.001, t_hash  0.000, t_isin 0.002, t_unique_els  0.053, t_full_step 0.112\n",
      "Step: 3311 Beam (not cumulative) min: 26.58 median: 30.13 max: 35.69\n",
      "Time: 0.0 t_moves  0.000, t_hash  0.000, t_isin 0.001, t_unique_els  0.055, t_full_step 1747165451.199\n",
      "Step: 3321 Beam (not cumulative) min: 26.35 median: 30.12 max: 36.34\n",
      "Step: 3331 Beam (not cumulative) min: 26.26 median: 30.09 max: 37.15\n",
      "Time: 0.1 t_moves  0.000, t_hash  0.000, t_isin 0.001, t_unique_els  0.056, t_full_step 0.119\n",
      "Step: 3341 Beam (not cumulative) min: 26.72 median: 30.10 max: 36.34\n",
      "Time: 0.0 t_moves  0.000, t_hash  0.000, t_isin 0.002, t_unique_els  0.053, t_full_step 1747165453.048\n",
      "Step: 3351 Beam (not cumulative) min: 26.93 median: 30.09 max: 36.17\n",
      "Step: 3361 Beam (not cumulative) min: 26.35 median: 30.13 max: 35.64\n",
      "Time: 0.1 t_moves  0.000, t_hash  0.000, t_isin 0.001, t_unique_els  0.052, t_full_step 0.110\n",
      "Step: 3371 Beam (not cumulative) min: 26.49 median: 30.16 max: 35.95\n",
      "Time: 0.0 t_moves  0.000, t_hash  0.001, t_isin 0.001, t_unique_els  0.053, t_full_step 1747165454.818\n",
      "Step: 3381 Beam (not cumulative) min: 26.69 median: 30.13 max: 37.15\n",
      "Step: 3391 Beam (not cumulative) min: 26.72 median: 30.14 max: 36.55\n",
      "Time: 0.1 t_moves  0.000, t_hash  0.000, t_isin 0.001, t_unique_els  0.053, t_full_step 0.112\n",
      "Step: 3401 Beam (not cumulative) min: 26.20 median: 30.09 max: 35.35\n",
      "Time: 0.0 t_moves  0.000, t_hash  0.000, t_isin 0.001, t_unique_els  0.054, t_full_step 1747165456.610\n",
      "Step: 3411 Beam (not cumulative) min: 26.44 median: 30.14 max: 36.34\n",
      "Step: 3421 Beam (not cumulative) min: 26.37 median: 30.12 max: 35.48\n",
      "Time: 0.1 t_moves  0.000, t_hash  0.000, t_isin 0.001, t_unique_els  0.052, t_full_step 0.111\n",
      "Step: 3431 Beam (not cumulative) min: 26.49 median: 30.11 max: 36.44\n",
      "Time: 0.0 t_moves  0.000, t_hash  0.000, t_isin 0.001, t_unique_els  0.053, t_full_step 1747165458.411\n",
      "Step: 3441 Beam (not cumulative) min: 26.73 median: 30.11 max: 36.10\n",
      "Step: 3451 Beam (not cumulative) min: 26.20 median: 30.13 max: 36.51\n",
      "Time: 0.1 t_moves  0.000, t_hash  0.000, t_isin 0.001, t_unique_els  0.054, t_full_step 0.114\n",
      "Step: 3461 Beam (not cumulative) min: 26.64 median: 30.11 max: 36.34\n",
      "Time: 0.0 t_moves  0.000, t_hash  0.000, t_isin 0.001, t_unique_els  0.053, t_full_step 1747165460.236\n",
      "Step: 3471 Beam (not cumulative) min: 26.64 median: 30.12 max: 36.55\n",
      "Step: 3481 Beam (not cumulative) min: 26.42 median: 30.11 max: 37.15\n",
      "Time: 0.1 t_moves  0.000, t_hash  0.000, t_isin 0.001, t_unique_els  0.053, t_full_step 0.113\n",
      "Step: 3491 Beam (not cumulative) min: 26.50 median: 30.14 max: 36.51\n",
      "Time: 0.0 t_moves  0.000, t_hash  0.000, t_isin 0.002, t_unique_els  0.055, t_full_step 1747165462.069\n",
      "Step: 3501 Beam (not cumulative) min: 26.77 median: 30.10 max: 36.28\n",
      "Step: 3511 Beam (not cumulative) min: 26.74 median: 30.11 max: 35.61\n",
      "Time: 0.1 t_moves  0.000, t_hash  0.000, t_isin 0.002, t_unique_els  0.055, t_full_step 0.116\n",
      "Step: 3521 Beam (not cumulative) min: 26.53 median: 30.10 max: 36.44\n",
      "Time: 0.0 t_moves  0.000, t_hash  0.000, t_isin 0.001, t_unique_els  0.057, t_full_step 1747165463.923\n",
      "Step: 3531 Beam (not cumulative) min: 26.64 median: 30.13 max: 37.15\n",
      "Step: 3541 Beam (not cumulative) min: 26.50 median: 30.09 max: 36.56\n",
      "Time: 0.1 t_moves  0.000, t_hash  0.000, t_isin 0.002, t_unique_els  0.055, t_full_step 0.116\n",
      "Step: 3551 Beam (not cumulative) min: 26.64 median: 30.13 max: 36.47\n",
      "Time: 0.0 t_moves  0.000, t_hash  0.000, t_isin 0.001, t_unique_els  0.055, t_full_step 1747165465.745\n",
      "Step: 3561 Beam (not cumulative) min: 26.53 median: 30.11 max: 36.08\n",
      "Step: 3571 Beam (not cumulative) min: 26.34 median: 30.10 max: 36.51\n",
      "Time: 0.1 t_moves  0.000, t_hash  0.000, t_isin 0.002, t_unique_els  0.056, t_full_step 0.116\n",
      "Step: 3581 Beam (not cumulative) min: 26.60 median: 30.10 max: 36.55\n",
      "Time: 0.0 t_moves  0.000, t_hash  0.001, t_isin 0.001, t_unique_els  0.058, t_full_step 1747165467.580\n",
      "Step: 3591 Beam (not cumulative) min: 26.16 median: 30.15 max: 36.56\n",
      "Step: 3601 Beam (not cumulative) min: 26.89 median: 30.12 max: 35.40\n",
      "Time: 0.1 t_moves  0.000, t_hash  0.000, t_isin 0.002, t_unique_els  0.055, t_full_step 0.114\n",
      "Step: 3611 Beam (not cumulative) min: 26.51 median: 30.13 max: 36.51\n",
      "Time: 0.0 t_moves  0.000, t_hash  0.000, t_isin 0.001, t_unique_els  0.056, t_full_step 1747165469.411\n",
      "Step: 3621 Beam (not cumulative) min: 26.24 median: 30.10 max: 37.03\n",
      "Step: 3631 Beam (not cumulative) min: 26.21 median: 30.11 max: 37.15\n",
      "Time: 0.1 t_moves  0.000, t_hash  0.000, t_isin 0.002, t_unique_els  0.055, t_full_step 0.115\n",
      "Step: 3641 Beam (not cumulative) min: 26.82 median: 30.11 max: 36.10\n",
      "Time: 0.0 t_moves  0.000, t_hash  0.000, t_isin 0.001, t_unique_els  0.053, t_full_step 1747165471.256\n",
      "Step: 3651 Beam (not cumulative) min: 26.30 median: 30.12 max: 36.51\n",
      "Step: 3661 Beam (not cumulative) min: 26.24 median: 30.10 max: 36.28\n",
      "Time: 0.1 t_moves  0.000, t_hash  0.000, t_isin 0.002, t_unique_els  0.056, t_full_step 0.116\n",
      "Step: 3671 Beam (not cumulative) min: 26.05 median: 30.12 max: 36.44\n",
      "Time: 0.0 t_moves  0.000, t_hash  0.000, t_isin 0.001, t_unique_els  0.055, t_full_step 1747165473.063\n",
      "Step: 3681 Beam (not cumulative) min: 26.71 median: 30.13 max: 36.54\n",
      "Step: 3691 Beam (not cumulative) min: 26.30 median: 30.12 max: 36.51\n",
      "Time: 0.1 t_moves  0.000, t_hash  0.000, t_isin 0.001, t_unique_els  0.054, t_full_step 0.112\n",
      "Step: 3701 Beam (not cumulative) min: 26.13 median: 30.09 max: 36.08\n",
      "Time: 0.0 t_moves  0.000, t_hash  0.000, t_isin 0.002, t_unique_els  0.054, t_full_step 1747165474.896\n",
      "Step: 3711 Beam (not cumulative) min: 26.38 median: 30.11 max: 35.99\n",
      "Step: 3721 Beam (not cumulative) min: 26.71 median: 30.11 max: 35.72\n",
      "Time: 0.1 t_moves  0.000, t_hash  0.000, t_isin 0.001, t_unique_els  0.053, t_full_step 0.112\n",
      "Step: 3731 Beam (not cumulative) min: 26.48 median: 30.14 max: 36.51\n",
      "Time: 0.0 t_moves  0.000, t_hash  0.000, t_isin 0.002, t_unique_els  0.054, t_full_step 1747165476.698\n",
      "Step: 3741 Beam (not cumulative) min: 26.48 median: 30.10 max: 35.74\n",
      "Step: 3751 Beam (not cumulative) min: 26.73 median: 30.13 max: 36.55\n",
      "Time: 0.1 t_moves  0.000, t_hash  0.000, t_isin 0.002, t_unique_els  0.057, t_full_step 0.115\n",
      "Step: 3761 Beam (not cumulative) min: 26.42 median: 30.12 max: 35.80\n",
      "Time: 0.0 t_moves  0.000, t_hash  0.000, t_isin 0.002, t_unique_els  0.054, t_full_step 1747165478.513\n",
      "Step: 3771 Beam (not cumulative) min: 26.48 median: 30.12 max: 36.56\n",
      "Step: 3781 Beam (not cumulative) min: 26.70 median: 30.10 max: 35.84\n",
      "Time: 0.1 t_moves  0.000, t_hash  0.000, t_isin 0.002, t_unique_els  0.054, t_full_step 0.115\n",
      "Step: 3791 Beam (not cumulative) min: 26.16 median: 30.14 max: 35.60\n",
      "Time: 0.0 t_moves  0.000, t_hash  0.000, t_isin 0.001, t_unique_els  0.053, t_full_step 1747165480.332\n",
      "Step: 3801 Beam (not cumulative) min: 26.50 median: 30.15 max: 36.34\n",
      "Step: 3811 Beam (not cumulative) min: 26.48 median: 30.09 max: 35.80\n",
      "Time: 0.1 t_moves  0.000, t_hash  0.000, t_isin 0.001, t_unique_els  0.053, t_full_step 0.112\n",
      "Step: 3821 Beam (not cumulative) min: 26.65 median: 30.14 max: 36.47\n",
      "Time: 0.0 t_moves  0.000, t_hash  0.000, t_isin 0.001, t_unique_els  0.051, t_full_step 1747165482.137\n",
      "Step: 3831 Beam (not cumulative) min: 26.16 median: 30.15 max: 36.08\n",
      "Step: 3841 Beam (not cumulative) min: 26.84 median: 30.12 max: 36.44\n",
      "Time: 0.1 t_moves  0.000, t_hash  0.000, t_isin 0.001, t_unique_els  0.054, t_full_step 0.113\n",
      "Step: 3851 Beam (not cumulative) min: 26.48 median: 30.07 max: 36.40\n",
      "Time: 0.0 t_moves  0.000, t_hash  0.000, t_isin 0.002, t_unique_els  0.052, t_full_step 1747165483.916\n",
      "Step: 3861 Beam (not cumulative) min: 26.67 median: 30.12 max: 35.81\n",
      "Step: 3871 Beam (not cumulative) min: 26.44 median: 30.15 max: 35.52\n",
      "Time: 0.1 t_moves  0.000, t_hash  0.000, t_isin 0.001, t_unique_els  0.053, t_full_step 0.112\n",
      "Step: 3881 Beam (not cumulative) min: 26.20 median: 30.15 max: 36.55\n",
      "Time: 0.0 t_moves  0.000, t_hash  0.000, t_isin 0.001, t_unique_els  0.056, t_full_step 1747165485.697\n",
      "Step: 3891 Beam (not cumulative) min: 26.74 median: 30.10 max: 37.03\n",
      "Step: 3901 Beam (not cumulative) min: 26.72 median: 30.10 max: 35.58\n",
      "Time: 0.1 t_moves  0.000, t_hash  0.000, t_isin 0.003, t_unique_els  0.055, t_full_step 0.117\n",
      "Step: 3911 Beam (not cumulative) min: 26.44 median: 30.17 max: 35.86\n",
      "Time: 0.0 t_moves  0.000, t_hash  0.000, t_isin 0.002, t_unique_els  0.057, t_full_step 1747165487.507\n",
      "Step: 3921 Beam (not cumulative) min: 26.20 median: 30.12 max: 35.93\n",
      "Step: 3931 Beam (not cumulative) min: 26.56 median: 30.08 max: 36.44\n",
      "Time: 0.1 t_moves  0.000, t_hash  0.000, t_isin 0.001, t_unique_els  0.056, t_full_step 0.115\n",
      "Step: 3941 Beam (not cumulative) min: 26.64 median: 30.12 max: 37.03\n",
      "Time: 0.0 t_moves  0.000, t_hash  0.000, t_isin 0.002, t_unique_els  0.054, t_full_step 1747165489.352\n",
      "Step: 3951 Beam (not cumulative) min: 26.49 median: 30.10 max: 35.64\n",
      "Step: 3961 Beam (not cumulative) min: 26.76 median: 30.12 max: 35.93\n",
      "Time: 0.1 t_moves  0.000, t_hash  0.000, t_isin 0.001, t_unique_els  0.056, t_full_step 0.117\n",
      "Step: 3971 Beam (not cumulative) min: 26.16 median: 30.14 max: 36.39\n",
      "Time: 0.0 t_moves  0.000, t_hash  0.000, t_isin 0.002, t_unique_els  0.055, t_full_step 1747165491.154\n",
      "Step: 3981 Beam (not cumulative) min: 26.85 median: 30.11 max: 36.44\n",
      "Step: 3991 Beam (not cumulative) min: 26.48 median: 30.10 max: 37.03\n",
      "Time: 0.1 t_moves  0.000, t_hash  0.000, t_isin 0.001, t_unique_els  0.052, t_full_step 0.112\n",
      "Step: 4001 Beam (not cumulative) min: 26.24 median: 30.10 max: 36.26\n",
      "Time: 0.0 t_moves  0.001, t_hash  0.001, t_isin 0.001, t_unique_els  0.052, t_full_step 1747165492.946\n",
      "Step: 4011 Beam (not cumulative) min: 26.21 median: 30.14 max: 35.97\n",
      "Step: 4021 Beam (not cumulative) min: 26.76 median: 30.14 max: 36.20\n",
      "Time: 0.1 t_moves  0.000, t_hash  0.000, t_isin 0.001, t_unique_els  0.054, t_full_step 0.113\n",
      "Step: 4031 Beam (not cumulative) min: 26.30 median: 30.08 max: 36.44\n",
      "Time: 0.0 t_moves  0.000, t_hash  0.000, t_isin 0.001, t_unique_els  0.054, t_full_step 1747165494.737\n",
      "Step: 4041 Beam (not cumulative) min: 26.53 median: 30.08 max: 37.03\n",
      "Step: 4051 Beam (not cumulative) min: 26.05 median: 30.12 max: 36.47\n",
      "Time: 0.1 t_moves  0.000, t_hash  0.000, t_isin 0.001, t_unique_els  0.052, t_full_step 0.114\n",
      "Step: 4061 Beam (not cumulative) min: 26.55 median: 30.15 max: 35.79\n",
      "Time: 0.0 t_moves  0.000, t_hash  0.000, t_isin 0.001, t_unique_els  0.054, t_full_step 1747165496.529\n",
      "Step: 4071 Beam (not cumulative) min: 26.91 median: 30.13 max: 35.27\n",
      "Step: 4081 Beam (not cumulative) min: 26.35 median: 30.16 max: 36.70\n",
      "Time: 0.1 t_moves  0.000, t_hash  0.000, t_isin 0.001, t_unique_els  0.054, t_full_step 0.114\n",
      "Step: 4091 Beam (not cumulative) min: 26.05 median: 30.13 max: 37.03\n",
      "Time: 0.0 t_moves  0.000, t_hash  0.000, t_isin 0.001, t_unique_els  0.053, t_full_step 1747165498.336\n",
      "Step: 4101 Beam (not cumulative) min: 26.73 median: 30.13 max: 35.60\n",
      "Step: 4111 Beam (not cumulative) min: 26.71 median: 30.09 max: 36.19\n",
      "Time: 0.1 t_moves  0.000, t_hash  0.000, t_isin 0.001, t_unique_els  0.054, t_full_step 0.113\n",
      "Step: 4121 Beam (not cumulative) min: 26.48 median: 30.15 max: 36.63\n",
      "Time: 0.0 t_moves  0.000, t_hash  0.000, t_isin 0.001, t_unique_els  0.054, t_full_step 1747165500.137\n",
      "Step: 4131 Beam (not cumulative) min: 26.50 median: 30.16 max: 36.54\n",
      "Step: 4141 Beam (not cumulative) min: 26.71 median: 30.12 max: 35.81\n",
      "Time: 0.1 t_moves  0.000, t_hash  0.000, t_isin 0.001, t_unique_els  0.054, t_full_step 0.114\n",
      "Step: 4151 Beam (not cumulative) min: 26.69 median: 30.11 max: 36.51\n",
      "Time: 0.0 t_moves  0.000, t_hash  0.000, t_isin 0.001, t_unique_els  0.054, t_full_step 1747165501.941\n",
      "Step: 4161 Beam (not cumulative) min: 26.44 median: 30.13 max: 36.10\n",
      "Step: 4171 Beam (not cumulative) min: 26.20 median: 30.11 max: 36.70\n",
      "Time: 0.1 t_moves  0.000, t_hash  0.000, t_isin 0.001, t_unique_els  0.054, t_full_step 0.113\n",
      "Step: 4181 Beam (not cumulative) min: 26.51 median: 30.14 max: 36.44\n",
      "Time: 0.0 t_moves  0.000, t_hash  0.000, t_isin 0.001, t_unique_els  0.054, t_full_step 1747165503.734\n",
      "Step: 4191 Beam (not cumulative) min: 26.64 median: 30.14 max: 36.01\n",
      "Step: 4201 Beam (not cumulative) min: 26.49 median: 30.13 max: 36.10\n",
      "Time: 0.1 t_moves  0.000, t_hash  0.000, t_isin 0.002, t_unique_els  0.055, t_full_step 0.115\n",
      "Step: 4211 Beam (not cumulative) min: 26.35 median: 30.12 max: 36.19\n",
      "Time: 0.0 t_moves  0.000, t_hash  0.000, t_isin 0.002, t_unique_els  0.054, t_full_step 1747165505.553\n",
      "Step: 4221 Beam (not cumulative) min: 26.16 median: 30.13 max: 36.70\n",
      "Step: 4231 Beam (not cumulative) min: 26.21 median: 30.11 max: 36.40\n",
      "Time: 0.1 t_moves  0.000, t_hash  0.000, t_isin 0.002, t_unique_els  0.054, t_full_step 0.114\n",
      "Step: 4241 Beam (not cumulative) min: 26.66 median: 30.10 max: 35.52\n",
      "Time: 0.0 t_moves  0.000, t_hash  0.000, t_isin 0.001, t_unique_els  0.054, t_full_step 1747165507.357\n",
      "Step: 4251 Beam (not cumulative) min: 26.30 median: 30.14 max: 36.03\n",
      "Step: 4261 Beam (not cumulative) min: 26.35 median: 30.14 max: 36.56\n",
      "Time: 0.1 t_moves  0.000, t_hash  0.000, t_isin 0.001, t_unique_els  0.055, t_full_step 0.114\n",
      "Step: 4271 Beam (not cumulative) min: 26.05 median: 30.15 max: 37.03\n",
      "Time: 0.0 t_moves  0.000, t_hash  0.000, t_isin 0.001, t_unique_els  0.056, t_full_step 1747165509.164\n",
      "Step: 4281 Beam (not cumulative) min: 26.60 median: 30.08 max: 36.51\n",
      "Step: 4291 Beam (not cumulative) min: 26.48 median: 30.11 max: 35.74\n",
      "Time: 0.1 t_moves  0.000, t_hash  0.000, t_isin 0.001, t_unique_els  0.053, t_full_step 0.112\n",
      "Step: 4301 Beam (not cumulative) min: 26.64 median: 30.15 max: 36.20\n",
      "Time: 0.0 t_moves  0.000, t_hash  0.000, t_isin 0.002, t_unique_els  0.053, t_full_step 1747165510.961\n",
      "Step: 4311 Beam (not cumulative) min: 26.13 median: 30.14 max: 37.49\n",
      "Step: 4321 Beam (not cumulative) min: 26.47 median: 30.13 max: 35.82\n",
      "Time: 0.1 t_moves  0.000, t_hash  0.000, t_isin 0.001, t_unique_els  0.053, t_full_step 0.112\n",
      "Step: 4331 Beam (not cumulative) min: 26.71 median: 30.14 max: 36.40\n",
      "Time: 0.0 t_moves  0.000, t_hash  0.000, t_isin 0.001, t_unique_els  0.055, t_full_step 1747165512.767\n",
      "Step: 4341 Beam (not cumulative) min: 26.24 median: 30.10 max: 36.20\n",
      "Step: 4351 Beam (not cumulative) min: 26.21 median: 30.14 max: 36.67\n",
      "Time: 0.1 t_moves  0.000, t_hash  0.000, t_isin 0.002, t_unique_els  0.053, t_full_step 0.112\n",
      "Step: 4361 Beam (not cumulative) min: 26.61 median: 30.13 max: 35.91\n",
      "Time: 0.0 t_moves  0.000, t_hash  0.000, t_isin 0.001, t_unique_els  0.053, t_full_step 1747165514.575\n",
      "Step: 4371 Beam (not cumulative) min: 26.75 median: 30.10 max: 36.55\n",
      "Step: 4381 Beam (not cumulative) min: 26.50 median: 30.12 max: 36.63\n",
      "Time: 0.1 t_moves  0.000, t_hash  0.000, t_isin 0.001, t_unique_els  0.054, t_full_step 0.114\n",
      "Step: 4391 Beam (not cumulative) min: 26.05 median: 30.18 max: 36.54\n",
      "Time: 0.0 t_moves  0.000, t_hash  0.000, t_isin 0.001, t_unique_els  0.055, t_full_step 1747165516.380\n",
      "Step: 4401 Beam (not cumulative) min: 26.75 median: 30.17 max: 35.74\n",
      "Step: 4411 Beam (not cumulative) min: 26.69 median: 30.12 max: 36.18\n",
      "Time: 0.1 t_moves  0.000, t_hash  0.000, t_isin 0.001, t_unique_els  0.055, t_full_step 0.115\n",
      "Step: 4421 Beam (not cumulative) min: 26.24 median: 30.10 max: 36.70\n",
      "Time: 0.0 t_moves  0.000, t_hash  0.000, t_isin 0.002, t_unique_els  0.053, t_full_step 1747165518.200\n",
      "Step: 4431 Beam (not cumulative) min: 26.21 median: 30.11 max: 36.29\n",
      "Step: 4441 Beam (not cumulative) min: 26.50 median: 30.16 max: 37.15\n",
      "Time: 0.1 t_moves  0.000, t_hash  0.000, t_isin 0.001, t_unique_els  0.054, t_full_step 0.114\n",
      "Step: 4451 Beam (not cumulative) min: 26.30 median: 30.14 max: 36.63\n",
      "Time: 0.0 t_moves  0.000, t_hash  0.000, t_isin 0.002, t_unique_els  0.055, t_full_step 1747165520.015\n",
      "Step: 4461 Beam (not cumulative) min: 26.81 median: 30.09 max: 36.55\n",
      "Step: 4471 Beam (not cumulative) min: 26.38 median: 30.11 max: 36.07\n",
      "Time: 0.1 t_moves  0.000, t_hash  0.000, t_isin 0.002, t_unique_els  0.053, t_full_step 0.111\n",
      "Step: 4481 Beam (not cumulative) min: 26.50 median: 30.15 max: 37.15\n",
      "Time: 0.0 t_moves  0.000, t_hash  0.000, t_isin 0.001, t_unique_els  0.055, t_full_step 1747165521.820\n",
      "Step: 4491 Beam (not cumulative) min: 26.70 median: 30.16 max: 35.84\n",
      "Step: 4501 Beam (not cumulative) min: 26.71 median: 30.11 max: 36.19\n",
      "Time: 0.1 t_moves  0.000, t_hash  0.000, t_isin 0.001, t_unique_els  0.054, t_full_step 0.115\n",
      "Step: 4511 Beam (not cumulative) min: 26.24 median: 30.10 max: 36.25\n",
      "Time: 0.0 t_moves  0.000, t_hash  0.000, t_isin 0.002, t_unique_els  0.055, t_full_step 1747165523.646\n",
      "Step: 4521 Beam (not cumulative) min: 26.21 median: 30.12 max: 36.47\n",
      "Step: 4531 Beam (not cumulative) min: 26.13 median: 30.12 max: 35.74\n",
      "Time: 0.1 t_moves  0.000, t_hash  0.000, t_isin 0.002, t_unique_els  0.053, t_full_step 0.114\n",
      "Step: 4541 Beam (not cumulative) min: 26.30 median: 30.13 max: 36.17\n",
      "Time: 0.0 t_moves  0.000, t_hash  0.000, t_isin 0.002, t_unique_els  0.054, t_full_step 1747165525.447\n",
      "Step: 4551 Beam (not cumulative) min: 26.50 median: 30.10 max: 36.82\n",
      "Step: 4561 Beam (not cumulative) min: 26.38 median: 30.12 max: 35.94\n",
      "Time: 0.1 t_moves  0.000, t_hash  0.000, t_isin 0.001, t_unique_els  0.054, t_full_step 0.112\n",
      "Step: 4571 Beam (not cumulative) min: 26.64 median: 30.09 max: 35.93\n",
      "Time: 0.0 t_moves  0.000, t_hash  0.000, t_isin 0.002, t_unique_els  0.052, t_full_step 1747165527.222\n",
      "Step: 4581 Beam (not cumulative) min: 26.84 median: 30.11 max: 35.65\n",
      "Step: 4591 Beam (not cumulative) min: 26.53 median: 30.12 max: 36.40\n",
      "Time: 0.1 t_moves  0.000, t_hash  0.000, t_isin 0.001, t_unique_els  0.052, t_full_step 0.110\n",
      "Step: 4601 Beam (not cumulative) min: 26.05 median: 30.11 max: 35.79\n",
      "Time: 0.0 t_moves  0.000, t_hash  0.000, t_isin 0.002, t_unique_els  0.051, t_full_step 1747165529.015\n",
      "Step: 4611 Beam (not cumulative) min: 26.48 median: 30.11 max: 37.15\n",
      "Step: 4621 Beam (not cumulative) min: 26.49 median: 30.11 max: 36.18\n",
      "Time: 0.1 t_moves  0.000, t_hash  0.000, t_isin 0.002, t_unique_els  0.051, t_full_step 0.111\n",
      "Step: 4631 Beam (not cumulative) min: 26.30 median: 30.11 max: 35.80\n",
      "Time: 0.0 t_moves  0.000, t_hash  0.000, t_isin 0.002, t_unique_els  0.053, t_full_step 1747165530.823\n",
      "Step: 4641 Beam (not cumulative) min: 26.50 median: 30.11 max: 35.79\n",
      "Step: 4651 Beam (not cumulative) min: 26.30 median: 30.09 max: 37.15\n",
      "Time: 0.1 t_moves  0.000, t_hash  0.000, t_isin 0.002, t_unique_els  0.053, t_full_step 0.114\n",
      "Step: 4661 Beam (not cumulative) min: 26.14 median: 30.13 max: 35.56\n",
      "Time: 0.0 t_moves  0.000, t_hash  0.001, t_isin 0.002, t_unique_els  0.053, t_full_step 1747165532.657\n",
      "Step: 4671 Beam (not cumulative) min: 26.66 median: 30.11 max: 35.86\n",
      "Step: 4681 Beam (not cumulative) min: 26.62 median: 30.12 max: 36.55\n",
      "Time: 0.1 t_moves  0.001, t_hash  0.000, t_isin 0.001, t_unique_els  0.052, t_full_step 0.113\n",
      "Step: 4691 Beam (not cumulative) min: 26.42 median: 30.13 max: 37.15\n",
      "Time: 0.0 t_moves  0.000, t_hash  0.000, t_isin 0.003, t_unique_els  0.052, t_full_step 1747165534.489\n",
      "Step: 4701 Beam (not cumulative) min: 26.63 median: 30.12 max: 36.10\n",
      "Step: 4711 Beam (not cumulative) min: 26.74 median: 30.07 max: 35.72\n",
      "Time: 0.1 t_moves  0.000, t_hash  0.000, t_isin 0.001, t_unique_els  0.054, t_full_step 0.116\n",
      "Step: 4721 Beam (not cumulative) min: 26.51 median: 30.12 max: 36.18\n",
      "Time: 0.0 t_moves  0.000, t_hash  0.000, t_isin 0.002, t_unique_els  0.053, t_full_step 1747165536.324\n",
      "Step: 4731 Beam (not cumulative) min: 26.81 median: 30.16 max: 37.15\n",
      "Step: 4741 Beam (not cumulative) min: 26.63 median: 30.15 max: 35.85\n",
      "Time: 0.1 t_moves  0.000, t_hash  0.000, t_isin 0.001, t_unique_els  0.054, t_full_step 0.114\n",
      "Step: 4751 Beam (not cumulative) min: 26.62 median: 30.08 max: 35.74\n",
      "Time: 0.0 t_moves  0.001, t_hash  0.000, t_isin 0.002, t_unique_els  0.054, t_full_step 1747165538.172\n",
      "Step: 4761 Beam (not cumulative) min: 26.48 median: 30.12 max: 36.18\n",
      "Step: 4771 Beam (not cumulative) min: 26.44 median: 30.14 max: 37.15\n",
      "Time: 0.1 t_moves  0.000, t_hash  0.000, t_isin 0.002, t_unique_els  0.053, t_full_step 0.113\n",
      "Step: 4781 Beam (not cumulative) min: 26.37 median: 30.14 max: 36.54\n",
      "Time: 0.0 t_moves  0.000, t_hash  0.000, t_isin 0.001, t_unique_els  0.054, t_full_step 1747165539.993\n",
      "Step: 4791 Beam (not cumulative) min: 26.48 median: 30.11 max: 36.47\n",
      "Step: 4801 Beam (not cumulative) min: 26.53 median: 30.10 max: 36.44\n",
      "Time: 0.1 t_moves  0.000, t_hash  0.000, t_isin 0.002, t_unique_els  0.054, t_full_step 0.114\n",
      "Step: 4811 Beam (not cumulative) min: 26.20 median: 30.13 max: 37.15\n",
      "Time: 0.0 t_moves  0.000, t_hash  0.000, t_isin 0.001, t_unique_els  0.055, t_full_step 1747165541.825\n",
      "Step: 4821 Beam (not cumulative) min: 26.76 median: 30.14 max: 36.28\n",
      "Step: 4831 Beam (not cumulative) min: 26.58 median: 30.13 max: 36.46\n",
      "Time: 0.1 t_moves  0.000, t_hash  0.000, t_isin 0.002, t_unique_els  0.054, t_full_step 0.115\n",
      "Step: 4841 Beam (not cumulative) min: 26.74 median: 30.07 max: 36.40\n",
      "Time: 0.0 t_moves  0.000, t_hash  0.000, t_isin 0.003, t_unique_els  0.053, t_full_step 1747165543.681\n",
      "Step: 4851 Beam (not cumulative) min: 26.50 median: 30.13 max: 37.15\n",
      "Step: 4861 Beam (not cumulative) min: 26.20 median: 30.14 max: 35.48\n",
      "Time: 0.1 t_moves  0.000, t_hash  0.000, t_isin 0.001, t_unique_els  0.055, t_full_step 0.115\n",
      "Step: 4871 Beam (not cumulative) min: 26.12 median: 30.13 max: 36.46\n",
      "Time: 0.0 t_moves  0.000, t_hash  0.000, t_isin 0.002, t_unique_els  0.055, t_full_step 1747165545.524\n",
      "Step: 4881 Beam (not cumulative) min: 26.64 median: 30.09 max: 36.55\n",
      "Step: 4891 Beam (not cumulative) min: 26.63 median: 30.11 max: 37.15\n",
      "Time: 0.1 t_moves  0.000, t_hash  0.000, t_isin 0.001, t_unique_els  0.054, t_full_step 0.113\n",
      "Step: 4901 Beam (not cumulative) min: 26.42 median: 30.15 max: 36.54\n",
      "Time: 0.0 t_moves  0.000, t_hash  0.000, t_isin 0.002, t_unique_els  0.054, t_full_step 1747165547.363\n",
      "Step: 4911 Beam (not cumulative) min: 26.76 median: 30.15 max: 36.46\n",
      "Step: 4921 Beam (not cumulative) min: 26.69 median: 30.09 max: 36.70\n",
      "Time: 0.1 t_moves  0.000, t_hash  0.000, t_isin 0.002, t_unique_els  0.056, t_full_step 0.118\n",
      "Step: 4931 Beam (not cumulative) min: 26.48 median: 30.05 max: 37.15\n",
      "Time: 0.0 t_moves  0.000, t_hash  0.000, t_isin 0.002, t_unique_els  0.053, t_full_step 1747165549.188\n",
      "Step: 4941 Beam (not cumulative) min: 26.50 median: 30.14 max: 35.95\n",
      "Step: 4951 Beam (not cumulative) min: 26.42 median: 30.16 max: 36.11\n",
      "Time: 0.1 t_moves  0.000, t_hash  0.000, t_isin 0.002, t_unique_els  0.054, t_full_step 0.114\n",
      "Step: 4961 Beam (not cumulative) min: 26.68 median: 30.14 max: 37.03\n",
      "Time: 0.0 t_moves  0.000, t_hash  0.000, t_isin 0.002, t_unique_els  0.055, t_full_step 1747165550.997\n",
      "Step: 4971 Beam (not cumulative) min: 26.82 median: 30.08 max: 37.15\n",
      "Step: 4981 Beam (not cumulative) min: 26.85 median: 30.10 max: 36.51\n",
      "Time: 0.1 t_moves  0.000, t_hash  0.000, t_isin 0.001, t_unique_els  0.054, t_full_step 0.113\n",
      "Step: 4991 Beam (not cumulative) min: 26.72 median: 30.15 max: 35.74\n",
      "Time: 0.0 t_moves  0.000, t_hash  0.000, t_isin 0.002, t_unique_els  0.054, t_full_step 1747165552.830\n",
      "Step: 5001 Beam (not cumulative) min: 26.51 median: 30.13 max: 36.44\n",
      "Step: 5011 Beam (not cumulative) min: 26.84 median: 30.09 max: 37.03\n",
      "Time: 0.1 t_moves  0.000, t_hash  0.000, t_isin 0.001, t_unique_els  0.054, t_full_step 0.114\n",
      "Step: 5021 Beam (not cumulative) min: 26.76 median: 30.11 max: 36.40\n",
      "Time: 0.0 t_moves  0.000, t_hash  0.000, t_isin 0.001, t_unique_els  0.053, t_full_step 1747165554.671\n",
      "Step: 5031 Beam (not cumulative) min: 26.44 median: 30.15 max: 36.63\n",
      "Step: 5041 Beam (not cumulative) min: 26.05 median: 30.13 max: 35.55\n",
      "Time: 0.1 t_moves  0.000, t_hash  0.000, t_isin 0.001, t_unique_els  0.054, t_full_step 0.113\n",
      "Step: 5051 Beam (not cumulative) min: 26.50 median: 30.11 max: 36.44\n",
      "Time: 0.0 t_moves  0.000, t_hash  0.000, t_isin 0.001, t_unique_els  0.054, t_full_step 1747165556.508\n",
      "Step: 5061 Beam (not cumulative) min: 26.65 median: 30.11 max: 36.17\n",
      "Step: 5071 Beam (not cumulative) min: 26.49 median: 30.11 max: 36.55\n",
      "Time: 0.1 t_moves  0.000, t_hash  0.000, t_isin 0.001, t_unique_els  0.054, t_full_step 0.114\n",
      "Step: 5081 Beam (not cumulative) min: 26.33 median: 30.15 max: 36.63\n",
      "Time: 0.0 t_moves  0.000, t_hash  0.000, t_isin 0.002, t_unique_els  0.054, t_full_step 1747165558.331\n",
      "Step: 5091 Beam (not cumulative) min: 26.12 median: 30.13 max: 36.18\n",
      "Step: 5101 Beam (not cumulative) min: 26.70 median: 30.10 max: 36.44\n",
      "Time: 0.1 t_moves  0.000, t_hash  0.000, t_isin 0.003, t_unique_els  0.054, t_full_step 0.115\n",
      "Step: 5111 Beam (not cumulative) min: 26.65 median: 30.14 max: 35.65\n",
      "Time: 0.0 t_moves  0.000, t_hash  0.000, t_isin 0.002, t_unique_els  0.054, t_full_step 1747165560.148\n",
      "Step: 5121 Beam (not cumulative) min: 26.48 median: 30.13 max: 36.56\n",
      "Step: 5131 Beam (not cumulative) min: 26.71 median: 30.10 max: 36.34\n",
      "Time: 0.1 t_moves  0.000, t_hash  0.000, t_isin 0.001, t_unique_els  0.054, t_full_step 0.112\n",
      "Step: 5141 Beam (not cumulative) min: 26.24 median: 30.11 max: 36.47\n",
      "Time: 0.0 t_moves  0.000, t_hash  0.000, t_isin 0.001, t_unique_els  0.053, t_full_step 1747165561.953\n",
      "Step: 5151 Beam (not cumulative) min: 26.50 median: 30.12 max: 37.15\n",
      "Step: 5161 Beam (not cumulative) min: 26.74 median: 30.12 max: 35.63\n",
      "Time: 0.1 t_moves  0.000, t_hash  0.000, t_isin 0.002, t_unique_els  0.054, t_full_step 0.114\n",
      "Step: 5171 Beam (not cumulative) min: 26.30 median: 30.09 max: 36.70\n",
      "Time: 0.0 t_moves  0.000, t_hash  0.000, t_isin 0.002, t_unique_els  0.054, t_full_step 1747165563.757\n",
      "Step: 5181 Beam (not cumulative) min: 26.53 median: 30.12 max: 36.04\n",
      "Step: 5191 Beam (not cumulative) min: 26.05 median: 30.13 max: 35.67\n",
      "Time: 0.1 t_moves  0.000, t_hash  0.000, t_isin 0.002, t_unique_els  0.053, t_full_step 0.113\n",
      "Step: 5201 Beam (not cumulative) min: 26.13 median: 30.15 max: 36.04\n",
      "Time: 0.0 t_moves  0.000, t_hash  0.000, t_isin 0.002, t_unique_els  0.054, t_full_step 1747165565.556\n",
      "Step: 5211 Beam (not cumulative) min: 26.42 median: 30.10 max: 36.40\n",
      "Step: 5221 Beam (not cumulative) min: 26.49 median: 30.10 max: 36.55\n",
      "Time: 0.1 t_moves  0.000, t_hash  0.000, t_isin 0.001, t_unique_els  0.054, t_full_step 0.112\n",
      "Step: 5231 Beam (not cumulative) min: 26.56 median: 30.13 max: 36.54\n",
      "Time: 0.0 t_moves  0.000, t_hash  0.000, t_isin 0.001, t_unique_els  0.055, t_full_step 1747165567.364\n",
      "Step: 5241 Beam (not cumulative) min: 26.05 median: 30.11 max: 36.44\n",
      "Step: 5251 Beam (not cumulative) min: 26.55 median: 30.08 max: 36.55\n",
      "Time: 0.1 t_moves  0.000, t_hash  0.000, t_isin 0.002, t_unique_els  0.053, t_full_step 0.111\n",
      "Step: 5261 Beam (not cumulative) min: 26.68 median: 30.11 max: 36.32\n",
      "Time: 0.0 t_moves  0.000, t_hash  0.000, t_isin 0.001, t_unique_els  0.053, t_full_step 1747165569.159\n",
      "Step: 5271 Beam (not cumulative) min: 26.64 median: 30.16 max: 35.93\n",
      "Step: 5281 Beam (not cumulative) min: 26.35 median: 30.13 max: 36.18\n",
      "Time: 0.1 t_moves  0.000, t_hash  0.000, t_isin 0.002, t_unique_els  0.054, t_full_step 0.114\n",
      "Step: 5291 Beam (not cumulative) min: 26.24 median: 30.09 max: 36.44\n",
      "Time: 0.0 t_moves  0.000, t_hash  0.000, t_isin 0.001, t_unique_els  0.054, t_full_step 1747165570.957\n",
      "Step: 5301 Beam (not cumulative) min: 26.14 median: 30.11 max: 35.85\n",
      "Step: 5311 Beam (not cumulative) min: 26.55 median: 30.12 max: 37.03\n",
      "Time: 0.1 t_moves  0.000, t_hash  0.000, t_isin 0.001, t_unique_els  0.054, t_full_step 0.114\n",
      "Step: 5321 Beam (not cumulative) min: 26.30 median: 30.14 max: 36.44\n",
      "Time: 0.0 t_moves  0.000, t_hash  0.000, t_isin 0.002, t_unique_els  0.054, t_full_step 1747165572.759\n",
      "Step: 5331 Beam (not cumulative) min: 26.64 median: 30.10 max: 36.10\n",
      "Step: 5341 Beam (not cumulative) min: 26.20 median: 30.12 max: 36.18\n",
      "Time: 0.1 t_moves  0.000, t_hash  0.001, t_isin 0.001, t_unique_els  0.053, t_full_step 0.113\n",
      "Step: 5351 Beam (not cumulative) min: 26.21 median: 30.10 max: 35.93\n",
      "Time: 0.0 t_moves  0.000, t_hash  0.000, t_isin 0.001, t_unique_els  0.054, t_full_step 1747165574.563\n",
      "Step: 5361 Beam (not cumulative) min: 26.63 median: 30.11 max: 36.67\n",
      "Step: 5371 Beam (not cumulative) min: 26.63 median: 30.11 max: 36.10\n",
      "Time: 0.1 t_moves  0.000, t_hash  0.000, t_isin 0.002, t_unique_els  0.053, t_full_step 0.113\n",
      "Step: 5381 Beam (not cumulative) min: 26.65 median: 30.15 max: 36.11\n",
      "Time: 0.0 t_moves  0.000, t_hash  0.000, t_isin 0.001, t_unique_els  0.054, t_full_step 1747165576.365\n",
      "Step: 5391 Beam (not cumulative) min: 26.05 median: 30.15 max: 36.70\n",
      "Step: 5401 Beam (not cumulative) min: 26.47 median: 30.09 max: 36.56\n",
      "Time: 0.1 t_moves  0.000, t_hash  0.000, t_isin 0.001, t_unique_els  0.054, t_full_step 0.114\n",
      "Step: 5411 Beam (not cumulative) min: 26.69 median: 30.10 max: 36.10\n",
      "Time: 0.0 t_moves  0.000, t_hash  0.000, t_isin 0.001, t_unique_els  0.055, t_full_step 1747165578.185\n",
      "Step: 5421 Beam (not cumulative) min: 26.50 median: 30.12 max: 35.84\n",
      "Step: 5431 Beam (not cumulative) min: 26.20 median: 30.16 max: 35.93\n",
      "Time: 0.1 t_moves  0.000, t_hash  0.000, t_isin 0.001, t_unique_els  0.055, t_full_step 0.114\n",
      "Step: 5441 Beam (not cumulative) min: 26.21 median: 30.11 max: 36.55\n",
      "Time: 0.0 t_moves  0.000, t_hash  0.001, t_isin 0.001, t_unique_els  0.054, t_full_step 1747165579.994\n",
      "Step: 5451 Beam (not cumulative) min: 26.72 median: 30.09 max: 36.13\n",
      "Step: 5461 Beam (not cumulative) min: 26.64 median: 30.12 max: 36.55\n",
      "Time: 0.1 t_moves  0.000, t_hash  0.000, t_isin 0.001, t_unique_els  0.053, t_full_step 0.113\n",
      "Step: 5471 Beam (not cumulative) min: 26.62 median: 30.14 max: 36.18\n",
      "Time: 0.0 t_moves  0.000, t_hash  0.000, t_isin 0.002, t_unique_els  0.054, t_full_step 1747165581.804\n",
      "Step: 5481 Beam (not cumulative) min: 26.20 median: 30.14 max: 36.44\n",
      "Step: 5491 Beam (not cumulative) min: 26.12 median: 30.14 max: 35.97\n",
      "Time: 0.1 t_moves  0.000, t_hash  0.000, t_isin 0.001, t_unique_els  0.054, t_full_step 0.113\n",
      "Step: 5501 Beam (not cumulative) min: 26.62 median: 30.10 max: 37.03\n",
      "Time: 0.0 t_moves  0.000, t_hash  0.000, t_isin 0.001, t_unique_els  0.054, t_full_step 1747165583.618\n",
      "Step: 5511 Beam (not cumulative) min: 26.69 median: 30.11 max: 36.44\n",
      "Step: 5521 Beam (not cumulative) min: 26.48 median: 30.14 max: 36.70\n",
      "Time: 0.1 t_moves  0.000, t_hash  0.000, t_isin 0.001, t_unique_els  0.052, t_full_step 0.111\n",
      "Step: 5531 Beam (not cumulative) min: 26.05 median: 30.12 max: 35.86\n",
      "Time: 0.0 t_moves  0.000, t_hash  0.000, t_isin 0.001, t_unique_els  0.054, t_full_step 1747165585.413\n",
      "Step: 5541 Beam (not cumulative) min: 26.12 median: 30.13 max: 35.74\n",
      "Step: 5551 Beam (not cumulative) min: 26.85 median: 30.10 max: 36.44\n",
      "Time: 0.1 t_moves  0.000, t_hash  0.000, t_isin 0.002, t_unique_els  0.053, t_full_step 0.112\n",
      "Step: 5561 Beam (not cumulative) min: 26.71 median: 30.14 max: 35.95\n",
      "Time: 0.0 t_moves  0.000, t_hash  0.000, t_isin 0.002, t_unique_els  0.054, t_full_step 1747165587.210\n",
      "Step: 5571 Beam (not cumulative) min: 26.49 median: 30.13 max: 35.72\n",
      "Step: 5581 Beam (not cumulative) min: 26.37 median: 30.12 max: 36.07\n",
      "Time: 0.1 t_moves  0.000, t_hash  0.000, t_isin 0.001, t_unique_els  0.052, t_full_step 0.112\n",
      "Step: 5591 Beam (not cumulative) min: 26.05 median: 30.10 max: 36.19\n",
      "Time: 0.0 t_moves  0.000, t_hash  0.000, t_isin 0.001, t_unique_els  0.055, t_full_step 1747165589.029\n",
      "Step: 5601 Beam (not cumulative) min: 26.73 median: 30.11 max: 36.63\n",
      "Step: 5611 Beam (not cumulative) min: 26.50 median: 30.14 max: 35.85\n",
      "Time: 0.1 t_moves  0.000, t_hash  0.000, t_isin 0.002, t_unique_els  0.054, t_full_step 0.114\n",
      "Step: 5621 Beam (not cumulative) min: 26.13 median: 30.12 max: 36.47\n",
      "Time: 0.0 t_moves  0.000, t_hash  0.000, t_isin 0.001, t_unique_els  0.054, t_full_step 1747165590.835\n",
      "Step: 5631 Beam (not cumulative) min: 26.48 median: 30.10 max: 36.55\n",
      "Step: 5641 Beam (not cumulative) min: 26.97 median: 30.09 max: 35.40\n",
      "Time: 0.1 t_moves  0.000, t_hash  0.000, t_isin 0.002, t_unique_els  0.053, t_full_step 0.113\n",
      "Step: 5651 Beam (not cumulative) min: 26.42 median: 30.12 max: 36.17\n",
      "Time: 0.0 t_moves  0.000, t_hash  0.000, t_isin 0.001, t_unique_els  0.052, t_full_step 1747165592.644\n",
      "Step: 5661 Beam (not cumulative) min: 26.48 median: 30.14 max: 35.76\n",
      "Step: 5671 Beam (not cumulative) min: 26.66 median: 30.10 max: 36.44\n",
      "Time: 0.1 t_moves  0.000, t_hash  0.000, t_isin 0.002, t_unique_els  0.054, t_full_step 0.114\n",
      "Step: 5681 Beam (not cumulative) min: 26.53 median: 30.09 max: 36.20\n",
      "Time: 0.0 t_moves  0.000, t_hash  0.000, t_isin 0.001, t_unique_els  0.054, t_full_step 1747165594.454\n",
      "Step: 5691 Beam (not cumulative) min: 26.47 median: 30.11 max: 35.36\n",
      "Step: 5701 Beam (not cumulative) min: 26.81 median: 30.14 max: 36.55\n",
      "Time: 0.1 t_moves  0.000, t_hash  0.000, t_isin 0.001, t_unique_els  0.054, t_full_step 0.113\n",
      "Step: 5711 Beam (not cumulative) min: 26.13 median: 30.12 max: 36.47\n",
      "Time: 0.0 t_moves  0.000, t_hash  0.000, t_isin 0.001, t_unique_els  0.054, t_full_step 1747165596.260\n",
      "Step: 5721 Beam (not cumulative) min: 26.37 median: 30.13 max: 35.56\n",
      "Step: 5731 Beam (not cumulative) min: 26.73 median: 30.10 max: 35.76\n",
      "Time: 0.1 t_moves  0.000, t_hash  0.000, t_isin 0.002, t_unique_els  0.054, t_full_step 0.114\n",
      "Step: 5741 Beam (not cumulative) min: 26.69 median: 30.11 max: 36.51\n",
      "Time: 0.0 t_moves  0.000, t_hash  0.000, t_isin 0.002, t_unique_els  0.053, t_full_step 1747165598.077\n",
      "Step: 5751 Beam (not cumulative) min: 26.48 median: 30.15 max: 35.84\n",
      "Step: 5761 Beam (not cumulative) min: 26.67 median: 30.12 max: 36.07\n",
      "Time: 0.1 t_moves  0.000, t_hash  0.000, t_isin 0.002, t_unique_els  0.054, t_full_step 0.114\n",
      "Step: 5771 Beam (not cumulative) min: 26.74 median: 30.11 max: 35.74\n",
      "Time: 0.0 t_moves  0.001, t_hash  0.000, t_isin 0.002, t_unique_els  0.053, t_full_step 1747165599.881\n",
      "Step: 5781 Beam (not cumulative) min: 26.53 median: 30.11 max: 36.40\n",
      "Step: 5791 Beam (not cumulative) min: 26.65 median: 30.12 max: 35.66\n",
      "Time: 0.1 t_moves  0.000, t_hash  0.000, t_isin 0.001, t_unique_els  0.054, t_full_step 0.114\n",
      "Step: 5801 Beam (not cumulative) min: 26.70 median: 30.16 max: 36.19\n",
      "Time: 0.0 t_moves  0.000, t_hash  0.000, t_isin 0.001, t_unique_els  0.054, t_full_step 1747165601.687\n",
      "Step: 5811 Beam (not cumulative) min: 26.61 median: 30.11 max: 35.74\n",
      "Step: 5821 Beam (not cumulative) min: 26.68 median: 30.09 max: 35.76\n",
      "Time: 0.1 t_moves  0.000, t_hash  0.000, t_isin 0.001, t_unique_els  0.056, t_full_step 0.116\n",
      "Step: 5831 Beam (not cumulative) min: 26.34 median: 30.14 max: 36.18\n",
      "Time: 0.0 t_moves  0.000, t_hash  0.000, t_isin 0.001, t_unique_els  0.053, t_full_step 1747165603.494\n",
      "Step: 5841 Beam (not cumulative) min: 26.13 median: 30.13 max: 36.19\n",
      "Step: 5851 Beam (not cumulative) min: 26.16 median: 30.13 max: 36.47\n",
      "Time: 0.1 t_moves  0.000, t_hash  0.000, t_isin 0.001, t_unique_els  0.054, t_full_step 0.115\n",
      "Step: 5861 Beam (not cumulative) min: 26.68 median: 30.07 max: 36.15\n",
      "Time: 0.0 t_moves  0.000, t_hash  0.000, t_isin 0.001, t_unique_els  0.054, t_full_step 1747165605.303\n",
      "Step: 5871 Beam (not cumulative) min: 26.72 median: 30.11 max: 36.70\n",
      "Step: 5881 Beam (not cumulative) min: 26.35 median: 30.13 max: 35.74\n",
      "Time: 0.1 t_moves  0.000, t_hash  0.000, t_isin 0.001, t_unique_els  0.054, t_full_step 0.114\n",
      "Step: 5891 Beam (not cumulative) min: 26.13 median: 30.14 max: 36.54\n",
      "Time: 0.0 t_moves  0.000, t_hash  0.000, t_isin 0.001, t_unique_els  0.055, t_full_step 1747165607.101\n",
      "Step: 5901 Beam (not cumulative) min: 26.48 median: 30.12 max: 36.46\n",
      "Step: 5911 Beam (not cumulative) min: 26.53 median: 30.11 max: 35.61\n",
      "Time: 0.1 t_moves  0.000, t_hash  0.000, t_isin 0.002, t_unique_els  0.053, t_full_step 0.112\n",
      "Step: 5921 Beam (not cumulative) min: 26.05 median: 30.09 max: 35.76\n",
      "Time: 0.0 t_moves  0.000, t_hash  0.000, t_isin 0.002, t_unique_els  0.054, t_full_step 1747165608.899\n",
      "Step: 5931 Beam (not cumulative) min: 26.51 median: 30.10 max: 36.04\n",
      "Step: 5941 Beam (not cumulative) min: 26.64 median: 30.13 max: 36.56\n",
      "Time: 0.1 t_moves  0.000, t_hash  0.001, t_isin 0.001, t_unique_els  0.053, t_full_step 0.112\n",
      "Step: 5951 Beam (not cumulative) min: 26.49 median: 30.15 max: 35.85\n",
      "Time: 0.0 t_moves  0.000, t_hash  0.000, t_isin 0.001, t_unique_els  0.054, t_full_step 1747165610.710\n",
      "Step: 5961 Beam (not cumulative) min: 26.05 median: 30.12 max: 35.73\n",
      "Step: 5971 Beam (not cumulative) min: 26.12 median: 30.10 max: 36.26\n",
      "Time: 0.1 t_moves  0.000, t_hash  0.000, t_isin 0.002, t_unique_els  0.054, t_full_step 0.113\n",
      "Step: 5981 Beam (not cumulative) min: 26.21 median: 30.10 max: 37.15\n",
      "Time: 0.0 t_moves  0.000, t_hash  0.000, t_isin 0.001, t_unique_els  0.054, t_full_step 1747165612.520\n",
      "Step: 5991 Beam (not cumulative) min: 26.81 median: 30.10 max: 36.55\n",
      "Step: 6001 Beam (not cumulative) min: 26.30 median: 30.11 max: 36.55\n",
      "Time: 0.1 t_moves  0.000, t_hash  0.000, t_isin 0.002, t_unique_els  0.054, t_full_step 0.114\n",
      "Step: 6011 Beam (not cumulative) min: 26.69 median: 30.11 max: 36.26\n",
      "Time: 0.0 t_moves  0.000, t_hash  0.000, t_isin 0.002, t_unique_els  0.054, t_full_step 1747165614.322\n",
      "Step: 6021 Beam (not cumulative) min: 26.05 median: 30.11 max: 35.74\n",
      "Step: 6031 Beam (not cumulative) min: 26.67 median: 30.13 max: 36.54\n",
      "Time: 0.1 t_moves  0.000, t_hash  0.000, t_isin 0.001, t_unique_els  0.054, t_full_step 0.113\n",
      "Step: 6041 Beam (not cumulative) min: 26.42 median: 30.15 max: 36.04\n",
      "Time: 0.0 t_moves  0.000, t_hash  0.000, t_isin 0.002, t_unique_els  0.054, t_full_step 1747165616.135\n",
      "Step: 6051 Beam (not cumulative) min: 26.69 median: 30.09 max: 36.55\n",
      "Step: 6061 Beam (not cumulative) min: 26.47 median: 30.09 max: 36.20\n",
      "Time: 0.1 t_moves  0.000, t_hash  0.000, t_isin 0.001, t_unique_els  0.054, t_full_step 0.113\n",
      "Step: 6071 Beam (not cumulative) min: 26.91 median: 30.14 max: 36.54\n",
      "Time: 0.0 t_moves  0.000, t_hash  0.000, t_isin 0.001, t_unique_els  0.054, t_full_step 1747165617.944\n",
      "Step: 6081 Beam (not cumulative) min: 26.66 median: 30.12 max: 36.04\n",
      "Step: 6091 Beam (not cumulative) min: 26.64 median: 30.10 max: 36.55\n",
      "Time: 0.1 t_moves  0.000, t_hash  0.000, t_isin 0.001, t_unique_els  0.053, t_full_step 0.112\n",
      "Step: 6101 Beam (not cumulative) min: 26.58 median: 30.12 max: 36.47\n",
      "Time: 0.0 t_moves  0.000, t_hash  0.000, t_isin 0.002, t_unique_els  0.053, t_full_step 1747165619.749\n",
      "Step: 6111 Beam (not cumulative) min: 26.84 median: 30.13 max: 36.56\n",
      "Step: 6121 Beam (not cumulative) min: 26.69 median: 30.11 max: 36.51\n",
      "Time: 0.1 t_moves  0.000, t_hash  0.001, t_isin 0.001, t_unique_els  0.054, t_full_step 0.113\n",
      "Step: 6131 Beam (not cumulative) min: 26.48 median: 30.07 max: 36.18\n",
      "Time: 0.0 t_moves  0.000, t_hash  0.001, t_isin 0.001, t_unique_els  0.053, t_full_step 1747165621.559\n",
      "Step: 6141 Beam (not cumulative) min: 26.50 median: 30.10 max: 36.44\n",
      "Step: 6151 Beam (not cumulative) min: 26.42 median: 30.12 max: 36.54\n",
      "Time: 0.1 t_moves  0.000, t_hash  0.001, t_isin 0.001, t_unique_els  0.055, t_full_step 0.114\n",
      "Step: 6161 Beam (not cumulative) min: 26.76 median: 30.10 max: 37.15\n",
      "Time: 0.0 t_moves  0.000, t_hash  0.000, t_isin 0.001, t_unique_els  0.055, t_full_step 1747165623.362\n",
      "Step: 6171 Beam (not cumulative) min: 26.65 median: 30.09 max: 35.86\n",
      "Step: 6181 Beam (not cumulative) min: 26.76 median: 30.12 max: 36.18\n",
      "Time: 0.1 t_moves  0.000, t_hash  0.000, t_isin 0.001, t_unique_els  0.054, t_full_step 0.112\n",
      "Step: 6191 Beam (not cumulative) min: 26.76 median: 30.15 max: 36.55\n",
      "Time: 0.0 t_moves  0.000, t_hash  0.000, t_isin 0.001, t_unique_els  0.054, t_full_step 1747165625.154\n",
      "Step: 6201 Beam (not cumulative) min: 26.74 median: 30.11 max: 36.19\n",
      "Step: 6211 Beam (not cumulative) min: 26.62 median: 30.09 max: 35.95\n",
      "Time: 0.1 t_moves  0.000, t_hash  0.000, t_isin 0.001, t_unique_els  0.054, t_full_step 0.113\n",
      "Step: 6221 Beam (not cumulative) min: 26.64 median: 30.12 max: 35.86\n",
      "Time: 0.0 t_moves  0.000, t_hash  0.000, t_isin 0.001, t_unique_els  0.053, t_full_step 1747165626.951\n",
      "Step: 6231 Beam (not cumulative) min: 26.42 median: 30.13 max: 36.55\n",
      "Step: 6241 Beam (not cumulative) min: 26.44 median: 30.11 max: 35.97\n",
      "Time: 0.1 t_moves  0.000, t_hash  0.000, t_isin 0.001, t_unique_els  0.054, t_full_step 0.113\n",
      "Step: 6251 Beam (not cumulative) min: 26.37 median: 30.11 max: 35.77\n",
      "Time: 0.0 t_moves  0.000, t_hash  0.000, t_isin 0.001, t_unique_els  0.054, t_full_step 1747165628.757\n",
      "Step: 6261 Beam (not cumulative) min: 26.62 median: 30.09 max: 37.03\n",
      "Step: 6271 Beam (not cumulative) min: 26.76 median: 30.12 max: 36.43\n",
      "Time: 0.1 t_moves  0.000, t_hash  0.000, t_isin 0.001, t_unique_els  0.053, t_full_step 0.112\n",
      "Step: 6281 Beam (not cumulative) min: 26.30 median: 30.13 max: 36.54\n",
      "Time: 0.0 t_moves  0.000, t_hash  0.000, t_isin 0.001, t_unique_els  0.055, t_full_step 1747165630.553\n",
      "Step: 6291 Beam (not cumulative) min: 26.48 median: 30.12 max: 35.28\n",
      "Step: 6301 Beam (not cumulative) min: 26.73 median: 30.13 max: 36.51\n",
      "Time: 0.1 t_moves  0.000, t_hash  0.001, t_isin 0.001, t_unique_els  0.053, t_full_step 0.114\n",
      "Step: 6311 Beam (not cumulative) min: 26.51 median: 30.10 max: 35.80\n",
      "Time: 0.0 t_moves  0.000, t_hash  0.000, t_isin 0.001, t_unique_els  0.054, t_full_step 1747165632.377\n",
      "Step: 6321 Beam (not cumulative) min: 26.66 median: 30.11 max: 36.55\n",
      "Step: 6331 Beam (not cumulative) min: 26.50 median: 30.15 max: 35.98\n",
      "Time: 0.1 t_moves  0.001, t_hash  0.000, t_isin 0.001, t_unique_els  0.053, t_full_step 0.113\n",
      "Step: 6341 Beam (not cumulative) min: 26.48 median: 30.12 max: 36.20\n",
      "Time: 0.0 t_moves  0.000, t_hash  0.000, t_isin 0.001, t_unique_els  0.054, t_full_step 1747165634.179\n",
      "Step: 6351 Beam (not cumulative) min: 26.52 median: 30.11 max: 35.90\n",
      "Step: 6361 Beam (not cumulative) min: 26.54 median: 30.09 max: 36.44\n",
      "Time: 0.1 t_moves  0.000, t_hash  0.001, t_isin 0.001, t_unique_els  0.053, t_full_step 0.112\n",
      "Step: 6371 Beam (not cumulative) min: 26.69 median: 30.14 max: 35.84\n",
      "Time: 0.0 t_moves  0.000, t_hash  0.000, t_isin 0.002, t_unique_els  0.054, t_full_step 1747165635.984\n",
      "Step: 6381 Beam (not cumulative) min: 26.35 median: 30.12 max: 35.74\n",
      "Step: 6391 Beam (not cumulative) min: 26.71 median: 30.10 max: 36.20\n",
      "Time: 0.1 t_moves  0.001, t_hash  0.000, t_isin 0.001, t_unique_els  0.054, t_full_step 0.115\n",
      "Step: 6401 Beam (not cumulative) min: 26.51 median: 30.11 max: 36.10\n",
      "Time: 0.0 t_moves  0.000, t_hash  0.000, t_isin 0.001, t_unique_els  0.054, t_full_step 1747165637.800\n",
      "Step: 6411 Beam (not cumulative) min: 26.74 median: 30.15 max: 36.26\n",
      "Step: 6421 Beam (not cumulative) min: 26.82 median: 30.13 max: 36.63\n",
      "Time: 0.1 t_moves  0.000, t_hash  0.000, t_isin 0.001, t_unique_els  0.054, t_full_step 0.114\n",
      "Step: 6431 Beam (not cumulative) min: 26.69 median: 30.11 max: 35.63\n",
      "Time: 0.0 t_moves  0.000, t_hash  0.000, t_isin 0.001, t_unique_els  0.054, t_full_step 1747165639.615\n",
      "Step: 6441 Beam (not cumulative) min: 26.76 median: 30.10 max: 35.48\n",
      "Step: 6451 Beam (not cumulative) min: 26.62 median: 30.10 max: 36.40\n",
      "Time: 0.1 t_moves  0.000, t_hash  0.000, t_isin 0.002, t_unique_els  0.053, t_full_step 0.113\n",
      "Step: 6461 Beam (not cumulative) min: 26.76 median: 30.12 max: 35.72\n",
      "Time: 0.0 t_moves  0.000, t_hash  0.000, t_isin 0.001, t_unique_els  0.054, t_full_step 1747165641.415\n",
      "Step: 6471 Beam (not cumulative) min: 26.44 median: 30.14 max: 36.20\n",
      "Step: 6481 Beam (not cumulative) min: 26.26 median: 30.13 max: 35.69\n",
      "Time: 0.1 t_moves  0.000, t_hash  0.000, t_isin 0.003, t_unique_els  0.055, t_full_step 0.116\n",
      "Step: 6491 Beam (not cumulative) min: 26.73 median: 30.09 max: 36.20\n",
      "Time: 0.0 t_moves  0.000, t_hash  0.000, t_isin 0.001, t_unique_els  0.054, t_full_step 1747165643.233\n",
      "Step: 6501 Beam (not cumulative) min: 26.62 median: 30.08 max: 35.26\n",
      "Step: 6511 Beam (not cumulative) min: 26.58 median: 30.17 max: 36.47\n",
      "Time: 0.1 t_moves  0.001, t_hash  0.000, t_isin 0.001, t_unique_els  0.053, t_full_step 0.112\n",
      "Step: 6521 Beam (not cumulative) min: 26.24 median: 30.14 max: 36.51\n",
      "Time: 0.0 t_moves  0.000, t_hash  0.000, t_isin 0.001, t_unique_els  0.054, t_full_step 1747165645.031\n",
      "Step: 6531 Beam (not cumulative) min: 26.19 median: 30.11 max: 36.10\n",
      "Step: 6541 Beam (not cumulative) min: 26.51 median: 30.08 max: 36.19\n",
      "Time: 0.1 t_moves  0.000, t_hash  0.000, t_isin 0.001, t_unique_els  0.054, t_full_step 0.114\n",
      "Step: 6551 Beam (not cumulative) min: 26.71 median: 30.12 max: 36.11\n",
      "Time: 0.0 t_moves  0.000, t_hash  0.000, t_isin 0.001, t_unique_els  0.053, t_full_step 1747165646.839\n",
      "Step: 6561 Beam (not cumulative) min: 26.74 median: 30.15 max: 36.56\n",
      "Step: 6571 Beam (not cumulative) min: 26.74 median: 30.13 max: 36.01\n",
      "Time: 0.1 t_moves  0.000, t_hash  0.000, t_isin 0.002, t_unique_els  0.053, t_full_step 0.113\n",
      "Step: 6581 Beam (not cumulative) min: 26.35 median: 30.14 max: 36.06\n",
      "Time: 0.0 t_moves  0.000, t_hash  0.000, t_isin 0.001, t_unique_els  0.054, t_full_step 1747165648.647\n",
      "Step: 6591 Beam (not cumulative) min: 26.38 median: 30.14 max: 36.19\n",
      "Step: 6601 Beam (not cumulative) min: 26.73 median: 30.11 max: 36.34\n",
      "Time: 0.1 t_moves  0.000, t_hash  0.000, t_isin 0.002, t_unique_els  0.053, t_full_step 0.112\n",
      "Step: 6611 Beam (not cumulative) min: 26.71 median: 30.09 max: 36.54\n",
      "Time: 0.0 t_moves  0.000, t_hash  0.000, t_isin 0.001, t_unique_els  0.053, t_full_step 1747165650.454\n",
      "Step: 6621 Beam (not cumulative) min: 26.35 median: 30.10 max: 36.01\n",
      "Step: 6631 Beam (not cumulative) min: 26.26 median: 30.13 max: 36.55\n",
      "Time: 0.1 t_moves  0.000, t_hash  0.000, t_isin 0.001, t_unique_els  0.054, t_full_step 0.114\n",
      "Step: 6641 Beam (not cumulative) min: 26.74 median: 30.09 max: 36.28\n",
      "Time: 0.0 t_moves  0.000, t_hash  0.000, t_isin 0.001, t_unique_els  0.054, t_full_step 1747165652.259\n",
      "Step: 6651 Beam (not cumulative) min: 26.61 median: 30.11 max: 35.93\n",
      "Step: 6661 Beam (not cumulative) min: 26.34 median: 30.10 max: 35.67\n",
      "Time: 0.1 t_moves  0.000, t_hash  0.000, t_isin 0.001, t_unique_els  0.054, t_full_step 0.113\n",
      "Step: 6671 Beam (not cumulative) min: 26.05 median: 30.13 max: 36.44\n",
      "Time: 0.0 t_moves  0.000, t_hash  0.000, t_isin 0.001, t_unique_els  0.054, t_full_step 1747165654.060\n",
      "Step: 6681 Beam (not cumulative) min: 26.16 median: 30.11 max: 36.28\n",
      "Step: 6691 Beam (not cumulative) min: 26.42 median: 30.11 max: 35.42\n",
      "Time: 0.1 t_moves  0.000, t_hash  0.001, t_isin 0.001, t_unique_els  0.053, t_full_step 0.113\n",
      "Step: 6701 Beam (not cumulative) min: 26.37 median: 30.10 max: 36.51\n",
      "Time: 0.0 t_moves  0.000, t_hash  0.000, t_isin 0.001, t_unique_els  0.053, t_full_step 1747165655.859\n",
      "Step: 6711 Beam (not cumulative) min: 26.05 median: 30.12 max: 35.79\n",
      "Step: 6721 Beam (not cumulative) min: 26.05 median: 30.10 max: 36.34\n",
      "Time: 0.1 t_moves  0.000, t_hash  0.000, t_isin 0.002, t_unique_els  0.053, t_full_step 0.112\n",
      "Step: 6731 Beam (not cumulative) min: 26.43 median: 30.08 max: 35.56\n",
      "Time: 0.0 t_moves  0.000, t_hash  0.000, t_isin 0.002, t_unique_els  0.053, t_full_step 1747165657.662\n",
      "Step: 6741 Beam (not cumulative) min: 26.49 median: 30.11 max: 35.76\n",
      "Step: 6751 Beam (not cumulative) min: 26.56 median: 30.13 max: 36.56\n",
      "Time: 0.1 t_moves  0.000, t_hash  0.000, t_isin 0.002, t_unique_els  0.053, t_full_step 0.113\n",
      "Step: 6761 Beam (not cumulative) min: 26.05 median: 30.12 max: 35.79\n",
      "Time: 0.0 t_moves  0.000, t_hash  0.000, t_isin 0.002, t_unique_els  0.054, t_full_step 1747165659.455\n",
      "Step: 6771 Beam (not cumulative) min: 26.48 median: 30.07 max: 36.55\n",
      "Step: 6781 Beam (not cumulative) min: 26.42 median: 30.09 max: 35.95\n",
      "Time: 0.1 t_moves  0.000, t_hash  0.000, t_isin 0.001, t_unique_els  0.053, t_full_step 0.113\n",
      "Step: 6791 Beam (not cumulative) min: 26.71 median: 30.14 max: 36.56\n",
      "Time: 0.0 t_moves  0.000, t_hash  0.001, t_isin 0.001, t_unique_els  0.055, t_full_step 1747165661.259\n",
      "Step: 6801 Beam (not cumulative) min: 26.35 median: 30.12 max: 36.47\n",
      "Step: 6811 Beam (not cumulative) min: 26.26 median: 30.08 max: 37.15\n",
      "Time: 0.1 t_moves  0.000, t_hash  0.000, t_isin 0.002, t_unique_els  0.054, t_full_step 0.113\n",
      "Step: 6821 Beam (not cumulative) min: 26.70 median: 30.07 max: 36.08\n",
      "Time: 0.0 t_moves  0.000, t_hash  0.000, t_isin 0.002, t_unique_els  0.053, t_full_step 1747165663.054\n",
      "Step: 6831 Beam (not cumulative) min: 26.72 median: 30.13 max: 36.04\n",
      "Step: 6841 Beam (not cumulative) min: 26.64 median: 30.13 max: 36.54\n",
      "Time: 0.1 t_moves  0.000, t_hash  0.000, t_isin 0.001, t_unique_els  0.054, t_full_step 0.113\n",
      "Step: 6851 Beam (not cumulative) min: 26.65 median: 30.10 max: 36.18\n",
      "Time: 0.0 t_moves  0.000, t_hash  0.000, t_isin 0.001, t_unique_els  0.054, t_full_step 1747165664.851\n",
      "Step: 6861 Beam (not cumulative) min: 26.89 median: 30.09 max: 35.74\n",
      "Step: 6871 Beam (not cumulative) min: 26.73 median: 30.13 max: 36.19\n",
      "Time: 0.1 t_moves  0.000, t_hash  0.000, t_isin 0.001, t_unique_els  0.053, t_full_step 0.112\n",
      "Step: 6881 Beam (not cumulative) min: 26.13 median: 30.09 max: 36.17\n",
      "Time: 0.0 t_moves  0.000, t_hash  0.000, t_isin 0.001, t_unique_els  0.054, t_full_step 1747165666.651\n",
      "Step: 6891 Beam (not cumulative) min: 26.47 median: 30.08 max: 36.56\n",
      "Step: 6901 Beam (not cumulative) min: 26.69 median: 30.13 max: 36.21\n",
      "Time: 0.1 t_moves  0.000, t_hash  0.000, t_isin 0.001, t_unique_els  0.052, t_full_step 0.114\n",
      "Step: 6911 Beam (not cumulative) min: 26.35 median: 30.14 max: 36.44\n",
      "Time: 0.0 t_moves  0.000, t_hash  0.000, t_isin 0.002, t_unique_els  0.054, t_full_step 1747165668.448\n",
      "Step: 6921 Beam (not cumulative) min: 26.44 median: 30.06 max: 36.47\n",
      "Step: 6931 Beam (not cumulative) min: 26.47 median: 30.07 max: 35.99\n",
      "Time: 0.1 t_moves  0.000, t_hash  0.000, t_isin 0.001, t_unique_els  0.056, t_full_step 0.113\n",
      "Step: 6941 Beam (not cumulative) min: 26.50 median: 30.13 max: 36.54\n",
      "Time: 0.0 t_moves  0.000, t_hash  0.000, t_isin 0.001, t_unique_els  0.061, t_full_step 1747165670.333\n",
      "Step: 6951 Beam (not cumulative) min: 26.48 median: 30.13 max: 35.82\n",
      "Step: 6961 Beam (not cumulative) min: 26.48 median: 30.08 max: 36.44\n",
      "Time: 0.1 t_moves  0.000, t_hash  0.000, t_isin 0.002, t_unique_els  0.057, t_full_step 0.119\n",
      "Step: 6971 Beam (not cumulative) min: 26.51 median: 30.08 max: 35.94\n",
      "Time: 0.0 t_moves  0.000, t_hash  0.000, t_isin 0.002, t_unique_els  0.056, t_full_step 1747165672.259\n",
      "Step: 6981 Beam (not cumulative) min: 26.76 median: 30.12 max: 36.34\n",
      "Step: 6991 Beam (not cumulative) min: 26.65 median: 30.15 max: 36.51\n",
      "Time: 0.1 t_moves  0.000, t_hash  0.000, t_isin 0.002, t_unique_els  0.056, t_full_step 0.120\n",
      "Step: 7001 Beam (not cumulative) min: 26.65 median: 30.10 max: 36.18\n",
      "Time: 0.0 t_moves  0.000, t_hash  0.000, t_isin 0.001, t_unique_els  0.066, t_full_step 1747165674.168\n",
      "Step: 7011 Beam (not cumulative) min: 26.58 median: 30.10 max: 35.82\n",
      "Step: 7021 Beam (not cumulative) min: 26.85 median: 30.13 max: 36.55\n",
      "Time: 0.1 t_moves  0.000, t_hash  0.000, t_isin 0.002, t_unique_els  0.053, t_full_step 0.117\n",
      "Step: 7031 Beam (not cumulative) min: 26.50 median: 30.10 max: 35.98\n",
      "Time: 0.0 t_moves  0.000, t_hash  0.000, t_isin 0.002, t_unique_els  0.052, t_full_step 1747165676.013\n",
      "Step: 7041 Beam (not cumulative) min: 26.70 median: 30.07 max: 36.15\n",
      "Step: 7051 Beam (not cumulative) min: 26.44 median: 30.16 max: 35.94\n",
      "Time: 0.1 t_moves  0.000, t_hash  0.000, t_isin 0.001, t_unique_els  0.052, t_full_step 0.110\n",
      "Step: 7061 Beam (not cumulative) min: 26.26 median: 30.14 max: 36.21\n",
      "Time: 0.0 t_moves  0.000, t_hash  0.000, t_isin 0.002, t_unique_els  0.054, t_full_step 1747165677.821\n",
      "Step: 7071 Beam (not cumulative) min: 26.76 median: 30.11 max: 36.56\n",
      "Step: 7081 Beam (not cumulative) min: 26.72 median: 30.12 max: 36.55\n",
      "Time: 0.1 t_moves  0.000, t_hash  0.000, t_isin 0.001, t_unique_els  0.053, t_full_step 0.111\n",
      "Step: 7091 Beam (not cumulative) min: 26.43 median: 30.13 max: 36.70\n",
      "Time: 0.0 t_moves  0.000, t_hash  0.000, t_isin 0.002, t_unique_els  0.053, t_full_step 1747165679.627\n",
      "Step: 7101 Beam (not cumulative) min: 26.68 median: 30.12 max: 36.51\n",
      "Step: 7111 Beam (not cumulative) min: 26.47 median: 30.10 max: 36.04\n",
      "Time: 0.1 t_moves  0.000, t_hash  0.000, t_isin 0.002, t_unique_els  0.053, t_full_step 0.112\n",
      "Step: 7121 Beam (not cumulative) min: 26.50 median: 30.13 max: 36.55\n",
      "Time: 0.0 t_moves  0.000, t_hash  0.000, t_isin 0.001, t_unique_els  0.053, t_full_step 1747165681.417\n",
      "Step: 7131 Beam (not cumulative) min: 26.13 median: 30.11 max: 36.70\n",
      "Step: 7141 Beam (not cumulative) min: 26.48 median: 30.10 max: 36.34\n",
      "Time: 0.1 t_moves  0.000, t_hash  0.000, t_isin 0.002, t_unique_els  0.055, t_full_step 0.114\n",
      "Step: 7151 Beam (not cumulative) min: 26.53 median: 30.10 max: 36.26\n",
      "Time: 0.0 t_moves  0.001, t_hash  0.000, t_isin 0.002, t_unique_els  0.053, t_full_step 1747165683.228\n",
      "Step: 7161 Beam (not cumulative) min: 26.05 median: 30.12 max: 37.03\n",
      "Step: 7171 Beam (not cumulative) min: 26.26 median: 30.10 max: 35.55\n",
      "Time: 0.1 t_moves  0.000, t_hash  0.000, t_isin 0.002, t_unique_els  0.053, t_full_step 0.112\n",
      "Step: 7181 Beam (not cumulative) min: 26.65 median: 30.11 max: 35.85\n",
      "Time: 0.0 t_moves  0.000, t_hash  0.000, t_isin 0.001, t_unique_els  0.054, t_full_step 1747165685.022\n",
      "Step: 7191 Beam (not cumulative) min: 26.49 median: 30.14 max: 36.21\n",
      "Step: 7201 Beam (not cumulative) min: 26.05 median: 30.10 max: 36.34\n",
      "Time: 0.1 t_moves  0.000, t_hash  0.001, t_isin 0.001, t_unique_els  0.053, t_full_step 0.113\n",
      "Step: 7211 Beam (not cumulative) min: 26.61 median: 30.09 max: 35.76\n",
      "Time: 0.0 t_moves  0.000, t_hash  0.000, t_isin 0.002, t_unique_els  0.053, t_full_step 1747165686.821\n",
      "Step: 7221 Beam (not cumulative) min: 26.65 median: 30.08 max: 35.43\n",
      "Step: 7231 Beam (not cumulative) min: 26.44 median: 30.15 max: 36.21\n",
      "Time: 0.1 t_moves  0.000, t_hash  0.000, t_isin 0.002, t_unique_els  0.053, t_full_step 0.112\n",
      "Step: 7241 Beam (not cumulative) min: 26.35 median: 30.12 max: 35.77\n",
      "Time: 0.0 t_moves  0.000, t_hash  0.000, t_isin 0.001, t_unique_els  0.054, t_full_step 1747165688.634\n",
      "Step: 7251 Beam (not cumulative) min: 26.47 median: 30.09 max: 36.44\n",
      "Step: 7261 Beam (not cumulative) min: 26.64 median: 30.11 max: 37.03\n",
      "Time: 0.1 t_moves  0.000, t_hash  0.000, t_isin 0.001, t_unique_els  0.053, t_full_step 0.112\n",
      "Step: 7271 Beam (not cumulative) min: 26.43 median: 30.17 max: 35.64\n",
      "Time: 0.0 t_moves  0.000, t_hash  0.001, t_isin 0.001, t_unique_els  0.053, t_full_step 1747165690.424\n",
      "Step: 7281 Beam (not cumulative) min: 26.56 median: 30.11 max: 36.51\n",
      "Step: 7291 Beam (not cumulative) min: 26.47 median: 30.10 max: 35.74\n",
      "Time: 0.1 t_moves  0.000, t_hash  0.000, t_isin 0.001, t_unique_els  0.054, t_full_step 0.113\n",
      "Step: 7301 Beam (not cumulative) min: 26.50 median: 30.13 max: 36.19\n",
      "Time: 0.0 t_moves  0.000, t_hash  0.000, t_isin 0.001, t_unique_els  0.054, t_full_step 1747165692.227\n",
      "Step: 7311 Beam (not cumulative) min: 26.13 median: 30.17 max: 37.03\n",
      "Step: 7321 Beam (not cumulative) min: 26.48 median: 30.08 max: 36.28\n",
      "Time: 0.1 t_moves  0.000, t_hash  0.000, t_isin 0.002, t_unique_els  0.054, t_full_step 0.115\n",
      "Step: 7331 Beam (not cumulative) min: 26.69 median: 30.09 max: 35.85\n",
      "Time: 0.0 t_moves  0.000, t_hash  0.000, t_isin 0.001, t_unique_els  0.053, t_full_step 1747165694.031\n",
      "Step: 7341 Beam (not cumulative) min: 26.35 median: 30.14 max: 36.54\n",
      "Step: 7351 Beam (not cumulative) min: 26.20 median: 30.15 max: 35.94\n",
      "Time: 0.1 t_moves  0.000, t_hash  0.000, t_isin 0.003, t_unique_els  0.054, t_full_step 0.115\n",
      "Step: 7361 Beam (not cumulative) min: 26.51 median: 30.09 max: 36.70\n",
      "Time: 0.0 t_moves  0.000, t_hash  0.000, t_isin 0.001, t_unique_els  0.054, t_full_step 1747165695.834\n",
      "Step: 7371 Beam (not cumulative) min: 26.69 median: 30.07 max: 36.26\n",
      "Step: 7381 Beam (not cumulative) min: 26.64 median: 30.10 max: 35.44\n",
      "Time: 0.1 t_moves  0.000, t_hash  0.000, t_isin 0.003, t_unique_els  0.053, t_full_step 0.113\n",
      "Step: 7391 Beam (not cumulative) min: 26.38 median: 30.15 max: 35.76\n",
      "Time: 0.0 t_moves  0.000, t_hash  0.000, t_isin 0.001, t_unique_els  0.053, t_full_step 1747165697.635\n",
      "Step: 7401 Beam (not cumulative) min: 26.13 median: 30.12 max: 36.08\n",
      "Step: 7411 Beam (not cumulative) min: 26.48 median: 30.09 max: 36.44\n",
      "Time: 0.1 t_moves  0.000, t_hash  0.000, t_isin 0.001, t_unique_els  0.053, t_full_step 0.111\n",
      "Step: 7421 Beam (not cumulative) min: 26.50 median: 30.14 max: 35.97\n",
      "Time: 0.0 t_moves  0.001, t_hash  0.000, t_isin 0.002, t_unique_els  0.053, t_full_step 1747165699.431\n",
      "Step: 7431 Beam (not cumulative) min: 26.44 median: 30.12 max: 35.64\n",
      "Step: 7441 Beam (not cumulative) min: 26.37 median: 30.15 max: 35.73\n",
      "Time: 0.1 t_moves  0.000, t_hash  0.000, t_isin 0.002, t_unique_els  0.053, t_full_step 0.112\n",
      "Step: 7451 Beam (not cumulative) min: 26.79 median: 30.11 max: 36.01\n",
      "Time: 0.0 t_moves  0.000, t_hash  0.000, t_isin 0.002, t_unique_els  0.054, t_full_step 1747165701.236\n",
      "Step: 7461 Beam (not cumulative) min: 26.81 median: 30.11 max: 36.70\n",
      "Step: 7471 Beam (not cumulative) min: 26.65 median: 30.09 max: 35.99\n",
      "Time: 0.1 t_moves  0.000, t_hash  0.000, t_isin 0.002, t_unique_els  0.053, t_full_step 0.113\n",
      "Step: 7481 Beam (not cumulative) min: 26.42 median: 30.09 max: 35.84\n",
      "Time: 0.0 t_moves  0.000, t_hash  0.000, t_isin 0.001, t_unique_els  0.055, t_full_step 1747165703.035\n",
      "Step: 7491 Beam (not cumulative) min: 26.50 median: 30.13 max: 35.72\n",
      "Step: 7501 Beam (not cumulative) min: 26.13 median: 30.14 max: 36.01\n",
      "Time: 0.1 t_moves  0.000, t_hash  0.000, t_isin 0.002, t_unique_els  0.054, t_full_step 0.114\n",
      "Step: 7511 Beam (not cumulative) min: 26.48 median: 30.13 max: 36.70\n",
      "Time: 0.0 t_moves  0.000, t_hash  0.000, t_isin 0.001, t_unique_els  0.054, t_full_step 1747165704.840\n",
      "Step: 7521 Beam (not cumulative) min: 26.30 median: 30.08 max: 37.03\n",
      "Step: 7531 Beam (not cumulative) min: 26.48 median: 30.09 max: 35.79\n",
      "Time: 0.1 t_moves  0.000, t_hash  0.001, t_isin 0.001, t_unique_els  0.053, t_full_step 0.113\n",
      "Step: 7541 Beam (not cumulative) min: 26.56 median: 30.12 max: 36.10\n",
      "Time: 0.0 t_moves  0.000, t_hash  0.000, t_isin 0.002, t_unique_els  0.053, t_full_step 1747165706.640\n",
      "Step: 7551 Beam (not cumulative) min: 26.20 median: 30.13 max: 36.55\n",
      "Step: 7561 Beam (not cumulative) min: 26.12 median: 30.12 max: 36.28\n",
      "Time: 0.1 t_moves  0.000, t_hash  0.000, t_isin 0.002, t_unique_els  0.053, t_full_step 0.116\n",
      "Step: 7571 Beam (not cumulative) min: 26.70 median: 30.09 max: 36.34\n",
      "Time: 0.0 t_moves  0.000, t_hash  0.000, t_isin 0.001, t_unique_els  0.053, t_full_step 1747165708.439\n",
      "Step: 7581 Beam (not cumulative) min: 26.51 median: 30.12 max: 36.13\n",
      "Step: 7591 Beam (not cumulative) min: 26.35 median: 30.14 max: 36.54\n",
      "Time: 0.1 t_moves  0.000, t_hash  0.000, t_isin 0.001, t_unique_els  0.053, t_full_step 0.112\n",
      "Step: 7601 Beam (not cumulative) min: 26.26 median: 30.12 max: 35.97\n",
      "Time: 0.0 t_moves  0.000, t_hash  0.000, t_isin 0.001, t_unique_els  0.053, t_full_step 1747165710.235\n",
      "Step: 7611 Beam (not cumulative) min: 26.72 median: 30.10 max: 35.72\n",
      "Step: 7621 Beam (not cumulative) min: 26.62 median: 30.06 max: 35.84\n",
      "Time: 0.1 t_moves  0.000, t_hash  0.000, t_isin 0.001, t_unique_els  0.054, t_full_step 0.114\n",
      "Step: 7631 Beam (not cumulative) min: 26.83 median: 30.12 max: 36.10\n",
      "Time: 0.0 t_moves  0.000, t_hash  0.000, t_isin 0.001, t_unique_els  0.054, t_full_step 1747165712.024\n",
      "Step: 7641 Beam (not cumulative) min: 26.74 median: 30.14 max: 36.54\n",
      "Step: 7651 Beam (not cumulative) min: 26.81 median: 30.11 max: 36.02\n",
      "Time: 0.1 t_moves  0.000, t_hash  0.000, t_isin 0.001, t_unique_els  0.054, t_full_step 0.114\n",
      "Step: 7661 Beam (not cumulative) min: 26.64 median: 30.09 max: 36.34\n",
      "Time: 0.0 t_moves  0.000, t_hash  0.000, t_isin 0.001, t_unique_els  0.053, t_full_step 1747165713.831\n",
      "Step: 7671 Beam (not cumulative) min: 26.44 median: 30.11 max: 35.80\n",
      "Step: 7681 Beam (not cumulative) min: 26.37 median: 30.13 max: 36.19\n",
      "Time: 0.1 t_moves  0.000, t_hash  0.000, t_isin 0.001, t_unique_els  0.053, t_full_step 0.111\n",
      "Step: 7691 Beam (not cumulative) min: 26.64 median: 30.15 max: 36.28\n",
      "Time: 0.0 t_moves  0.000, t_hash  0.000, t_isin 0.001, t_unique_els  0.055, t_full_step 1747165715.623\n",
      "Step: 7701 Beam (not cumulative) min: 26.78 median: 30.11 max: 35.69\n",
      "Step: 7711 Beam (not cumulative) min: 26.62 median: 30.09 max: 36.20\n",
      "Time: 0.1 t_moves  0.000, t_hash  0.000, t_isin 0.001, t_unique_els  0.054, t_full_step 0.114\n",
      "Step: 7721 Beam (not cumulative) min: 26.76 median: 30.09 max: 36.56\n",
      "Time: 0.0 t_moves  0.000, t_hash  0.000, t_isin 0.001, t_unique_els  0.053, t_full_step 1747165717.431\n",
      "Step: 7731 Beam (not cumulative) min: 26.42 median: 30.14 max: 36.55\n",
      "Step: 7741 Beam (not cumulative) min: 26.76 median: 30.12 max: 35.71\n",
      "Time: 0.1 t_moves  0.000, t_hash  0.000, t_isin 0.001, t_unique_els  0.054, t_full_step 0.113\n",
      "Step: 7751 Beam (not cumulative) min: 26.62 median: 30.09 max: 37.15\n",
      "Time: 0.0 t_moves  0.000, t_hash  0.000, t_isin 0.002, t_unique_els  0.054, t_full_step 1747165719.231\n",
      "Step: 7761 Beam (not cumulative) min: 26.24 median: 30.10 max: 36.56\n",
      "Step: 7771 Beam (not cumulative) min: 26.21 median: 30.12 max: 35.60\n",
      "Time: 0.1 t_moves  0.000, t_hash  0.000, t_isin 0.001, t_unique_els  0.054, t_full_step 0.112\n",
      "Step: 7781 Beam (not cumulative) min: 26.42 median: 30.12 max: 35.71\n",
      "Time: 0.0 t_moves  0.000, t_hash  0.001, t_isin 0.001, t_unique_els  0.053, t_full_step 1747165721.023\n",
      "Step: 7791 Beam (not cumulative) min: 26.44 median: 30.08 max: 35.30\n",
      "Step: 7801 Beam (not cumulative) min: 26.37 median: 30.07 max: 35.33\n",
      "Time: 0.1 t_moves  0.000, t_hash  0.000, t_isin 0.001, t_unique_els  0.054, t_full_step 0.113\n",
      "Step: 7811 Beam (not cumulative) min: 26.38 median: 30.13 max: 37.03\n",
      "Time: 0.0 t_moves  0.000, t_hash  0.000, t_isin 0.002, t_unique_els  0.053, t_full_step 1747165722.832\n",
      "Step: 7821 Beam (not cumulative) min: 26.50 median: 30.12 max: 36.46\n",
      "Step: 7831 Beam (not cumulative) min: 26.44 median: 30.11 max: 36.54\n",
      "Time: 0.1 t_moves  0.000, t_hash  0.000, t_isin 0.001, t_unique_els  0.053, t_full_step 0.112\n",
      "Step: 7841 Beam (not cumulative) min: 26.37 median: 30.08 max: 35.79\n",
      "Time: 0.0 t_moves  0.000, t_hash  0.000, t_isin 0.002, t_unique_els  0.054, t_full_step 1747165724.633\n",
      "Step: 7851 Beam (not cumulative) min: 26.51 median: 30.10 max: 35.65\n",
      "Step: 7861 Beam (not cumulative) min: 26.64 median: 30.09 max: 36.44\n",
      "Time: 0.1 t_moves  0.000, t_hash  0.000, t_isin 0.001, t_unique_els  0.052, t_full_step 0.111\n",
      "Step: 7871 Beam (not cumulative) min: 26.50 median: 30.12 max: 36.54\n",
      "Time: 0.0 t_moves  0.000, t_hash  0.000, t_isin 0.001, t_unique_els  0.054, t_full_step 1747165726.426\n",
      "Step: 7881 Beam (not cumulative) min: 26.13 median: 30.11 max: 35.85\n",
      "Step: 7891 Beam (not cumulative) min: 26.16 median: 30.12 max: 35.77\n",
      "Time: 0.1 t_moves  0.000, t_hash  0.001, t_isin 0.001, t_unique_els  0.053, t_full_step 0.113\n",
      "Step: 7901 Beam (not cumulative) min: 26.84 median: 30.11 max: 35.94\n",
      "Time: 0.0 t_moves  0.001, t_hash  0.000, t_isin 0.002, t_unique_els  0.053, t_full_step 1747165728.231\n",
      "Step: 7911 Beam (not cumulative) min: 26.68 median: 30.10 max: 36.34\n",
      "Step: 7921 Beam (not cumulative) min: 26.53 median: 30.11 max: 36.43\n",
      "Time: 0.1 t_moves  0.000, t_hash  0.000, t_isin 0.002, t_unique_els  0.054, t_full_step 0.113\n",
      "Step: 7931 Beam (not cumulative) min: 26.48 median: 30.05 max: 37.15\n",
      "Time: 0.0 t_moves  0.000, t_hash  0.000, t_isin 0.001, t_unique_els  0.053, t_full_step 1747165730.024\n",
      "Step: 7941 Beam (not cumulative) min: 26.76 median: 30.16 max: 35.91\n",
      "Step: 7951 Beam (not cumulative) min: 26.69 median: 30.12 max: 35.74\n",
      "Time: 0.1 t_moves  0.000, t_hash  0.000, t_isin 0.001, t_unique_els  0.054, t_full_step 0.113\n",
      "Step: 7961 Beam (not cumulative) min: 26.53 median: 30.11 max: 37.03\n",
      "Time: 0.0 t_moves  0.000, t_hash  0.000, t_isin 0.001, t_unique_els  0.054, t_full_step 1747165731.826\n",
      "Step: 7971 Beam (not cumulative) min: 26.05 median: 30.10 max: 37.15\n",
      "Step: 7981 Beam (not cumulative) min: 26.55 median: 30.13 max: 35.85\n",
      "Time: 0.1 t_moves  0.000, t_hash  0.000, t_isin 0.001, t_unique_els  0.054, t_full_step 0.113\n",
      "Step: 7991 Beam (not cumulative) min: 26.48 median: 30.09 max: 36.54\n",
      "Time: 0.0 t_moves  0.000, t_hash  0.000, t_isin 0.001, t_unique_els  0.055, t_full_step 1747165733.634\n",
      "Step: 8001 Beam (not cumulative) min: 26.49 median: 30.12 max: 36.32\n",
      "Step: 8011 Beam (not cumulative) min: 26.05 median: 30.10 max: 36.34\n",
      "Time: 0.1 t_moves  0.000, t_hash  0.000, t_isin 0.002, t_unique_els  0.054, t_full_step 0.113\n",
      "Step: 8021 Beam (not cumulative) min: 26.05 median: 30.12 max: 35.71\n",
      "Time: 0.0 t_moves  0.000, t_hash  0.000, t_isin 0.001, t_unique_els  0.055, t_full_step 1747165735.435\n",
      "Step: 8031 Beam (not cumulative) min: 26.73 median: 30.12 max: 35.72\n",
      "Step: 8041 Beam (not cumulative) min: 26.49 median: 30.10 max: 36.19\n",
      "Time: 0.1 t_moves  0.000, t_hash  0.000, t_isin 0.001, t_unique_els  0.054, t_full_step 0.114\n",
      "Step: 8051 Beam (not cumulative) min: 26.69 median: 30.14 max: 35.72\n",
      "Time: 0.0 t_moves  0.001, t_hash  0.000, t_isin 0.002, t_unique_els  0.054, t_full_step 1747165737.239\n",
      "Step: 8061 Beam (not cumulative) min: 26.05 median: 30.13 max: 36.51\n",
      "Step: 8071 Beam (not cumulative) min: 26.73 median: 30.11 max: 35.59\n",
      "Time: 0.1 t_moves  0.000, t_hash  0.000, t_isin 0.001, t_unique_els  0.054, t_full_step 0.112\n",
      "Step: 8081 Beam (not cumulative) min: 26.35 median: 30.10 max: 35.56\n",
      "Time: 0.0 t_moves  0.000, t_hash  0.000, t_isin 0.001, t_unique_els  0.054, t_full_step 1747165739.034\n",
      "Step: 8091 Beam (not cumulative) min: 26.43 median: 30.12 max: 35.52\n",
      "Step: 8101 Beam (not cumulative) min: 26.72 median: 30.10 max: 36.55\n",
      "Time: 0.1 t_moves  0.000, t_hash  0.000, t_isin 0.001, t_unique_els  0.053, t_full_step 0.114\n",
      "Step: 8111 Beam (not cumulative) min: 26.66 median: 30.12 max: 36.34\n",
      "Time: 0.0 t_moves  0.000, t_hash  0.000, t_isin 0.001, t_unique_els  0.054, t_full_step 1747165740.836\n",
      "Step: 8121 Beam (not cumulative) min: 26.62 median: 30.12 max: 36.44\n",
      "Step: 8131 Beam (not cumulative) min: 26.80 median: 30.11 max: 35.84\n",
      "Time: 0.1 t_moves  0.000, t_hash  0.000, t_isin 0.002, t_unique_els  0.054, t_full_step 0.114\n",
      "Step: 8141 Beam (not cumulative) min: 26.42 median: 30.11 max: 36.55\n",
      "Time: 0.0 t_moves  0.000, t_hash  0.000, t_isin 0.002, t_unique_els  0.052, t_full_step 1747165742.642\n",
      "Step: 8151 Beam (not cumulative) min: 26.72 median: 30.11 max: 37.03\n",
      "Step: 8161 Beam (not cumulative) min: 26.53 median: 30.11 max: 37.15\n",
      "Time: 0.1 t_moves  0.000, t_hash  0.001, t_isin 0.001, t_unique_els  0.054, t_full_step 0.114\n",
      "Step: 8171 Beam (not cumulative) min: 26.79 median: 30.12 max: 35.77\n",
      "Time: 0.0 t_moves  0.000, t_hash  0.000, t_isin 0.002, t_unique_els  0.054, t_full_step 1747165744.438\n",
      "Step: 8181 Beam (not cumulative) min: 26.64 median: 30.11 max: 36.44\n",
      "Step: 8191 Beam (not cumulative) min: 26.68 median: 30.09 max: 36.70\n",
      "Time: 0.1 t_moves  0.000, t_hash  0.000, t_isin 0.001, t_unique_els  0.052, t_full_step 0.110\n",
      "Step: 8201 Beam (not cumulative) min: 26.24 median: 30.11 max: 36.40\n",
      "Time: 0.0 t_moves  0.000, t_hash  0.000, t_isin 0.001, t_unique_els  0.054, t_full_step 1747165746.229\n",
      "Step: 8211 Beam (not cumulative) min: 26.21 median: 30.13 max: 36.01\n",
      "Step: 8221 Beam (not cumulative) min: 26.47 median: 30.09 max: 35.43\n",
      "Time: 0.1 t_moves  0.000, t_hash  0.000, t_isin 0.002, t_unique_els  0.054, t_full_step 0.114\n",
      "Step: 8231 Beam (not cumulative) min: 26.30 median: 30.07 max: 36.19\n",
      "Time: 0.0 t_moves  0.000, t_hash  0.000, t_isin 0.001, t_unique_els  0.053, t_full_step 1747165748.030\n",
      "Step: 8241 Beam (not cumulative) min: 26.13 median: 30.12 max: 36.55\n",
      "Step: 8251 Beam (not cumulative) min: 26.05 median: 30.13 max: 36.51\n",
      "Time: 0.1 t_moves  0.000, t_hash  0.000, t_isin 0.002, t_unique_els  0.053, t_full_step 0.113\n",
      "Step: 8261 Beam (not cumulative) min: 26.51 median: 30.12 max: 35.85\n",
      "Time: 0.0 t_moves  0.000, t_hash  0.000, t_isin 0.002, t_unique_els  0.054, t_full_step 1747165749.824\n",
      "Step: 8271 Beam (not cumulative) min: 26.30 median: 30.08 max: 35.56\n",
      "Step: 8281 Beam (not cumulative) min: 26.37 median: 30.14 max: 36.70\n",
      "Time: 0.1 t_moves  0.000, t_hash  0.000, t_isin 0.001, t_unique_els  0.052, t_full_step 0.111\n",
      "Step: 8291 Beam (not cumulative) min: 26.05 median: 30.14 max: 36.54\n",
      "Time: 0.0 t_moves  0.000, t_hash  0.001, t_isin 0.001, t_unique_els  0.053, t_full_step 1747165751.611\n",
      "Step: 8301 Beam (not cumulative) min: 26.62 median: 30.10 max: 36.34\n",
      "Step: 8311 Beam (not cumulative) min: 26.71 median: 30.08 max: 35.79\n",
      "Time: 0.1 t_moves  0.000, t_hash  0.000, t_isin 0.001, t_unique_els  0.053, t_full_step 0.116\n",
      "Step: 8321 Beam (not cumulative) min: 26.24 median: 30.13 max: 36.44\n",
      "Time: 0.0 t_moves  0.000, t_hash  0.000, t_isin 0.002, t_unique_els  0.053, t_full_step 1747165753.415\n",
      "Step: 8331 Beam (not cumulative) min: 26.21 median: 30.13 max: 36.55\n",
      "Step: 8341 Beam (not cumulative) min: 26.16 median: 30.09 max: 36.54\n",
      "Time: 0.1 t_moves  0.000, t_hash  0.000, t_isin 0.002, t_unique_els  0.054, t_full_step 0.113\n",
      "Step: 8351 Beam (not cumulative) min: 26.51 median: 30.09 max: 37.15\n",
      "Time: 0.0 t_moves  0.000, t_hash  0.000, t_isin 0.002, t_unique_els  0.054, t_full_step 1747165755.218\n",
      "Step: 8361 Beam (not cumulative) min: 26.47 median: 30.12 max: 35.97\n",
      "Step: 8371 Beam (not cumulative) min: 26.16 median: 30.14 max: 37.03\n",
      "Time: 0.1 t_moves  0.000, t_hash  0.000, t_isin 0.001, t_unique_els  0.053, t_full_step 0.112\n",
      "Step: 8381 Beam (not cumulative) min: 26.76 median: 30.11 max: 36.55\n",
      "Time: 0.0 t_moves  0.000, t_hash  0.000, t_isin 0.001, t_unique_els  0.054, t_full_step 1747165757.011\n",
      "Step: 8391 Beam (not cumulative) min: 26.48 median: 30.10 max: 36.34\n",
      "Step: 8401 Beam (not cumulative) min: 26.61 median: 30.11 max: 36.56\n",
      "Time: 0.1 t_moves  0.000, t_hash  0.000, t_isin 0.002, t_unique_els  0.053, t_full_step 0.112\n",
      "Step: 8411 Beam (not cumulative) min: 26.38 median: 30.14 max: 37.03\n",
      "Time: 0.0 t_moves  0.000, t_hash  0.000, t_isin 0.001, t_unique_els  0.054, t_full_step 1747165758.802\n",
      "Step: 8421 Beam (not cumulative) min: 26.05 median: 30.10 max: 35.56\n",
      "Step: 8431 Beam (not cumulative) min: 26.37 median: 30.09 max: 36.19\n",
      "Time: 0.1 t_moves  0.000, t_hash  0.000, t_isin 0.001, t_unique_els  0.054, t_full_step 0.113\n",
      "Step: 8441 Beam (not cumulative) min: 26.51 median: 30.12 max: 35.84\n",
      "Time: 0.0 t_moves  0.000, t_hash  0.000, t_isin 0.001, t_unique_els  0.054, t_full_step 1747165760.597\n",
      "Step: 8451 Beam (not cumulative) min: 26.64 median: 30.13 max: 36.34\n",
      "Step: 8461 Beam (not cumulative) min: 26.35 median: 30.10 max: 36.20\n",
      "Time: 0.1 t_moves  0.000, t_hash  0.000, t_isin 0.001, t_unique_els  0.053, t_full_step 0.112\n",
      "Step: 8471 Beam (not cumulative) min: 26.26 median: 30.11 max: 35.67\n",
      "Time: 0.0 t_moves  0.000, t_hash  0.000, t_isin 0.003, t_unique_els  0.054, t_full_step 1747165762.393\n",
      "Step: 8481 Beam (not cumulative) min: 26.05 median: 30.12 max: 35.61\n",
      "Step: 8491 Beam (not cumulative) min: 26.64 median: 30.14 max: 36.46\n",
      "Time: 0.1 t_moves  0.000, t_hash  0.000, t_isin 0.001, t_unique_els  0.053, t_full_step 0.112\n",
      "Step: 8501 Beam (not cumulative) min: 26.43 median: 30.08 max: 36.56\n",
      "Time: 0.0 t_moves  0.000, t_hash  0.001, t_isin 0.001, t_unique_els  0.054, t_full_step 1747165764.196\n",
      "Step: 8511 Beam (not cumulative) min: 26.42 median: 30.11 max: 35.79\n",
      "Step: 8521 Beam (not cumulative) min: 26.70 median: 30.12 max: 36.51\n",
      "Time: 0.1 t_moves  0.000, t_hash  0.000, t_isin 0.001, t_unique_els  0.055, t_full_step 0.113\n",
      "Step: 8531 Beam (not cumulative) min: 26.64 median: 30.12 max: 35.71\n",
      "Time: 0.0 t_moves  0.000, t_hash  0.000, t_isin 0.002, t_unique_els  0.053, t_full_step 1747165765.991\n",
      "Step: 8541 Beam (not cumulative) min: 26.70 median: 30.09 max: 37.15\n",
      "Step: 8551 Beam (not cumulative) min: 26.42 median: 30.11 max: 36.55\n",
      "Time: 0.1 t_moves  0.000, t_hash  0.000, t_isin 0.001, t_unique_els  0.054, t_full_step 0.112\n",
      "Step: 8561 Beam (not cumulative) min: 26.70 median: 30.13 max: 36.20\n",
      "Time: 0.0 t_moves  0.000, t_hash  0.000, t_isin 0.001, t_unique_els  0.054, t_full_step 1747165767.793\n",
      "Step: 8571 Beam (not cumulative) min: 26.50 median: 30.12 max: 35.69\n",
      "Step: 8581 Beam (not cumulative) min: 26.13 median: 30.11 max: 36.44\n",
      "Time: 0.1 t_moves  0.000, t_hash  0.000, t_isin 0.002, t_unique_els  0.052, t_full_step 0.110\n",
      "Step: 8591 Beam (not cumulative) min: 26.42 median: 30.12 max: 37.15\n",
      "Time: 0.0 t_moves  0.000, t_hash  0.000, t_isin 0.002, t_unique_els  0.054, t_full_step 1747165769.583\n",
      "Step: 8601 Beam (not cumulative) min: 26.52 median: 30.12 max: 36.51\n",
      "Step: 8611 Beam (not cumulative) min: 26.44 median: 30.13 max: 37.03\n",
      "Time: 0.1 t_moves  0.000, t_hash  0.000, t_isin 0.002, t_unique_els  0.053, t_full_step 0.111\n",
      "Step: 8621 Beam (not cumulative) min: 26.37 median: 30.12 max: 35.81\n",
      "Time: 0.0 t_moves  0.000, t_hash  0.000, t_isin 0.002, t_unique_els  0.053, t_full_step 1747165771.376\n",
      "Step: 8631 Beam (not cumulative) min: 26.53 median: 30.10 max: 36.21\n",
      "Step: 8641 Beam (not cumulative) min: 26.34 median: 30.11 max: 35.72\n",
      "Time: 0.1 t_moves  0.000, t_hash  0.000, t_isin 0.001, t_unique_els  0.054, t_full_step 0.113\n",
      "Step: 8651 Beam (not cumulative) min: 26.35 median: 30.11 max: 36.70\n",
      "Time: 0.0 t_moves  0.000, t_hash  0.000, t_isin 0.001, t_unique_els  0.054, t_full_step 1747165773.181\n",
      "Step: 8661 Beam (not cumulative) min: 26.26 median: 30.11 max: 35.69\n",
      "Step: 8671 Beam (not cumulative) min: 26.53 median: 30.12 max: 36.47\n",
      "Time: 0.1 t_moves  0.000, t_hash  0.000, t_isin 0.001, t_unique_els  0.054, t_full_step 0.113\n",
      "Step: 8681 Beam (not cumulative) min: 26.47 median: 30.14 max: 37.15\n",
      "Time: 0.0 t_moves  0.000, t_hash  0.000, t_isin 0.001, t_unique_els  0.054, t_full_step 1747165774.977\n",
      "Step: 8691 Beam (not cumulative) min: 26.43 median: 30.12 max: 35.71\n",
      "Step: 8701 Beam (not cumulative) min: 26.53 median: 30.11 max: 35.40\n",
      "Time: 0.1 t_moves  0.000, t_hash  0.000, t_isin 0.001, t_unique_els  0.053, t_full_step 0.112\n",
      "Step: 8711 Beam (not cumulative) min: 26.05 median: 30.12 max: 36.55\n",
      "Time: 0.0 t_moves  0.000, t_hash  0.001, t_isin 0.001, t_unique_els  0.053, t_full_step 1747165776.781\n",
      "Step: 8721 Beam (not cumulative) min: 26.51 median: 30.14 max: 36.34\n",
      "Step: 8731 Beam (not cumulative) min: 26.43 median: 30.14 max: 35.74\n",
      "Time: 0.1 t_moves  0.000, t_hash  0.000, t_isin 0.002, t_unique_els  0.053, t_full_step 0.113\n",
      "Step: 8741 Beam (not cumulative) min: 26.56 median: 30.09 max: 35.43\n",
      "Time: 0.0 t_moves  0.000, t_hash  0.000, t_isin 0.002, t_unique_els  0.053, t_full_step 1747165778.588\n",
      "Step: 8751 Beam (not cumulative) min: 26.53 median: 30.10 max: 36.40\n",
      "Step: 8761 Beam (not cumulative) min: 26.05 median: 30.12 max: 35.60\n",
      "Time: 0.1 t_moves  0.000, t_hash  0.000, t_isin 0.001, t_unique_els  0.054, t_full_step 0.113\n",
      "Step: 8771 Beam (not cumulative) min: 26.35 median: 30.14 max: 36.56\n",
      "Time: 0.0 t_moves  0.000, t_hash  0.000, t_isin 0.001, t_unique_els  0.054, t_full_step 1747165780.387\n",
      "Step: 8781 Beam (not cumulative) min: 26.26 median: 30.10 max: 37.49\n",
      "Step: 8791 Beam (not cumulative) min: 26.66 median: 30.10 max: 36.20\n",
      "Time: 0.1 t_moves  0.000, t_hash  0.000, t_isin 0.001, t_unique_els  0.054, t_full_step 0.113\n",
      "Step: 8801 Beam (not cumulative) min: 26.51 median: 30.11 max: 36.40\n",
      "Time: 0.0 t_moves  0.000, t_hash  0.000, t_isin 0.001, t_unique_els  0.053, t_full_step 1747165782.188\n",
      "Step: 8811 Beam (not cumulative) min: 26.43 median: 30.10 max: 35.97\n",
      "Step: 8821 Beam (not cumulative) min: 26.84 median: 30.13 max: 36.56\n",
      "Time: 0.1 t_moves  0.000, t_hash  0.000, t_isin 0.001, t_unique_els  0.053, t_full_step 0.112\n",
      "Step: 8831 Beam (not cumulative) min: 26.53 median: 30.12 max: 36.55\n",
      "Time: 0.0 t_moves  0.000, t_hash  0.000, t_isin 0.002, t_unique_els  0.054, t_full_step 1747165783.988\n",
      "Step: 8841 Beam (not cumulative) min: 26.79 median: 30.13 max: 36.51\n",
      "Step: 8851 Beam (not cumulative) min: 26.74 median: 30.09 max: 35.97\n",
      "Time: 0.1 t_moves  0.000, t_hash  0.000, t_isin 0.002, t_unique_els  0.054, t_full_step 0.114\n",
      "Step: 8861 Beam (not cumulative) min: 26.61 median: 30.12 max: 36.47\n",
      "Time: 0.0 t_moves  0.000, t_hash  0.000, t_isin 0.001, t_unique_els  0.054, t_full_step 1747165785.778\n",
      "Step: 8871 Beam (not cumulative) min: 26.53 median: 30.11 max: 36.25\n",
      "Step: 8881 Beam (not cumulative) min: 26.73 median: 30.14 max: 35.76\n",
      "Time: 0.1 t_moves  0.000, t_hash  0.000, t_isin 0.001, t_unique_els  0.055, t_full_step 0.114\n",
      "Step: 8891 Beam (not cumulative) min: 26.84 median: 30.10 max: 35.43\n",
      "Time: 0.0 t_moves  0.000, t_hash  0.000, t_isin 0.002, t_unique_els  0.057, t_full_step 1747165787.577\n",
      "Step: 8901 Beam (not cumulative) min: 26.65 median: 30.08 max: 35.93\n",
      "Step: 8911 Beam (not cumulative) min: 26.53 median: 30.11 max: 35.67\n",
      "Time: 0.1 t_moves  0.000, t_hash  0.000, t_isin 0.002, t_unique_els  0.053, t_full_step 0.112\n",
      "Step: 8921 Beam (not cumulative) min: 26.35 median: 30.13 max: 36.26\n",
      "Time: 0.0 t_moves  0.000, t_hash  0.000, t_isin 0.001, t_unique_els  0.052, t_full_step 1747165789.372\n",
      "Step: 8931 Beam (not cumulative) min: 26.44 median: 30.14 max: 37.03\n",
      "Step: 8941 Beam (not cumulative) min: 26.26 median: 30.11 max: 35.55\n",
      "Time: 0.1 t_moves  0.000, t_hash  0.000, t_isin 0.002, t_unique_els  0.054, t_full_step 0.113\n",
      "Step: 8951 Beam (not cumulative) min: 26.42 median: 30.08 max: 35.86\n",
      "Time: 0.0 t_moves  0.000, t_hash  0.001, t_isin 0.001, t_unique_els  0.053, t_full_step 1747165791.172\n",
      "Step: 8961 Beam (not cumulative) min: 26.35 median: 30.11 max: 36.10\n",
      "Step: 8971 Beam (not cumulative) min: 26.47 median: 30.13 max: 36.44\n",
      "Time: 0.1 t_moves  0.000, t_hash  0.000, t_isin 0.001, t_unique_els  0.054, t_full_step 0.113\n",
      "Step: 8981 Beam (not cumulative) min: 26.48 median: 30.13 max: 36.08\n",
      "Time: 0.0 t_moves  0.000, t_hash  0.000, t_isin 0.002, t_unique_els  0.055, t_full_step 1747165792.970\n",
      "Step: 8991 Beam (not cumulative) min: 26.42 median: 30.12 max: 35.81\n",
      "Step: 9001 Beam (not cumulative) min: 26.51 median: 30.10 max: 36.44\n",
      "Time: 0.1 t_moves  0.000, t_hash  0.000, t_isin 0.002, t_unique_els  0.054, t_full_step 0.113\n",
      "Step: 9011 Beam (not cumulative) min: 26.47 median: 30.11 max: 36.55\n",
      "Time: 0.0 t_moves  0.000, t_hash  0.000, t_isin 0.002, t_unique_els  0.053, t_full_step 1747165794.769\n",
      "Step: 9021 Beam (not cumulative) min: 26.13 median: 30.13 max: 35.72\n",
      "Step: 9031 Beam (not cumulative) min: 26.48 median: 30.14 max: 35.93\n",
      "Time: 0.1 t_moves  0.000, t_hash  0.000, t_isin 0.002, t_unique_els  0.054, t_full_step 0.113\n",
      "Step: 9041 Beam (not cumulative) min: 26.51 median: 30.10 max: 36.51\n",
      "Time: 0.0 t_moves  0.000, t_hash  0.001, t_isin 0.001, t_unique_els  0.054, t_full_step 1747165796.566\n",
      "Step: 9051 Beam (not cumulative) min: 26.76 median: 30.12 max: 36.56\n",
      "Step: 9061 Beam (not cumulative) min: 26.16 median: 30.12 max: 37.03\n",
      "Time: 0.1 t_moves  0.000, t_hash  0.000, t_isin 0.002, t_unique_els  0.054, t_full_step 0.113\n",
      "Step: 9071 Beam (not cumulative) min: 26.13 median: 30.12 max: 36.19\n",
      "Time: 0.0 t_moves  0.000, t_hash  0.000, t_isin 0.002, t_unique_els  0.054, t_full_step 1747165798.364\n",
      "Step: 9081 Beam (not cumulative) min: 26.48 median: 30.08 max: 35.84\n",
      "Step: 9091 Beam (not cumulative) min: 26.53 median: 30.12 max: 36.47\n",
      "Time: 0.1 t_moves  0.000, t_hash  0.000, t_isin 0.001, t_unique_els  0.054, t_full_step 0.113\n",
      "Step: 9101 Beam (not cumulative) min: 26.05 median: 30.13 max: 36.55\n",
      "Time: 0.0 t_moves  0.000, t_hash  0.000, t_isin 0.001, t_unique_els  0.053, t_full_step 1747165800.166\n",
      "Step: 9111 Beam (not cumulative) min: 26.43 median: 30.12 max: 37.03\n",
      "Step: 9121 Beam (not cumulative) min: 26.53 median: 30.09 max: 35.42\n",
      "Time: 0.1 t_moves  0.000, t_hash  0.000, t_isin 0.001, t_unique_els  0.054, t_full_step 0.114\n",
      "Step: 9131 Beam (not cumulative) min: 26.49 median: 30.10 max: 35.84\n",
      "Time: 0.0 t_moves  0.000, t_hash  0.001, t_isin 0.001, t_unique_els  0.053, t_full_step 1747165801.966\n",
      "Step: 9141 Beam (not cumulative) min: 26.33 median: 30.12 max: 35.33\n",
      "Step: 9151 Beam (not cumulative) min: 26.12 median: 30.11 max: 36.02\n",
      "Time: 0.1 t_moves  0.000, t_hash  0.000, t_isin 0.001, t_unique_els  0.054, t_full_step 0.112\n",
      "Step: 9161 Beam (not cumulative) min: 26.61 median: 30.12 max: 35.97\n",
      "Time: 0.0 t_moves  0.000, t_hash  0.000, t_isin 0.001, t_unique_els  0.054, t_full_step 1747165803.767\n",
      "Step: 9171 Beam (not cumulative) min: 26.53 median: 30.12 max: 36.17\n",
      "Step: 9181 Beam (not cumulative) min: 26.16 median: 30.12 max: 36.03\n",
      "Time: 0.1 t_moves  0.000, t_hash  0.001, t_isin 0.001, t_unique_els  0.053, t_full_step 0.112\n",
      "Step: 9191 Beam (not cumulative) min: 26.21 median: 30.10 max: 37.15\n",
      "Time: 0.0 t_moves  0.000, t_hash  0.000, t_isin 0.001, t_unique_els  0.054, t_full_step 1747165805.567\n",
      "Step: 9201 Beam (not cumulative) min: 26.48 median: 30.12 max: 36.18\n",
      "Step: 9211 Beam (not cumulative) min: 26.30 median: 30.10 max: 36.04\n",
      "Time: 0.1 t_moves  0.000, t_hash  0.000, t_isin 0.002, t_unique_els  0.052, t_full_step 0.111\n",
      "Step: 9221 Beam (not cumulative) min: 26.72 median: 30.12 max: 36.34\n",
      "Time: 0.0 t_moves  0.000, t_hash  0.000, t_isin 0.002, t_unique_els  0.053, t_full_step 1747165807.354\n",
      "Step: 9231 Beam (not cumulative) min: 26.05 median: 30.10 max: 36.56\n",
      "Step: 9241 Beam (not cumulative) min: 26.76 median: 30.10 max: 36.51\n",
      "Time: 0.1 t_moves  0.000, t_hash  0.000, t_isin 0.002, t_unique_els  0.054, t_full_step 0.114\n",
      "Step: 9251 Beam (not cumulative) min: 26.48 median: 30.11 max: 36.70\n",
      "Time: 0.0 t_moves  0.000, t_hash  0.000, t_isin 0.002, t_unique_els  0.054, t_full_step 1747165809.151\n",
      "Step: 9261 Beam (not cumulative) min: 26.53 median: 30.12 max: 35.93\n",
      "Step: 9271 Beam (not cumulative) min: 26.44 median: 30.09 max: 36.56\n",
      "Time: 0.1 t_moves  0.000, t_hash  0.000, t_isin 0.001, t_unique_els  0.053, t_full_step 0.113\n",
      "Step: 9281 Beam (not cumulative) min: 26.37 median: 30.09 max: 36.55\n",
      "Time: 0.0 t_moves  0.000, t_hash  0.000, t_isin 0.001, t_unique_els  0.054, t_full_step 1747165810.947\n",
      "Step: 9291 Beam (not cumulative) min: 26.70 median: 30.10 max: 37.03\n",
      "Step: 9301 Beam (not cumulative) min: 26.65 median: 30.14 max: 36.44\n",
      "Time: 0.1 t_moves  0.000, t_hash  0.000, t_isin 0.002, t_unique_els  0.053, t_full_step 0.112\n",
      "Step: 9311 Beam (not cumulative) min: 26.30 median: 30.10 max: 37.15\n",
      "Time: 0.0 t_moves  0.000, t_hash  0.000, t_isin 0.002, t_unique_els  0.054, t_full_step 1747165812.750\n",
      "Step: 9321 Beam (not cumulative) min: 26.13 median: 30.11 max: 36.43\n",
      "Step: 9331 Beam (not cumulative) min: 26.48 median: 30.12 max: 36.34\n",
      "Time: 0.1 t_moves  0.000, t_hash  0.000, t_isin 0.001, t_unique_els  0.054, t_full_step 0.112\n",
      "Step: 9341 Beam (not cumulative) min: 26.88 median: 30.11 max: 36.44\n",
      "Time: 0.0 t_moves  0.000, t_hash  0.000, t_isin 0.002, t_unique_els  0.053, t_full_step 1747165814.549\n",
      "Step: 9351 Beam (not cumulative) min: 26.50 median: 30.12 max: 35.52\n",
      "Step: 9361 Beam (not cumulative) min: 26.13 median: 30.11 max: 36.26\n",
      "Time: 0.1 t_moves  0.000, t_hash  0.000, t_isin 0.001, t_unique_els  0.054, t_full_step 0.113\n",
      "Step: 9371 Beam (not cumulative) min: 26.48 median: 30.09 max: 36.34\n",
      "Time: 0.0 t_moves  0.000, t_hash  0.000, t_isin 0.001, t_unique_els  0.053, t_full_step 1747165816.341\n",
      "Step: 9381 Beam (not cumulative) min: 26.65 median: 30.14 max: 36.47\n",
      "Step: 9391 Beam (not cumulative) min: 26.50 median: 30.09 max: 35.52\n",
      "Time: 0.1 t_moves  0.000, t_hash  0.000, t_isin 0.002, t_unique_els  0.054, t_full_step 0.114\n",
      "Step: 9401 Beam (not cumulative) min: 26.13 median: 30.08 max: 36.20\n",
      "Time: 0.0 t_moves  0.000, t_hash  0.000, t_isin 0.001, t_unique_els  0.054, t_full_step 1747165818.141\n",
      "Step: 9411 Beam (not cumulative) min: 26.48 median: 30.13 max: 36.34\n",
      "Step: 9421 Beam (not cumulative) min: 26.69 median: 30.12 max: 35.79\n",
      "Time: 0.1 t_moves  0.000, t_hash  0.000, t_isin 0.001, t_unique_els  0.053, t_full_step 0.113\n",
      "Step: 9431 Beam (not cumulative) min: 26.50 median: 30.12 max: 36.43\n",
      "Time: 0.0 t_moves  0.001, t_hash  0.000, t_isin 0.001, t_unique_els  0.053, t_full_step 1747165819.938\n",
      "Step: 9441 Beam (not cumulative) min: 26.13 median: 30.11 max: 36.70\n",
      "Step: 9451 Beam (not cumulative) min: 26.48 median: 30.12 max: 35.93\n",
      "Time: 0.1 t_moves  0.000, t_hash  0.000, t_isin 0.001, t_unique_els  0.054, t_full_step 0.113\n",
      "Step: 9461 Beam (not cumulative) min: 26.65 median: 30.13 max: 35.84\n",
      "Time: 0.0 t_moves  0.000, t_hash  0.000, t_isin 0.001, t_unique_els  0.053, t_full_step 1747165821.737\n",
      "Step: 9471 Beam (not cumulative) min: 26.50 median: 30.10 max: 35.52\n",
      "Step: 9481 Beam (not cumulative) min: 26.13 median: 30.08 max: 36.26\n",
      "Time: 0.1 t_moves  0.000, t_hash  0.000, t_isin 0.002, t_unique_els  0.052, t_full_step 0.111\n",
      "Step: 9491 Beam (not cumulative) min: 26.24 median: 30.09 max: 35.79\n",
      "Time: 0.0 t_moves  0.000, t_hash  0.000, t_isin 0.002, t_unique_els  0.053, t_full_step 1747165823.532\n",
      "Step: 9501 Beam (not cumulative) min: 26.21 median: 30.14 max: 35.97\n",
      "Step: 9511 Beam (not cumulative) min: 26.42 median: 30.11 max: 36.51\n",
      "Time: 0.1 t_moves  0.001, t_hash  0.000, t_isin 0.001, t_unique_els  0.053, t_full_step 0.115\n",
      "Step: 9521 Beam (not cumulative) min: 26.16 median: 30.12 max: 36.55\n",
      "Time: 0.0 t_moves  0.000, t_hash  0.000, t_isin 0.001, t_unique_els  0.056, t_full_step 1747165825.335\n",
      "Step: 9531 Beam (not cumulative) min: 26.53 median: 30.10 max: 36.21\n",
      "Step: 9541 Beam (not cumulative) min: 26.38 median: 30.09 max: 35.73\n",
      "Time: 0.1 t_moves  0.000, t_hash  0.000, t_isin 0.002, t_unique_els  0.052, t_full_step 0.110\n",
      "Step: 9551 Beam (not cumulative) min: 26.20 median: 30.13 max: 36.01\n",
      "Time: 0.0 t_moves  0.001, t_hash  0.000, t_isin 0.001, t_unique_els  0.053, t_full_step 1747165827.119\n",
      "Step: 9561 Beam (not cumulative) min: 26.50 median: 30.13 max: 36.54\n",
      "Step: 9571 Beam (not cumulative) min: 26.65 median: 30.10 max: 36.44\n",
      "Time: 0.1 t_moves  0.000, t_hash  0.000, t_isin 0.001, t_unique_els  0.052, t_full_step 0.110\n",
      "Step: 9581 Beam (not cumulative) min: 26.34 median: 30.14 max: 35.84\n",
      "Time: 0.0 t_moves  0.000, t_hash  0.000, t_isin 0.002, t_unique_els  0.053, t_full_step 1747165828.899\n",
      "Step: 9591 Beam (not cumulative) min: 26.42 median: 30.09 max: 37.15\n",
      "Step: 9601 Beam (not cumulative) min: 26.16 median: 30.11 max: 35.81\n",
      "Time: 0.1 t_moves  0.000, t_hash  0.000, t_isin 0.001, t_unique_els  0.052, t_full_step 0.109\n",
      "Step: 9611 Beam (not cumulative) min: 26.47 median: 30.13 max: 36.17\n",
      "Time: 0.0 t_moves  0.000, t_hash  0.001, t_isin 0.001, t_unique_els  0.052, t_full_step 1747165830.666\n",
      "Step: 9621 Beam (not cumulative) min: 26.91 median: 30.12 max: 35.69\n",
      "Step: 9631 Beam (not cumulative) min: 26.50 median: 30.09 max: 35.48\n",
      "Time: 0.1 t_moves  0.000, t_hash  0.000, t_isin 0.002, t_unique_els  0.054, t_full_step 0.115\n",
      "Step: 9641 Beam (not cumulative) min: 26.74 median: 30.12 max: 36.56\n",
      "Time: 0.0 t_moves  0.000, t_hash  0.000, t_isin 0.002, t_unique_els  0.052, t_full_step 1747165832.464\n",
      "Step: 9651 Beam (not cumulative) min: 26.76 median: 30.12 max: 36.34\n",
      "Step: 9661 Beam (not cumulative) min: 26.50 median: 30.13 max: 35.95\n",
      "Time: 0.1 t_moves  0.000, t_hash  0.000, t_isin 0.002, t_unique_els  0.053, t_full_step 0.112\n",
      "Step: 9671 Beam (not cumulative) min: 26.65 median: 30.13 max: 36.28\n",
      "Time: 0.0 t_moves  0.000, t_hash  0.001, t_isin 0.001, t_unique_els  0.054, t_full_step 1747165834.281\n",
      "Step: 9681 Beam (not cumulative) min: 26.73 median: 30.11 max: 36.08\n",
      "Step: 9691 Beam (not cumulative) min: 26.84 median: 30.09 max: 36.56\n",
      "Time: 0.1 t_moves  0.000, t_hash  0.000, t_isin 0.002, t_unique_els  0.054, t_full_step 0.113\n",
      "Step: 9701 Beam (not cumulative) min: 26.84 median: 30.12 max: 36.01\n",
      "Time: 0.0 t_moves  0.000, t_hash  0.000, t_isin 0.001, t_unique_els  0.053, t_full_step 1747165836.082\n",
      "Step: 9711 Beam (not cumulative) min: 26.26 median: 30.13 max: 36.55\n",
      "Step: 9721 Beam (not cumulative) min: 26.42 median: 30.11 max: 37.03\n",
      "Time: 0.1 t_moves  0.000, t_hash  0.000, t_isin 0.001, t_unique_els  0.054, t_full_step 0.114\n",
      "Step: 9731 Beam (not cumulative) min: 26.48 median: 30.12 max: 35.77\n",
      "Time: 0.0 t_moves  0.000, t_hash  0.000, t_isin 0.002, t_unique_els  0.054, t_full_step 1747165837.890\n",
      "Step: 9741 Beam (not cumulative) min: 26.35 median: 30.14 max: 36.34\n",
      "Step: 9751 Beam (not cumulative) min: 26.70 median: 30.12 max: 36.55\n",
      "Time: 0.1 t_moves  0.000, t_hash  0.000, t_isin 0.001, t_unique_els  0.054, t_full_step 0.113\n",
      "Step: 9761 Beam (not cumulative) min: 26.71 median: 30.07 max: 35.97\n",
      "Time: 0.0 t_moves  0.000, t_hash  0.000, t_isin 0.001, t_unique_els  0.054, t_full_step 1747165839.686\n",
      "Step: 9771 Beam (not cumulative) min: 26.48 median: 30.10 max: 36.44\n",
      "Step: 9781 Beam (not cumulative) min: 26.50 median: 30.15 max: 35.84\n",
      "Time: 0.1 t_moves  0.000, t_hash  0.000, t_isin 0.002, t_unique_els  0.053, t_full_step 0.112\n",
      "Step: 9791 Beam (not cumulative) min: 26.74 median: 30.15 max: 36.02\n",
      "Time: 0.0 t_moves  0.000, t_hash  0.000, t_isin 0.002, t_unique_els  0.054, t_full_step 1747165841.473\n",
      "Step: 9801 Beam (not cumulative) min: 26.24 median: 30.12 max: 35.59\n",
      "Step: 9811 Beam (not cumulative) min: 26.19 median: 30.09 max: 36.70\n",
      "Time: 0.1 t_moves  0.000, t_hash  0.001, t_isin 0.001, t_unique_els  0.054, t_full_step 0.113\n",
      "Step: 9821 Beam (not cumulative) min: 26.62 median: 30.11 max: 36.40\n",
      "Time: 0.0 t_moves  0.000, t_hash  0.000, t_isin 0.002, t_unique_els  0.053, t_full_step 1747165843.273\n",
      "Step: 9831 Beam (not cumulative) min: 26.76 median: 30.16 max: 36.34\n",
      "Step: 9841 Beam (not cumulative) min: 26.73 median: 30.13 max: 36.46\n",
      "Time: 0.1 t_moves  0.000, t_hash  0.000, t_isin 0.001, t_unique_els  0.053, t_full_step 0.113\n",
      "Step: 9851 Beam (not cumulative) min: 26.42 median: 30.10 max: 36.04\n",
      "Time: 0.0 t_moves  0.000, t_hash  0.000, t_isin 0.001, t_unique_els  0.055, t_full_step 1747165845.079\n",
      "Step: 9861 Beam (not cumulative) min: 26.53 median: 30.11 max: 35.99\n",
      "Step: 9871 Beam (not cumulative) min: 26.70 median: 30.12 max: 35.79\n",
      "Time: 0.1 t_moves  0.000, t_hash  0.000, t_isin 0.001, t_unique_els  0.054, t_full_step 0.112\n",
      "Step: 9881 Beam (not cumulative) min: 26.58 median: 30.13 max: 36.51\n",
      "Time: 0.0 t_moves  0.000, t_hash  0.000, t_isin 0.002, t_unique_els  0.054, t_full_step 1747165846.880\n",
      "Step: 9891 Beam (not cumulative) min: 26.86 median: 30.15 max: 35.74\n",
      "Step: 9901 Beam (not cumulative) min: 26.45 median: 30.09 max: 36.18\n",
      "Time: 0.1 t_moves  0.000, t_hash  0.000, t_isin 0.001, t_unique_els  0.054, t_full_step 0.112\n",
      "Step: 9911 Beam (not cumulative) min: 26.48 median: 30.11 max: 36.20\n",
      "Time: 0.0 t_moves  0.001, t_hash  0.000, t_isin 0.001, t_unique_els  0.053, t_full_step 1747165848.684\n",
      "Step: 9921 Beam (not cumulative) min: 26.35 median: 30.13 max: 37.15\n",
      "Step: 9931 Beam (not cumulative) min: 26.49 median: 30.13 max: 36.29\n",
      "Time: 0.1 t_moves  0.000, t_hash  0.000, t_isin 0.002, t_unique_els  0.054, t_full_step 0.114\n",
      "Step: 9941 Beam (not cumulative) min: 26.62 median: 30.10 max: 35.61\n",
      "Time: 0.0 t_moves  0.000, t_hash  0.000, t_isin 0.001, t_unique_els  0.055, t_full_step 1747165850.486\n",
      "Step: 9951 Beam (not cumulative) min: 26.53 median: 30.09 max: 35.79\n",
      "Step: 9961 Beam (not cumulative) min: 26.70 median: 30.11 max: 35.81\n",
      "Time: 0.1 t_moves  0.000, t_hash  0.001, t_isin 0.001, t_unique_els  0.054, t_full_step 0.113\n",
      "Step: 9971 Beam (not cumulative) min: 26.84 median: 30.14 max: 36.54\n",
      "Time: 0.0 t_moves  0.000, t_hash  0.000, t_isin 0.002, t_unique_els  0.054, t_full_step 1747165852.286\n",
      "Step: 9981 Beam (not cumulative) min: 26.91 median: 30.11 max: 37.03\n",
      "Step: 9991 Beam (not cumulative) min: 26.47 median: 30.10 max: 36.47\n",
      "Time: 0.1 t_moves  0.000, t_hash  0.000, t_isin 0.001, t_unique_els  0.054, t_full_step 0.113\n",
      "\n",
      "{'n_permutations_length': 48, 'random_walks_type': 'non-backtracking-beam', 'n_random_walk_length': 66, 'n_random_walks_to_generate': 10000, 'n_random_walks_steps_back_to_ban': 8, 'model_type': 'MLP', 'list_layers_sizes': [8192], 'n_epochs': 100, 'batch_size': 1024, 'lr': 0.001, 'n_epochs_dqn': 300, 'flag_dqn_round': False, 'n_random_walks_to_generate_dqn': 1000, 'verbose_loc': 5, 'lr_dqn': 1e-06, 'beam_search_torch': True, 'beam_search_Fironov': False, 'beam_width': 10240, 'n_steps_limit': 10000, 'alpha_previous_cost_accumulation': 0, 'beam_search_models_or_heuristics': 'model_torch', 'ban_p0_p1_transposition_if_p0_lt_p1_ie_already_sorted': False, 'n_beam_search_steps_back_to_ban': 32, 'solve_random_or_longest_state': 'solve_LRX_longest', 'verbose': 100}\n",
      "\n",
      "beam_width: 10240\n",
      "n= 48\n",
      "n(n-1)/2= 1128\n",
      "Found Path Length: 10000 flag_found_destination: False\n"
     ]
    }
   ],
   "source": [
    "solver.config['beam_width'] = 1024*10\n",
    "i_step, flag_found_destination = solver.test_beam_search()"
   ]
  },
  {
   "cell_type": "code",
   "execution_count": null,
   "metadata": {},
   "outputs": [],
   "source": []
  },
  {
   "cell_type": "code",
   "execution_count": null,
   "metadata": {},
   "outputs": [],
   "source": []
  },
  {
   "cell_type": "code",
   "execution_count": null,
   "metadata": {},
   "outputs": [],
   "source": []
  },
  {
   "cell_type": "code",
   "execution_count": null,
   "metadata": {},
   "outputs": [],
   "source": []
  },
  {
   "cell_type": "code",
   "execution_count": 9,
   "metadata": {},
   "outputs": [
    {
     "name": "stdout",
     "output_type": "stream",
     "text": [
      "\n",
      "Training MLP model...\n"
     ]
    },
    {
     "name": "stderr",
     "output_type": "stream",
     "text": [
      "Training MLP:  33%|███▎      | 10/30 [00:05<00:09,  2.04it/s]"
     ]
    },
    {
     "name": "stdout",
     "output_type": "stream",
     "text": [
      "Epoch 10, Loss: 1.6647\n"
     ]
    },
    {
     "name": "stderr",
     "output_type": "stream",
     "text": [
      "Training MLP:  47%|████▋     | 14/30 [00:07<00:08,  1.89it/s]\n"
     ]
    },
    {
     "ename": "KeyboardInterrupt",
     "evalue": "",
     "output_type": "error",
     "traceback": [
      "\u001b[1;31m---------------------------------------------------------------------------\u001b[0m",
      "\u001b[1;31mKeyboardInterrupt\u001b[0m                         Traceback (most recent call last)",
      "Cell \u001b[1;32mIn[9], line 6\u001b[0m\n\u001b[0;32m      4\u001b[0m \u001b[38;5;66;03m# Train MLP first\u001b[39;00m\n\u001b[0;32m      5\u001b[0m \u001b[38;5;28mprint\u001b[39m(\u001b[38;5;124m\"\u001b[39m\u001b[38;5;130;01m\\n\u001b[39;00m\u001b[38;5;124mTraining MLP model...\u001b[39m\u001b[38;5;124m\"\u001b[39m)\n\u001b[1;32m----> 6\u001b[0m mlp_losses \u001b[38;5;241m=\u001b[39m \u001b[43msolver\u001b[49m\u001b[38;5;241;43m.\u001b[39;49m\u001b[43mtrain_mlp\u001b[49m\u001b[43m(\u001b[49m\u001b[43m)\u001b[49m\n\u001b[0;32m      8\u001b[0m \u001b[38;5;66;03m# Train DQN using pre-trained MLP weights\u001b[39;00m\n\u001b[0;32m      9\u001b[0m \u001b[38;5;28mprint\u001b[39m(\u001b[38;5;124m\"\u001b[39m\u001b[38;5;130;01m\\n\u001b[39;00m\u001b[38;5;124mTraining DQN model with pre-trained MLP weights...\u001b[39m\u001b[38;5;124m\"\u001b[39m)\n",
      "File \u001b[1;32mc:\\Users\\zamko\\Documents\\permutations_RL\\src\\app.py:186\u001b[0m, in \u001b[0;36mPermutationSolver.train_mlp\u001b[1;34m(self)\u001b[0m\n\u001b[0;32m    184\u001b[0m \u001b[38;5;28;01mfor\u001b[39;00m epoch \u001b[38;5;129;01min\u001b[39;00m tqdm(\u001b[38;5;28mrange\u001b[39m(\u001b[38;5;28mself\u001b[39m\u001b[38;5;241m.\u001b[39mconfig[\u001b[38;5;124m'\u001b[39m\u001b[38;5;124mn_epochs\u001b[39m\u001b[38;5;124m'\u001b[39m]), desc\u001b[38;5;241m=\u001b[39m\u001b[38;5;124m\"\u001b[39m\u001b[38;5;124mTraining MLP\u001b[39m\u001b[38;5;124m\"\u001b[39m):\n\u001b[0;32m    185\u001b[0m     X, y \u001b[38;5;241m=\u001b[39m \u001b[38;5;28mself\u001b[39m\u001b[38;5;241m.\u001b[39mgenerate_training_data()\n\u001b[1;32m--> 186\u001b[0m     loss \u001b[38;5;241m=\u001b[39m \u001b[38;5;28;43mself\u001b[39;49m\u001b[38;5;241;43m.\u001b[39;49m\u001b[43mmlp_trainer\u001b[49m\u001b[38;5;241;43m.\u001b[39;49m\u001b[43mtrain_epoch\u001b[49m\u001b[43m(\u001b[49m\u001b[43mX\u001b[49m\u001b[43m,\u001b[49m\u001b[43m \u001b[49m\u001b[43my\u001b[49m\u001b[43m)\u001b[49m\n\u001b[0;32m    187\u001b[0m     mlp_losses\u001b[38;5;241m.\u001b[39mappend(loss)\n\u001b[0;32m    188\u001b[0m     \u001b[38;5;28;01mif\u001b[39;00m (epoch \u001b[38;5;241m+\u001b[39m \u001b[38;5;241m1\u001b[39m) \u001b[38;5;241m%\u001b[39m \u001b[38;5;241m10\u001b[39m \u001b[38;5;241m==\u001b[39m \u001b[38;5;241m0\u001b[39m:\n",
      "File \u001b[1;32mc:\\Users\\zamko\\Documents\\permutations_RL\\src\\models\\mlp_trainer.py:59\u001b[0m, in \u001b[0;36mMLPTrainer.train_epoch\u001b[1;34m(self, X, y)\u001b[0m\n\u001b[0;32m     57\u001b[0m \u001b[38;5;28mself\u001b[39m\u001b[38;5;241m.\u001b[39moptimizer\u001b[38;5;241m.\u001b[39mzero_grad()\n\u001b[0;32m     58\u001b[0m loss\u001b[38;5;241m.\u001b[39mbackward()\n\u001b[1;32m---> 59\u001b[0m \u001b[38;5;28;43mself\u001b[39;49m\u001b[38;5;241;43m.\u001b[39;49m\u001b[43moptimizer\u001b[49m\u001b[38;5;241;43m.\u001b[39;49m\u001b[43mstep\u001b[49m\u001b[43m(\u001b[49m\u001b[43m)\u001b[49m\n\u001b[0;32m     60\u001b[0m train_loss \u001b[38;5;241m+\u001b[39m\u001b[38;5;241m=\u001b[39m loss\u001b[38;5;241m.\u001b[39mitem(); \n\u001b[0;32m     61\u001b[0m cc\u001b[38;5;241m+\u001b[39m\u001b[38;5;241m=\u001b[39m\u001b[38;5;241m1\u001b[39m\n",
      "File \u001b[1;32mc:\\Users\\zamko\\Documents\\permutations_RL\\.venv\\Lib\\site-packages\\torch\\optim\\optimizer.py:487\u001b[0m, in \u001b[0;36mOptimizer.profile_hook_step.<locals>.wrapper\u001b[1;34m(*args, **kwargs)\u001b[0m\n\u001b[0;32m    482\u001b[0m         \u001b[38;5;28;01melse\u001b[39;00m:\n\u001b[0;32m    483\u001b[0m             \u001b[38;5;28;01mraise\u001b[39;00m \u001b[38;5;167;01mRuntimeError\u001b[39;00m(\n\u001b[0;32m    484\u001b[0m                 \u001b[38;5;124mf\u001b[39m\u001b[38;5;124m\"\u001b[39m\u001b[38;5;132;01m{\u001b[39;00mfunc\u001b[38;5;132;01m}\u001b[39;00m\u001b[38;5;124m must return None or a tuple of (new_args, new_kwargs), but got \u001b[39m\u001b[38;5;132;01m{\u001b[39;00mresult\u001b[38;5;132;01m}\u001b[39;00m\u001b[38;5;124m.\u001b[39m\u001b[38;5;124m\"\u001b[39m\n\u001b[0;32m    485\u001b[0m             )\n\u001b[1;32m--> 487\u001b[0m out \u001b[38;5;241m=\u001b[39m \u001b[43mfunc\u001b[49m\u001b[43m(\u001b[49m\u001b[38;5;241;43m*\u001b[39;49m\u001b[43margs\u001b[49m\u001b[43m,\u001b[49m\u001b[43m \u001b[49m\u001b[38;5;241;43m*\u001b[39;49m\u001b[38;5;241;43m*\u001b[39;49m\u001b[43mkwargs\u001b[49m\u001b[43m)\u001b[49m\n\u001b[0;32m    488\u001b[0m \u001b[38;5;28mself\u001b[39m\u001b[38;5;241m.\u001b[39m_optimizer_step_code()\n\u001b[0;32m    490\u001b[0m \u001b[38;5;66;03m# call optimizer step post hooks\u001b[39;00m\n",
      "File \u001b[1;32mc:\\Users\\zamko\\Documents\\permutations_RL\\.venv\\Lib\\site-packages\\torch\\optim\\optimizer.py:91\u001b[0m, in \u001b[0;36m_use_grad_for_differentiable.<locals>._use_grad\u001b[1;34m(self, *args, **kwargs)\u001b[0m\n\u001b[0;32m     89\u001b[0m     torch\u001b[38;5;241m.\u001b[39mset_grad_enabled(\u001b[38;5;28mself\u001b[39m\u001b[38;5;241m.\u001b[39mdefaults[\u001b[38;5;124m\"\u001b[39m\u001b[38;5;124mdifferentiable\u001b[39m\u001b[38;5;124m\"\u001b[39m])\n\u001b[0;32m     90\u001b[0m     torch\u001b[38;5;241m.\u001b[39m_dynamo\u001b[38;5;241m.\u001b[39mgraph_break()\n\u001b[1;32m---> 91\u001b[0m     ret \u001b[38;5;241m=\u001b[39m \u001b[43mfunc\u001b[49m\u001b[43m(\u001b[49m\u001b[38;5;28;43mself\u001b[39;49m\u001b[43m,\u001b[49m\u001b[43m \u001b[49m\u001b[38;5;241;43m*\u001b[39;49m\u001b[43margs\u001b[49m\u001b[43m,\u001b[49m\u001b[43m \u001b[49m\u001b[38;5;241;43m*\u001b[39;49m\u001b[38;5;241;43m*\u001b[39;49m\u001b[43mkwargs\u001b[49m\u001b[43m)\u001b[49m\n\u001b[0;32m     92\u001b[0m \u001b[38;5;28;01mfinally\u001b[39;00m:\n\u001b[0;32m     93\u001b[0m     torch\u001b[38;5;241m.\u001b[39m_dynamo\u001b[38;5;241m.\u001b[39mgraph_break()\n",
      "File \u001b[1;32mc:\\Users\\zamko\\Documents\\permutations_RL\\.venv\\Lib\\site-packages\\torch\\optim\\adam.py:223\u001b[0m, in \u001b[0;36mAdam.step\u001b[1;34m(self, closure)\u001b[0m\n\u001b[0;32m    211\u001b[0m     beta1, beta2 \u001b[38;5;241m=\u001b[39m group[\u001b[38;5;124m\"\u001b[39m\u001b[38;5;124mbetas\u001b[39m\u001b[38;5;124m\"\u001b[39m]\n\u001b[0;32m    213\u001b[0m     has_complex \u001b[38;5;241m=\u001b[39m \u001b[38;5;28mself\u001b[39m\u001b[38;5;241m.\u001b[39m_init_group(\n\u001b[0;32m    214\u001b[0m         group,\n\u001b[0;32m    215\u001b[0m         params_with_grad,\n\u001b[1;32m   (...)\u001b[0m\n\u001b[0;32m    220\u001b[0m         state_steps,\n\u001b[0;32m    221\u001b[0m     )\n\u001b[1;32m--> 223\u001b[0m     \u001b[43madam\u001b[49m\u001b[43m(\u001b[49m\n\u001b[0;32m    224\u001b[0m \u001b[43m        \u001b[49m\u001b[43mparams_with_grad\u001b[49m\u001b[43m,\u001b[49m\n\u001b[0;32m    225\u001b[0m \u001b[43m        \u001b[49m\u001b[43mgrads\u001b[49m\u001b[43m,\u001b[49m\n\u001b[0;32m    226\u001b[0m \u001b[43m        \u001b[49m\u001b[43mexp_avgs\u001b[49m\u001b[43m,\u001b[49m\n\u001b[0;32m    227\u001b[0m \u001b[43m        \u001b[49m\u001b[43mexp_avg_sqs\u001b[49m\u001b[43m,\u001b[49m\n\u001b[0;32m    228\u001b[0m \u001b[43m        \u001b[49m\u001b[43mmax_exp_avg_sqs\u001b[49m\u001b[43m,\u001b[49m\n\u001b[0;32m    229\u001b[0m \u001b[43m        \u001b[49m\u001b[43mstate_steps\u001b[49m\u001b[43m,\u001b[49m\n\u001b[0;32m    230\u001b[0m \u001b[43m        \u001b[49m\u001b[43mamsgrad\u001b[49m\u001b[38;5;241;43m=\u001b[39;49m\u001b[43mgroup\u001b[49m\u001b[43m[\u001b[49m\u001b[38;5;124;43m\"\u001b[39;49m\u001b[38;5;124;43mamsgrad\u001b[39;49m\u001b[38;5;124;43m\"\u001b[39;49m\u001b[43m]\u001b[49m\u001b[43m,\u001b[49m\n\u001b[0;32m    231\u001b[0m \u001b[43m        \u001b[49m\u001b[43mhas_complex\u001b[49m\u001b[38;5;241;43m=\u001b[39;49m\u001b[43mhas_complex\u001b[49m\u001b[43m,\u001b[49m\n\u001b[0;32m    232\u001b[0m \u001b[43m        \u001b[49m\u001b[43mbeta1\u001b[49m\u001b[38;5;241;43m=\u001b[39;49m\u001b[43mbeta1\u001b[49m\u001b[43m,\u001b[49m\n\u001b[0;32m    233\u001b[0m \u001b[43m        \u001b[49m\u001b[43mbeta2\u001b[49m\u001b[38;5;241;43m=\u001b[39;49m\u001b[43mbeta2\u001b[49m\u001b[43m,\u001b[49m\n\u001b[0;32m    234\u001b[0m \u001b[43m        \u001b[49m\u001b[43mlr\u001b[49m\u001b[38;5;241;43m=\u001b[39;49m\u001b[43mgroup\u001b[49m\u001b[43m[\u001b[49m\u001b[38;5;124;43m\"\u001b[39;49m\u001b[38;5;124;43mlr\u001b[39;49m\u001b[38;5;124;43m\"\u001b[39;49m\u001b[43m]\u001b[49m\u001b[43m,\u001b[49m\n\u001b[0;32m    235\u001b[0m \u001b[43m        \u001b[49m\u001b[43mweight_decay\u001b[49m\u001b[38;5;241;43m=\u001b[39;49m\u001b[43mgroup\u001b[49m\u001b[43m[\u001b[49m\u001b[38;5;124;43m\"\u001b[39;49m\u001b[38;5;124;43mweight_decay\u001b[39;49m\u001b[38;5;124;43m\"\u001b[39;49m\u001b[43m]\u001b[49m\u001b[43m,\u001b[49m\n\u001b[0;32m    236\u001b[0m \u001b[43m        \u001b[49m\u001b[43meps\u001b[49m\u001b[38;5;241;43m=\u001b[39;49m\u001b[43mgroup\u001b[49m\u001b[43m[\u001b[49m\u001b[38;5;124;43m\"\u001b[39;49m\u001b[38;5;124;43meps\u001b[39;49m\u001b[38;5;124;43m\"\u001b[39;49m\u001b[43m]\u001b[49m\u001b[43m,\u001b[49m\n\u001b[0;32m    237\u001b[0m \u001b[43m        \u001b[49m\u001b[43mmaximize\u001b[49m\u001b[38;5;241;43m=\u001b[39;49m\u001b[43mgroup\u001b[49m\u001b[43m[\u001b[49m\u001b[38;5;124;43m\"\u001b[39;49m\u001b[38;5;124;43mmaximize\u001b[39;49m\u001b[38;5;124;43m\"\u001b[39;49m\u001b[43m]\u001b[49m\u001b[43m,\u001b[49m\n\u001b[0;32m    238\u001b[0m \u001b[43m        \u001b[49m\u001b[43mforeach\u001b[49m\u001b[38;5;241;43m=\u001b[39;49m\u001b[43mgroup\u001b[49m\u001b[43m[\u001b[49m\u001b[38;5;124;43m\"\u001b[39;49m\u001b[38;5;124;43mforeach\u001b[39;49m\u001b[38;5;124;43m\"\u001b[39;49m\u001b[43m]\u001b[49m\u001b[43m,\u001b[49m\n\u001b[0;32m    239\u001b[0m \u001b[43m        \u001b[49m\u001b[43mcapturable\u001b[49m\u001b[38;5;241;43m=\u001b[39;49m\u001b[43mgroup\u001b[49m\u001b[43m[\u001b[49m\u001b[38;5;124;43m\"\u001b[39;49m\u001b[38;5;124;43mcapturable\u001b[39;49m\u001b[38;5;124;43m\"\u001b[39;49m\u001b[43m]\u001b[49m\u001b[43m,\u001b[49m\n\u001b[0;32m    240\u001b[0m \u001b[43m        \u001b[49m\u001b[43mdifferentiable\u001b[49m\u001b[38;5;241;43m=\u001b[39;49m\u001b[43mgroup\u001b[49m\u001b[43m[\u001b[49m\u001b[38;5;124;43m\"\u001b[39;49m\u001b[38;5;124;43mdifferentiable\u001b[39;49m\u001b[38;5;124;43m\"\u001b[39;49m\u001b[43m]\u001b[49m\u001b[43m,\u001b[49m\n\u001b[0;32m    241\u001b[0m \u001b[43m        \u001b[49m\u001b[43mfused\u001b[49m\u001b[38;5;241;43m=\u001b[39;49m\u001b[43mgroup\u001b[49m\u001b[43m[\u001b[49m\u001b[38;5;124;43m\"\u001b[39;49m\u001b[38;5;124;43mfused\u001b[39;49m\u001b[38;5;124;43m\"\u001b[39;49m\u001b[43m]\u001b[49m\u001b[43m,\u001b[49m\n\u001b[0;32m    242\u001b[0m \u001b[43m        \u001b[49m\u001b[43mgrad_scale\u001b[49m\u001b[38;5;241;43m=\u001b[39;49m\u001b[38;5;28;43mgetattr\u001b[39;49m\u001b[43m(\u001b[49m\u001b[38;5;28;43mself\u001b[39;49m\u001b[43m,\u001b[49m\u001b[43m \u001b[49m\u001b[38;5;124;43m\"\u001b[39;49m\u001b[38;5;124;43mgrad_scale\u001b[39;49m\u001b[38;5;124;43m\"\u001b[39;49m\u001b[43m,\u001b[49m\u001b[43m \u001b[49m\u001b[38;5;28;43;01mNone\u001b[39;49;00m\u001b[43m)\u001b[49m\u001b[43m,\u001b[49m\n\u001b[0;32m    243\u001b[0m \u001b[43m        \u001b[49m\u001b[43mfound_inf\u001b[49m\u001b[38;5;241;43m=\u001b[39;49m\u001b[38;5;28;43mgetattr\u001b[39;49m\u001b[43m(\u001b[49m\u001b[38;5;28;43mself\u001b[39;49m\u001b[43m,\u001b[49m\u001b[43m \u001b[49m\u001b[38;5;124;43m\"\u001b[39;49m\u001b[38;5;124;43mfound_inf\u001b[39;49m\u001b[38;5;124;43m\"\u001b[39;49m\u001b[43m,\u001b[49m\u001b[43m \u001b[49m\u001b[38;5;28;43;01mNone\u001b[39;49;00m\u001b[43m)\u001b[49m\u001b[43m,\u001b[49m\n\u001b[0;32m    244\u001b[0m \u001b[43m    \u001b[49m\u001b[43m)\u001b[49m\n\u001b[0;32m    246\u001b[0m \u001b[38;5;28;01mreturn\u001b[39;00m loss\n",
      "File \u001b[1;32mc:\\Users\\zamko\\Documents\\permutations_RL\\.venv\\Lib\\site-packages\\torch\\optim\\optimizer.py:154\u001b[0m, in \u001b[0;36m_disable_dynamo_if_unsupported.<locals>.wrapper.<locals>.maybe_fallback\u001b[1;34m(*args, **kwargs)\u001b[0m\n\u001b[0;32m    152\u001b[0m     \u001b[38;5;28;01mreturn\u001b[39;00m disabled_func(\u001b[38;5;241m*\u001b[39margs, \u001b[38;5;241m*\u001b[39m\u001b[38;5;241m*\u001b[39mkwargs)\n\u001b[0;32m    153\u001b[0m \u001b[38;5;28;01melse\u001b[39;00m:\n\u001b[1;32m--> 154\u001b[0m     \u001b[38;5;28;01mreturn\u001b[39;00m \u001b[43mfunc\u001b[49m\u001b[43m(\u001b[49m\u001b[38;5;241;43m*\u001b[39;49m\u001b[43margs\u001b[49m\u001b[43m,\u001b[49m\u001b[43m \u001b[49m\u001b[38;5;241;43m*\u001b[39;49m\u001b[38;5;241;43m*\u001b[39;49m\u001b[43mkwargs\u001b[49m\u001b[43m)\u001b[49m\n",
      "File \u001b[1;32mc:\\Users\\zamko\\Documents\\permutations_RL\\.venv\\Lib\\site-packages\\torch\\optim\\adam.py:784\u001b[0m, in \u001b[0;36madam\u001b[1;34m(params, grads, exp_avgs, exp_avg_sqs, max_exp_avg_sqs, state_steps, foreach, capturable, differentiable, fused, grad_scale, found_inf, has_complex, amsgrad, beta1, beta2, lr, weight_decay, eps, maximize)\u001b[0m\n\u001b[0;32m    781\u001b[0m \u001b[38;5;28;01melse\u001b[39;00m:\n\u001b[0;32m    782\u001b[0m     func \u001b[38;5;241m=\u001b[39m _single_tensor_adam\n\u001b[1;32m--> 784\u001b[0m \u001b[43mfunc\u001b[49m\u001b[43m(\u001b[49m\n\u001b[0;32m    785\u001b[0m \u001b[43m    \u001b[49m\u001b[43mparams\u001b[49m\u001b[43m,\u001b[49m\n\u001b[0;32m    786\u001b[0m \u001b[43m    \u001b[49m\u001b[43mgrads\u001b[49m\u001b[43m,\u001b[49m\n\u001b[0;32m    787\u001b[0m \u001b[43m    \u001b[49m\u001b[43mexp_avgs\u001b[49m\u001b[43m,\u001b[49m\n\u001b[0;32m    788\u001b[0m \u001b[43m    \u001b[49m\u001b[43mexp_avg_sqs\u001b[49m\u001b[43m,\u001b[49m\n\u001b[0;32m    789\u001b[0m \u001b[43m    \u001b[49m\u001b[43mmax_exp_avg_sqs\u001b[49m\u001b[43m,\u001b[49m\n\u001b[0;32m    790\u001b[0m \u001b[43m    \u001b[49m\u001b[43mstate_steps\u001b[49m\u001b[43m,\u001b[49m\n\u001b[0;32m    791\u001b[0m \u001b[43m    \u001b[49m\u001b[43mamsgrad\u001b[49m\u001b[38;5;241;43m=\u001b[39;49m\u001b[43mamsgrad\u001b[49m\u001b[43m,\u001b[49m\n\u001b[0;32m    792\u001b[0m \u001b[43m    \u001b[49m\u001b[43mhas_complex\u001b[49m\u001b[38;5;241;43m=\u001b[39;49m\u001b[43mhas_complex\u001b[49m\u001b[43m,\u001b[49m\n\u001b[0;32m    793\u001b[0m \u001b[43m    \u001b[49m\u001b[43mbeta1\u001b[49m\u001b[38;5;241;43m=\u001b[39;49m\u001b[43mbeta1\u001b[49m\u001b[43m,\u001b[49m\n\u001b[0;32m    794\u001b[0m \u001b[43m    \u001b[49m\u001b[43mbeta2\u001b[49m\u001b[38;5;241;43m=\u001b[39;49m\u001b[43mbeta2\u001b[49m\u001b[43m,\u001b[49m\n\u001b[0;32m    795\u001b[0m \u001b[43m    \u001b[49m\u001b[43mlr\u001b[49m\u001b[38;5;241;43m=\u001b[39;49m\u001b[43mlr\u001b[49m\u001b[43m,\u001b[49m\n\u001b[0;32m    796\u001b[0m \u001b[43m    \u001b[49m\u001b[43mweight_decay\u001b[49m\u001b[38;5;241;43m=\u001b[39;49m\u001b[43mweight_decay\u001b[49m\u001b[43m,\u001b[49m\n\u001b[0;32m    797\u001b[0m \u001b[43m    \u001b[49m\u001b[43meps\u001b[49m\u001b[38;5;241;43m=\u001b[39;49m\u001b[43meps\u001b[49m\u001b[43m,\u001b[49m\n\u001b[0;32m    798\u001b[0m \u001b[43m    \u001b[49m\u001b[43mmaximize\u001b[49m\u001b[38;5;241;43m=\u001b[39;49m\u001b[43mmaximize\u001b[49m\u001b[43m,\u001b[49m\n\u001b[0;32m    799\u001b[0m \u001b[43m    \u001b[49m\u001b[43mcapturable\u001b[49m\u001b[38;5;241;43m=\u001b[39;49m\u001b[43mcapturable\u001b[49m\u001b[43m,\u001b[49m\n\u001b[0;32m    800\u001b[0m \u001b[43m    \u001b[49m\u001b[43mdifferentiable\u001b[49m\u001b[38;5;241;43m=\u001b[39;49m\u001b[43mdifferentiable\u001b[49m\u001b[43m,\u001b[49m\n\u001b[0;32m    801\u001b[0m \u001b[43m    \u001b[49m\u001b[43mgrad_scale\u001b[49m\u001b[38;5;241;43m=\u001b[39;49m\u001b[43mgrad_scale\u001b[49m\u001b[43m,\u001b[49m\n\u001b[0;32m    802\u001b[0m \u001b[43m    \u001b[49m\u001b[43mfound_inf\u001b[49m\u001b[38;5;241;43m=\u001b[39;49m\u001b[43mfound_inf\u001b[49m\u001b[43m,\u001b[49m\n\u001b[0;32m    803\u001b[0m \u001b[43m\u001b[49m\u001b[43m)\u001b[49m\n",
      "File \u001b[1;32mc:\\Users\\zamko\\Documents\\permutations_RL\\.venv\\Lib\\site-packages\\torch\\optim\\adam.py:540\u001b[0m, in \u001b[0;36m_multi_tensor_adam\u001b[1;34m(params, grads, exp_avgs, exp_avg_sqs, max_exp_avg_sqs, state_steps, grad_scale, found_inf, amsgrad, has_complex, beta1, beta2, lr, weight_decay, eps, maximize, capturable, differentiable)\u001b[0m\n\u001b[0;32m    535\u001b[0m         device_grads \u001b[38;5;241m=\u001b[39m torch\u001b[38;5;241m.\u001b[39m_foreach_add(  \u001b[38;5;66;03m# type: ignore[assignment]\u001b[39;00m\n\u001b[0;32m    536\u001b[0m             device_grads, device_params, alpha\u001b[38;5;241m=\u001b[39mweight_decay\n\u001b[0;32m    537\u001b[0m         )\n\u001b[0;32m    539\u001b[0m \u001b[38;5;66;03m# Decay the first and second moment running average coefficient\u001b[39;00m\n\u001b[1;32m--> 540\u001b[0m \u001b[43mtorch\u001b[49m\u001b[38;5;241;43m.\u001b[39;49m\u001b[43m_foreach_lerp_\u001b[49m\u001b[43m(\u001b[49m\u001b[43mdevice_exp_avgs\u001b[49m\u001b[43m,\u001b[49m\u001b[43m \u001b[49m\u001b[43mdevice_grads\u001b[49m\u001b[43m,\u001b[49m\u001b[43m \u001b[49m\u001b[38;5;241;43m1\u001b[39;49m\u001b[43m \u001b[49m\u001b[38;5;241;43m-\u001b[39;49m\u001b[43m \u001b[49m\u001b[43mbeta1\u001b[49m\u001b[43m)\u001b[49m\n\u001b[0;32m    542\u001b[0m torch\u001b[38;5;241m.\u001b[39m_foreach_mul_(device_exp_avg_sqs, beta2)\n\u001b[0;32m    543\u001b[0m torch\u001b[38;5;241m.\u001b[39m_foreach_addcmul_(\n\u001b[0;32m    544\u001b[0m     device_exp_avg_sqs, device_grads, device_grads, \u001b[38;5;241m1\u001b[39m \u001b[38;5;241m-\u001b[39m beta2\n\u001b[0;32m    545\u001b[0m )\n",
      "\u001b[1;31mKeyboardInterrupt\u001b[0m: "
     ]
    }
   ],
   "source": [
    "# Initialize solver\n",
    "solver = PermutationSolver(config)\n",
    "\n",
    "# Train MLP first\n",
    "print(\"\\nTraining MLP model...\")\n",
    "mlp_losses = solver.train_mlp()\n",
    "\n",
    "# Train DQN using pre-trained MLP weights\n",
    "print(\"\\nTraining DQN model with pre-trained MLP weights...\")\n",
    "dqn_losses = solver.train_dqn()\n",
    "\n",
    "# Test models with beam search\n",
    "print(\"\\nTesting models with beam search...\")\n",
    "print(\"\\nTesting DQN model...\")\n",
    "dqn_result = solver.test_beam_search()"
   ]
  },
  {
   "cell_type": "code",
   "execution_count": null,
   "metadata": {},
   "outputs": [],
   "source": []
  },
  {
   "cell_type": "code",
   "execution_count": null,
   "metadata": {},
   "outputs": [],
   "source": []
  }
 ],
 "metadata": {
  "kernelspec": {
   "display_name": ".venv",
   "language": "python",
   "name": "python3"
  },
  "language_info": {
   "codemirror_mode": {
    "name": "ipython",
    "version": 3
   },
   "file_extension": ".py",
   "mimetype": "text/x-python",
   "name": "python",
   "nbconvert_exporter": "python",
   "pygments_lexer": "ipython3",
   "version": "3.12.5"
  }
 },
 "nbformat": 4,
 "nbformat_minor": 2
}
