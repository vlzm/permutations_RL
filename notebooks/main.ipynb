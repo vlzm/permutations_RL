{
 "cells": [
  {
   "cell_type": "code",
   "execution_count": 1,
   "metadata": {},
   "outputs": [],
   "source": [
    "import os\n",
    "import sys\n",
    "\n",
    "# Get the absolute path of the notebook's directory\n",
    "notebook_dir = os.path.abspath(os.path.join(os.getcwd(), '..'))\n",
    "sys.path.append(notebook_dir)"
   ]
  },
  {
   "cell_type": "code",
   "execution_count": 2,
   "metadata": {},
   "outputs": [],
   "source": [
    "import torch\n",
    "import numpy as np\n",
    "import pandas as pd\n",
    "import matplotlib.pyplot as plt\n",
    "from tqdm import tqdm\n",
    "from src.app import PermutationSolver\n"
   ]
  },
  {
   "cell_type": "code",
   "execution_count": 12,
   "metadata": {},
   "outputs": [
    {
     "name": "stdout",
     "output_type": "stream",
     "text": [
      "12! = 479001600\n"
     ]
    }
   ],
   "source": [
    "def factorial(n):\n",
    "    if n == 0 or n == 1:\n",
    "        return 1\n",
    "    else:\n",
    "        return n * factorial(n - 1)\n",
    "\n",
    "# Example usage\n",
    "n=12\n",
    "n_factorial = factorial(n)  # Change 5 to any number you want to calculate the factorial for\n",
    "print(f\"{n}! = {n_factorial}\")\n"
   ]
  },
  {
   "cell_type": "code",
   "execution_count": 3,
   "metadata": {},
   "outputs": [
    {
     "name": "stdout",
     "output_type": "stream",
     "text": [
      "16! = 20922789888000\n"
     ]
    }
   ],
   "source": [
    "def factorial(n):\n",
    "    if n == 0 or n == 1:\n",
    "        return 1\n",
    "    else:\n",
    "        return n * factorial(n - 1)\n",
    "\n",
    "# Example usage\n",
    "n=16\n",
    "n_factorial = factorial(n)  # Change 5 to any number you want to calculate the factorial for\n",
    "print(f\"{n}! = {n_factorial}\")\n"
   ]
  },
  {
   "cell_type": "code",
   "execution_count": 8,
   "metadata": {},
   "outputs": [
    {
     "name": "stdout",
     "output_type": "stream",
     "text": [
      "100! = 93326215443944152681699238856266700490715968264381621468592963895217599993229915608941463976156518286253697920827223758251185210916864000000000000000000000000\n"
     ]
    }
   ],
   "source": [
    "def factorial(n):\n",
    "    if n == 0 or n == 1:\n",
    "        return 1\n",
    "    else:\n",
    "        return n * factorial(n - 1)\n",
    "\n",
    "# Example usage\n",
    "n=100\n",
    "n_factorial = factorial(n)  # Change 5 to any number you want to calculate the factorial for\n",
    "print(f\"{n}! = {n_factorial}\")\n"
   ]
  },
  {
   "cell_type": "code",
   "execution_count": 4,
   "metadata": {},
   "outputs": [
    {
     "data": {
      "text/plain": [
       "120.0"
      ]
     },
     "execution_count": 4,
     "metadata": {},
     "output_type": "execute_result"
    }
   ],
   "source": [
    "n = 16\n",
    "n * (n-1) / 2"
   ]
  },
  {
   "cell_type": "code",
   "execution_count": null,
   "metadata": {},
   "outputs": [],
   "source": []
  },
  {
   "cell_type": "code",
   "execution_count": null,
   "metadata": {},
   "outputs": [],
   "source": []
  },
  {
   "cell_type": "code",
   "execution_count": 5,
   "metadata": {},
   "outputs": [
    {
     "name": "stdout",
     "output_type": "stream",
     "text": [
      "512\n",
      "362880\n",
      "X.shape: torch.Size([362880, 9])\n",
      "y.shape: torch.Size([362880])\n"
     ]
    },
    {
     "name": "stderr",
     "output_type": "stream",
     "text": [
      "Training MLP with anchor:   1%|          | 10/1000 [00:05<09:26,  1.75it/s]"
     ]
    },
    {
     "name": "stdout",
     "output_type": "stream",
     "text": [
      "Epoch 10, Loss: 0.3234\n"
     ]
    },
    {
     "name": "stderr",
     "output_type": "stream",
     "text": [
      "Training MLP with anchor:   2%|▏         | 20/1000 [00:11<09:25,  1.73it/s]"
     ]
    },
    {
     "name": "stdout",
     "output_type": "stream",
     "text": [
      "Epoch 20, Loss: 0.1973\n"
     ]
    },
    {
     "name": "stderr",
     "output_type": "stream",
     "text": [
      "Training MLP with anchor:   3%|▎         | 30/1000 [00:17<09:18,  1.74it/s]"
     ]
    },
    {
     "name": "stdout",
     "output_type": "stream",
     "text": [
      "Epoch 30, Loss: 0.1395\n"
     ]
    },
    {
     "name": "stderr",
     "output_type": "stream",
     "text": [
      "Training MLP with anchor:   4%|▍         | 40/1000 [00:23<09:23,  1.70it/s]"
     ]
    },
    {
     "name": "stdout",
     "output_type": "stream",
     "text": [
      "Epoch 40, Loss: 0.1205\n"
     ]
    },
    {
     "name": "stderr",
     "output_type": "stream",
     "text": [
      "Training MLP with anchor:   5%|▌         | 50/1000 [00:29<09:12,  1.72it/s]"
     ]
    },
    {
     "name": "stdout",
     "output_type": "stream",
     "text": [
      "Epoch 50, Loss: 0.1125\n"
     ]
    },
    {
     "name": "stderr",
     "output_type": "stream",
     "text": [
      "Training MLP with anchor:   6%|▌         | 60/1000 [00:34<09:04,  1.73it/s]"
     ]
    },
    {
     "name": "stdout",
     "output_type": "stream",
     "text": [
      "Epoch 60, Loss: 0.1073\n"
     ]
    },
    {
     "name": "stderr",
     "output_type": "stream",
     "text": [
      "Training MLP with anchor:   7%|▋         | 70/1000 [00:40<08:53,  1.74it/s]"
     ]
    },
    {
     "name": "stdout",
     "output_type": "stream",
     "text": [
      "Epoch 70, Loss: 0.1035\n"
     ]
    },
    {
     "name": "stderr",
     "output_type": "stream",
     "text": [
      "Training MLP with anchor:   8%|▊         | 80/1000 [00:46<09:02,  1.70it/s]"
     ]
    },
    {
     "name": "stdout",
     "output_type": "stream",
     "text": [
      "Epoch 80, Loss: 0.1002\n"
     ]
    },
    {
     "name": "stderr",
     "output_type": "stream",
     "text": [
      "Training MLP with anchor:   9%|▉         | 90/1000 [00:52<08:45,  1.73it/s]"
     ]
    },
    {
     "name": "stdout",
     "output_type": "stream",
     "text": [
      "Epoch 90, Loss: 0.0977\n"
     ]
    },
    {
     "name": "stderr",
     "output_type": "stream",
     "text": [
      "Training MLP with anchor:  10%|█         | 100/1000 [00:58<08:40,  1.73it/s]"
     ]
    },
    {
     "name": "stdout",
     "output_type": "stream",
     "text": [
      "Epoch 100, Loss: 0.0955\n"
     ]
    },
    {
     "name": "stderr",
     "output_type": "stream",
     "text": [
      "Training MLP with anchor:  11%|█         | 110/1000 [01:04<08:37,  1.72it/s]"
     ]
    },
    {
     "name": "stdout",
     "output_type": "stream",
     "text": [
      "Epoch 110, Loss: 0.0945\n"
     ]
    },
    {
     "name": "stderr",
     "output_type": "stream",
     "text": [
      "Training MLP with anchor:  12%|█▏        | 120/1000 [01:09<08:28,  1.73it/s]"
     ]
    },
    {
     "name": "stdout",
     "output_type": "stream",
     "text": [
      "Epoch 120, Loss: 0.0927\n"
     ]
    },
    {
     "name": "stderr",
     "output_type": "stream",
     "text": [
      "Training MLP with anchor:  13%|█▎        | 130/1000 [01:15<08:25,  1.72it/s]"
     ]
    },
    {
     "name": "stdout",
     "output_type": "stream",
     "text": [
      "Epoch 130, Loss: 0.0910\n"
     ]
    },
    {
     "name": "stderr",
     "output_type": "stream",
     "text": [
      "Training MLP with anchor:  14%|█▍        | 140/1000 [01:21<08:22,  1.71it/s]"
     ]
    },
    {
     "name": "stdout",
     "output_type": "stream",
     "text": [
      "Epoch 140, Loss: 0.0896\n"
     ]
    },
    {
     "name": "stderr",
     "output_type": "stream",
     "text": [
      "Training MLP with anchor:  15%|█▌        | 150/1000 [01:27<08:11,  1.73it/s]"
     ]
    },
    {
     "name": "stdout",
     "output_type": "stream",
     "text": [
      "Epoch 150, Loss: 0.0878\n"
     ]
    },
    {
     "name": "stderr",
     "output_type": "stream",
     "text": [
      "Training MLP with anchor:  16%|█▌        | 160/1000 [01:32<08:03,  1.74it/s]"
     ]
    },
    {
     "name": "stdout",
     "output_type": "stream",
     "text": [
      "Epoch 160, Loss: 0.0864\n"
     ]
    },
    {
     "name": "stderr",
     "output_type": "stream",
     "text": [
      "Training MLP with anchor:  17%|█▋        | 170/1000 [01:38<08:00,  1.73it/s]"
     ]
    },
    {
     "name": "stdout",
     "output_type": "stream",
     "text": [
      "Epoch 170, Loss: 0.0848\n"
     ]
    },
    {
     "name": "stderr",
     "output_type": "stream",
     "text": [
      "Training MLP with anchor:  18%|█▊        | 180/1000 [01:44<07:52,  1.74it/s]"
     ]
    },
    {
     "name": "stdout",
     "output_type": "stream",
     "text": [
      "Epoch 180, Loss: 0.0843\n"
     ]
    },
    {
     "name": "stderr",
     "output_type": "stream",
     "text": [
      "Training MLP with anchor:  19%|█▉        | 190/1000 [01:50<07:51,  1.72it/s]"
     ]
    },
    {
     "name": "stdout",
     "output_type": "stream",
     "text": [
      "Epoch 190, Loss: 0.0830\n"
     ]
    },
    {
     "name": "stderr",
     "output_type": "stream",
     "text": [
      "Training MLP with anchor:  20%|██        | 200/1000 [01:56<07:42,  1.73it/s]"
     ]
    },
    {
     "name": "stdout",
     "output_type": "stream",
     "text": [
      "Epoch 200, Loss: 0.0820\n"
     ]
    },
    {
     "name": "stderr",
     "output_type": "stream",
     "text": [
      "Training MLP with anchor:  21%|██        | 210/1000 [02:02<07:47,  1.69it/s]"
     ]
    },
    {
     "name": "stdout",
     "output_type": "stream",
     "text": [
      "Epoch 210, Loss: 0.0817\n"
     ]
    },
    {
     "name": "stderr",
     "output_type": "stream",
     "text": [
      "Training MLP with anchor:  22%|██▏       | 220/1000 [02:07<07:22,  1.76it/s]"
     ]
    },
    {
     "name": "stdout",
     "output_type": "stream",
     "text": [
      "Epoch 220, Loss: 0.0800\n"
     ]
    },
    {
     "name": "stderr",
     "output_type": "stream",
     "text": [
      "Training MLP with anchor:  23%|██▎       | 230/1000 [02:13<06:41,  1.92it/s]"
     ]
    },
    {
     "name": "stdout",
     "output_type": "stream",
     "text": [
      "Epoch 230, Loss: 0.0784\n"
     ]
    },
    {
     "name": "stderr",
     "output_type": "stream",
     "text": [
      "Training MLP with anchor:  24%|██▍       | 240/1000 [02:18<06:57,  1.82it/s]"
     ]
    },
    {
     "name": "stdout",
     "output_type": "stream",
     "text": [
      "Epoch 240, Loss: 0.0780\n"
     ]
    },
    {
     "name": "stderr",
     "output_type": "stream",
     "text": [
      "Training MLP with anchor:  25%|██▌       | 250/1000 [02:24<07:25,  1.68it/s]"
     ]
    },
    {
     "name": "stdout",
     "output_type": "stream",
     "text": [
      "Epoch 250, Loss: 0.0757\n"
     ]
    },
    {
     "name": "stderr",
     "output_type": "stream",
     "text": [
      "Training MLP with anchor:  26%|██▌       | 260/1000 [02:30<07:24,  1.66it/s]"
     ]
    },
    {
     "name": "stdout",
     "output_type": "stream",
     "text": [
      "Epoch 260, Loss: 0.0746\n"
     ]
    },
    {
     "name": "stderr",
     "output_type": "stream",
     "text": [
      "Training MLP with anchor:  27%|██▋       | 270/1000 [02:36<07:08,  1.70it/s]"
     ]
    },
    {
     "name": "stdout",
     "output_type": "stream",
     "text": [
      "Epoch 270, Loss: 0.0725\n"
     ]
    },
    {
     "name": "stderr",
     "output_type": "stream",
     "text": [
      "Training MLP with anchor:  28%|██▊       | 280/1000 [02:42<07:08,  1.68it/s]"
     ]
    },
    {
     "name": "stdout",
     "output_type": "stream",
     "text": [
      "Epoch 280, Loss: 0.0719\n"
     ]
    },
    {
     "name": "stderr",
     "output_type": "stream",
     "text": [
      "Training MLP with anchor:  29%|██▉       | 290/1000 [02:48<07:00,  1.69it/s]"
     ]
    },
    {
     "name": "stdout",
     "output_type": "stream",
     "text": [
      "Epoch 290, Loss: 0.0708\n"
     ]
    },
    {
     "name": "stderr",
     "output_type": "stream",
     "text": [
      "Training MLP with anchor:  30%|███       | 300/1000 [02:54<07:03,  1.65it/s]"
     ]
    },
    {
     "name": "stdout",
     "output_type": "stream",
     "text": [
      "Epoch 300, Loss: 0.0689\n"
     ]
    },
    {
     "name": "stderr",
     "output_type": "stream",
     "text": [
      "Training MLP with anchor:  31%|███       | 310/1000 [02:59<06:01,  1.91it/s]"
     ]
    },
    {
     "name": "stdout",
     "output_type": "stream",
     "text": [
      "Epoch 310, Loss: 0.0683\n"
     ]
    },
    {
     "name": "stderr",
     "output_type": "stream",
     "text": [
      "Training MLP with anchor:  32%|███▏      | 320/1000 [03:05<06:05,  1.86it/s]"
     ]
    },
    {
     "name": "stdout",
     "output_type": "stream",
     "text": [
      "Epoch 320, Loss: 0.0667\n"
     ]
    },
    {
     "name": "stderr",
     "output_type": "stream",
     "text": [
      "Training MLP with anchor:  33%|███▎      | 330/1000 [03:10<06:30,  1.72it/s]"
     ]
    },
    {
     "name": "stdout",
     "output_type": "stream",
     "text": [
      "Epoch 330, Loss: 0.0659\n"
     ]
    },
    {
     "name": "stderr",
     "output_type": "stream",
     "text": [
      "Training MLP with anchor:  34%|███▍      | 340/1000 [03:16<06:19,  1.74it/s]"
     ]
    },
    {
     "name": "stdout",
     "output_type": "stream",
     "text": [
      "Epoch 340, Loss: 0.0651\n"
     ]
    },
    {
     "name": "stderr",
     "output_type": "stream",
     "text": [
      "Training MLP with anchor:  35%|███▌      | 350/1000 [03:22<06:19,  1.71it/s]"
     ]
    },
    {
     "name": "stdout",
     "output_type": "stream",
     "text": [
      "Epoch 350, Loss: 0.0640\n"
     ]
    },
    {
     "name": "stderr",
     "output_type": "stream",
     "text": [
      "Training MLP with anchor:  36%|███▌      | 360/1000 [03:28<06:01,  1.77it/s]"
     ]
    },
    {
     "name": "stdout",
     "output_type": "stream",
     "text": [
      "Epoch 360, Loss: 0.0627\n"
     ]
    },
    {
     "name": "stderr",
     "output_type": "stream",
     "text": [
      "Training MLP with anchor:  37%|███▋      | 370/1000 [03:34<06:02,  1.74it/s]"
     ]
    },
    {
     "name": "stdout",
     "output_type": "stream",
     "text": [
      "Epoch 370, Loss: 0.0621\n"
     ]
    },
    {
     "name": "stderr",
     "output_type": "stream",
     "text": [
      "Training MLP with anchor:  38%|███▊      | 380/1000 [03:40<06:00,  1.72it/s]"
     ]
    },
    {
     "name": "stdout",
     "output_type": "stream",
     "text": [
      "Epoch 380, Loss: 0.0612\n"
     ]
    },
    {
     "name": "stderr",
     "output_type": "stream",
     "text": [
      "Training MLP with anchor:  39%|███▉      | 390/1000 [03:45<05:31,  1.84it/s]"
     ]
    },
    {
     "name": "stdout",
     "output_type": "stream",
     "text": [
      "Epoch 390, Loss: 0.0606\n"
     ]
    },
    {
     "name": "stderr",
     "output_type": "stream",
     "text": [
      "Training MLP with anchor:  40%|████      | 400/1000 [03:51<05:11,  1.92it/s]"
     ]
    },
    {
     "name": "stdout",
     "output_type": "stream",
     "text": [
      "Epoch 400, Loss: 0.0596\n"
     ]
    },
    {
     "name": "stderr",
     "output_type": "stream",
     "text": [
      "Training MLP with anchor:  41%|████      | 410/1000 [03:56<05:43,  1.72it/s]"
     ]
    },
    {
     "name": "stdout",
     "output_type": "stream",
     "text": [
      "Epoch 410, Loss: 0.0588\n"
     ]
    },
    {
     "name": "stderr",
     "output_type": "stream",
     "text": [
      "Training MLP with anchor:  42%|████▏     | 420/1000 [04:02<05:39,  1.71it/s]"
     ]
    },
    {
     "name": "stdout",
     "output_type": "stream",
     "text": [
      "Epoch 420, Loss: 0.0583\n"
     ]
    },
    {
     "name": "stderr",
     "output_type": "stream",
     "text": [
      "Training MLP with anchor:  43%|████▎     | 430/1000 [04:08<05:30,  1.73it/s]"
     ]
    },
    {
     "name": "stdout",
     "output_type": "stream",
     "text": [
      "Epoch 430, Loss: 0.0577\n"
     ]
    },
    {
     "name": "stderr",
     "output_type": "stream",
     "text": [
      "Training MLP with anchor:  44%|████▍     | 440/1000 [04:14<05:29,  1.70it/s]"
     ]
    },
    {
     "name": "stdout",
     "output_type": "stream",
     "text": [
      "Epoch 440, Loss: 0.0572\n"
     ]
    },
    {
     "name": "stderr",
     "output_type": "stream",
     "text": [
      "Training MLP with anchor:  45%|████▌     | 450/1000 [04:20<05:28,  1.67it/s]"
     ]
    },
    {
     "name": "stdout",
     "output_type": "stream",
     "text": [
      "Epoch 450, Loss: 0.0563\n"
     ]
    },
    {
     "name": "stderr",
     "output_type": "stream",
     "text": [
      "Training MLP with anchor:  46%|████▌     | 460/1000 [04:26<04:54,  1.84it/s]"
     ]
    },
    {
     "name": "stdout",
     "output_type": "stream",
     "text": [
      "Epoch 460, Loss: 0.0559\n"
     ]
    },
    {
     "name": "stderr",
     "output_type": "stream",
     "text": [
      "Training MLP with anchor:  47%|████▋     | 470/1000 [04:31<04:51,  1.82it/s]"
     ]
    },
    {
     "name": "stdout",
     "output_type": "stream",
     "text": [
      "Epoch 470, Loss: 0.0550\n"
     ]
    },
    {
     "name": "stderr",
     "output_type": "stream",
     "text": [
      "Training MLP with anchor:  48%|████▊     | 480/1000 [04:37<04:39,  1.86it/s]"
     ]
    },
    {
     "name": "stdout",
     "output_type": "stream",
     "text": [
      "Epoch 480, Loss: 0.0545\n"
     ]
    },
    {
     "name": "stderr",
     "output_type": "stream",
     "text": [
      "Training MLP with anchor:  49%|████▉     | 490/1000 [04:42<04:56,  1.72it/s]"
     ]
    },
    {
     "name": "stdout",
     "output_type": "stream",
     "text": [
      "Epoch 490, Loss: 0.0539\n"
     ]
    },
    {
     "name": "stderr",
     "output_type": "stream",
     "text": [
      "Training MLP with anchor:  50%|█████     | 500/1000 [04:48<04:50,  1.72it/s]"
     ]
    },
    {
     "name": "stdout",
     "output_type": "stream",
     "text": [
      "Epoch 500, Loss: 0.0536\n"
     ]
    },
    {
     "name": "stderr",
     "output_type": "stream",
     "text": [
      "Training MLP with anchor:  51%|█████     | 510/1000 [04:54<04:44,  1.72it/s]"
     ]
    },
    {
     "name": "stdout",
     "output_type": "stream",
     "text": [
      "Epoch 510, Loss: 0.0527\n"
     ]
    },
    {
     "name": "stderr",
     "output_type": "stream",
     "text": [
      "Training MLP with anchor:  52%|█████▏    | 520/1000 [05:00<04:27,  1.79it/s]"
     ]
    },
    {
     "name": "stdout",
     "output_type": "stream",
     "text": [
      "Epoch 520, Loss: 0.0526\n"
     ]
    },
    {
     "name": "stderr",
     "output_type": "stream",
     "text": [
      "Training MLP with anchor:  53%|█████▎    | 530/1000 [05:05<04:11,  1.87it/s]"
     ]
    },
    {
     "name": "stdout",
     "output_type": "stream",
     "text": [
      "Epoch 530, Loss: 0.0524\n"
     ]
    },
    {
     "name": "stderr",
     "output_type": "stream",
     "text": [
      "Training MLP with anchor:  54%|█████▍    | 540/1000 [05:11<04:13,  1.82it/s]"
     ]
    },
    {
     "name": "stdout",
     "output_type": "stream",
     "text": [
      "Epoch 540, Loss: 0.0518\n"
     ]
    },
    {
     "name": "stderr",
     "output_type": "stream",
     "text": [
      "Training MLP with anchor:  55%|█████▌    | 550/1000 [05:16<04:06,  1.82it/s]"
     ]
    },
    {
     "name": "stdout",
     "output_type": "stream",
     "text": [
      "Epoch 550, Loss: 0.0510\n"
     ]
    },
    {
     "name": "stderr",
     "output_type": "stream",
     "text": [
      "Training MLP with anchor:  56%|█████▌    | 560/1000 [05:21<03:54,  1.88it/s]"
     ]
    },
    {
     "name": "stdout",
     "output_type": "stream",
     "text": [
      "Epoch 560, Loss: 0.0510\n"
     ]
    },
    {
     "name": "stderr",
     "output_type": "stream",
     "text": [
      "Training MLP with anchor:  57%|█████▋    | 570/1000 [05:27<03:47,  1.89it/s]"
     ]
    },
    {
     "name": "stdout",
     "output_type": "stream",
     "text": [
      "Epoch 570, Loss: 0.0508\n"
     ]
    },
    {
     "name": "stderr",
     "output_type": "stream",
     "text": [
      "Training MLP with anchor:  58%|█████▊    | 580/1000 [05:32<03:41,  1.89it/s]"
     ]
    },
    {
     "name": "stdout",
     "output_type": "stream",
     "text": [
      "Epoch 580, Loss: 0.0505\n"
     ]
    },
    {
     "name": "stderr",
     "output_type": "stream",
     "text": [
      "Training MLP with anchor:  59%|█████▉    | 590/1000 [05:37<03:40,  1.86it/s]"
     ]
    },
    {
     "name": "stdout",
     "output_type": "stream",
     "text": [
      "Epoch 590, Loss: 0.0501\n"
     ]
    },
    {
     "name": "stderr",
     "output_type": "stream",
     "text": [
      "Training MLP with anchor:  60%|██████    | 600/1000 [05:43<03:33,  1.87it/s]"
     ]
    },
    {
     "name": "stdout",
     "output_type": "stream",
     "text": [
      "Epoch 600, Loss: 0.0501\n"
     ]
    },
    {
     "name": "stderr",
     "output_type": "stream",
     "text": [
      "Training MLP with anchor:  61%|██████    | 610/1000 [05:48<03:29,  1.87it/s]"
     ]
    },
    {
     "name": "stdout",
     "output_type": "stream",
     "text": [
      "Epoch 610, Loss: 0.0496\n"
     ]
    },
    {
     "name": "stderr",
     "output_type": "stream",
     "text": [
      "Training MLP with anchor:  62%|██████▏   | 620/1000 [05:54<03:26,  1.84it/s]"
     ]
    },
    {
     "name": "stdout",
     "output_type": "stream",
     "text": [
      "Epoch 620, Loss: 0.0493\n"
     ]
    },
    {
     "name": "stderr",
     "output_type": "stream",
     "text": [
      "Training MLP with anchor:  63%|██████▎   | 630/1000 [05:59<03:21,  1.83it/s]"
     ]
    },
    {
     "name": "stdout",
     "output_type": "stream",
     "text": [
      "Epoch 630, Loss: 0.0495\n"
     ]
    },
    {
     "name": "stderr",
     "output_type": "stream",
     "text": [
      "Training MLP with anchor:  64%|██████▍   | 640/1000 [06:05<03:14,  1.85it/s]"
     ]
    },
    {
     "name": "stdout",
     "output_type": "stream",
     "text": [
      "Epoch 640, Loss: 0.0489\n"
     ]
    },
    {
     "name": "stderr",
     "output_type": "stream",
     "text": [
      "Training MLP with anchor:  65%|██████▌   | 650/1000 [06:10<02:46,  2.11it/s]"
     ]
    },
    {
     "name": "stdout",
     "output_type": "stream",
     "text": [
      "Epoch 650, Loss: 0.0486\n"
     ]
    },
    {
     "name": "stderr",
     "output_type": "stream",
     "text": [
      "Training MLP with anchor:  66%|██████▌   | 660/1000 [06:15<03:10,  1.79it/s]"
     ]
    },
    {
     "name": "stdout",
     "output_type": "stream",
     "text": [
      "Epoch 660, Loss: 0.0487\n"
     ]
    },
    {
     "name": "stderr",
     "output_type": "stream",
     "text": [
      "Training MLP with anchor:  67%|██████▋   | 670/1000 [06:21<03:07,  1.76it/s]"
     ]
    },
    {
     "name": "stdout",
     "output_type": "stream",
     "text": [
      "Epoch 670, Loss: 0.0484\n"
     ]
    },
    {
     "name": "stderr",
     "output_type": "stream",
     "text": [
      "Training MLP with anchor:  68%|██████▊   | 680/1000 [06:26<03:00,  1.77it/s]"
     ]
    },
    {
     "name": "stdout",
     "output_type": "stream",
     "text": [
      "Epoch 680, Loss: 0.0484\n"
     ]
    },
    {
     "name": "stderr",
     "output_type": "stream",
     "text": [
      "Training MLP with anchor:  69%|██████▉   | 690/1000 [06:32<02:41,  1.92it/s]"
     ]
    },
    {
     "name": "stdout",
     "output_type": "stream",
     "text": [
      "Epoch 690, Loss: 0.0480\n"
     ]
    },
    {
     "name": "stderr",
     "output_type": "stream",
     "text": [
      "Training MLP with anchor:  70%|███████   | 700/1000 [06:37<02:33,  1.95it/s]"
     ]
    },
    {
     "name": "stdout",
     "output_type": "stream",
     "text": [
      "Epoch 700, Loss: 0.0480\n"
     ]
    },
    {
     "name": "stderr",
     "output_type": "stream",
     "text": [
      "Training MLP with anchor:  71%|███████   | 710/1000 [06:42<02:40,  1.81it/s]"
     ]
    },
    {
     "name": "stdout",
     "output_type": "stream",
     "text": [
      "Epoch 710, Loss: 0.0479\n"
     ]
    },
    {
     "name": "stderr",
     "output_type": "stream",
     "text": [
      "Training MLP with anchor:  72%|███████▏  | 720/1000 [06:48<02:43,  1.71it/s]"
     ]
    },
    {
     "name": "stdout",
     "output_type": "stream",
     "text": [
      "Epoch 720, Loss: 0.0474\n"
     ]
    },
    {
     "name": "stderr",
     "output_type": "stream",
     "text": [
      "Training MLP with anchor:  73%|███████▎  | 730/1000 [06:54<02:28,  1.82it/s]"
     ]
    },
    {
     "name": "stdout",
     "output_type": "stream",
     "text": [
      "Epoch 730, Loss: 0.0476\n"
     ]
    },
    {
     "name": "stderr",
     "output_type": "stream",
     "text": [
      "Training MLP with anchor:  74%|███████▍  | 740/1000 [06:59<02:03,  2.11it/s]"
     ]
    },
    {
     "name": "stdout",
     "output_type": "stream",
     "text": [
      "Epoch 740, Loss: 0.0471\n"
     ]
    },
    {
     "name": "stderr",
     "output_type": "stream",
     "text": [
      "Training MLP with anchor:  75%|███████▌  | 750/1000 [07:03<02:04,  2.00it/s]"
     ]
    },
    {
     "name": "stdout",
     "output_type": "stream",
     "text": [
      "Epoch 750, Loss: 0.0471\n"
     ]
    },
    {
     "name": "stderr",
     "output_type": "stream",
     "text": [
      "Training MLP with anchor:  76%|███████▌  | 760/1000 [07:08<01:57,  2.05it/s]"
     ]
    },
    {
     "name": "stdout",
     "output_type": "stream",
     "text": [
      "Epoch 760, Loss: 0.0469\n"
     ]
    },
    {
     "name": "stderr",
     "output_type": "stream",
     "text": [
      "Training MLP with anchor:  77%|███████▋  | 770/1000 [07:13<01:49,  2.10it/s]"
     ]
    },
    {
     "name": "stdout",
     "output_type": "stream",
     "text": [
      "Epoch 770, Loss: 0.0470\n"
     ]
    },
    {
     "name": "stderr",
     "output_type": "stream",
     "text": [
      "Training MLP with anchor:  78%|███████▊  | 780/1000 [07:18<01:55,  1.91it/s]"
     ]
    },
    {
     "name": "stdout",
     "output_type": "stream",
     "text": [
      "Epoch 780, Loss: 0.0466\n"
     ]
    },
    {
     "name": "stderr",
     "output_type": "stream",
     "text": [
      "Training MLP with anchor:  79%|███████▉  | 790/1000 [07:23<01:39,  2.12it/s]"
     ]
    },
    {
     "name": "stdout",
     "output_type": "stream",
     "text": [
      "Epoch 790, Loss: 0.0465\n"
     ]
    },
    {
     "name": "stderr",
     "output_type": "stream",
     "text": [
      "Training MLP with anchor:  80%|████████  | 800/1000 [07:28<01:37,  2.04it/s]"
     ]
    },
    {
     "name": "stdout",
     "output_type": "stream",
     "text": [
      "Epoch 800, Loss: 0.0464\n"
     ]
    },
    {
     "name": "stderr",
     "output_type": "stream",
     "text": [
      "Training MLP with anchor:  81%|████████  | 810/1000 [07:33<01:34,  2.01it/s]"
     ]
    },
    {
     "name": "stdout",
     "output_type": "stream",
     "text": [
      "Epoch 810, Loss: 0.0466\n"
     ]
    },
    {
     "name": "stderr",
     "output_type": "stream",
     "text": [
      "Training MLP with anchor:  82%|████████▏ | 820/1000 [07:39<01:42,  1.76it/s]"
     ]
    },
    {
     "name": "stdout",
     "output_type": "stream",
     "text": [
      "Epoch 820, Loss: 0.0459\n"
     ]
    },
    {
     "name": "stderr",
     "output_type": "stream",
     "text": [
      "Training MLP with anchor:  83%|████████▎ | 830/1000 [07:44<01:34,  1.79it/s]"
     ]
    },
    {
     "name": "stdout",
     "output_type": "stream",
     "text": [
      "Epoch 830, Loss: 0.0460\n"
     ]
    },
    {
     "name": "stderr",
     "output_type": "stream",
     "text": [
      "Training MLP with anchor:  84%|████████▍ | 840/1000 [07:50<01:31,  1.75it/s]"
     ]
    },
    {
     "name": "stdout",
     "output_type": "stream",
     "text": [
      "Epoch 840, Loss: 0.0459\n"
     ]
    },
    {
     "name": "stderr",
     "output_type": "stream",
     "text": [
      "Training MLP with anchor:  85%|████████▌ | 850/1000 [07:55<01:10,  2.12it/s]"
     ]
    },
    {
     "name": "stdout",
     "output_type": "stream",
     "text": [
      "Epoch 850, Loss: 0.0460\n"
     ]
    },
    {
     "name": "stderr",
     "output_type": "stream",
     "text": [
      "Training MLP with anchor:  86%|████████▌ | 860/1000 [08:01<01:20,  1.75it/s]"
     ]
    },
    {
     "name": "stdout",
     "output_type": "stream",
     "text": [
      "Epoch 860, Loss: 0.0461\n"
     ]
    },
    {
     "name": "stderr",
     "output_type": "stream",
     "text": [
      "Training MLP with anchor:  87%|████████▋ | 870/1000 [08:06<01:14,  1.75it/s]"
     ]
    },
    {
     "name": "stdout",
     "output_type": "stream",
     "text": [
      "Epoch 870, Loss: 0.0458\n"
     ]
    },
    {
     "name": "stderr",
     "output_type": "stream",
     "text": [
      "Training MLP with anchor:  88%|████████▊ | 880/1000 [08:12<01:08,  1.76it/s]"
     ]
    },
    {
     "name": "stdout",
     "output_type": "stream",
     "text": [
      "Epoch 880, Loss: 0.0459\n"
     ]
    },
    {
     "name": "stderr",
     "output_type": "stream",
     "text": [
      "Training MLP with anchor:  89%|████████▉ | 890/1000 [08:18<01:06,  1.64it/s]"
     ]
    },
    {
     "name": "stdout",
     "output_type": "stream",
     "text": [
      "Epoch 890, Loss: 0.0457\n"
     ]
    },
    {
     "name": "stderr",
     "output_type": "stream",
     "text": [
      "Training MLP with anchor:  90%|█████████ | 900/1000 [08:23<00:49,  2.02it/s]"
     ]
    },
    {
     "name": "stdout",
     "output_type": "stream",
     "text": [
      "Epoch 900, Loss: 0.0460\n"
     ]
    },
    {
     "name": "stderr",
     "output_type": "stream",
     "text": [
      "Training MLP with anchor:  91%|█████████ | 910/1000 [08:28<00:44,  2.02it/s]"
     ]
    },
    {
     "name": "stdout",
     "output_type": "stream",
     "text": [
      "Epoch 910, Loss: 0.0460\n"
     ]
    },
    {
     "name": "stderr",
     "output_type": "stream",
     "text": [
      "Training MLP with anchor:  92%|█████████▏| 920/1000 [08:33<00:38,  2.08it/s]"
     ]
    },
    {
     "name": "stdout",
     "output_type": "stream",
     "text": [
      "Epoch 920, Loss: 0.0459\n"
     ]
    },
    {
     "name": "stderr",
     "output_type": "stream",
     "text": [
      "Training MLP with anchor:  93%|█████████▎| 930/1000 [08:39<00:41,  1.67it/s]"
     ]
    },
    {
     "name": "stdout",
     "output_type": "stream",
     "text": [
      "Epoch 930, Loss: 0.0458\n"
     ]
    },
    {
     "name": "stderr",
     "output_type": "stream",
     "text": [
      "Training MLP with anchor:  94%|█████████▍| 940/1000 [08:45<00:35,  1.71it/s]"
     ]
    },
    {
     "name": "stdout",
     "output_type": "stream",
     "text": [
      "Epoch 940, Loss: 0.0456\n"
     ]
    },
    {
     "name": "stderr",
     "output_type": "stream",
     "text": [
      "Training MLP with anchor:  95%|█████████▌| 950/1000 [08:51<00:27,  1.79it/s]"
     ]
    },
    {
     "name": "stdout",
     "output_type": "stream",
     "text": [
      "Epoch 950, Loss: 0.0457\n"
     ]
    },
    {
     "name": "stderr",
     "output_type": "stream",
     "text": [
      "Training MLP with anchor:  96%|█████████▌| 960/1000 [08:57<00:24,  1.66it/s]"
     ]
    },
    {
     "name": "stdout",
     "output_type": "stream",
     "text": [
      "Epoch 960, Loss: 0.0453\n"
     ]
    },
    {
     "name": "stderr",
     "output_type": "stream",
     "text": [
      "Training MLP with anchor:  97%|█████████▋| 970/1000 [09:03<00:18,  1.65it/s]"
     ]
    },
    {
     "name": "stdout",
     "output_type": "stream",
     "text": [
      "Epoch 970, Loss: 0.0454\n"
     ]
    },
    {
     "name": "stderr",
     "output_type": "stream",
     "text": [
      "Training MLP with anchor:  98%|█████████▊| 980/1000 [09:09<00:12,  1.65it/s]"
     ]
    },
    {
     "name": "stdout",
     "output_type": "stream",
     "text": [
      "Epoch 980, Loss: 0.0452\n"
     ]
    },
    {
     "name": "stderr",
     "output_type": "stream",
     "text": [
      "Training MLP with anchor:  99%|█████████▉| 990/1000 [09:15<00:05,  1.70it/s]"
     ]
    },
    {
     "name": "stdout",
     "output_type": "stream",
     "text": [
      "Epoch 990, Loss: 0.0451\n"
     ]
    },
    {
     "name": "stderr",
     "output_type": "stream",
     "text": [
      "Training MLP with anchor: 100%|██████████| 1000/1000 [09:21<00:00,  1.78it/s]"
     ]
    },
    {
     "name": "stdout",
     "output_type": "stream",
     "text": [
      "Epoch 1000, Loss: 0.0451\n"
     ]
    },
    {
     "name": "stderr",
     "output_type": "stream",
     "text": [
      "\n"
     ]
    },
    {
     "name": "stdout",
     "output_type": "stream",
     "text": [
      "362880\n",
      "X.shape: torch.Size([362880, 9])\n",
      "y.shape: torch.Size([362880])\n",
      "Starting DQN training for 15000 epochs...\n"
     ]
    },
    {
     "name": "stderr",
     "output_type": "stream",
     "text": [
      "Training DQN:   0%|          | 2/15000 [00:00<1:04:22,  3.88it/s]"
     ]
    },
    {
     "name": "stdout",
     "output_type": "stream",
     "text": [
      "Epoch   0 | Loss: 0.0905 | Hinge: 0.0272 | Anchor: 0.0459 | Times - RW: 0.31s, Bellman: 0.03s, Train: 0.06s\n"
     ]
    },
    {
     "name": "stderr",
     "output_type": "stream",
     "text": [
      "Training DQN:   0%|          | 52/15000 [00:08<41:58,  5.93it/s] "
     ]
    },
    {
     "name": "stdout",
     "output_type": "stream",
     "text": [
      "Epoch  50 | Loss: 0.0825 | Hinge: 0.0214 | Anchor: 0.0755 | Times - RW: 0.07s, Bellman: 0.02s, Train: 0.07s\n"
     ]
    },
    {
     "name": "stderr",
     "output_type": "stream",
     "text": [
      "Training DQN:   1%|          | 102/15000 [00:16<42:51,  5.79it/s]"
     ]
    },
    {
     "name": "stdout",
     "output_type": "stream",
     "text": [
      "Epoch 100 | Loss: 0.0956 | Hinge: 0.0187 | Anchor: 0.0642 | Times - RW: 0.10s, Bellman: 0.01s, Train: 0.07s\n"
     ]
    },
    {
     "name": "stderr",
     "output_type": "stream",
     "text": [
      "Training DQN:   1%|          | 152/15000 [00:25<42:39,  5.80it/s]"
     ]
    },
    {
     "name": "stdout",
     "output_type": "stream",
     "text": [
      "Epoch 150 | Loss: 0.1257 | Hinge: 0.0238 | Anchor: 0.1140 | Times - RW: 0.08s, Bellman: 0.01s, Train: 0.08s\n"
     ]
    },
    {
     "name": "stderr",
     "output_type": "stream",
     "text": [
      "Training DQN:   1%|▏         | 202/15000 [00:33<40:49,  6.04it/s]"
     ]
    },
    {
     "name": "stdout",
     "output_type": "stream",
     "text": [
      "Epoch 200 | Loss: 0.1183 | Hinge: 0.0165 | Anchor: 0.1066 | Times - RW: 0.07s, Bellman: 0.02s, Train: 0.07s\n"
     ]
    },
    {
     "name": "stderr",
     "output_type": "stream",
     "text": [
      "Training DQN:   2%|▏         | 252/15000 [00:41<39:22,  6.24it/s]"
     ]
    },
    {
     "name": "stdout",
     "output_type": "stream",
     "text": [
      "Epoch 250 | Loss: 0.1600 | Hinge: 0.0120 | Anchor: 0.1693 | Times - RW: 0.08s, Bellman: 0.01s, Train: 0.07s\n"
     ]
    },
    {
     "name": "stderr",
     "output_type": "stream",
     "text": [
      "Training DQN:   2%|▏         | 301/15000 [00:50<39:45,  6.16it/s]"
     ]
    },
    {
     "name": "stdout",
     "output_type": "stream",
     "text": [
      "Epoch 300 | Loss: 0.1528 | Hinge: 0.0204 | Anchor: 0.1197 | Times - RW: 0.08s, Bellman: 0.02s, Train: 0.06s\n"
     ]
    },
    {
     "name": "stderr",
     "output_type": "stream",
     "text": [
      "Training DQN:   2%|▏         | 352/15000 [00:58<40:55,  5.97it/s]"
     ]
    },
    {
     "name": "stdout",
     "output_type": "stream",
     "text": [
      "Epoch 350 | Loss: 0.2164 | Hinge: 0.0203 | Anchor: 0.1917 | Times - RW: 0.08s, Bellman: 0.01s, Train: 0.07s\n"
     ]
    },
    {
     "name": "stderr",
     "output_type": "stream",
     "text": [
      "Training DQN:   3%|▎         | 402/15000 [01:07<41:18,  5.89it/s]"
     ]
    },
    {
     "name": "stdout",
     "output_type": "stream",
     "text": [
      "Epoch 400 | Loss: 0.1023 | Hinge: 0.0167 | Anchor: 0.1025 | Times - RW: 0.08s, Bellman: 0.02s, Train: 0.08s\n"
     ]
    },
    {
     "name": "stderr",
     "output_type": "stream",
     "text": [
      "Training DQN:   3%|▎         | 451/15000 [01:15<40:48,  5.94it/s]"
     ]
    },
    {
     "name": "stdout",
     "output_type": "stream",
     "text": [
      "Epoch 450 | Loss: 0.1691 | Hinge: 0.0174 | Anchor: 0.1205 | Times - RW: 0.09s, Bellman: 0.01s, Train: 0.07s\n"
     ]
    },
    {
     "name": "stderr",
     "output_type": "stream",
     "text": [
      "Training DQN:   3%|▎         | 502/15000 [01:23<41:00,  5.89it/s]"
     ]
    },
    {
     "name": "stdout",
     "output_type": "stream",
     "text": [
      "Epoch 500 | Loss: 0.1124 | Hinge: 0.0179 | Anchor: 0.0925 | Times - RW: 0.08s, Bellman: 0.01s, Train: 0.06s\n"
     ]
    },
    {
     "name": "stderr",
     "output_type": "stream",
     "text": [
      "Training DQN:   4%|▎         | 551/15000 [01:31<40:13,  5.99it/s]"
     ]
    },
    {
     "name": "stdout",
     "output_type": "stream",
     "text": [
      "Epoch 550 | Loss: 0.2178 | Hinge: 0.0160 | Anchor: 0.1854 | Times - RW: 0.09s, Bellman: 0.02s, Train: 0.07s\n"
     ]
    },
    {
     "name": "stderr",
     "output_type": "stream",
     "text": [
      "Training DQN:   4%|▍         | 602/15000 [01:40<39:22,  6.10it/s]"
     ]
    },
    {
     "name": "stdout",
     "output_type": "stream",
     "text": [
      "Epoch 600 | Loss: 0.0979 | Hinge: 0.0249 | Anchor: 0.0948 | Times - RW: 0.08s, Bellman: 0.01s, Train: 0.07s\n"
     ]
    },
    {
     "name": "stderr",
     "output_type": "stream",
     "text": [
      "Training DQN:   4%|▍         | 652/15000 [01:48<36:58,  6.47it/s]"
     ]
    },
    {
     "name": "stdout",
     "output_type": "stream",
     "text": [
      "Epoch 650 | Loss: 0.1456 | Hinge: 0.0178 | Anchor: 0.1160 | Times - RW: 0.07s, Bellman: 0.01s, Train: 0.07s\n"
     ]
    },
    {
     "name": "stderr",
     "output_type": "stream",
     "text": [
      "Training DQN:   5%|▍         | 702/15000 [01:56<39:44,  6.00it/s]"
     ]
    },
    {
     "name": "stdout",
     "output_type": "stream",
     "text": [
      "Epoch 700 | Loss: 0.0957 | Hinge: 0.0155 | Anchor: 0.0762 | Times - RW: 0.09s, Bellman: 0.02s, Train: 0.07s\n"
     ]
    },
    {
     "name": "stderr",
     "output_type": "stream",
     "text": [
      "Training DQN:   5%|▌         | 752/15000 [02:04<38:39,  6.14it/s]"
     ]
    },
    {
     "name": "stdout",
     "output_type": "stream",
     "text": [
      "Epoch 750 | Loss: 0.1631 | Hinge: 0.0234 | Anchor: 0.1277 | Times - RW: 0.07s, Bellman: 0.01s, Train: 0.07s\n"
     ]
    },
    {
     "name": "stderr",
     "output_type": "stream",
     "text": [
      "Training DQN:   5%|▌         | 801/15000 [02:12<42:25,  5.58it/s]"
     ]
    },
    {
     "name": "stdout",
     "output_type": "stream",
     "text": [
      "Epoch 800 | Loss: 0.1094 | Hinge: 0.0160 | Anchor: 0.1035 | Times - RW: 0.08s, Bellman: 0.01s, Train: 0.07s\n"
     ]
    },
    {
     "name": "stderr",
     "output_type": "stream",
     "text": [
      "Training DQN:   6%|▌         | 851/15000 [02:21<38:20,  6.15it/s]"
     ]
    },
    {
     "name": "stdout",
     "output_type": "stream",
     "text": [
      "Epoch 850 | Loss: 0.1072 | Hinge: 0.0197 | Anchor: 0.0811 | Times - RW: 0.08s, Bellman: 0.01s, Train: 0.07s\n"
     ]
    },
    {
     "name": "stderr",
     "output_type": "stream",
     "text": [
      "Training DQN:   6%|▌         | 902/15000 [02:29<39:11,  6.00it/s]"
     ]
    },
    {
     "name": "stdout",
     "output_type": "stream",
     "text": [
      "Epoch 900 | Loss: 0.1232 | Hinge: 0.0174 | Anchor: 0.1284 | Times - RW: 0.10s, Bellman: 0.01s, Train: 0.06s\n"
     ]
    },
    {
     "name": "stderr",
     "output_type": "stream",
     "text": [
      "Training DQN:   6%|▋         | 952/15000 [02:38<39:02,  6.00it/s]"
     ]
    },
    {
     "name": "stdout",
     "output_type": "stream",
     "text": [
      "Epoch 950 | Loss: 0.1144 | Hinge: 0.0205 | Anchor: 0.1127 | Times - RW: 0.08s, Bellman: 0.01s, Train: 0.08s\n"
     ]
    },
    {
     "name": "stderr",
     "output_type": "stream",
     "text": [
      "Training DQN:   7%|▋         | 1002/15000 [02:46<37:04,  6.29it/s]"
     ]
    },
    {
     "name": "stdout",
     "output_type": "stream",
     "text": [
      "Epoch 1000 | Loss: 0.1198 | Hinge: 0.0160 | Anchor: 0.1331 | Times - RW: 0.08s, Bellman: 0.01s, Train: 0.08s\n"
     ]
    },
    {
     "name": "stderr",
     "output_type": "stream",
     "text": [
      "Training DQN:   7%|▋         | 1052/15000 [02:54<37:29,  6.20it/s]"
     ]
    },
    {
     "name": "stdout",
     "output_type": "stream",
     "text": [
      "Epoch 1050 | Loss: 0.1051 | Hinge: 0.0214 | Anchor: 0.0853 | Times - RW: 0.07s, Bellman: 0.01s, Train: 0.07s\n"
     ]
    },
    {
     "name": "stderr",
     "output_type": "stream",
     "text": [
      "Training DQN:   7%|▋         | 1102/15000 [03:02<37:04,  6.25it/s]"
     ]
    },
    {
     "name": "stdout",
     "output_type": "stream",
     "text": [
      "Epoch 1100 | Loss: 0.1206 | Hinge: 0.0174 | Anchor: 0.1105 | Times - RW: 0.08s, Bellman: 0.01s, Train: 0.07s\n"
     ]
    },
    {
     "name": "stderr",
     "output_type": "stream",
     "text": [
      "Training DQN:   8%|▊         | 1152/15000 [03:10<37:34,  6.14it/s]"
     ]
    },
    {
     "name": "stdout",
     "output_type": "stream",
     "text": [
      "Epoch 1150 | Loss: 0.1405 | Hinge: 0.0139 | Anchor: 0.1433 | Times - RW: 0.08s, Bellman: 0.01s, Train: 0.06s\n"
     ]
    },
    {
     "name": "stderr",
     "output_type": "stream",
     "text": [
      "Training DQN:   8%|▊         | 1202/15000 [03:18<36:43,  6.26it/s]"
     ]
    },
    {
     "name": "stdout",
     "output_type": "stream",
     "text": [
      "Epoch 1200 | Loss: 0.1753 | Hinge: 0.0176 | Anchor: 0.1563 | Times - RW: 0.08s, Bellman: 0.01s, Train: 0.08s\n"
     ]
    },
    {
     "name": "stderr",
     "output_type": "stream",
     "text": [
      "Training DQN:   8%|▊         | 1252/15000 [03:26<35:59,  6.37it/s]"
     ]
    },
    {
     "name": "stdout",
     "output_type": "stream",
     "text": [
      "Epoch 1250 | Loss: 0.1258 | Hinge: 0.0201 | Anchor: 0.1204 | Times - RW: 0.07s, Bellman: 0.01s, Train: 0.06s\n"
     ]
    },
    {
     "name": "stderr",
     "output_type": "stream",
     "text": [
      "Training DQN:   9%|▊         | 1302/15000 [03:34<36:28,  6.26it/s]"
     ]
    },
    {
     "name": "stdout",
     "output_type": "stream",
     "text": [
      "Epoch 1300 | Loss: 0.1486 | Hinge: 0.0157 | Anchor: 0.1055 | Times - RW: 0.08s, Bellman: 0.02s, Train: 0.07s\n"
     ]
    },
    {
     "name": "stderr",
     "output_type": "stream",
     "text": [
      "Training DQN:   9%|▉         | 1351/15000 [03:43<38:32,  5.90it/s]"
     ]
    },
    {
     "name": "stdout",
     "output_type": "stream",
     "text": [
      "Epoch 1350 | Loss: 0.1528 | Hinge: 0.0165 | Anchor: 0.1563 | Times - RW: 0.07s, Bellman: 0.01s, Train: 0.10s\n"
     ]
    },
    {
     "name": "stderr",
     "output_type": "stream",
     "text": [
      "Training DQN:   9%|▉         | 1402/15000 [03:52<37:09,  6.10it/s]"
     ]
    },
    {
     "name": "stdout",
     "output_type": "stream",
     "text": [
      "Epoch 1400 | Loss: 0.1403 | Hinge: 0.0155 | Anchor: 0.1199 | Times - RW: 0.08s, Bellman: 0.01s, Train: 0.07s\n"
     ]
    },
    {
     "name": "stderr",
     "output_type": "stream",
     "text": [
      "Training DQN:  10%|▉         | 1452/15000 [04:00<37:07,  6.08it/s]"
     ]
    },
    {
     "name": "stdout",
     "output_type": "stream",
     "text": [
      "Epoch 1450 | Loss: 0.2155 | Hinge: 0.0148 | Anchor: 0.2298 | Times - RW: 0.07s, Bellman: 0.01s, Train: 0.07s\n"
     ]
    },
    {
     "name": "stderr",
     "output_type": "stream",
     "text": [
      "Training DQN:  10%|█         | 1502/15000 [04:08<38:06,  5.90it/s]"
     ]
    },
    {
     "name": "stdout",
     "output_type": "stream",
     "text": [
      "Epoch 1500 | Loss: 0.1969 | Hinge: 0.0199 | Anchor: 0.2065 | Times - RW: 0.09s, Bellman: 0.02s, Train: 0.08s\n"
     ]
    },
    {
     "name": "stderr",
     "output_type": "stream",
     "text": [
      "Training DQN:  10%|█         | 1552/15000 [04:16<35:00,  6.40it/s]"
     ]
    },
    {
     "name": "stdout",
     "output_type": "stream",
     "text": [
      "Epoch 1550 | Loss: 0.1146 | Hinge: 0.0201 | Anchor: 0.0931 | Times - RW: 0.08s, Bellman: 0.01s, Train: 0.06s\n"
     ]
    },
    {
     "name": "stderr",
     "output_type": "stream",
     "text": [
      "Training DQN:  11%|█         | 1602/15000 [04:25<36:02,  6.19it/s]"
     ]
    },
    {
     "name": "stdout",
     "output_type": "stream",
     "text": [
      "Epoch 1600 | Loss: 0.1841 | Hinge: 0.0181 | Anchor: 0.1409 | Times - RW: 0.07s, Bellman: 0.01s, Train: 0.06s\n"
     ]
    },
    {
     "name": "stderr",
     "output_type": "stream",
     "text": [
      "Training DQN:  11%|█         | 1652/15000 [04:33<35:35,  6.25it/s]"
     ]
    },
    {
     "name": "stdout",
     "output_type": "stream",
     "text": [
      "Epoch 1650 | Loss: 0.1036 | Hinge: 0.0205 | Anchor: 0.0963 | Times - RW: 0.07s, Bellman: 0.01s, Train: 0.07s\n"
     ]
    },
    {
     "name": "stderr",
     "output_type": "stream",
     "text": [
      "Training DQN:  11%|█▏        | 1702/15000 [04:41<35:43,  6.21it/s]"
     ]
    },
    {
     "name": "stdout",
     "output_type": "stream",
     "text": [
      "Epoch 1700 | Loss: 0.2622 | Hinge: 0.0145 | Anchor: 0.2161 | Times - RW: 0.08s, Bellman: 0.01s, Train: 0.07s\n"
     ]
    },
    {
     "name": "stderr",
     "output_type": "stream",
     "text": [
      "Training DQN:  12%|█▏        | 1751/15000 [04:49<38:03,  5.80it/s]"
     ]
    },
    {
     "name": "stdout",
     "output_type": "stream",
     "text": [
      "Epoch 1750 | Loss: 0.1002 | Hinge: 0.0168 | Anchor: 0.0969 | Times - RW: 0.10s, Bellman: 0.01s, Train: 0.07s\n"
     ]
    },
    {
     "name": "stderr",
     "output_type": "stream",
     "text": [
      "Training DQN:  12%|█▏        | 1802/15000 [04:58<36:04,  6.10it/s]"
     ]
    },
    {
     "name": "stdout",
     "output_type": "stream",
     "text": [
      "Epoch 1800 | Loss: 0.2051 | Hinge: 0.0091 | Anchor: 0.2035 | Times - RW: 0.08s, Bellman: 0.02s, Train: 0.07s\n"
     ]
    },
    {
     "name": "stderr",
     "output_type": "stream",
     "text": [
      "Training DQN:  12%|█▏        | 1852/15000 [05:06<35:43,  6.14it/s]"
     ]
    },
    {
     "name": "stdout",
     "output_type": "stream",
     "text": [
      "Epoch 1850 | Loss: 0.1021 | Hinge: 0.0209 | Anchor: 0.0769 | Times - RW: 0.07s, Bellman: 0.01s, Train: 0.07s\n"
     ]
    },
    {
     "name": "stderr",
     "output_type": "stream",
     "text": [
      "Training DQN:  13%|█▎        | 1902/15000 [05:14<35:19,  6.18it/s]"
     ]
    },
    {
     "name": "stdout",
     "output_type": "stream",
     "text": [
      "Epoch 1900 | Loss: 0.1503 | Hinge: 0.0213 | Anchor: 0.1405 | Times - RW: 0.08s, Bellman: 0.01s, Train: 0.08s\n"
     ]
    },
    {
     "name": "stderr",
     "output_type": "stream",
     "text": [
      "Training DQN:  13%|█▎        | 1952/15000 [05:22<36:23,  5.98it/s]"
     ]
    },
    {
     "name": "stdout",
     "output_type": "stream",
     "text": [
      "Epoch 1950 | Loss: 0.1995 | Hinge: 0.0144 | Anchor: 0.1644 | Times - RW: 0.09s, Bellman: 0.02s, Train: 0.07s\n"
     ]
    },
    {
     "name": "stderr",
     "output_type": "stream",
     "text": [
      "Training DQN:  13%|█▎        | 2002/15000 [05:31<37:06,  5.84it/s]"
     ]
    },
    {
     "name": "stdout",
     "output_type": "stream",
     "text": [
      "Epoch 2000 | Loss: 0.1077 | Hinge: 0.0165 | Anchor: 0.1097 | Times - RW: 0.09s, Bellman: 0.01s, Train: 0.07s\n"
     ]
    },
    {
     "name": "stderr",
     "output_type": "stream",
     "text": [
      "Training DQN:  14%|█▎        | 2052/15000 [05:39<37:22,  5.77it/s]"
     ]
    },
    {
     "name": "stdout",
     "output_type": "stream",
     "text": [
      "Epoch 2050 | Loss: 0.1091 | Hinge: 0.0163 | Anchor: 0.0845 | Times - RW: 0.10s, Bellman: 0.01s, Train: 0.07s\n"
     ]
    },
    {
     "name": "stderr",
     "output_type": "stream",
     "text": [
      "Training DQN:  14%|█▍        | 2102/15000 [05:47<34:04,  6.31it/s]"
     ]
    },
    {
     "name": "stdout",
     "output_type": "stream",
     "text": [
      "Epoch 2100 | Loss: 0.0957 | Hinge: 0.0169 | Anchor: 0.0895 | Times - RW: 0.07s, Bellman: 0.02s, Train: 0.08s\n"
     ]
    },
    {
     "name": "stderr",
     "output_type": "stream",
     "text": [
      "Training DQN:  14%|█▍        | 2152/15000 [05:55<33:46,  6.34it/s]"
     ]
    },
    {
     "name": "stdout",
     "output_type": "stream",
     "text": [
      "Epoch 2150 | Loss: 0.1339 | Hinge: 0.0148 | Anchor: 0.1422 | Times - RW: 0.07s, Bellman: 0.01s, Train: 0.07s\n"
     ]
    },
    {
     "name": "stderr",
     "output_type": "stream",
     "text": [
      "Training DQN:  15%|█▍        | 2202/15000 [06:04<36:56,  5.77it/s]"
     ]
    },
    {
     "name": "stdout",
     "output_type": "stream",
     "text": [
      "Epoch 2200 | Loss: 0.2072 | Hinge: 0.0199 | Anchor: 0.2068 | Times - RW: 0.09s, Bellman: 0.02s, Train: 0.08s\n"
     ]
    },
    {
     "name": "stderr",
     "output_type": "stream",
     "text": [
      "Training DQN:  15%|█▌        | 2252/15000 [06:12<34:19,  6.19it/s]"
     ]
    },
    {
     "name": "stdout",
     "output_type": "stream",
     "text": [
      "Epoch 2250 | Loss: 0.1482 | Hinge: 0.0167 | Anchor: 0.1193 | Times - RW: 0.07s, Bellman: 0.01s, Train: 0.06s\n"
     ]
    },
    {
     "name": "stderr",
     "output_type": "stream",
     "text": [
      "Training DQN:  15%|█▌        | 2302/15000 [06:20<32:12,  6.57it/s]"
     ]
    },
    {
     "name": "stdout",
     "output_type": "stream",
     "text": [
      "Epoch 2300 | Loss: 0.1995 | Hinge: 0.0188 | Anchor: 0.2026 | Times - RW: 0.07s, Bellman: 0.01s, Train: 0.06s\n"
     ]
    },
    {
     "name": "stderr",
     "output_type": "stream",
     "text": [
      "Training DQN:  16%|█▌        | 2352/15000 [06:28<31:15,  6.74it/s]"
     ]
    },
    {
     "name": "stdout",
     "output_type": "stream",
     "text": [
      "Epoch 2350 | Loss: 0.1334 | Hinge: 0.0175 | Anchor: 0.1277 | Times - RW: 0.07s, Bellman: 0.01s, Train: 0.06s\n"
     ]
    },
    {
     "name": "stderr",
     "output_type": "stream",
     "text": [
      "Training DQN:  16%|█▌        | 2402/15000 [06:36<32:08,  6.53it/s]"
     ]
    },
    {
     "name": "stdout",
     "output_type": "stream",
     "text": [
      "Epoch 2400 | Loss: 0.0993 | Hinge: 0.0182 | Anchor: 0.0898 | Times - RW: 0.07s, Bellman: 0.01s, Train: 0.06s\n"
     ]
    },
    {
     "name": "stderr",
     "output_type": "stream",
     "text": [
      "Training DQN:  16%|█▋        | 2452/15000 [06:43<32:39,  6.40it/s]"
     ]
    },
    {
     "name": "stdout",
     "output_type": "stream",
     "text": [
      "Epoch 2450 | Loss: 0.1550 | Hinge: 0.0169 | Anchor: 0.1399 | Times - RW: 0.08s, Bellman: 0.01s, Train: 0.06s\n"
     ]
    },
    {
     "name": "stderr",
     "output_type": "stream",
     "text": [
      "Training DQN:  17%|█▋        | 2502/15000 [06:51<31:36,  6.59it/s]"
     ]
    },
    {
     "name": "stdout",
     "output_type": "stream",
     "text": [
      "Epoch 2500 | Loss: 0.1224 | Hinge: 0.0177 | Anchor: 0.0903 | Times - RW: 0.07s, Bellman: 0.01s, Train: 0.06s\n"
     ]
    },
    {
     "name": "stderr",
     "output_type": "stream",
     "text": [
      "Training DQN:  17%|█▋        | 2552/15000 [06:59<31:42,  6.54it/s]"
     ]
    },
    {
     "name": "stdout",
     "output_type": "stream",
     "text": [
      "Epoch 2550 | Loss: 0.1326 | Hinge: 0.0155 | Anchor: 0.1335 | Times - RW: 0.07s, Bellman: 0.01s, Train: 0.06s\n"
     ]
    },
    {
     "name": "stderr",
     "output_type": "stream",
     "text": [
      "Training DQN:  17%|█▋        | 2602/15000 [07:07<31:34,  6.54it/s]"
     ]
    },
    {
     "name": "stdout",
     "output_type": "stream",
     "text": [
      "Epoch 2600 | Loss: 0.1006 | Hinge: 0.0165 | Anchor: 0.0919 | Times - RW: 0.07s, Bellman: 0.01s, Train: 0.06s\n"
     ]
    },
    {
     "name": "stderr",
     "output_type": "stream",
     "text": [
      "Training DQN:  18%|█▊        | 2652/15000 [07:14<31:19,  6.57it/s]"
     ]
    },
    {
     "name": "stdout",
     "output_type": "stream",
     "text": [
      "Epoch 2650 | Loss: 0.1377 | Hinge: 0.0201 | Anchor: 0.1161 | Times - RW: 0.08s, Bellman: 0.01s, Train: 0.06s\n"
     ]
    },
    {
     "name": "stderr",
     "output_type": "stream",
     "text": [
      "Training DQN:  18%|█▊        | 2702/15000 [07:22<32:57,  6.22it/s]"
     ]
    },
    {
     "name": "stdout",
     "output_type": "stream",
     "text": [
      "Epoch 2700 | Loss: 0.1259 | Hinge: 0.0198 | Anchor: 0.1535 | Times - RW: 0.08s, Bellman: 0.01s, Train: 0.06s\n"
     ]
    },
    {
     "name": "stderr",
     "output_type": "stream",
     "text": [
      "Training DQN:  18%|█▊        | 2752/15000 [07:30<31:37,  6.45it/s]"
     ]
    },
    {
     "name": "stdout",
     "output_type": "stream",
     "text": [
      "Epoch 2750 | Loss: 0.0947 | Hinge: 0.0124 | Anchor: 0.0512 | Times - RW: 0.08s, Bellman: 0.01s, Train: 0.07s\n"
     ]
    },
    {
     "name": "stderr",
     "output_type": "stream",
     "text": [
      "Training DQN:  19%|█▊        | 2802/15000 [07:38<30:29,  6.67it/s]"
     ]
    },
    {
     "name": "stdout",
     "output_type": "stream",
     "text": [
      "Epoch 2800 | Loss: 0.1014 | Hinge: 0.0167 | Anchor: 0.1002 | Times - RW: 0.07s, Bellman: 0.01s, Train: 0.06s\n"
     ]
    },
    {
     "name": "stderr",
     "output_type": "stream",
     "text": [
      "Training DQN:  19%|█▉        | 2852/15000 [07:45<31:36,  6.41it/s]"
     ]
    },
    {
     "name": "stdout",
     "output_type": "stream",
     "text": [
      "Epoch 2850 | Loss: 0.1123 | Hinge: 0.0133 | Anchor: 0.1085 | Times - RW: 0.08s, Bellman: 0.01s, Train: 0.06s\n"
     ]
    },
    {
     "name": "stderr",
     "output_type": "stream",
     "text": [
      "Training DQN:  19%|█▉        | 2902/15000 [07:53<30:48,  6.54it/s]"
     ]
    },
    {
     "name": "stdout",
     "output_type": "stream",
     "text": [
      "Epoch 2900 | Loss: 0.1372 | Hinge: 0.0166 | Anchor: 0.0987 | Times - RW: 0.07s, Bellman: 0.01s, Train: 0.07s\n"
     ]
    },
    {
     "name": "stderr",
     "output_type": "stream",
     "text": [
      "Training DQN:  20%|█▉        | 2952/15000 [08:01<31:08,  6.45it/s]"
     ]
    },
    {
     "name": "stdout",
     "output_type": "stream",
     "text": [
      "Epoch 2950 | Loss: 0.1122 | Hinge: 0.0127 | Anchor: 0.0677 | Times - RW: 0.08s, Bellman: 0.01s, Train: 0.07s\n"
     ]
    },
    {
     "name": "stderr",
     "output_type": "stream",
     "text": [
      "Training DQN:  20%|██        | 3002/15000 [08:09<29:57,  6.68it/s]"
     ]
    },
    {
     "name": "stdout",
     "output_type": "stream",
     "text": [
      "Epoch 3000 | Loss: 0.1038 | Hinge: 0.0142 | Anchor: 0.0698 | Times - RW: 0.07s, Bellman: 0.01s, Train: 0.06s\n"
     ]
    },
    {
     "name": "stderr",
     "output_type": "stream",
     "text": [
      "Training DQN:  20%|██        | 3052/15000 [08:16<29:49,  6.68it/s]"
     ]
    },
    {
     "name": "stdout",
     "output_type": "stream",
     "text": [
      "Epoch 3050 | Loss: 0.1236 | Hinge: 0.0167 | Anchor: 0.0956 | Times - RW: 0.07s, Bellman: 0.01s, Train: 0.06s\n"
     ]
    },
    {
     "name": "stderr",
     "output_type": "stream",
     "text": [
      "Training DQN:  21%|██        | 3102/15000 [08:24<29:58,  6.62it/s]"
     ]
    },
    {
     "name": "stdout",
     "output_type": "stream",
     "text": [
      "Epoch 3100 | Loss: 0.1083 | Hinge: 0.0189 | Anchor: 0.0912 | Times - RW: 0.07s, Bellman: 0.01s, Train: 0.06s\n"
     ]
    },
    {
     "name": "stderr",
     "output_type": "stream",
     "text": [
      "Training DQN:  21%|██        | 3152/15000 [08:32<30:33,  6.46it/s]"
     ]
    },
    {
     "name": "stdout",
     "output_type": "stream",
     "text": [
      "Epoch 3150 | Loss: 0.0997 | Hinge: 0.0201 | Anchor: 0.0815 | Times - RW: 0.07s, Bellman: 0.01s, Train: 0.06s\n"
     ]
    },
    {
     "name": "stderr",
     "output_type": "stream",
     "text": [
      "Training DQN:  21%|██▏       | 3202/15000 [08:39<30:12,  6.51it/s]"
     ]
    },
    {
     "name": "stdout",
     "output_type": "stream",
     "text": [
      "Epoch 3200 | Loss: 0.1647 | Hinge: 0.0159 | Anchor: 0.1618 | Times - RW: 0.07s, Bellman: 0.01s, Train: 0.06s\n"
     ]
    },
    {
     "name": "stderr",
     "output_type": "stream",
     "text": [
      "Training DQN:  22%|██▏       | 3252/15000 [08:47<30:21,  6.45it/s]"
     ]
    },
    {
     "name": "stdout",
     "output_type": "stream",
     "text": [
      "Epoch 3250 | Loss: 0.1147 | Hinge: 0.0141 | Anchor: 0.0825 | Times - RW: 0.08s, Bellman: 0.01s, Train: 0.07s\n"
     ]
    },
    {
     "name": "stderr",
     "output_type": "stream",
     "text": [
      "Training DQN:  22%|██▏       | 3302/15000 [08:55<29:55,  6.52it/s]"
     ]
    },
    {
     "name": "stdout",
     "output_type": "stream",
     "text": [
      "Epoch 3300 | Loss: 0.1027 | Hinge: 0.0119 | Anchor: 0.0954 | Times - RW: 0.07s, Bellman: 0.01s, Train: 0.06s\n"
     ]
    },
    {
     "name": "stderr",
     "output_type": "stream",
     "text": [
      "Training DQN:  22%|██▏       | 3352/15000 [09:02<29:06,  6.67it/s]"
     ]
    },
    {
     "name": "stdout",
     "output_type": "stream",
     "text": [
      "Epoch 3350 | Loss: 0.2163 | Hinge: 0.0125 | Anchor: 0.1762 | Times - RW: 0.07s, Bellman: 0.01s, Train: 0.06s\n"
     ]
    },
    {
     "name": "stderr",
     "output_type": "stream",
     "text": [
      "Training DQN:  23%|██▎       | 3402/15000 [09:10<30:45,  6.29it/s]"
     ]
    },
    {
     "name": "stdout",
     "output_type": "stream",
     "text": [
      "Epoch 3400 | Loss: 0.1071 | Hinge: 0.0148 | Anchor: 0.0945 | Times - RW: 0.07s, Bellman: 0.01s, Train: 0.07s\n"
     ]
    },
    {
     "name": "stderr",
     "output_type": "stream",
     "text": [
      "Training DQN:  23%|██▎       | 3452/15000 [09:18<29:48,  6.46it/s]"
     ]
    },
    {
     "name": "stdout",
     "output_type": "stream",
     "text": [
      "Epoch 3450 | Loss: 0.1052 | Hinge: 0.0153 | Anchor: 0.0960 | Times - RW: 0.07s, Bellman: 0.01s, Train: 0.06s\n"
     ]
    },
    {
     "name": "stderr",
     "output_type": "stream",
     "text": [
      "Training DQN:  23%|██▎       | 3502/15000 [09:26<30:18,  6.32it/s]"
     ]
    },
    {
     "name": "stdout",
     "output_type": "stream",
     "text": [
      "Epoch 3500 | Loss: 0.1435 | Hinge: 0.0153 | Anchor: 0.1264 | Times - RW: 0.08s, Bellman: 0.01s, Train: 0.07s\n"
     ]
    },
    {
     "name": "stderr",
     "output_type": "stream",
     "text": [
      "Training DQN:  24%|██▎       | 3552/15000 [09:33<29:12,  6.53it/s]"
     ]
    },
    {
     "name": "stdout",
     "output_type": "stream",
     "text": [
      "Epoch 3550 | Loss: 0.1170 | Hinge: 0.0139 | Anchor: 0.1111 | Times - RW: 0.07s, Bellman: 0.01s, Train: 0.06s\n"
     ]
    },
    {
     "name": "stderr",
     "output_type": "stream",
     "text": [
      "Training DQN:  24%|██▍       | 3602/15000 [09:41<29:23,  6.46it/s]"
     ]
    },
    {
     "name": "stdout",
     "output_type": "stream",
     "text": [
      "Epoch 3600 | Loss: 0.1078 | Hinge: 0.0146 | Anchor: 0.0846 | Times - RW: 0.07s, Bellman: 0.01s, Train: 0.06s\n"
     ]
    },
    {
     "name": "stderr",
     "output_type": "stream",
     "text": [
      "Training DQN:  24%|██▍       | 3652/15000 [09:49<29:05,  6.50it/s]"
     ]
    },
    {
     "name": "stdout",
     "output_type": "stream",
     "text": [
      "Epoch 3650 | Loss: 0.1954 | Hinge: 0.0162 | Anchor: 0.1861 | Times - RW: 0.07s, Bellman: 0.01s, Train: 0.07s\n"
     ]
    },
    {
     "name": "stderr",
     "output_type": "stream",
     "text": [
      "Training DQN:  25%|██▍       | 3702/15000 [09:57<30:05,  6.26it/s]"
     ]
    },
    {
     "name": "stdout",
     "output_type": "stream",
     "text": [
      "Epoch 3700 | Loss: 0.1991 | Hinge: 0.0162 | Anchor: 0.1598 | Times - RW: 0.09s, Bellman: 0.01s, Train: 0.06s\n"
     ]
    },
    {
     "name": "stderr",
     "output_type": "stream",
     "text": [
      "Training DQN:  25%|██▌       | 3752/15000 [10:05<28:19,  6.62it/s]"
     ]
    },
    {
     "name": "stdout",
     "output_type": "stream",
     "text": [
      "Epoch 3750 | Loss: 0.1153 | Hinge: 0.0187 | Anchor: 0.1002 | Times - RW: 0.07s, Bellman: 0.01s, Train: 0.06s\n"
     ]
    },
    {
     "name": "stderr",
     "output_type": "stream",
     "text": [
      "Training DQN:  25%|██▌       | 3802/15000 [10:12<29:12,  6.39it/s]"
     ]
    },
    {
     "name": "stdout",
     "output_type": "stream",
     "text": [
      "Epoch 3800 | Loss: 0.1016 | Hinge: 0.0136 | Anchor: 0.0880 | Times - RW: 0.08s, Bellman: 0.01s, Train: 0.07s\n"
     ]
    },
    {
     "name": "stderr",
     "output_type": "stream",
     "text": [
      "Training DQN:  26%|██▌       | 3852/15000 [10:20<28:46,  6.46it/s]"
     ]
    },
    {
     "name": "stdout",
     "output_type": "stream",
     "text": [
      "Epoch 3850 | Loss: 0.1824 | Hinge: 0.0126 | Anchor: 0.1661 | Times - RW: 0.07s, Bellman: 0.01s, Train: 0.07s\n"
     ]
    },
    {
     "name": "stderr",
     "output_type": "stream",
     "text": [
      "Training DQN:  26%|██▌       | 3902/15000 [10:28<28:48,  6.42it/s]"
     ]
    },
    {
     "name": "stdout",
     "output_type": "stream",
     "text": [
      "Epoch 3900 | Loss: 0.2394 | Hinge: 0.0122 | Anchor: 0.2216 | Times - RW: 0.08s, Bellman: 0.01s, Train: 0.06s\n"
     ]
    },
    {
     "name": "stderr",
     "output_type": "stream",
     "text": [
      "Training DQN:  26%|██▋       | 3952/15000 [10:35<28:10,  6.53it/s]"
     ]
    },
    {
     "name": "stdout",
     "output_type": "stream",
     "text": [
      "Epoch 3950 | Loss: 0.1110 | Hinge: 0.0137 | Anchor: 0.0906 | Times - RW: 0.07s, Bellman: 0.01s, Train: 0.06s\n"
     ]
    },
    {
     "name": "stderr",
     "output_type": "stream",
     "text": [
      "Training DQN:  27%|██▋       | 4002/15000 [10:43<29:37,  6.19it/s]"
     ]
    },
    {
     "name": "stdout",
     "output_type": "stream",
     "text": [
      "Epoch 4000 | Loss: 0.1165 | Hinge: 0.0224 | Anchor: 0.1128 | Times - RW: 0.08s, Bellman: 0.01s, Train: 0.07s\n"
     ]
    },
    {
     "name": "stderr",
     "output_type": "stream",
     "text": [
      "Training DQN:  27%|██▋       | 4052/15000 [10:51<27:57,  6.53it/s]"
     ]
    },
    {
     "name": "stdout",
     "output_type": "stream",
     "text": [
      "Epoch 4050 | Loss: 0.1292 | Hinge: 0.0193 | Anchor: 0.0907 | Times - RW: 0.08s, Bellman: 0.01s, Train: 0.06s\n"
     ]
    },
    {
     "name": "stderr",
     "output_type": "stream",
     "text": [
      "Training DQN:  27%|██▋       | 4102/15000 [10:59<27:38,  6.57it/s]"
     ]
    },
    {
     "name": "stdout",
     "output_type": "stream",
     "text": [
      "Epoch 4100 | Loss: 0.1416 | Hinge: 0.0121 | Anchor: 0.1346 | Times - RW: 0.07s, Bellman: 0.01s, Train: 0.06s\n"
     ]
    },
    {
     "name": "stderr",
     "output_type": "stream",
     "text": [
      "Training DQN:  28%|██▊       | 4152/15000 [11:06<27:59,  6.46it/s]"
     ]
    },
    {
     "name": "stdout",
     "output_type": "stream",
     "text": [
      "Epoch 4150 | Loss: 0.1196 | Hinge: 0.0119 | Anchor: 0.1029 | Times - RW: 0.07s, Bellman: 0.01s, Train: 0.06s\n"
     ]
    },
    {
     "name": "stderr",
     "output_type": "stream",
     "text": [
      "Training DQN:  28%|██▊       | 4202/15000 [11:14<28:07,  6.40it/s]"
     ]
    },
    {
     "name": "stdout",
     "output_type": "stream",
     "text": [
      "Epoch 4200 | Loss: 0.1627 | Hinge: 0.0149 | Anchor: 0.1478 | Times - RW: 0.09s, Bellman: 0.01s, Train: 0.07s\n"
     ]
    },
    {
     "name": "stderr",
     "output_type": "stream",
     "text": [
      "Training DQN:  28%|██▊       | 4252/15000 [11:22<27:27,  6.52it/s]"
     ]
    },
    {
     "name": "stdout",
     "output_type": "stream",
     "text": [
      "Epoch 4250 | Loss: 0.1519 | Hinge: 0.0145 | Anchor: 0.1267 | Times - RW: 0.08s, Bellman: 0.01s, Train: 0.07s\n"
     ]
    },
    {
     "name": "stderr",
     "output_type": "stream",
     "text": [
      "Training DQN:  29%|██▊       | 4302/15000 [11:29<28:38,  6.22it/s]"
     ]
    },
    {
     "name": "stdout",
     "output_type": "stream",
     "text": [
      "Epoch 4300 | Loss: 0.1656 | Hinge: 0.0154 | Anchor: 0.1292 | Times - RW: 0.07s, Bellman: 0.02s, Train: 0.06s\n"
     ]
    },
    {
     "name": "stderr",
     "output_type": "stream",
     "text": [
      "Training DQN:  29%|██▉       | 4352/15000 [11:37<27:04,  6.55it/s]"
     ]
    },
    {
     "name": "stdout",
     "output_type": "stream",
     "text": [
      "Epoch 4350 | Loss: 0.1086 | Hinge: 0.0155 | Anchor: 0.0890 | Times - RW: 0.07s, Bellman: 0.01s, Train: 0.07s\n"
     ]
    },
    {
     "name": "stderr",
     "output_type": "stream",
     "text": [
      "Training DQN:  29%|██▉       | 4402/15000 [11:45<28:16,  6.25it/s]"
     ]
    },
    {
     "name": "stdout",
     "output_type": "stream",
     "text": [
      "Epoch 4400 | Loss: 0.1416 | Hinge: 0.0177 | Anchor: 0.1192 | Times - RW: 0.07s, Bellman: 0.01s, Train: 0.06s\n"
     ]
    },
    {
     "name": "stderr",
     "output_type": "stream",
     "text": [
      "Training DQN:  30%|██▉       | 4452/15000 [11:53<26:28,  6.64it/s]"
     ]
    },
    {
     "name": "stdout",
     "output_type": "stream",
     "text": [
      "Epoch 4450 | Loss: 0.1871 | Hinge: 0.0130 | Anchor: 0.2116 | Times - RW: 0.07s, Bellman: 0.01s, Train: 0.06s\n"
     ]
    },
    {
     "name": "stderr",
     "output_type": "stream",
     "text": [
      "Training DQN:  30%|███       | 4502/15000 [12:00<26:27,  6.61it/s]"
     ]
    },
    {
     "name": "stdout",
     "output_type": "stream",
     "text": [
      "Epoch 4500 | Loss: 0.1061 | Hinge: 0.0185 | Anchor: 0.1121 | Times - RW: 0.07s, Bellman: 0.01s, Train: 0.07s\n"
     ]
    },
    {
     "name": "stderr",
     "output_type": "stream",
     "text": [
      "Training DQN:  30%|███       | 4552/15000 [12:08<25:59,  6.70it/s]"
     ]
    },
    {
     "name": "stdout",
     "output_type": "stream",
     "text": [
      "Epoch 4550 | Loss: 0.1310 | Hinge: 0.0145 | Anchor: 0.1292 | Times - RW: 0.07s, Bellman: 0.01s, Train: 0.06s\n"
     ]
    },
    {
     "name": "stderr",
     "output_type": "stream",
     "text": [
      "Training DQN:  31%|███       | 4602/15000 [12:16<26:24,  6.56it/s]"
     ]
    },
    {
     "name": "stdout",
     "output_type": "stream",
     "text": [
      "Epoch 4600 | Loss: 0.1157 | Hinge: 0.0156 | Anchor: 0.0953 | Times - RW: 0.07s, Bellman: 0.01s, Train: 0.07s\n"
     ]
    },
    {
     "name": "stderr",
     "output_type": "stream",
     "text": [
      "Training DQN:  31%|███       | 4652/15000 [12:24<26:55,  6.41it/s]"
     ]
    },
    {
     "name": "stdout",
     "output_type": "stream",
     "text": [
      "Epoch 4650 | Loss: 0.1557 | Hinge: 0.0185 | Anchor: 0.1342 | Times - RW: 0.08s, Bellman: 0.02s, Train: 0.06s\n"
     ]
    },
    {
     "name": "stderr",
     "output_type": "stream",
     "text": [
      "Training DQN:  31%|███▏      | 4702/15000 [12:31<25:56,  6.61it/s]"
     ]
    },
    {
     "name": "stdout",
     "output_type": "stream",
     "text": [
      "Epoch 4700 | Loss: 0.1607 | Hinge: 0.0191 | Anchor: 0.1680 | Times - RW: 0.07s, Bellman: 0.01s, Train: 0.06s\n"
     ]
    },
    {
     "name": "stderr",
     "output_type": "stream",
     "text": [
      "Training DQN:  32%|███▏      | 4752/15000 [12:39<26:25,  6.47it/s]"
     ]
    },
    {
     "name": "stdout",
     "output_type": "stream",
     "text": [
      "Epoch 4750 | Loss: 0.1527 | Hinge: 0.0124 | Anchor: 0.1207 | Times - RW: 0.07s, Bellman: 0.01s, Train: 0.06s\n"
     ]
    },
    {
     "name": "stderr",
     "output_type": "stream",
     "text": [
      "Training DQN:  32%|███▏      | 4802/15000 [12:47<26:33,  6.40it/s]"
     ]
    },
    {
     "name": "stdout",
     "output_type": "stream",
     "text": [
      "Epoch 4800 | Loss: 0.1378 | Hinge: 0.0164 | Anchor: 0.1173 | Times - RW: 0.07s, Bellman: 0.01s, Train: 0.06s\n"
     ]
    },
    {
     "name": "stderr",
     "output_type": "stream",
     "text": [
      "Training DQN:  32%|███▏      | 4852/15000 [12:55<26:18,  6.43it/s]"
     ]
    },
    {
     "name": "stdout",
     "output_type": "stream",
     "text": [
      "Epoch 4850 | Loss: 0.0978 | Hinge: 0.0129 | Anchor: 0.0994 | Times - RW: 0.07s, Bellman: 0.01s, Train: 0.06s\n"
     ]
    },
    {
     "name": "stderr",
     "output_type": "stream",
     "text": [
      "Training DQN:  33%|███▎      | 4902/15000 [13:03<27:15,  6.17it/s]"
     ]
    },
    {
     "name": "stdout",
     "output_type": "stream",
     "text": [
      "Epoch 4900 | Loss: 0.1582 | Hinge: 0.0131 | Anchor: 0.1530 | Times - RW: 0.08s, Bellman: 0.01s, Train: 0.06s\n"
     ]
    },
    {
     "name": "stderr",
     "output_type": "stream",
     "text": [
      "Training DQN:  33%|███▎      | 4952/15000 [13:10<25:48,  6.49it/s]"
     ]
    },
    {
     "name": "stdout",
     "output_type": "stream",
     "text": [
      "Epoch 4950 | Loss: 0.1966 | Hinge: 0.0134 | Anchor: 0.1727 | Times - RW: 0.07s, Bellman: 0.01s, Train: 0.06s\n"
     ]
    },
    {
     "name": "stderr",
     "output_type": "stream",
     "text": [
      "Training DQN:  33%|███▎      | 5002/15000 [13:18<26:24,  6.31it/s]"
     ]
    },
    {
     "name": "stdout",
     "output_type": "stream",
     "text": [
      "Epoch 5000 | Loss: 0.2060 | Hinge: 0.0133 | Anchor: 0.1760 | Times - RW: 0.07s, Bellman: 0.01s, Train: 0.06s\n"
     ]
    },
    {
     "name": "stderr",
     "output_type": "stream",
     "text": [
      "Training DQN:  34%|███▎      | 5052/15000 [13:26<25:25,  6.52it/s]"
     ]
    },
    {
     "name": "stdout",
     "output_type": "stream",
     "text": [
      "Epoch 5050 | Loss: 0.0979 | Hinge: 0.0083 | Anchor: 0.0904 | Times - RW: 0.07s, Bellman: 0.01s, Train: 0.06s\n"
     ]
    },
    {
     "name": "stderr",
     "output_type": "stream",
     "text": [
      "Training DQN:  34%|███▍      | 5102/15000 [13:34<26:04,  6.33it/s]"
     ]
    },
    {
     "name": "stdout",
     "output_type": "stream",
     "text": [
      "Epoch 5100 | Loss: 0.1020 | Hinge: 0.0131 | Anchor: 0.0754 | Times - RW: 0.07s, Bellman: 0.01s, Train: 0.06s\n"
     ]
    },
    {
     "name": "stderr",
     "output_type": "stream",
     "text": [
      "Training DQN:  34%|███▍      | 5152/15000 [13:42<24:24,  6.73it/s]"
     ]
    },
    {
     "name": "stdout",
     "output_type": "stream",
     "text": [
      "Epoch 5150 | Loss: 0.0963 | Hinge: 0.0178 | Anchor: 0.0960 | Times - RW: 0.07s, Bellman: 0.01s, Train: 0.05s\n"
     ]
    },
    {
     "name": "stderr",
     "output_type": "stream",
     "text": [
      "Training DQN:  35%|███▍      | 5202/15000 [13:49<24:44,  6.60it/s]"
     ]
    },
    {
     "name": "stdout",
     "output_type": "stream",
     "text": [
      "Epoch 5200 | Loss: 0.0983 | Hinge: 0.0197 | Anchor: 0.0682 | Times - RW: 0.07s, Bellman: 0.01s, Train: 0.06s\n"
     ]
    },
    {
     "name": "stderr",
     "output_type": "stream",
     "text": [
      "Training DQN:  35%|███▌      | 5252/15000 [13:57<25:39,  6.33it/s]"
     ]
    },
    {
     "name": "stdout",
     "output_type": "stream",
     "text": [
      "Epoch 5250 | Loss: 0.1432 | Hinge: 0.0195 | Anchor: 0.1536 | Times - RW: 0.07s, Bellman: 0.01s, Train: 0.06s\n"
     ]
    },
    {
     "name": "stderr",
     "output_type": "stream",
     "text": [
      "Training DQN:  35%|███▌      | 5302/15000 [14:06<27:42,  5.83it/s]"
     ]
    },
    {
     "name": "stdout",
     "output_type": "stream",
     "text": [
      "Epoch 5300 | Loss: 0.1000 | Hinge: 0.0216 | Anchor: 0.0841 | Times - RW: 0.08s, Bellman: 0.01s, Train: 0.06s\n"
     ]
    },
    {
     "name": "stderr",
     "output_type": "stream",
     "text": [
      "Training DQN:  36%|███▌      | 5352/15000 [14:14<25:16,  6.36it/s]"
     ]
    },
    {
     "name": "stdout",
     "output_type": "stream",
     "text": [
      "Epoch 5350 | Loss: 0.1049 | Hinge: 0.0170 | Anchor: 0.0856 | Times - RW: 0.08s, Bellman: 0.02s, Train: 0.06s\n"
     ]
    },
    {
     "name": "stderr",
     "output_type": "stream",
     "text": [
      "Training DQN:  36%|███▌      | 5402/15000 [14:22<25:00,  6.40it/s]"
     ]
    },
    {
     "name": "stdout",
     "output_type": "stream",
     "text": [
      "Epoch 5400 | Loss: 0.1617 | Hinge: 0.0137 | Anchor: 0.1390 | Times - RW: 0.08s, Bellman: 0.02s, Train: 0.06s\n"
     ]
    },
    {
     "name": "stderr",
     "output_type": "stream",
     "text": [
      "Training DQN:  36%|███▋      | 5452/15000 [14:29<24:59,  6.37it/s]"
     ]
    },
    {
     "name": "stdout",
     "output_type": "stream",
     "text": [
      "Epoch 5450 | Loss: 0.2068 | Hinge: 0.0145 | Anchor: 0.2245 | Times - RW: 0.07s, Bellman: 0.01s, Train: 0.07s\n"
     ]
    },
    {
     "name": "stderr",
     "output_type": "stream",
     "text": [
      "Training DQN:  37%|███▋      | 5502/15000 [14:37<24:28,  6.47it/s]"
     ]
    },
    {
     "name": "stdout",
     "output_type": "stream",
     "text": [
      "Epoch 5500 | Loss: 0.1798 | Hinge: 0.0174 | Anchor: 0.1716 | Times - RW: 0.07s, Bellman: 0.01s, Train: 0.06s\n"
     ]
    },
    {
     "name": "stderr",
     "output_type": "stream",
     "text": [
      "Training DQN:  37%|███▋      | 5552/15000 [14:45<24:53,  6.33it/s]"
     ]
    },
    {
     "name": "stdout",
     "output_type": "stream",
     "text": [
      "Epoch 5550 | Loss: 0.1128 | Hinge: 0.0130 | Anchor: 0.0872 | Times - RW: 0.08s, Bellman: 0.01s, Train: 0.06s\n"
     ]
    },
    {
     "name": "stderr",
     "output_type": "stream",
     "text": [
      "Training DQN:  37%|███▋      | 5602/15000 [14:53<24:55,  6.29it/s]"
     ]
    },
    {
     "name": "stdout",
     "output_type": "stream",
     "text": [
      "Epoch 5600 | Loss: 0.1006 | Hinge: 0.0181 | Anchor: 0.0682 | Times - RW: 0.08s, Bellman: 0.02s, Train: 0.06s\n"
     ]
    },
    {
     "name": "stderr",
     "output_type": "stream",
     "text": [
      "Training DQN:  38%|███▊      | 5652/15000 [15:01<24:53,  6.26it/s]"
     ]
    },
    {
     "name": "stdout",
     "output_type": "stream",
     "text": [
      "Epoch 5650 | Loss: 0.1487 | Hinge: 0.0158 | Anchor: 0.1286 | Times - RW: 0.07s, Bellman: 0.01s, Train: 0.07s\n"
     ]
    },
    {
     "name": "stderr",
     "output_type": "stream",
     "text": [
      "Training DQN:  38%|███▊      | 5676/15000 [15:05<24:47,  6.27it/s]\n"
     ]
    },
    {
     "ename": "KeyboardInterrupt",
     "evalue": "",
     "output_type": "error",
     "traceback": [
      "\u001b[1;31m---------------------------------------------------------------------------\u001b[0m",
      "\u001b[1;31mKeyboardInterrupt\u001b[0m                         Traceback (most recent call last)",
      "Cell \u001b[1;32mIn[5], line 97\u001b[0m\n\u001b[0;32m     95\u001b[0m \u001b[38;5;28;01mfor\u001b[39;00m n_epoch_dqn \u001b[38;5;129;01min\u001b[39;00m n_epoch_dqn_list:\n\u001b[0;32m     96\u001b[0m     solver\u001b[38;5;241m.\u001b[39mconfig[\u001b[38;5;124m'\u001b[39m\u001b[38;5;124mn_epochs_dqn\u001b[39m\u001b[38;5;124m'\u001b[39m] \u001b[38;5;241m=\u001b[39m n_epoch_dqn\n\u001b[1;32m---> 97\u001b[0m     dqn_losses \u001b[38;5;241m=\u001b[39m \u001b[43msolver\u001b[49m\u001b[38;5;241;43m.\u001b[39;49m\u001b[43mtrain_dqn\u001b[49m\u001b[43m(\u001b[49m\u001b[43m)\u001b[49m\n\u001b[0;32m     98\u001b[0m     \u001b[38;5;66;03m# save dqn_model\u001b[39;00m\n\u001b[0;32m     99\u001b[0m     torch\u001b[38;5;241m.\u001b[39msave(solver\u001b[38;5;241m.\u001b[39mdqn_model\u001b[38;5;241m.\u001b[39mstate_dict(), \u001b[38;5;124mf\u001b[39m\u001b[38;5;124m'\u001b[39m\u001b[38;5;124mmodels/dqn_model_\u001b[39m\u001b[38;5;132;01m{\u001b[39;00mn_permutations_length\u001b[38;5;132;01m}\u001b[39;00m\u001b[38;5;124m_\u001b[39m\u001b[38;5;132;01m{\u001b[39;00mn_epoch_dqn\u001b[38;5;132;01m}\u001b[39;00m\u001b[38;5;124m_\u001b[39m\u001b[38;5;132;01m{\u001b[39;00mlist_layers_size\u001b[38;5;132;01m}\u001b[39;00m\u001b[38;5;124m_\u001b[39m\u001b[38;5;132;01m{\u001b[39;00mlr\u001b[38;5;132;01m}\u001b[39;00m\u001b[38;5;124m_\u001b[39m\u001b[38;5;132;01m{\u001b[39;00mbatch_size\u001b[38;5;132;01m}\u001b[39;00m\u001b[38;5;124m.pth\u001b[39m\u001b[38;5;124m'\u001b[39m)\n",
      "File \u001b[1;32mc:\\Users\\zamko\\Documents\\permutations_RL\\src\\app.py:223\u001b[0m, in \u001b[0;36mPermutationSolver.train_dqn\u001b[1;34m(self)\u001b[0m\n\u001b[0;32m    221\u001b[0m     \u001b[38;5;28mself\u001b[39m\u001b[38;5;241m.\u001b[39msetup_dqn_model()\n\u001b[0;32m    222\u001b[0m \u001b[38;5;28;01mif\u001b[39;00m \u001b[38;5;28mself\u001b[39m\u001b[38;5;241m.\u001b[39mmode \u001b[38;5;241m==\u001b[39m \u001b[38;5;124m'\u001b[39m\u001b[38;5;124msingle_hard_hinge\u001b[39m\u001b[38;5;124m'\u001b[39m:\n\u001b[1;32m--> 223\u001b[0m     history \u001b[38;5;241m=\u001b[39m \u001b[38;5;28;43mself\u001b[39;49m\u001b[38;5;241;43m.\u001b[39;49m\u001b[43mdqn_trainer\u001b[49m\u001b[38;5;241;43m.\u001b[39;49m\u001b[43mtrain_single_hard_hinge\u001b[49m\u001b[43m(\u001b[49m\u001b[43m)\u001b[49m\n\u001b[0;32m    224\u001b[0m \u001b[38;5;28;01melif\u001b[39;00m \u001b[38;5;28mself\u001b[39m\u001b[38;5;241m.\u001b[39mmode \u001b[38;5;241m==\u001b[39m \u001b[38;5;124m'\u001b[39m\u001b[38;5;124mdouble_soft_hinge\u001b[39m\u001b[38;5;124m'\u001b[39m:\n\u001b[0;32m    225\u001b[0m     history \u001b[38;5;241m=\u001b[39m \u001b[38;5;28mself\u001b[39m\u001b[38;5;241m.\u001b[39mdqn_trainer\u001b[38;5;241m.\u001b[39mtrain_double_soft_hinge()\n",
      "File \u001b[1;32mc:\\Users\\zamko\\Documents\\permutations_RL\\src\\models\\dqn_trainer.py:277\u001b[0m, in \u001b[0;36mDQNTrainer.train_single_hard_hinge\u001b[1;34m(self)\u001b[0m\n\u001b[0;32m    274\u001b[0m batch_X \u001b[38;5;241m=\u001b[39m X_train[start:end]\n\u001b[0;32m    275\u001b[0m batch_y \u001b[38;5;241m=\u001b[39m y_train[start:end]\n\u001b[1;32m--> 277\u001b[0m outputs \u001b[38;5;241m=\u001b[39m \u001b[38;5;28;43mself\u001b[39;49m\u001b[38;5;241;43m.\u001b[39;49m\u001b[43mmodel\u001b[49m\u001b[43m(\u001b[49m\u001b[43mbatch_X\u001b[49m\u001b[43m)\u001b[49m\n\u001b[0;32m    278\u001b[0m loss_hinge \u001b[38;5;241m=\u001b[39m \u001b[38;5;28mself\u001b[39m\u001b[38;5;241m.\u001b[39mcriterion(outputs\u001b[38;5;241m.\u001b[39msqueeze(), batch_y)\n\u001b[0;32m    280\u001b[0m anchor \u001b[38;5;241m=\u001b[39m \u001b[38;5;241m0.0\u001b[39m\n",
      "File \u001b[1;32mc:\\Users\\zamko\\Documents\\permutations_RL\\.venv\\Lib\\site-packages\\torch\\nn\\modules\\module.py:1736\u001b[0m, in \u001b[0;36mModule._wrapped_call_impl\u001b[1;34m(self, *args, **kwargs)\u001b[0m\n\u001b[0;32m   1734\u001b[0m     \u001b[38;5;28;01mreturn\u001b[39;00m \u001b[38;5;28mself\u001b[39m\u001b[38;5;241m.\u001b[39m_compiled_call_impl(\u001b[38;5;241m*\u001b[39margs, \u001b[38;5;241m*\u001b[39m\u001b[38;5;241m*\u001b[39mkwargs)  \u001b[38;5;66;03m# type: ignore[misc]\u001b[39;00m\n\u001b[0;32m   1735\u001b[0m \u001b[38;5;28;01melse\u001b[39;00m:\n\u001b[1;32m-> 1736\u001b[0m     \u001b[38;5;28;01mreturn\u001b[39;00m \u001b[38;5;28;43mself\u001b[39;49m\u001b[38;5;241;43m.\u001b[39;49m\u001b[43m_call_impl\u001b[49m\u001b[43m(\u001b[49m\u001b[38;5;241;43m*\u001b[39;49m\u001b[43margs\u001b[49m\u001b[43m,\u001b[49m\u001b[43m \u001b[49m\u001b[38;5;241;43m*\u001b[39;49m\u001b[38;5;241;43m*\u001b[39;49m\u001b[43mkwargs\u001b[49m\u001b[43m)\u001b[49m\n",
      "File \u001b[1;32mc:\\Users\\zamko\\Documents\\permutations_RL\\.venv\\Lib\\site-packages\\torch\\nn\\modules\\module.py:1747\u001b[0m, in \u001b[0;36mModule._call_impl\u001b[1;34m(self, *args, **kwargs)\u001b[0m\n\u001b[0;32m   1742\u001b[0m \u001b[38;5;66;03m# If we don't have any hooks, we want to skip the rest of the logic in\u001b[39;00m\n\u001b[0;32m   1743\u001b[0m \u001b[38;5;66;03m# this function, and just call forward.\u001b[39;00m\n\u001b[0;32m   1744\u001b[0m \u001b[38;5;28;01mif\u001b[39;00m \u001b[38;5;129;01mnot\u001b[39;00m (\u001b[38;5;28mself\u001b[39m\u001b[38;5;241m.\u001b[39m_backward_hooks \u001b[38;5;129;01mor\u001b[39;00m \u001b[38;5;28mself\u001b[39m\u001b[38;5;241m.\u001b[39m_backward_pre_hooks \u001b[38;5;129;01mor\u001b[39;00m \u001b[38;5;28mself\u001b[39m\u001b[38;5;241m.\u001b[39m_forward_hooks \u001b[38;5;129;01mor\u001b[39;00m \u001b[38;5;28mself\u001b[39m\u001b[38;5;241m.\u001b[39m_forward_pre_hooks\n\u001b[0;32m   1745\u001b[0m         \u001b[38;5;129;01mor\u001b[39;00m _global_backward_pre_hooks \u001b[38;5;129;01mor\u001b[39;00m _global_backward_hooks\n\u001b[0;32m   1746\u001b[0m         \u001b[38;5;129;01mor\u001b[39;00m _global_forward_hooks \u001b[38;5;129;01mor\u001b[39;00m _global_forward_pre_hooks):\n\u001b[1;32m-> 1747\u001b[0m     \u001b[38;5;28;01mreturn\u001b[39;00m \u001b[43mforward_call\u001b[49m\u001b[43m(\u001b[49m\u001b[38;5;241;43m*\u001b[39;49m\u001b[43margs\u001b[49m\u001b[43m,\u001b[49m\u001b[43m \u001b[49m\u001b[38;5;241;43m*\u001b[39;49m\u001b[38;5;241;43m*\u001b[39;49m\u001b[43mkwargs\u001b[49m\u001b[43m)\u001b[49m\n\u001b[0;32m   1749\u001b[0m result \u001b[38;5;241m=\u001b[39m \u001b[38;5;28;01mNone\u001b[39;00m\n\u001b[0;32m   1750\u001b[0m called_always_called_hooks \u001b[38;5;241m=\u001b[39m \u001b[38;5;28mset\u001b[39m()\n",
      "File \u001b[1;32mc:\\Users\\zamko\\Documents\\permutations_RL\\src\\models\\mlp.py:30\u001b[0m, in \u001b[0;36mPermutationMLP.forward\u001b[1;34m(self, x)\u001b[0m\n\u001b[0;32m     27\u001b[0m \u001b[38;5;28;01mdef\u001b[39;00m\u001b[38;5;250m \u001b[39m\u001b[38;5;21mforward\u001b[39m(\u001b[38;5;28mself\u001b[39m, x):            \n\u001b[0;32m     28\u001b[0m     x \u001b[38;5;241m=\u001b[39m torch\u001b[38;5;241m.\u001b[39mnn\u001b[38;5;241m.\u001b[39mfunctional\u001b[38;5;241m.\u001b[39mone_hot(x\u001b[38;5;241m.\u001b[39mlong(), num_classes\u001b[38;5;241m=\u001b[39m\u001b[38;5;28mself\u001b[39m\u001b[38;5;241m.\u001b[39mnum_classes_for_one_hot) \\\n\u001b[0;32m     29\u001b[0m     \u001b[38;5;241m.\u001b[39mfloat()\u001b[38;5;241m.\u001b[39mflatten(start_dim\u001b[38;5;241m=\u001b[39m\u001b[38;5;241m-\u001b[39m\u001b[38;5;241m2\u001b[39m)\n\u001b[1;32m---> 30\u001b[0m     \u001b[38;5;28;01mreturn\u001b[39;00m \u001b[38;5;28;43mself\u001b[39;49m\u001b[38;5;241;43m.\u001b[39;49m\u001b[43mlayers\u001b[49m\u001b[43m(\u001b[49m\u001b[43mx\u001b[49m\u001b[43m)\u001b[49m\n",
      "File \u001b[1;32mc:\\Users\\zamko\\Documents\\permutations_RL\\.venv\\Lib\\site-packages\\torch\\nn\\modules\\module.py:1736\u001b[0m, in \u001b[0;36mModule._wrapped_call_impl\u001b[1;34m(self, *args, **kwargs)\u001b[0m\n\u001b[0;32m   1734\u001b[0m     \u001b[38;5;28;01mreturn\u001b[39;00m \u001b[38;5;28mself\u001b[39m\u001b[38;5;241m.\u001b[39m_compiled_call_impl(\u001b[38;5;241m*\u001b[39margs, \u001b[38;5;241m*\u001b[39m\u001b[38;5;241m*\u001b[39mkwargs)  \u001b[38;5;66;03m# type: ignore[misc]\u001b[39;00m\n\u001b[0;32m   1735\u001b[0m \u001b[38;5;28;01melse\u001b[39;00m:\n\u001b[1;32m-> 1736\u001b[0m     \u001b[38;5;28;01mreturn\u001b[39;00m \u001b[38;5;28;43mself\u001b[39;49m\u001b[38;5;241;43m.\u001b[39;49m\u001b[43m_call_impl\u001b[49m\u001b[43m(\u001b[49m\u001b[38;5;241;43m*\u001b[39;49m\u001b[43margs\u001b[49m\u001b[43m,\u001b[49m\u001b[43m \u001b[49m\u001b[38;5;241;43m*\u001b[39;49m\u001b[38;5;241;43m*\u001b[39;49m\u001b[43mkwargs\u001b[49m\u001b[43m)\u001b[49m\n",
      "File \u001b[1;32mc:\\Users\\zamko\\Documents\\permutations_RL\\.venv\\Lib\\site-packages\\torch\\nn\\modules\\module.py:1747\u001b[0m, in \u001b[0;36mModule._call_impl\u001b[1;34m(self, *args, **kwargs)\u001b[0m\n\u001b[0;32m   1742\u001b[0m \u001b[38;5;66;03m# If we don't have any hooks, we want to skip the rest of the logic in\u001b[39;00m\n\u001b[0;32m   1743\u001b[0m \u001b[38;5;66;03m# this function, and just call forward.\u001b[39;00m\n\u001b[0;32m   1744\u001b[0m \u001b[38;5;28;01mif\u001b[39;00m \u001b[38;5;129;01mnot\u001b[39;00m (\u001b[38;5;28mself\u001b[39m\u001b[38;5;241m.\u001b[39m_backward_hooks \u001b[38;5;129;01mor\u001b[39;00m \u001b[38;5;28mself\u001b[39m\u001b[38;5;241m.\u001b[39m_backward_pre_hooks \u001b[38;5;129;01mor\u001b[39;00m \u001b[38;5;28mself\u001b[39m\u001b[38;5;241m.\u001b[39m_forward_hooks \u001b[38;5;129;01mor\u001b[39;00m \u001b[38;5;28mself\u001b[39m\u001b[38;5;241m.\u001b[39m_forward_pre_hooks\n\u001b[0;32m   1745\u001b[0m         \u001b[38;5;129;01mor\u001b[39;00m _global_backward_pre_hooks \u001b[38;5;129;01mor\u001b[39;00m _global_backward_hooks\n\u001b[0;32m   1746\u001b[0m         \u001b[38;5;129;01mor\u001b[39;00m _global_forward_hooks \u001b[38;5;129;01mor\u001b[39;00m _global_forward_pre_hooks):\n\u001b[1;32m-> 1747\u001b[0m     \u001b[38;5;28;01mreturn\u001b[39;00m \u001b[43mforward_call\u001b[49m\u001b[43m(\u001b[49m\u001b[38;5;241;43m*\u001b[39;49m\u001b[43margs\u001b[49m\u001b[43m,\u001b[49m\u001b[43m \u001b[49m\u001b[38;5;241;43m*\u001b[39;49m\u001b[38;5;241;43m*\u001b[39;49m\u001b[43mkwargs\u001b[49m\u001b[43m)\u001b[49m\n\u001b[0;32m   1749\u001b[0m result \u001b[38;5;241m=\u001b[39m \u001b[38;5;28;01mNone\u001b[39;00m\n\u001b[0;32m   1750\u001b[0m called_always_called_hooks \u001b[38;5;241m=\u001b[39m \u001b[38;5;28mset\u001b[39m()\n",
      "File \u001b[1;32mc:\\Users\\zamko\\Documents\\permutations_RL\\.venv\\Lib\\site-packages\\torch\\nn\\modules\\container.py:250\u001b[0m, in \u001b[0;36mSequential.forward\u001b[1;34m(self, input)\u001b[0m\n\u001b[0;32m    248\u001b[0m \u001b[38;5;28;01mdef\u001b[39;00m\u001b[38;5;250m \u001b[39m\u001b[38;5;21mforward\u001b[39m(\u001b[38;5;28mself\u001b[39m, \u001b[38;5;28minput\u001b[39m):\n\u001b[0;32m    249\u001b[0m     \u001b[38;5;28;01mfor\u001b[39;00m module \u001b[38;5;129;01min\u001b[39;00m \u001b[38;5;28mself\u001b[39m:\n\u001b[1;32m--> 250\u001b[0m         \u001b[38;5;28minput\u001b[39m \u001b[38;5;241m=\u001b[39m \u001b[43mmodule\u001b[49m\u001b[43m(\u001b[49m\u001b[38;5;28;43minput\u001b[39;49m\u001b[43m)\u001b[49m\n\u001b[0;32m    251\u001b[0m     \u001b[38;5;28;01mreturn\u001b[39;00m \u001b[38;5;28minput\u001b[39m\n",
      "File \u001b[1;32mc:\\Users\\zamko\\Documents\\permutations_RL\\.venv\\Lib\\site-packages\\torch\\nn\\modules\\module.py:1736\u001b[0m, in \u001b[0;36mModule._wrapped_call_impl\u001b[1;34m(self, *args, **kwargs)\u001b[0m\n\u001b[0;32m   1734\u001b[0m     \u001b[38;5;28;01mreturn\u001b[39;00m \u001b[38;5;28mself\u001b[39m\u001b[38;5;241m.\u001b[39m_compiled_call_impl(\u001b[38;5;241m*\u001b[39margs, \u001b[38;5;241m*\u001b[39m\u001b[38;5;241m*\u001b[39mkwargs)  \u001b[38;5;66;03m# type: ignore[misc]\u001b[39;00m\n\u001b[0;32m   1735\u001b[0m \u001b[38;5;28;01melse\u001b[39;00m:\n\u001b[1;32m-> 1736\u001b[0m     \u001b[38;5;28;01mreturn\u001b[39;00m \u001b[38;5;28;43mself\u001b[39;49m\u001b[38;5;241;43m.\u001b[39;49m\u001b[43m_call_impl\u001b[49m\u001b[43m(\u001b[49m\u001b[38;5;241;43m*\u001b[39;49m\u001b[43margs\u001b[49m\u001b[43m,\u001b[49m\u001b[43m \u001b[49m\u001b[38;5;241;43m*\u001b[39;49m\u001b[38;5;241;43m*\u001b[39;49m\u001b[43mkwargs\u001b[49m\u001b[43m)\u001b[49m\n",
      "File \u001b[1;32mc:\\Users\\zamko\\Documents\\permutations_RL\\.venv\\Lib\\site-packages\\torch\\nn\\modules\\module.py:1747\u001b[0m, in \u001b[0;36mModule._call_impl\u001b[1;34m(self, *args, **kwargs)\u001b[0m\n\u001b[0;32m   1742\u001b[0m \u001b[38;5;66;03m# If we don't have any hooks, we want to skip the rest of the logic in\u001b[39;00m\n\u001b[0;32m   1743\u001b[0m \u001b[38;5;66;03m# this function, and just call forward.\u001b[39;00m\n\u001b[0;32m   1744\u001b[0m \u001b[38;5;28;01mif\u001b[39;00m \u001b[38;5;129;01mnot\u001b[39;00m (\u001b[38;5;28mself\u001b[39m\u001b[38;5;241m.\u001b[39m_backward_hooks \u001b[38;5;129;01mor\u001b[39;00m \u001b[38;5;28mself\u001b[39m\u001b[38;5;241m.\u001b[39m_backward_pre_hooks \u001b[38;5;129;01mor\u001b[39;00m \u001b[38;5;28mself\u001b[39m\u001b[38;5;241m.\u001b[39m_forward_hooks \u001b[38;5;129;01mor\u001b[39;00m \u001b[38;5;28mself\u001b[39m\u001b[38;5;241m.\u001b[39m_forward_pre_hooks\n\u001b[0;32m   1745\u001b[0m         \u001b[38;5;129;01mor\u001b[39;00m _global_backward_pre_hooks \u001b[38;5;129;01mor\u001b[39;00m _global_backward_hooks\n\u001b[0;32m   1746\u001b[0m         \u001b[38;5;129;01mor\u001b[39;00m _global_forward_hooks \u001b[38;5;129;01mor\u001b[39;00m _global_forward_pre_hooks):\n\u001b[1;32m-> 1747\u001b[0m     \u001b[38;5;28;01mreturn\u001b[39;00m \u001b[43mforward_call\u001b[49m\u001b[43m(\u001b[49m\u001b[38;5;241;43m*\u001b[39;49m\u001b[43margs\u001b[49m\u001b[43m,\u001b[49m\u001b[43m \u001b[49m\u001b[38;5;241;43m*\u001b[39;49m\u001b[38;5;241;43m*\u001b[39;49m\u001b[43mkwargs\u001b[49m\u001b[43m)\u001b[49m\n\u001b[0;32m   1749\u001b[0m result \u001b[38;5;241m=\u001b[39m \u001b[38;5;28;01mNone\u001b[39;00m\n\u001b[0;32m   1750\u001b[0m called_always_called_hooks \u001b[38;5;241m=\u001b[39m \u001b[38;5;28mset\u001b[39m()\n",
      "File \u001b[1;32mc:\\Users\\zamko\\Documents\\permutations_RL\\.venv\\Lib\\site-packages\\torch\\nn\\modules\\linear.py:125\u001b[0m, in \u001b[0;36mLinear.forward\u001b[1;34m(self, input)\u001b[0m\n\u001b[0;32m    124\u001b[0m \u001b[38;5;28;01mdef\u001b[39;00m\u001b[38;5;250m \u001b[39m\u001b[38;5;21mforward\u001b[39m(\u001b[38;5;28mself\u001b[39m, \u001b[38;5;28minput\u001b[39m: Tensor) \u001b[38;5;241m-\u001b[39m\u001b[38;5;241m>\u001b[39m Tensor:\n\u001b[1;32m--> 125\u001b[0m     \u001b[38;5;28;01mreturn\u001b[39;00m \u001b[43mF\u001b[49m\u001b[38;5;241;43m.\u001b[39;49m\u001b[43mlinear\u001b[49m\u001b[43m(\u001b[49m\u001b[38;5;28;43minput\u001b[39;49m\u001b[43m,\u001b[49m\u001b[43m \u001b[49m\u001b[38;5;28;43mself\u001b[39;49m\u001b[38;5;241;43m.\u001b[39;49m\u001b[43mweight\u001b[49m\u001b[43m,\u001b[49m\u001b[43m \u001b[49m\u001b[38;5;28;43mself\u001b[39;49m\u001b[38;5;241;43m.\u001b[39;49m\u001b[43mbias\u001b[49m\u001b[43m)\u001b[49m\n",
      "\u001b[1;31mKeyboardInterrupt\u001b[0m: "
     ]
    }
   ],
   "source": [
    "# n_perm_list = [9]\n",
    "# n_epoch_list = [200]\n",
    "# n_epoch_dqn_list = [15_000]\n",
    "# batch_size_list = [2**10, 2**14]\n",
    "# lr_supervised_list = [1e-3]\n",
    "# lr_rl_list = [1e-3, 5e-4, 1e-4]\n",
    "# n_rnd_walks_sup = [100_000]\n",
    "# n_rnd_walks_rl = [10_000, 100_000]\n",
    "# anchor_list = [0, 1]\n",
    "# beam_width_list = [2**0]\n",
    "# list_layers_sizes = [2**12, 2**14]\n",
    "\n",
    "n_perm_list = [9]\n",
    "n_epoch_list = [1000]\n",
    "n_epoch_dqn_list = [15_000]\n",
    "batch_size_list = [2**10]\n",
    "lr_supervised_list = [1e-3]\n",
    "lr_rl_list = [5e-1]\n",
    "n_rnd_walks_sup = [1_000]\n",
    "n_rnd_walks_rl = [1_000]\n",
    "anchor_list = [1]\n",
    "beam_width_list = [2**0]\n",
    "list_layers_sizes = [2**9]\n",
    "\n",
    "\n",
    "\n",
    "summary_df = pd.DataFrame()\n",
    "\n",
    "for n_permutations_length in n_perm_list:\n",
    "\n",
    "    n = n_permutations_length\n",
    "    config = {\n",
    "                'n_permutations_length': n,\n",
    "                \n",
    "                # Random walks params\n",
    "                'random_walks_type': 'non-backtracking-beam',\n",
    "                'n_random_walk_length': int(n * (n-1) / 2),\n",
    "                'n_random_walks_to_generate': 1000,\n",
    "                'n_random_walks_steps_back_to_ban': 8,\n",
    "                \n",
    "                # Neural Net params\n",
    "                'model_type': 'MLP',\n",
    "                'list_layers_sizes': [4096],\n",
    "                'n_epochs': 100,\n",
    "                'batch_size': 1024,\n",
    "                'lr_supervised': 1e-3,\n",
    "                \n",
    "                # DQN training\n",
    "                'n_epochs_dqn': 5000,\n",
    "                'flag_dqn_round': False,\n",
    "                'n_random_walks_to_generate_dqn': 1000,\n",
    "                'verbose_loc': 50,\n",
    "                'lr_rl': 1e-3,\n",
    "                \n",
    "                # Beam search\n",
    "                'beam_search_torch': True,\n",
    "                'beam_search_Fironov': False,\n",
    "                'beam_width': 1,\n",
    "                'n_steps_limit': 4 * n**2,\n",
    "                'alpha_previous_cost_accumulation': 0,\n",
    "                'beam_search_models_or_heuristics': 'model_torch',\n",
    "                'ban_p0_p1_transposition_if_p0_lt_p1_ie_already_sorted': False,\n",
    "                'n_beam_search_steps_back_to_ban': 32,\n",
    "                \n",
    "                # What to solve\n",
    "                'solve_random_or_longest_state': 'solve_LRX_longest',\n",
    "                'verbose': 100\n",
    "            }\n",
    "\n",
    "    config['mode'] = 'single_hard_hinge'\n",
    "    config['w_hinge'] = 1.0\n",
    "    \n",
    "    for anchor_mode in anchor_list:\n",
    "        config['w_anchor'] = anchor_mode\n",
    "        for n_rnd_walks_sup_mode in n_rnd_walks_sup:\n",
    "            config['n_random_walks_to_generate'] = n_rnd_walks_sup_mode\n",
    "            for n_rnd_walks_rl_mode in n_rnd_walks_rl:\n",
    "                config['n_random_walks_to_generate_dqn'] = n_rnd_walks_rl_mode\n",
    "                solver = PermutationSolver(config)\n",
    "                solver.config['n_permutations_length'] = n_permutations_length\n",
    "                for list_layers_size in list_layers_sizes:\n",
    "                    solver.config['list_layers_sizes'] = [list_layers_size]\n",
    "                    print(list_layers_size)\n",
    "                    for lr in lr_supervised_list:\n",
    "                        solver.config['lr_supervised'] = lr\n",
    "                        for lr_rl in lr_rl_list:\n",
    "                            solver.config['lr_rl'] = lr_rl\n",
    "                            for batch_size in batch_size_list:\n",
    "                                solver.config['batch_size'] = batch_size\n",
    "                                for n_epoch in n_epoch_list:\n",
    "                                    solver.config['n_epochs'] = n_epoch\n",
    "                                    mlp_losses = solver.train_mlp(mode = 'anchor')\n",
    "                                    # save mlp_model\n",
    "                                    torch.save(solver.mlp_model.state_dict(), f'models/mlp_model_{n_permutations_length}_{n_epoch}_{list_layers_size}_{lr}_{batch_size}.pth')\n",
    "                                    for n_epoch_dqn in n_epoch_dqn_list:\n",
    "                                        solver.config['n_epochs_dqn'] = n_epoch_dqn\n",
    "                                        dqn_losses = solver.train_dqn()\n",
    "                                        # save dqn_model\n",
    "                                        torch.save(solver.dqn_model.state_dict(), f'models/dqn_model_{n_permutations_length}_{n_epoch_dqn}_{list_layers_size}_{lr}_{batch_size}.pth')\n",
    "                                        for beam_width in beam_width_list:\n",
    "                                            solver.config['beam_width'] = beam_width\n",
    "                                            i_step, flag_found_destination, path = solver.test_beam_search()\n",
    "            \n",
    "                                            # calculate min and max of difference between solver.y_anchor and y_valid\n",
    "                                            # y_valid = solver.dqn_model(solver.X_anchor)\n",
    "                                            device = torch.device(\"cuda\" if torch.cuda.is_available() else \"cpu\")\n",
    "                                            solver.dqn_trainer.model.eval()               # set to eval mode\n",
    "                                            y_parts = []\n",
    "                                            n_samples = len(solver.X_anchor)\n",
    "                                            with torch.no_grad():                 # <— no grad tracking\n",
    "                                                for start in range(0, n_samples, batch_size):\n",
    "                                                    end = start + batch_size\n",
    "                                                    X_batch = solver.X_anchor[start:end].to(device)\n",
    "                                                    y_batch = solver.dqn_trainer.model(X_batch)\n",
    "                                                    y_parts.append(y_batch.cpu()) # move back to CPU\n",
    "                                                    # explicitly free GPU memory\n",
    "                                                    del X_batch, y_batch\n",
    "                                                    torch.cuda.empty_cache()\n",
    "                                            \n",
    "                                            y_valid = torch.cat(y_parts, dim=0)\n",
    "                                            \n",
    "                                            diff = solver.y_anchor.cpu().detach().numpy() - y_valid.cpu().detach().numpy().reshape(1, -1)[0]\n",
    "                                            min_diff = diff.min()\n",
    "                                            max_diff = diff.max()\n",
    "                                            std_diff = diff.std()\n",
    "                                            mean_diff = diff.mean()\n",
    "                                            num_elements_less_than_minus_05 = (diff < -0.5).sum()\n",
    "                                            num_elements_larger_than_05 = (diff > 0.5).sum()\n",
    "                                            wrong_predictions = num_elements_less_than_minus_05 + num_elements_larger_than_05\n",
    "                                            percentage_wrong_predictions = wrong_predictions / len(diff)\n",
    "            \n",
    "                                            # save summary_df\n",
    "                                            summary_df_cur = pd.DataFrame({'n_permutations_length': n_permutations_length,\n",
    "                                                                           'n_rnd_walks_sup_mode': n_rnd_walks_sup_mode,\n",
    "                                                                           'n_rnd_walks_rl_mode': n_rnd_walks_rl_mode,\n",
    "                                                                           'anchor':anchor_mode,\n",
    "                                                                           'batch_size':batch_size,\n",
    "                                                                           'list_layers_sizes': [list_layers_size], \n",
    "                                                                           'lr_supervised': lr,\n",
    "                                                                           'lr_rl': lr_rl, \n",
    "                                                                           'n_epoch': n_epoch, \n",
    "                                                                           'n_epoch_dqn': n_epoch_dqn, \n",
    "                                                                           'beam_width': beam_width, \n",
    "                                                                           'i_step': i_step, \n",
    "                                                                           'flag_found_destination': flag_found_destination, \n",
    "                                                                           'mlp_losses': mlp_losses[-1], \n",
    "                                                                           'dqn_losses': dqn_losses[-1],\n",
    "                                                                           'min_diff': min_diff,\n",
    "                                                                           'max_diff': max_diff,\n",
    "                                                                           'mean_diff': mean_diff,\n",
    "                                                                           'std_diff': std_diff,\n",
    "                                                                           'num_elements_less_than_minus_05': num_elements_less_than_minus_05,\n",
    "                                                                           'num_elements_larger_than_05': num_elements_larger_than_05,\n",
    "                                                                           'percentage_wrong_predictions': percentage_wrong_predictions\n",
    "                                                                           })\n",
    "                                            summary_df = pd.concat([summary_df, summary_df_cur])\n",
    "                                            summary_df.to_csv('models/summary_df.csv', index=False)"
   ]
  },
  {
   "cell_type": "code",
   "execution_count": 4,
   "metadata": {},
   "outputs": [
    {
     "name": "stdout",
     "output_type": "stream",
     "text": [
      "362880\n",
      "X.shape: torch.Size([362880, 9])\n",
      "y.shape: torch.Size([362880])\n"
     ]
    },
    {
     "data": {
      "text/plain": [
       "(tensor([[0, 1, 2,  ..., 6, 7, 8],\n",
       "         [1, 2, 3,  ..., 7, 8, 0],\n",
       "         [8, 0, 1,  ..., 5, 6, 7],\n",
       "         ...,\n",
       "         [0, 8, 7,  ..., 3, 2, 1],\n",
       "         [2, 1, 0,  ..., 5, 4, 3],\n",
       "         [1, 0, 8,  ..., 4, 3, 2]], device='cuda:0'),\n",
       " tensor([ 0,  1,  1,  ..., 35, 35, 36], device='cuda:0'))"
      ]
     },
     "execution_count": 4,
     "metadata": {},
     "output_type": "execute_result"
    }
   ],
   "source": [
    "solver.generate_training_data_anchor()"
   ]
  },
  {
   "cell_type": "code",
   "execution_count": null,
   "metadata": {},
   "outputs": [],
   "source": []
  },
  {
   "cell_type": "code",
   "execution_count": null,
   "metadata": {},
   "outputs": [],
   "source": []
  },
  {
   "cell_type": "code",
   "execution_count": null,
   "metadata": {},
   "outputs": [],
   "source": [
    "import matplotlib.pyplot as plt\n",
    "\n",
    "# Plot distribution of the torch vector y_valid\n",
    "plt.figure(figsize=(10, 6))\n",
    "plt.hist(diff, bins=30, alpha=0.7, color='blue')\n",
    "plt.title('Distribution of y_valid')\n",
    "plt.xlabel('Value')\n",
    "plt.ylabel('Frequency')\n",
    "plt.grid(True)\n",
    "plt.show()"
   ]
  },
  {
   "cell_type": "code",
   "execution_count": null,
   "metadata": {},
   "outputs": [],
   "source": []
  },
  {
   "cell_type": "code",
   "execution_count": null,
   "metadata": {},
   "outputs": [],
   "source": []
  },
  {
   "cell_type": "code",
   "execution_count": null,
   "metadata": {},
   "outputs": [],
   "source": []
  },
  {
   "cell_type": "code",
   "execution_count": null,
   "metadata": {},
   "outputs": [],
   "source": []
  },
  {
   "cell_type": "code",
   "execution_count": null,
   "metadata": {},
   "outputs": [],
   "source": [
    "import torch\n",
    "import numpy as np\n",
    "import matplotlib.pyplot as plt\n",
    "from matplotlib.colors import hsv_to_rgb\n",
    "import ipywidgets as widgets\n",
    "from IPython.display import display, clear_output\n",
    "\n",
    "\n",
    "def visualize_tensor_sequence_notebook(tensor_list):\n",
    "    \"\"\"\n",
    "    Интерактивная визуализация в Jupyter Notebook в виде линии шариков:\n",
    "    - Использует ipywidgets.IntSlider и перерисовывает график в Output\n",
    "    - tensor_list: список torch.Tensor размера (N, M)\n",
    "    \"\"\"\n",
    "    M = tensor_list[0].shape[0]\n",
    "    N = len(tensor_list)\n",
    "    # позиции на линии: равномерные точки по оси X\n",
    "    xs = np.arange(M)\n",
    "    ys = np.zeros(M)\n",
    "\n",
    "    # слайдер и область вывода\n",
    "    slider = widgets.IntSlider(value=0, min=0, max=N-1, step=1, description='Frame')\n",
    "    out = widgets.Output()\n",
    "    \n",
    "    def plot_frame(idx):\n",
    "        vals = tensor_list[idx]\n",
    "        arr = vals.cpu().numpy().astype(float)\n",
    "        norm = arr / arr.max()\n",
    "        hsv = np.stack([np.zeros_like(norm), norm, np.ones_like(norm)], axis=1)\n",
    "        rgb = hsv_to_rgb(hsv)\n",
    "        \n",
    "        with out:\n",
    "            clear_output(wait=True)\n",
    "            fig, ax = plt.subplots(figsize=(8,2))\n",
    "            ax.set_aspect('equal')\n",
    "            ax.axis('off')\n",
    "            # рисуем шарики вдоль линии\n",
    "            scatter = ax.scatter(xs, ys, s=800, color=rgb)\n",
    "            # цифры внутри шариков\n",
    "            for x, y, v in zip(xs, ys, vals):\n",
    "                ax.text(x, y, str(v.item()), ha='center', va='center', fontsize=12, color='black')\n",
    "            # статус 'start' и 'done'\n",
    "            status = 'start' if idx == 0 else ('done' if idx == N-1 else '')\n",
    "            ax.text(M/2 - 0.5, 0.3, status, ha='center', va='bottom', fontsize=16)\n",
    "            # установка границ\n",
    "            ax.set_xlim(-1, M)\n",
    "            ax.set_ylim(-1, 1)\n",
    "            plt.show()\n",
    "\n",
    "    # подписка на изменение слайдера\n",
    "    slider.observe(lambda change: plot_frame(change['new']), names='value')\n",
    "    display(slider, out)\n",
    "    # отрисовка начального кадра\n",
    "    plot_frame(0)\n",
    "\n",
    "\n",
    "visualize_tensor_sequence_notebook(path)"
   ]
  },
  {
   "cell_type": "code",
   "execution_count": null,
   "metadata": {},
   "outputs": [],
   "source": []
  },
  {
   "cell_type": "code",
   "execution_count": null,
   "metadata": {},
   "outputs": [],
   "source": []
  },
  {
   "cell_type": "code",
   "execution_count": null,
   "metadata": {},
   "outputs": [],
   "source": []
  },
  {
   "cell_type": "code",
   "execution_count": null,
   "metadata": {},
   "outputs": [],
   "source": []
  },
  {
   "cell_type": "code",
   "execution_count": null,
   "metadata": {},
   "outputs": [],
   "source": [
    "num_params = sum(p.numel() for p in solver.mlp_model.parameters())\n",
    "print(f\"Number of parameters in the model: {num_params}\")"
   ]
  }
 ],
 "metadata": {
  "kernelspec": {
   "display_name": ".venv",
   "language": "python",
   "name": "python3"
  },
  "language_info": {
   "codemirror_mode": {
    "name": "ipython",
    "version": 3
   },
   "file_extension": ".py",
   "mimetype": "text/x-python",
   "name": "python",
   "nbconvert_exporter": "python",
   "pygments_lexer": "ipython3",
   "version": "3.12.5"
  }
 },
 "nbformat": 4,
 "nbformat_minor": 2
}
