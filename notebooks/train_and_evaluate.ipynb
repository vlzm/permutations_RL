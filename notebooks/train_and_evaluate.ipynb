{
 "cells": [
  {
   "cell_type": "markdown",
   "metadata": {},
   "source": [
    "# Training and Evaluation of MLP and DQN Models\n",
    "\n",
    "This notebook implements training and evaluation of MLP and DQN models for permutation learning, followed by beam search."
   ]
  },
  {
   "cell_type": "code",
   "execution_count": 1,
   "metadata": {},
   "outputs": [],
   "source": [
    "import os\n",
    "import sys\n",
    "\n",
    "# Get the absolute path of the notebook's directory\n",
    "notebook_dir = os.path.abspath(os.path.join(os.getcwd(), '..'))\n",
    "sys.path.append(notebook_dir)"
   ]
  },
  {
   "cell_type": "code",
   "execution_count": 2,
   "metadata": {},
   "outputs": [],
   "source": [
    "import torch\n",
    "import numpy as np\n",
    "from src.models.mlp import PermutationMLP\n",
    "from src.models.dqn import DQN, DQNAgent, ReplayBuffer\n",
    "from src.models.mlp_trainer import MLPTrainer\n",
    "from src.models.dqn_trainer import DQNTrainer\n",
    "import matplotlib.pyplot as plt\n",
    "from tqdm import tqdm"
   ]
  },
  {
   "cell_type": "markdown",
   "metadata": {},
   "source": [
    "## Configuration"
   ]
  },
  {
   "cell_type": "code",
   "execution_count": 3,
   "metadata": {},
   "outputs": [],
   "source": [
    "# Common configuration\n",
    "n = 10  # Size of permutation\n",
    "input_size = n * n  # One-hot encoded permutation size\n",
    "hidden_sizes = [512]\n",
    "batch_size = 32\n",
    "learning_rate = 1e-4\n",
    "weight_decay = 1e-5\n",
    "n_epochs = 100\n",
    "\n",
    "# DQN specific configuration\n",
    "dqn_config = {\n",
    "    'gamma': 0.99,\n",
    "    'epsilon_start': 1.0,\n",
    "    'epsilon_min': 0.01,\n",
    "    'epsilon_decay': 0.995,\n",
    "    'buffer_size': 10000,\n",
    "    'batch_size': batch_size,\n",
    "    'learning_rate': learning_rate,\n",
    "    'hidden_sizes': hidden_sizes,\n",
    "    'n_random_walks_to_generate': 1000\n",
    "}\n",
    "\n",
    "# MLP specific configuration\n",
    "mlp_config = {\n",
    "    'batch_size': batch_size,\n",
    "    'learning_rate': learning_rate,\n",
    "    'weight_decay': weight_decay,\n",
    "    'hidden_sizes': hidden_sizes,\n",
    "    'n_random_walks_to_generate': 1000\n",
    "}"
   ]
  },
  {
   "cell_type": "markdown",
   "metadata": {},
   "source": [
    "## Generate Training Data"
   ]
  },
  {
   "cell_type": "code",
   "execution_count": 4,
   "metadata": {},
   "outputs": [
    {
     "name": "stdout",
     "output_type": "stream",
     "text": [
      "Generated 10000 training samples\n"
     ]
    }
   ],
   "source": [
    "def generate_random_permutation(n):\n",
    "    return torch.randperm(n)\n",
    "\n",
    "def generate_training_data(n_samples, n):\n",
    "    X = []\n",
    "    for _ in range(n_samples):\n",
    "        perm = generate_random_permutation(n)\n",
    "        X.append(perm)\n",
    "    return torch.stack(X)\n",
    "\n",
    "# Generate training data\n",
    "n_samples = 10000\n",
    "X_train = generate_training_data(n_samples, n)\n",
    "print(f\"Generated {len(X_train)} training samples\")"
   ]
  },
  {
   "cell_type": "markdown",
   "metadata": {},
   "source": [
    "## Train MLP Model"
   ]
  },
  {
   "cell_type": "code",
   "execution_count": 5,
   "metadata": {},
   "outputs": [
    {
     "name": "stderr",
     "output_type": "stream",
     "text": [
      "Training MLP:  10%|█         | 10/100 [00:02<00:22,  3.93it/s]"
     ]
    },
    {
     "name": "stdout",
     "output_type": "stream",
     "text": [
      "Epoch 10, Loss: 0.0000\n"
     ]
    },
    {
     "name": "stderr",
     "output_type": "stream",
     "text": [
      "Training MLP:  20%|██        | 20/100 [00:05<00:20,  3.98it/s]"
     ]
    },
    {
     "name": "stdout",
     "output_type": "stream",
     "text": [
      "Epoch 20, Loss: 0.0000\n"
     ]
    },
    {
     "name": "stderr",
     "output_type": "stream",
     "text": [
      "Training MLP:  30%|███       | 30/100 [00:07<00:19,  3.66it/s]"
     ]
    },
    {
     "name": "stdout",
     "output_type": "stream",
     "text": [
      "Epoch 30, Loss: 0.0000\n"
     ]
    },
    {
     "name": "stderr",
     "output_type": "stream",
     "text": [
      "Training MLP:  40%|████      | 40/100 [00:10<00:16,  3.70it/s]"
     ]
    },
    {
     "name": "stdout",
     "output_type": "stream",
     "text": [
      "Epoch 40, Loss: 0.0000\n"
     ]
    },
    {
     "name": "stderr",
     "output_type": "stream",
     "text": [
      "Training MLP:  50%|█████     | 50/100 [00:13<00:13,  3.69it/s]"
     ]
    },
    {
     "name": "stdout",
     "output_type": "stream",
     "text": [
      "Epoch 50, Loss: 0.0000\n"
     ]
    },
    {
     "name": "stderr",
     "output_type": "stream",
     "text": [
      "Training MLP:  60%|██████    | 60/100 [00:16<00:12,  3.30it/s]"
     ]
    },
    {
     "name": "stdout",
     "output_type": "stream",
     "text": [
      "Epoch 60, Loss: 0.0000\n"
     ]
    },
    {
     "name": "stderr",
     "output_type": "stream",
     "text": [
      "Training MLP:  70%|███████   | 70/100 [00:18<00:08,  3.62it/s]"
     ]
    },
    {
     "name": "stdout",
     "output_type": "stream",
     "text": [
      "Epoch 70, Loss: 0.0000\n"
     ]
    },
    {
     "name": "stderr",
     "output_type": "stream",
     "text": [
      "Training MLP:  80%|████████  | 80/100 [00:21<00:05,  3.66it/s]"
     ]
    },
    {
     "name": "stdout",
     "output_type": "stream",
     "text": [
      "Epoch 80, Loss: 0.0000\n"
     ]
    },
    {
     "name": "stderr",
     "output_type": "stream",
     "text": [
      "Training MLP:  90%|█████████ | 90/100 [00:24<00:02,  3.74it/s]"
     ]
    },
    {
     "name": "stdout",
     "output_type": "stream",
     "text": [
      "Epoch 90, Loss: 0.0000\n"
     ]
    },
    {
     "name": "stderr",
     "output_type": "stream",
     "text": [
      "Training MLP: 100%|██████████| 100/100 [00:27<00:00,  3.70it/s]"
     ]
    },
    {
     "name": "stdout",
     "output_type": "stream",
     "text": [
      "Epoch 100, Loss: 0.0000\n"
     ]
    },
    {
     "name": "stderr",
     "output_type": "stream",
     "text": [
      "\n"
     ]
    },
    {
     "data": {
      "image/png": "[encoded data removed]",
      "text/plain": [
       "<Figure size 1000x500 with 1 Axes>"
      ]
     },
     "metadata": {},
     "output_type": "display_data"
    }
   ],
   "source": [
    "# Initialize MLP model and trainer\n",
    "mlp_model = PermutationMLP(n, hidden_sizes)\n",
    "mlp_trainer = MLPTrainer(mlp_model, mlp_config)\n",
    "\n",
    "# Train MLP\n",
    "mlp_losses = []\n",
    "for epoch in tqdm(range(n_epochs), desc=\"Training MLP\"):\n",
    "    loss = mlp_trainer.train_epoch(X_train)\n",
    "    mlp_losses.append(loss)\n",
    "    if (epoch + 1) % 10 == 0:\n",
    "        print(f\"Epoch {epoch + 1}, Loss: {loss:.4f}\")\n",
    "\n",
    "# Plot training loss\n",
    "plt.figure(figsize=(10, 5))\n",
    "plt.plot(mlp_losses)\n",
    "plt.title('MLP Training Loss')\n",
    "plt.xlabel('Epoch')\n",
    "plt.ylabel('Loss')\n",
    "plt.show()"
   ]
  },
  {
   "cell_type": "markdown",
   "metadata": {},
   "source": [
    "## Train DQN Model"
   ]
  },
  {
   "cell_type": "code",
   "execution_count": 6,
   "metadata": {},
   "outputs": [
    {
     "name": "stderr",
     "output_type": "stream",
     "text": [
      "Training DQN:   0%|          | 0/100 [00:00<?, ?it/s]c:\\Users\\zamko\\Documents\\permutations_RL\\.venv\\Lib\\site-packages\\torch\\nn\\modules\\loss.py:608: UserWarning: Using a target size (torch.Size([32, 1])) that is different to the input size (torch.Size([32, 10])). This will likely lead to incorrect results due to broadcasting. Please ensure they have the same size.\n",
      "  return F.mse_loss(input, target, reduction=self.reduction)\n",
      "Training DQN:  10%|█         | 10/100 [00:06<00:59,  1.51it/s]"
     ]
    },
    {
     "name": "stdout",
     "output_type": "stream",
     "text": [
      "Epoch 10, Loss: 0.0005\n"
     ]
    },
    {
     "name": "stderr",
     "output_type": "stream",
     "text": [
      "Training DQN:  20%|██        | 20/100 [00:13<00:53,  1.51it/s]"
     ]
    },
    {
     "name": "stdout",
     "output_type": "stream",
     "text": [
      "Epoch 20, Loss: 0.0000\n"
     ]
    },
    {
     "name": "stderr",
     "output_type": "stream",
     "text": [
      "Training DQN:  30%|███       | 30/100 [00:19<00:46,  1.50it/s]"
     ]
    },
    {
     "name": "stdout",
     "output_type": "stream",
     "text": [
      "Epoch 30, Loss: 0.0000\n"
     ]
    },
    {
     "name": "stderr",
     "output_type": "stream",
     "text": [
      "Training DQN:  40%|████      | 40/100 [00:26<00:39,  1.53it/s]"
     ]
    },
    {
     "name": "stdout",
     "output_type": "stream",
     "text": [
      "Epoch 40, Loss: 0.0000\n"
     ]
    },
    {
     "name": "stderr",
     "output_type": "stream",
     "text": [
      "Training DQN:  50%|█████     | 50/100 [00:33<00:36,  1.38it/s]"
     ]
    },
    {
     "name": "stdout",
     "output_type": "stream",
     "text": [
      "Epoch 50, Loss: 0.0000\n"
     ]
    },
    {
     "name": "stderr",
     "output_type": "stream",
     "text": [
      "Training DQN:  60%|██████    | 60/100 [00:40<00:28,  1.40it/s]"
     ]
    },
    {
     "name": "stdout",
     "output_type": "stream",
     "text": [
      "Epoch 60, Loss: 0.0000\n"
     ]
    },
    {
     "name": "stderr",
     "output_type": "stream",
     "text": [
      "Training DQN:  70%|███████   | 70/100 [00:47<00:20,  1.46it/s]"
     ]
    },
    {
     "name": "stdout",
     "output_type": "stream",
     "text": [
      "Epoch 70, Loss: 0.0000\n"
     ]
    },
    {
     "name": "stderr",
     "output_type": "stream",
     "text": [
      "Training DQN:  80%|████████  | 80/100 [00:54<00:14,  1.41it/s]"
     ]
    },
    {
     "name": "stdout",
     "output_type": "stream",
     "text": [
      "Epoch 80, Loss: 0.0000\n"
     ]
    },
    {
     "name": "stderr",
     "output_type": "stream",
     "text": [
      "Training DQN:  90%|█████████ | 90/100 [01:01<00:06,  1.49it/s]"
     ]
    },
    {
     "name": "stdout",
     "output_type": "stream",
     "text": [
      "Epoch 90, Loss: 0.0000\n"
     ]
    },
    {
     "name": "stderr",
     "output_type": "stream",
     "text": [
      "Training DQN: 100%|██████████| 100/100 [01:08<00:00,  1.46it/s]"
     ]
    },
    {
     "name": "stdout",
     "output_type": "stream",
     "text": [
      "Epoch 100, Loss: 0.0000\n"
     ]
    },
    {
     "name": "stderr",
     "output_type": "stream",
     "text": [
      "\n"
     ]
    },
    {
     "data": {
      "image/png": "[encoded data removed]",
      "text/plain": [
       "<Figure size 1000x500 with 1 Axes>"
      ]
     },
     "metadata": {},
     "output_type": "display_data"
    }
   ],
   "source": [
    "# Initialize DQN model and trainer\n",
    "dqn_model = DQN(input_size, n, hidden_sizes)\n",
    "dqn_trainer = DQNTrainer(dqn_model, dqn_config)\n",
    "\n",
    "# Train DQN\n",
    "dqn_losses = []\n",
    "for epoch in tqdm(range(n_epochs), desc=\"Training DQN\"):\n",
    "    loss = dqn_trainer.train_epoch(X_train)\n",
    "    dqn_losses.append(loss)\n",
    "    if (epoch + 1) % 10 == 0:\n",
    "        print(f\"Epoch {epoch + 1}, Loss: {loss:.4f}\")\n",
    "    \n",
    "    # Update target network periodically\n",
    "    if (epoch + 1) % 10 == 0:\n",
    "        dqn_trainer.update_target_network()\n",
    "\n",
    "# Plot training loss\n",
    "plt.figure(figsize=(10, 5))\n",
    "plt.plot(dqn_losses)\n",
    "plt.title('DQN Training Loss')\n",
    "plt.xlabel('Epoch')\n",
    "plt.ylabel('Loss')\n",
    "plt.show()"
   ]
  },
  {
   "cell_type": "markdown",
   "metadata": {},
   "source": [
    "## Beam Search Implementation"
   ]
  },
  {
   "cell_type": "code",
   "execution_count": null,
   "metadata": {},
   "outputs": [],
   "source": [
    "# Test run:\n",
    "s = get_unique_states(torch.arange(n_permutations_length, device = device ).view(1, -1  ).expand(10, -1 ).clone())\n",
    "\n",
    "\n",
    "##################################################################################\n",
    "# Beam search params\n",
    "##################################################################################\n",
    "\n",
    "\n",
    "#beam_width = 1000\n",
    "beam_width =  CFG['beam_width']\n",
    "# Coefficient to combine previous cost and new value typically 0...1 (attenuation of history) \n",
    "alpha_previous_cost_accumulation = CFG['alpha_previous_cost_accumulation']\n",
    "# Maximum steps to make:\n",
    "n_steps_limit = CFG['n_steps_limit']\n",
    "\n",
    "ban_p0_p1_transposition_if_p0_lt_p1_ie_already_sorted = CFG['ban_p0_p1_transposition_if_p0_lt_p1_ie_already_sorted']\n",
    "beam_search_models_or_heuristics = CFG['beam_search_models_or_heuristics']#  'model_torch'; # 'Hamming'\n",
    "batch_size = CFG['batch_size']\n",
    "n_steps_back_to_ban = CFG['n_beam_search_steps_back_to_ban']\n",
    "beam_search_models_or_heuristics = CFG['beam_search_models_or_heuristics']#  'model_torch'; # 'Hamming', 'model_with_predict': # Catboost or Sklearn \n",
    " \n",
    "\n",
    "\n",
    "state_size = len(list_generators[0])\n",
    "#X_loc = torch.tensor( [1,0] + list(np.arange(2,state_size)), device = device, dtype = dtype )\n",
    "X_loc = np.array( [1,0] + list(np.arange(2,n)) )\n",
    "i_position_X_in_list_generators = -1\n",
    "for k in range(len(list_generators)):\n",
    "    if np.all( list_generators[k] == X_loc ) : \n",
    "        i_position_X_in_list_generators = k\n",
    "        break\n",
    "print('i_position_X_in_list_generators:',i_position_X_in_list_generators )     \n",
    "verbose = 100\n",
    "\n",
    "print()\n",
    "\n",
    "\n",
    "print('state_destination:', state_destination)\n",
    "print()\n",
    "print('state_start (state to be solved): ', state_start)\n",
    "print()"
   ]
  },
  {
   "cell_type": "code",
   "execution_count": null,
   "metadata": {},
   "outputs": [],
   "source": [
    "# Test beam search with trained models\n",
    "from src.search.beam_search import BeamSearch\n",
    "\n",
    "# Initialize beam search\n",
    "beam_searcher = BeamSearch(\n",
    "    model=mlp_model,  # We'll test both models\n",
    "    device='cuda' if torch.cuda.is_available() else 'cpu',\n",
    "    batch_size=16384,\n",
    "    dtype=torch.long\n",
    ")\n",
    "\n",
    "# Generate a test permutation\n",
    "test_state = torch.randperm(n)\n",
    "print(\"Test state to solve:\", test_state.tolist())\n",
    "\n",
    "# Define generators for adjacent swaps\n",
    "generators = []\n",
    "for i in range(n-1):\n",
    "    generator = list(range(n))\n",
    "    generator[i], generator[i+1] = generator[i+1], generator[i]\n",
    "    generators.append(generator)\n",
    "\n",
    "# Test MLP model\n",
    "print(\"\\nTesting MLP model...\")\n",
    "mlp_result = beam_searcher.search(\n",
    "    start_state=test_state,\n",
    "    generators=generators,\n",
    "    beam_width=100,\n",
    "    n_steps_limit=50,\n",
    "    verbose=True\n",
    ")\n",
    "\n",
    "# Update beam searcher with DQN model\n",
    "beam_searcher.model = dqn_model\n",
    "\n",
    "# Test DQN model\n",
    "print(\"\\nTesting DQN model...\")\n",
    "dqn_result = beam_searcher.search(\n",
    "    start_state=test_state,\n",
    "    generators=generators,\n",
    "    beam_width=100,\n",
    "    n_steps_limit=50,\n",
    "    verbose=True\n",
    ")\n",
    "\n",
    "# Print results\n",
    "def print_result(name, result):\n",
    "    if result.success:\n",
    "        print(f\"\\n{name} found solution in {result.steps_taken} steps!\")\n",
    "        print(\"Solution path:\")\n",
    "        for i, state in enumerate(result.path):\n",
    "            print(f\"Step {i}: {state.tolist()}\")\n",
    "    else:\n",
    "        print(f\"\\n{name} failed to find solution within step limit\")\n",
    "\n",
    "print_result(\"MLP\", mlp_result)\n",
    "print_result(\"DQN\", dqn_result)\n",
    "\n",
    "# Visualize solution paths\n",
    "def plot_solution_path(path, title):\n",
    "    if not path:\n",
    "        return\n",
    "        \n",
    "    plt.figure(figsize=(12, 6))\n",
    "    steps = len(path)\n",
    "    distances = [torch.sum(state != torch.arange(len(state))).item() for state in path]\n",
    "    \n",
    "    plt.plot(range(steps), distances, 'b-', marker='o')\n",
    "    plt.title(title)\n",
    "    plt.xlabel('Step')\n",
    "    plt.ylabel('Distance from sorted state')\n",
    "    plt.grid(True)\n",
    "    plt.show()\n",
    "\n",
    "if mlp_result.success:\n",
    "    plot_solution_path(mlp_result.path, \"MLP Solution Path\")\n",
    "if dqn_result.success:\n",
    "    plot_solution_path(dqn_result.path, \"DQN Solution Path\")"
   ]
  }
 ],
 "metadata": {
  "kernelspec": {
   "display_name": ".venv",
   "language": "python",
   "name": "python3"
  },
  "language_info": {
   "codemirror_mode": {
    "name": "ipython",
    "version": 3
   },
   "file_extension": ".py",
   "mimetype": "text/x-python",
   "name": "python",
   "nbconvert_exporter": "python",
   "pygments_lexer": "ipython3",
   "version": "3.12.5"
  }
 },
 "nbformat": 4,
 "nbformat_minor": 4
}
